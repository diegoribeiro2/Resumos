{
  "nbformat": 4,
  "nbformat_minor": 0,
  "metadata": {
    "colab": {
      "provenance": [],
      "collapsed_sections": [
        "ipgoDc-yq8DO",
        "OV1YgmfkrA0H",
        "3ryJuUpmrHC5",
        "OQEt1SigrLK6",
        "x6L3uP7krOsZ",
        "Yf7UQmfdrUIJ",
        "NzRc1TkXrZvg",
        "DUsN-UOrrilx",
        "pj8jOWn1rxZR",
        "f4jd5OMor4jg",
        "Tg1IWWoar57_",
        "5jquJ3vTsD9u",
        "e5yefztMsLfl",
        "kNhu56kcsOFE",
        "EhVsdQBZskL6",
        "31Z07Jz9soVY"
      ],
      "toc_visible": true
    },
    "kernelspec": {
      "name": "python3",
      "display_name": "Python 3"
    },
    "language_info": {
      "name": "python"
    }
  },
  "cells": [
    {
      "cell_type": "markdown",
      "source": [
        "## **Módulo Matéria 02** - Power Bi"
      ],
      "metadata": {
        "id": "Khm-fRG54G5h"
      }
    },
    {
      "cell_type": "markdown",
      "source": [
        "## Grupo da Matéria - Power BI"
      ],
      "metadata": {
        "id": "ipgoDc-yq8DO"
      }
    },
    {
      "cell_type": "markdown",
      "source": [
        "### Aula 38 Grupo da Matéria - Power BI"
      ],
      "metadata": {
        "id": "EOlI3UGM04CX"
      }
    },
    {
      "cell_type": "markdown",
      "source": [
        "## Como ter um Linkedln Campeão"
      ],
      "metadata": {
        "id": "OV1YgmfkrA0H"
      }
    },
    {
      "cell_type": "markdown",
      "source": [
        "### 39 Bem Vindo ao Ciclo iniciante"
      ],
      "metadata": {
        "id": "5IZ1MEDitVw2"
      }
    },
    {
      "cell_type": "markdown",
      "source": [
        "### 40 Ajustando a foto, capa e headline\n",
        "<h1>Como construir um perfil campeão no LinkedIn que vai chamar a atenção dos recrutadores</h1><h2>Foto</h2><ul><li>Reproduza seu estilo pessoal e profissional</li><li>Evite selfies e fundos chamativos</li><li>Use luz natural</li><li>Foco no rosto e boa resolução</li><li>Use o Snapper para avaliar sua foto (meta = 70%)</li></ul><h2>Foto com &quot;Open to Work&quot;</h2><ul><li>Visibilidade para recrutadores que você busca emprego</li><li>Duas formas:<ul><li>Selo na foto</li><li>Nas preferências de vagas</li></ul></li><li>Opções flexíveis para quem só quer testar o mercado</li></ul><h2>Capa</h2><ul><li>Alinhe com seus objetivos profissionais</li><li>Exemplos:<ul><li>Dados e análise de dados</li><li>Logo e valores da empresa</li><li>Formação acadêmica</li></ul></li><li>Use Canva, OneSplash ou Pixel para criar</li></ul><h2>Título</h2><ul><li>Inclua cargo, especializações e palavras-chave</li><li>Exemplos:<ul><li>Especialista em relacionamento com cliente</li><li>Cientista de dados | SQL | Python</li><li>Desenvolvedor front-end | React | JavaScript</li></ul></li><li>Consulte vagas.com para sugestões de termos</li></ul><h2>Inspiração</h2><ul><li>Veja perfis de profissionais da sua área</li><li>Use como referência para foto, capa e título</li></ul><h2>Próximos passos</h2><ul><li>Estratégias para um perfil &quot;Sobre&quot; poderoso</li></ul>"
      ],
      "metadata": {
        "id": "tpVGC4vktXSf"
      }
    },
    {
      "cell_type": "markdown",
      "source": [
        "### 41 Como construir o meu sobre\n",
        "<h1>Como construir um bom &quot;Sobre&quot; no seu perfil profissional</h1><h2>Introdução</h2><ul><li>Deixe claro seus objetivos profissionais</li><li>Mostre suas experiências e vivências</li></ul><h2>Storytelling</h2><ul><li>Conte sua história com começo, meio e fim</li></ul><h3>Começo</h3><ul><li>Áreas de formação</li><li>Tempo de experiência</li><li>Objetivos atuais</li></ul><h3>Meio</h3><ul><li>Experiências profissionais</li><li>Projetos realizados</li><li>Resultados obtidos</li></ul><h3>Fim</h3><ul><li>Onde trabalha atualmente</li><li>O que busca profissionalmente</li><li>Planos para migração de carreira</li></ul><h2>Outras dicas</h2><ul><li>Frase que represente você</li><li>Contatos profissionais</li><li>Benchmark outros perfis</li><li>Seja autêntico</li></ul>"
      ],
      "metadata": {
        "id": "PyvHTqsstZmI"
      }
    },
    {
      "cell_type": "markdown",
      "source": [
        "### 42 Como descrever minhas experiências profissionais\n",
        "<h1>Como descrever experiências profissionais no LinkedIn</h1><h2>Introdução</h2><ul><li>Ambiente para ser detalhado e destacar ações relevantes</li><li>Refletir sobre o que trouxe relevância para a história profissional</li></ul><h2>Dicas</h2><ul><li>Destacar habilidades e competências desenvolvidas</li><li>Incluir números e métricas para mostrar resultados</li><li>Adicionar mídias para enriquecer o conteúdo</li></ul><h2>Exemplos</h2><ul><li>Contextualizar responsabilidades e indicadores do cargo</li><li>Destacar equipe liderada e projetos realizados</li><li>Comemorar desempenho e reconhecimento</li></ul><h2>Sem experiência profissional</h2><ul><li>Incluir projeto prático do curso</li><li>Detalhar habilidades desenvolvidas</li><li>Destacar desempenho e reconhecimento</li></ul><h2>Próximos passos</h2><ul><li>Completar cartão de visitas e apresentação</li><li>Descrever formações no próximo módulo</li></ul>"
      ],
      "metadata": {
        "id": "sMtQs5fmtbyP"
      }
    },
    {
      "cell_type": "markdown",
      "source": [
        "### 43 Formação AcadÊmica e Certificados\n",
        "<h1>Como otimizar seu perfil no LinkedIn</h1><h2>Formação acadêmica</h2><ul><li>Faculdade</li><li>Pós-graduação</li><li>MBA</li><li>Especialização</li><li>Cursos de formação (como o curso da DNC com +360h)</li></ul><h3>Dicas</h3><ul><li>Destacar competências desenvolvidas</li><li>Incluir instituição de ensino</li></ul><h2>Certificados</h2><ul><li>Cursos menores e mais específicos</li><li>Possível linkar o certificado</li><li>Compartilhar certificados da plataforma DNC já atualiza o LinkedIn</li></ul><h3>Dicas</h3><ul><li>Incluir certificados relevantes para formação e carreira</li><li>Mostra interesse em aprender e se desenvolver</li></ul><h2>Próximos passos</h2><ul><li>Engajamento na plataforma</li><li>Criar conexões de sucesso</li></ul><p>O vídeo traz dicas de como otimizar o seu perfil no LinkedIn, destacando os campos de formação acadêmica e certificados. Explica o que incluir em cada área e boas práticas para demonstrar suas competências e conhecimentos de forma clara para recruiters e conexões.</p>"
      ],
      "metadata": {
        "id": "hsSM3gSPtc7I"
      }
    },
    {
      "cell_type": "markdown",
      "source": [
        "### 44 Como movimentar o meu Linkedln\n",
        "\n",
        "<h1>Como deixar o seu LinkedIn campeão e estratégico na busca de recolocação</h1><h2>Dicas para aumentar o engajamento da rede</h2><ul><li>Ter no mínimo 500 conexões<ul><li>Fazer conexões com recrutadores</li><li>Conectar com pessoas da mesma área</li><li>Buscar pessoas de empresas admiradas</li></ul></li></ul><h2>Enviando o perfil para avaliação</h2><ul><li>No chat, selecionar &quot;Direcionamento de Carreira&quot;</li><li>Enviar o link do LinkedIn</li><li>Em até 72h receberá o feedback se foi aprovado ou não</li><li>Perfil precisa ter 70% de aderência ao conteúdo</li></ul><h2>Acompanhando a avaliação</h2><ul><li>Na área de correções verificar status<ul><li>Pendentes</li><li>Aprovados</li><li>Reprovados</li></ul></li><li>Se reprovado, receberá feedback do que melhorar</li></ul><h2>Próximos passos</h2><ul><li>Atualizar foto, capa, sobre</li><li>Destacar experiências e certificados</li><li>Avançar para próximos módulos</li></ul>"
      ],
      "metadata": {
        "id": "snaqFtchteYR"
      }
    },
    {
      "cell_type": "markdown",
      "source": [
        "## Como ter um Currículo atrativo"
      ],
      "metadata": {
        "id": "3ryJuUpmrHC5"
      }
    },
    {
      "cell_type": "markdown",
      "source": [
        "### Aula 45 Formatação e informações pessoais\n",
        "\n",
        "<h1>Como ter um bom currículo</h1><h2>Layout</h2><ul><li>Simplicidade e facilidade para encontrar informações</li><li>Recrutadores decidem em 6 segundos se vão analisar mais ou não</li><li>Currículo de uma página, a não ser que tenha muita experiência</li></ul><h2>Informações pessoais</h2><ul><li>Nome</li><li>Contatos (telefone, e-mail) - mantenha atualizados!</li><li>Endereço (ajuste se for se candidatar para outra cidade)</li><li>LinkedIn</li><li>GitHub (para áreas de tech)</li></ul><h2>Outras informações</h2><ul><li>Formação acadêmica</li><li>Idiomas e nível de proficiência</li><li>Habilidades desenvolvidas em cada experiência</li></ul><h2>O que não colocar</h2><ul><li>Nacionalidade, estado civil, filhos</li><li>Foto (a não ser que seja requisitado)</li></ul><h2>Dicas</h2><ul><li>Layout amigável e fácil de analisar</li><li>Destaque informações relevantes</li><li>Mantenha contatos atualizados</li><li>Ajuste endereço conforme a vaga</li><li>Inclua perfis em redes profissionais</li></ul>"
      ],
      "metadata": {
        "id": "gLUYKpPO_ohJ"
      }
    },
    {
      "cell_type": "markdown",
      "source": [
        "### Aula 46 Resumo e objetivo\n",
        "<h1>Tema central: Elaboração de currículos</h1><h2>Resumo</h2><ul><li>Deve conter no máximo 4 linhas</li><li>Informar formação acadêmica</li><li>Destacar experiências relevantes para a vaga desejada</li><li>Mencionar estágio atual da carreira</li><li>Citar ferramentas e habilidades importantes</li></ul><h2>Objetivo</h2><ul><li>Indicar claramente o cargo desejado</li><li>Ser objetivo e sucinto</li><li>Não colocar cargos de áreas muito diferentes</li></ul><h2>Palavras-chave</h2><ul><li>Importante incluir no currículo</li><li>Facilita filtragem por plataformas de recrutamento</li><li>Verbos de ação relevantes para a vaga</li><li>Utilizar palavras-chave encontradas em descrições de vagas</li><li>Exemplos: elaboração de projetos, planejamento, gestão de projetos</li></ul><h2>Dicas</h2><ul><li>Utilizar mapa de carreiras do Vagas.com</li><li>Identificar trajetórias e requisitos</li><li>Adaptar currículo para vagas desejadas</li><li>Destacar projetos e realizações</li></ul><p>Espero que esse mapa mental resumindo os principais tópicos e dicas do vídeo sobre elaboração de currículos seja útil! Avise-me se você precisar de algum esclarecimento ou informação adicional.</p>\n",
        "\n",
        "\n"
      ],
      "metadata": {
        "id": "Eojr6Ghw_rUG"
      }
    },
    {
      "cell_type": "markdown",
      "source": [
        "### Aula 47 Como descrever minhas experiências profissionais\n",
        "<h1>Tema central: Elaboração de currículos</h1><h2>Resumo</h2><ul><li>Deve conter no máximo 4 linhas</li><li>Informar formação acadêmica</li><li>Destacar experiências relevantes para a vaga desejada</li><li>Mencionar estágio atual da carreira</li><li>Citar ferramentas e habilidades importantes</li></ul><h2>Objetivo</h2><ul><li>Indicar claramente o cargo desejado</li><li>Ser objetivo e sucinto</li><li>Não colocar cargos de áreas muito diferentes</li></ul><h2>Palavras-chave</h2><ul><li>Importante incluir no currículo</li><li>Facilita filtragem por plataformas de recrutamento</li><li>Verbos de ação relevantes para a vaga</li><li>Utilizar palavras-chave encontradas em descrições de vagas</li><li>Exemplos: elaboração de projetos, planejamento, gestão de projetos</li></ul><h2>Dicas</h2><ul><li>Utilizar mapa de carreiras do Vagas.com</li><li>Identificar trajetórias e requisitos</li><li>Adaptar currículo para vagas desejadas</li><li>Destacar projetos e realizações</li></ul><p>Espero que esse mapa mental resumindo os principais tópicos e dicas do vídeo sobre elaboração de currículos seja útil! Avise-me se você precisar de algum esclarecimento ou informação adicional.</p>"
      ],
      "metadata": {
        "id": "NIAgKScG_3Od"
      }
    },
    {
      "cell_type": "markdown",
      "source": [
        "### Aula 48 Formação Acadêmica e Habilidades\n",
        "<h1>Currículo</h1><h2>Dados pessoais</h2><ul><li>Nome completo</li><li>Telefone</li><li>E-mail</li><li>LinkedIn</li></ul><h2>Objetivo</h2><ul><li>Profissional</li><li>Sucinto</li><li>Direto</li></ul><h2>Experiência profissional</h2><ul><li>Empresa</li><li>Cargo</li><li>Período</li><li>Atividades e conquistas</li></ul><h2>Formação acadêmica</h2><ul><li>Cursos com +300h</li><li>Faculdade: período de finalização</li></ul><h2>Habilidades e treinamentos</h2><ul><li>Habilidades: hard skills</li><li>Treinamentos: cursos com certificados</li></ul><h2>Projetos e extensões</h2><ul><li>Projetos extracurriculares</li></ul><h2>Idiomas</h2><ul><li>Nível representado por bolinhas</li></ul><h2>Dicas</h2><ul><li>Comparar currículo com vaga no Jobscamp</li><li>Ajustar currículo baseado na comparação</li></ul>"
      ],
      "metadata": {
        "id": "ctMml8vB_4dU"
      }
    },
    {
      "cell_type": "markdown",
      "source": [
        "## Como ter um bom Github"
      ],
      "metadata": {
        "id": "OQEt1SigrLK6"
      }
    },
    {
      "cell_type": "markdown",
      "source": [
        "### Aula 49 Como construir o read.me inicial e manter commits\n",
        "<h1>GitHub</h1><h2>O que é</h2><ul><li>Plataforma para subir códigos, projetos</li><li>Usada dentro dos cursos da DNC</li><li>Recrutadores analisam para avaliar candidatos</li></ul><h2>Utilidade</h2><ul><li>Mostrar conhecimento técnico</li><li>Linguagens e ferramentas dominadas</li><li>Qualidade dos projetos</li></ul><h2>Perfil</h2><h3>Readme</h3><ul><li>Apresentação pessoal</li><li>Customizável</li><li>Pode incluir:<ul><li>Habilidades</li><li>Contatos (LinkedIn, e-mail)</li></ul></li></ul><h3>Commits</h3><ul><li>Mostra atividade e contribuições</li><li>Recomendado: 200-250 por ano</li><li>Quantidade e regularidade importam</li></ul><h2>Dicas</h2><ul><li>Personalizar perfil</li><li>Manter ativo com projetos</li><li>Cuidar da qualidade do que é postado</li><li>Seguir recomendações da DNC</li></ul>"
      ],
      "metadata": {
        "id": "-lpSZcx1Apd6"
      }
    },
    {
      "cell_type": "markdown",
      "source": [
        "### Aula 50 Título dos projetos e read.me dos projetos\n",
        "<h1>Utilização do GitHub para portfólio</h1><h2>Títulos dos projetos</h2><ul><li>Não precisam mencionar que são projetos da ADNC</li><li>Devem remeter ao conteúdo que realmente contém</li></ul><h2>README</h2><ul><li>Descrever o que contém no projeto</li><li>Prints/resultados obtidos</li><li>Tecnologias utilizadas</li></ul><h2>Subindo projetos</h2><ul><li>Não subir tudo de uma vez</li><li>Fazer commits incrementais</li><li>Mostra que foi uma construção ao longo do tempo</li><li>Valoriza mais o trabalho</li></ul><h2>Considerações finais</h2><ul><li>Manter GitHub atualizado</li><li>Ajuda no processo seletivo de vagas</li><li>Facilita o alcance dos objetivos profissionais</li></ul>"
      ],
      "metadata": {
        "id": "nAEYEHESArdu"
      }
    },
    {
      "cell_type": "markdown",
      "source": [
        "## Dicas para conseguir emprego e migração de área"
      ],
      "metadata": {
        "id": "x6L3uP7krOsZ"
      }
    },
    {
      "cell_type": "markdown",
      "source": [
        "### Aula 51 Como criar um bom cadastro\n",
        "<h1>Como criar um cadastro estratégico em plataformas de recrutamento</h1><h2>Introdução</h2><ul><li>Ter concentração ao preencher o cadastro</li><li>Revisar o currículo antes, pois é a base para o cadastro</li><li>Manter coerência entre currículo e cadastro</li></ul><h2>Passo a passo</h2><h3>Dados básicos</h3><ul><li>Nome, documentos, e-mail, contato</li></ul><h3>Experiências profissionais</h3><ul><li>Descrever vivências e responsabilidades</li><li>Destacar entregas e projetos desenvolvidos</li><li>Incluir palavras-chave da área</li></ul><h3>Formação acadêmica</h3><ul><li>Preencher da mais recente para a mais antiga</li><li>Checar datas e nomes das instituições</li></ul><h3>Perguntas personalizadas</h3><ul><li>Responder com atenção e autenticidade</li><li>Avaliam fit cultural e expectativas</li></ul><h3>Testes psicológicos</h3><ul><li>Fazer apenas quando estiver concentrado</li><li>Mesmo teste é usado por várias empresas</li></ul><h2>Dicas</h2><h3>Atualizar perfil constantemente</h3><ul><li>Revisar e atualizar a cada 1-2 semanas</li></ul><h3>Criar alertas de vagas</h3><ul><li>Receber notificações de vagas de interesse</li></ul><h3>Entrar em contato com recrutador</h3><ul><li>Ao se candidatar para vaga, entrar em contato com recrutador</li><li>Apresentar habilidades e disponibilidade</li></ul><p>Espero que este mapa mental resumo seja útil! Caso tenha alguma dúvida ou precisar de mais detalhes, estou à disposição.</p>"
      ],
      "metadata": {
        "id": "o868rn_8BeT0"
      }
    },
    {
      "cell_type": "markdown",
      "source": [
        "### Aula 52 Buscando vagas no Linkedln\n",
        "<h1>Como buscar vagas de emprego de forma objetiva</h1><h2>Utilizando os filtros do LinkedIn</h2><ul><li>Filtrar por:<ul><li>Remoto ou presencial</li><li>Data da publicação<ul><li>Vagas recentes têm menos candidatos</li><li>Vagas antigas podem não ter encontrado candidato ainda</li></ul></li><li>Requisitos da vaga<ul><li>Verificar se seu perfil corresponde</li></ul></li></ul></li><li>Analisar vagas correlatas<ul><li>Podem não ter o título exato, mas a descrição bate com suas habilidades</li><li>Amplia as possibilidades</li></ul></li></ul><h2>Buscando publicações, não apenas vagas</h2><ul><li>Colocar entre aspas o cargo desejado + &quot;vaga&quot; ou &quot;oportunidade&quot;</li><li>Filtrar por publicações (não vagas)</li><li>Traz publicações que podem conter vagas</li><li>Permite encontrar mais oportunidades</li></ul><h2>Aproveitar para criar networking</h2><ul><li>Seguir e adicionar recrutadores</li><li>Puxar assunto, mandar &quot;oi&quot;</li><li>Aumenta chances de ser lembrado para vagas futuras</li></ul><h2>Dicas gerais</h2><ul><li>Quantidade de candidaturas importa</li><li>Personalizar currículo e perfil para cada vaga</li><li>Usar palavras-chave dos requisitos nas candidaturas</li></ul><p>O vídeo traz dicas de como utilizar os recursos do LinkedIn para buscar vagas de forma mais eficiente, personalizar seu perfil e expandir sua rede de contatos, aumentando suas chances de conseguir uma recolocação profissional.</p>"
      ],
      "metadata": {
        "id": "dcOmSeszBhQh"
      }
    },
    {
      "cell_type": "markdown",
      "source": [
        "### Aula 53 Principais plataformas de recrutamento\n",
        "<h1>Como ter sucesso em plataformas de recrutamento</h1><h2>Introdução</h2><ul><li>Plataformas de recrutamento são muito utilizadas pelas empresas</li><li>Grande concorrência por vagas</li><li>Precisamos nos destacar, não adianta só enviar currículo</li></ul><h2>Dicas</h2><h3>Candidate-se estrategicamente</h3><ul><li>Candidate-se apenas se atender a maioria dos requisitos</li><li>Tenha um bom perfil na plataforma</li><li>Personalize seu currículo para cada vaga</li></ul><h3>Aumente sua rede (Networking)</h3><ul><li>Verifique se você tem conexões na empresa</li><li>Entre em contato para ganhar visibilidade</li><li>Adicione recrutadores e gestores no LinkedIn</li><li>Mande mensagem se apresentando</li></ul><h3>Seja proativo</h3><ul><li>Não espere apenas pela triagem</li><li>Corra atrás, mostre interesse</li><li>Destaque suas qualificações</li><li>Seja educado e objetivo</li></ul><h2>Resultados</h2><ul><li>Mais chances de ser pré-selecionado</li><li>Contatos na empresa</li><li>Feedback sobre seu perfil</li><li>Mais entrevistas</li></ul><p>O mapa cobre os principais tópicos do vídeo, incluindo dicas de como se destacar em plataformas de recrutamento através do networking, personalização do perfil/currículo e proatividade ao se candidatar.</p>"
      ],
      "metadata": {
        "id": "tzvAUnMgBmFz"
      }
    },
    {
      "cell_type": "markdown",
      "source": [
        "### Aula 54 Etapas do processo seletivo\n",
        "<h1>Processo seletivo</h1><h2>Estatísticas</h2><ul><li>100 a 200 candidaturas para conseguir uma vaga</li><li>Procurar emprego é um trabalho não remunerado</li><li>Definir regras e rotina é importante</li></ul><h2>Funcionamento</h2><ul><li>Funil: muitos candidatos inicialmente, poucos contratados</li><li>Exemplo Nestlé: 31 mil → 12 mil → 400 → 17 contratados</li></ul><h2>Etapas</h2><h3>Triagem de currículos</h3><ul><li>Atualizar currículo e LinkedIn</li><li>Destacar palavras-chave da vaga</li><li>Certificados, localidade, pretensão salarial</li></ul><h3>Entrevistas online</h3><ul><li>Validar currículo e habilidades</li><li>Mostrar habilidades pessoais</li><li>Dar exemplos práticos</li></ul><h3>Testes online</h3><ul><li>Raciocínio lógico</li><li>Avalia comportamento e reação a situações</li><li>Ser você mesmo</li></ul><h3>Finalização e job offer</h3><ul><li>Carta formal de contratação</li><li>Salário, cargo, atividades</li><li>Objetivo final desejado</li></ul><p>O vídeo aborda o processo seletivo de emprego, explicando estatísticas, funcionamento, etapas com dicas para cada uma delas, com o objetivo final de receber e aceitar uma proposta de trabalho (job offer).</p>"
      ],
      "metadata": {
        "id": "AvnfvaBQBs6m"
      }
    },
    {
      "cell_type": "markdown",
      "source": [
        "### Aula 55 Dicas de entrevista\n",
        "<h1>Preparação para entrevistas de emprego</h1><h2>Tema central</h2><p>Como se preparar para entrevistas de emprego, tanto com RH quanto com gestores, para ter um bom desempenho e conseguir a vaga.</p><h2>Principais tópicos</h2><ul><li>Pratique respondendo as perguntas mais comuns em entrevistas</li><li>Grave vídeos e áudios simulando entrevistas</li><li>Tenha respostas preparadas, mas adaptadas para cada vaga</li><li>Estude a empresa antes da entrevista</li><li>Prepare um pitch de apresentação personalizado</li><li>Liste suas habilidades técnicas e comportamentais</li><li>Prepare perguntas estratégicas para fazer ao recrutador/gestor</li><li>Entenda a diferença entre entrevistas com RH e gestores:<ul><li>RH avalia perfil, habilidades comportamentais e técnicas básicas</li><li>Gestor avalia conhecimento técnico específico, experiência na área e potencial</li></ul></li></ul><p>O vídeo também menciona que na próxima aula haverá uma simulação de entrevista com dicas do que fazer e o que não fazer.</p>"
      ],
      "metadata": {
        "id": "SgkH7zRZBzfU"
      }
    },
    {
      "cell_type": "markdown",
      "source": [
        "### Aula 56 Simulação de entrevista\n",
        "<h1>Tema central: Dicas para entrevistas de emprego</h1><h2>Apresentação pessoal</h2><ul><li>Destacar habilidades e competências relacionadas à vaga</li><li>Demonstrar fit cultural com a empresa</li><li>Evitar detalhes pessoais irrelevantes</li></ul><h2>Contribuição para a empresa</h2><ul><li>Focar em resultados e entregas, não em características genéricas como organização</li><li>Demonstrar habilidades importantes para a vaga</li></ul><h2>Desenvolvimento profissional</h2><ul><li>Citar fontes de atualização relevantes para a área</li><li>Mencionar cursos, palestras, benchmarks, etc.</li><li>Não focar apenas em redes sociais</li></ul><h2>Trabalho em equipe</h2><ul><li>Enfatizar atitudes colaborativas</li><li>Trazer exemplos de situações onde contribuiu para o time</li></ul><h2>Lidando com pressão</h2><ul><li>Normal ter pressão, prazos e demandas altas</li><li>Dar exemplos de quando lidou bem com isso</li></ul><h2>Perguntas finais</h2><ul><li>Sondar funcionamento e estrutura da área</li><li>Demonstrar interesse na vaga e nos próximos passos</li></ul>"
      ],
      "metadata": {
        "id": "QBgWR2joB4AM"
      }
    },
    {
      "cell_type": "markdown",
      "source": [
        "### Aula 57 Papo com gestor de Dados\n",
        "<h1>Tema central: Carreira na área de dados</h1><h2>Trajetória profissional da Maria Luiza</h2><ul><li>Formação: Engenheira da computação</li><li>Início na área de dados: durante a faculdade, com projetos envolvendo dados reais e biológicos</li><li>Percebeu que gostava de processar e analisar dados</li><li>Primeiro emprego: Embraer<ul><li>Desenvolveu dashboards e sites de visualização de dados</li><li>Ajudou a área de engenharia a tomar melhores decisões</li></ul></li><li>Atual: líder de engenharia de dados na DNC<ul><li>Time focado em coletar, transformar e disponibilizar dados confiáveis</li></ul></li></ul><h2>Gestão da equipe</h2><ul><li>Gestão matricial: Maria Luiza lidera tecnicamente, mas cada membro se reporta a uma área de negócio</li><li>Rotina:<ul><li>Acompanha indicadores como integridade e consistência dos dados</li><li>Acompanha KPIs individuais como conclusão de sprints</li></ul></li></ul><h2>Trilhas de desenvolvimento</h2><ul><li>Gestão: gestão de projetos, pessoas, inteligência emocional, tomada de decisão</li><li>Especialista: conhecimento amplo de áreas como segurança, ML e análise + aprofundamento em 1 área</li></ul><h2>Monitoramento e feedbacks</h2><ul><li>Encontros mensais para avaliar gaps e orientar desenvolvimento dos colaboradores</li></ul><h2>Habilidades importantes</h2><ul><li>Domínio de linguagens como SQL, Python, Java, R</li><li>Conhecimento de tecnologias como Hadoop e MongoDB</li><li>Otimização de pipelines</li><li>Modelagem sólida de dados</li><li>Segurança da informação</li></ul><h2>Dica para se aprofundar</h2><ul><li>Plataforma Medium: artigos de profissionais renomados da área de dados</li></ul>"
      ],
      "metadata": {
        "id": "4Nxeyt1fB7Pm"
      }
    },
    {
      "cell_type": "markdown",
      "source": [
        "### Aula 58 Expectativa do recrutador em um processo seletivo\n",
        "<p>TEMA CENTRAL:O que o recrutador e o gestor esperam do candidato durante a entrevista</p><h1>Critérios e comportamentos avaliados</h1><ul><li>Capacidade cognitiva<ul><li>Raciocínio lógico</li><li>Comunicação<ul><li>Capacidade de síntese</li><li>Objetividade</li></ul></li></ul></li><li>Utilize o método STAR<ul><li>Situação</li><li>Tarefa</li><li>Ação</li><li>Resultado</li></ul></li></ul><h1>O que o recrutador avalia nas respostas</h1><ul><li>Clareza</li><li>Autoconhecimento</li><li>Demonstração de conhecimento<ul><li>Da área</li><li>Do negócio</li></ul></li><li>Autogestão</li><li>Características de liderança e relação interpessoal</li></ul><h1>Perguntas que podem ser feitas</h1><ul><li>Gestão e liderança</li><li>Cultura</li><li>Clima</li><li>Habilidades técnicas</li></ul><h1>Outros pontos analisados</h1><ul><li>Valores e comportamentos esperados pela empresa</li><li>Capacidade técnica</li><li>Visão de longo prazo</li><li>Motivações</li></ul><h1>Dicas</h1><ul><li>Se tiver 90% dos requisitos, se candidate</li><li>Faça no mínimo 3 perguntas para o recrutador</li></ul>"
      ],
      "metadata": {
        "id": "Ld9rKPCzB_oH"
      }
    },
    {
      "cell_type": "markdown",
      "source": [
        "## Introdução ao Excel"
      ],
      "metadata": {
        "id": "Yf7UQmfdrUIJ"
      }
    },
    {
      "cell_type": "markdown",
      "source": [
        "### Aula 59 Material de Apoio"
      ],
      "metadata": {
        "id": "2T1s-LavDhDy"
      }
    },
    {
      "cell_type": "markdown",
      "source": [
        "[texto do link](https://)### Aula 60 Excel começou!\n",
        "<h1>Apresentação do Excel pela Dinâmica</h1><h2>Apresentação pessoal</h2><ul><li>Nome: Mateus Ambinati</li><li>Função: Sponsor do curso de Excel</li></ul><h2>O que é o Excel</h2><ul><li>Planilhas e modelagem de sistemas complexos</li><li>Manipulação de dados</li></ul><h2>Cursos de Excel oferecidos</h2><ul><li>Excel Intermediário<ul><li>Ambientação</li><li>Funções</li><li>Formatação</li><li>Gráficos</li><li>Tabelas dinâmicas</li></ul></li><li>Excel Avançado<ul><li>Macros</li><li>Solver</li><li>Sistemas complexos (ex: controle de compras)</li><li>Visual Basic</li></ul></li><li>Excel VBA<ul><li>Aprofundamento em sistemas complexos</li></ul></li></ul><h2>Material dos cursos</h2><ul><li>Disponibilizado nos módulos</li><li>Contém assignments</li></ul><h2>Recomendações</h2><ul><li>Assistir com calma e fazer os exercícios</li><li>Tirar dúvidas na comunidade</li></ul><h2>Avaliação</h2><ul><li>Prova após completar as tarefas</li><li>Certificado com nota mínima de 70%</li></ul><h2>Considerações finais</h2><ul><li>Vamos começar!</li><li>Tire suas dúvidas!</li></ul>\n",
        "\n"
      ],
      "metadata": {
        "id": "QjNTRqc-Dln-"
      }
    },
    {
      "cell_type": "markdown",
      "source": [
        "### Aula 61 Configurações Básicas\n",
        "<h2>Configurações e introdução ao Excel 2016</h2><ul><li>Recomendado usar Excel 2016 ou superior<ul><li>Tem mais funções<ul><li>Mapas 3D</li><li>Funções estatísticas (histograma, boxplot)</li><li>Aquisição de dados</li></ul></li><li>Atualizações frequentes (Office 365)</li></ul></li></ul><h3>Configurações básicas</h3><ul><li>Nome de usuário<ul><li>Importante para trabalhar em rede corporativa</li><li>Identifica quem está editando a planilha</li></ul></li><li>Tema<ul><li>Modifica a cor (estética)</li></ul></li><li>Barra de ferramentas de acesso rápido<ul><li>Adiciona atalhos para funções usadas com frequência</li></ul></li><li>Faixa de opções<ul><li>Habilitar guia Desenvolvedor<ul><li>Criação de formulários</li><li>Macros e VBA</li></ul></li></ul></li><li>Central de Confiabilidade &gt; Configurações de Macro<ul><li>Desabilitar macros ao abrir planilhas de terceiros</li><li>Previne execução de códigos maliciosos</li></ul></li></ul>"
      ],
      "metadata": {
        "id": "Uut0mgiQDn_z"
      }
    },
    {
      "cell_type": "markdown",
      "source": [
        "### Aula 62 Familiarizando-se com Excel\n",
        "<h2>Formatação de Células e Planilhas no Excel</h2><ul><li>Célula<ul><li>Campo individual na planilha</li><li>Ao clicar, fica com borda verde</li></ul></li><li>Planilha<ul><li>Conjunto de células</li><li>Abas na parte inferior do Excel</li></ul></li><li>Pasta de Trabalho<ul><li>Nome do arquivo Excel (parte superior central)</li></ul></li></ul><h3>Formatação de Células</h3><ul><li>Copiar/Mover<ul><li>Canto inferior direito: copia valores para baixo</li><li>Clicar na borda: move célula</li></ul></li><li>Largura/Altura<ul><li>Duas setas na linha/coluna: redimensiona</li><li>Dois cliques: ajusta ao conteúdo</li></ul></li><li>Mesclagem<ul><li>Mesclar células com texto longo</li><li>Evita quebra para células vizinhas</li></ul></li><li>Pincel<ul><li>Copia formatação de uma célula</li><li>Clique duas vezes no ícone</li></ul></li></ul><h3>Outras Formatações</h3><ul><li>Cores/Bordas<ul><li>Caixa de tinta: muda cor de fundo</li><li>Estilos de borda: muda tipo de borda</li></ul></li><li>Fonte<ul><li>Altera tipo e tamanho da fonte</li></ul></li><li>Números<ul><li>Formata como moeda, porcentagem etc.</li><li>Casas decimais: controla precisão</li></ul></li></ul><h3>Inserir</h3><ul><li><p>Imagens</p><ul><li>Ilustrações &gt; Imagens</li><li>Redimensionar na diagonal</li></ul></li><li><p>Fórmulas</p><ul><li>Insere fórmulas matemáticas</li><li>Muda formato, cor e tamanho</li></ul></li></ul><h3>Visualização</h3><ul><li>Linhas de grade<ul><li>Quadriculado entre células</li><li>Exibição &gt; Linhas de grade</li></ul></li><li>Barras<ul><li>Barra de fórmulas (laterais)</li><li>Títulos (letras/números)</li></ul></li></ul>"
      ],
      "metadata": {
        "id": "ZC9B5CX6DpMa"
      }
    },
    {
      "cell_type": "markdown",
      "source": [
        "### Aula 63 Configuração para impressão\n",
        "<h1>Configurações de impressão no Excel</h1><h2>Margens</h2><ul><li>Definem as margens da folha impressa</li><li>Opções:<ul><li>Larga</li><li>Normal</li><li>Estreita</li><li>Última personalizada</li><li>Personalizada (para editar)</li></ul></li></ul><h2>Orientação</h2><ul><li>Retrato ou paisagem</li></ul><h2>Tamanhos</h2><ul><li>Tamanhos de papel disponíveis</li><li>Ex: A4, A3 etc.</li></ul><h2>Área de Impressão</h2><ul><li>Permite definir a área da planilha a ser impressa</li></ul><h2>Quebras de Página</h2><ul><li>Insere quebras de página na planilha</li></ul><h2>Cabeçalho e Rodapé</h2><ul><li>Permite adicionar cabeçalho e rodapé<ul><li>Número de páginas</li><li>Data</li><li>Nome do arquivo</li></ul></li></ul><h2>Plano de Fundo</h2><ul><li>Permite definir imagem de fundo para a planilha</li></ul><h2>Outras dicas</h2><ul><li>Usar &quot;Exibir - Quebra de Página&quot; para visualizar melhor</li><li>Ocultar colunas e linhas extras</li><li>Praticar as configurações nos exercícios</li></ul><p>Esse é um resumo abrangendo os principais tópicos e configurações de impressão abordados no vídeo. Foco em margens, orientação, cabeçalho/rodapé, área de impressão e outros elementos que podem ser configurados para imprimir uma planilha Excel da melhor forma.</p>"
      ],
      "metadata": {
        "id": "HFOJ44r8Dqwo"
      }
    },
    {
      "cell_type": "markdown",
      "source": [
        "### Aula 64 Hyperlink Externo e Interno\n",
        "<h1>Hiperlinks</h1><h2>Conceito</h2><ul><li>Redireciona o usuário para um local desejado</li><li>Pode ser:<ul><li>Externo: fora da pasta de trabalho</li><li>Interno: dentro da pasta de trabalho<ul><li>Pode definir a linha exata</li></ul></li></ul></li></ul><h2>Criando hiperlinks</h2><h3>Internos</h3><ul><li>Clicar na aba &quot;Inserir&quot; &gt; Botão &quot;Link&quot;</li><li>Escolher a opção &quot;Colocar nesse documento&quot;</li><li>Selecionar a planilha de destino</li><li>O texto ficará sublinhado indicando o link</li></ul><h3>Externos</h3><ul><li>Mesmo processo, mas escolher &quot;Página da web&quot;</li><li>Digitar o endereço do site</li></ul><h3>Em imagens</h3><ul><li>Clicar com botão direito na imagem</li><li>Escolher a opção &quot;Link&quot;</li><li>Definir a planilha de destino</li></ul><h2>Aplicações</h2><ul><li>Criar menus de navegação entre planilhas</li><li>Botões de voltar</li><li>Links para sites externos</li></ul><h2>Exercício</h2><ul><li>Replicar a planilha de exemplo</li><li>Criar links para sites como Wall, Globo, Google</li></ul>"
      ],
      "metadata": {
        "id": "_HqzPeMEDryH"
      }
    },
    {
      "cell_type": "markdown",
      "source": [
        "### Aula 65 Atalhos do Excel + Colar Especial\n",
        "<h1>Atalhos e colagem especial no Excel</h1><h2>Atalhos</h2><ul><li>Ctrl + C / Ctrl + V<ul><li>Copiar e colar célula, mantendo valor e formatação</li></ul></li><li>Colar especial<ul><li>Botão direito na célula<ul><li>Colar valor - sem formatação, apenas valor</li><li>Colar formato - sem valor, apenas formatação</li><li>Colar fórmula - mantém fórmula ao invés do valor</li><li>Transpor - inverte linha e coluna ao colar</li></ul></li></ul></li><li>Ctrl + Z<ul><li>Desfazer último comando</li></ul></li><li>Ctrl + Y<ul><li>Refazer último comando desfeito</li></ul></li><li>Ctrl + Negrito/Itálico/Sublinhado<ul><li>Aplica formato na célula selecionada</li></ul></li><li>Ctrl + A<ul><li>Abre janela para selecionar arquivo para abrir</li></ul></li><li>Ctrl + P<ul><li>Abre janela de impressão</li></ul></li><li>F4<ul><li>Repete último comando aplicado em nova seleção</li></ul></li><li>Ctrl + E<ul><li>Seleciona coluna inteira</li></ul></li><li>Ctrl + -<ul><li>Exclui linha selecionada</li></ul></li><li>Ctrl + +<ul><li>Insere nova coluna</li></ul></li><li>Ctrl + 0<ul><li>Oculta coluna da célula selecionada</li></ul></li><li>Ctrl + 9<ul><li>Oculta linha da célula selecionada</li></ul></li></ul><h2>Navegação</h2><ul><li>Ctrl + PageDown/PageUp<ul><li>Navega entre abas</li></ul></li><li>Ctrl + End<ul><li>Vai para última célula preenchida</li></ul></li><li>Ctrl + Home<ul><li>Vai para célula A1</li></ul></li><li>Ctrl + Setas<ul><li>Vai para próxima célula preenchida na direção</li></ul></li><li>Ctrl + Shift + Setas<ul><li>Idem, selecionando intervalo</li></ul></li></ul><h2>Pratique os atalhos para agilizar seu trabalho no Excel!</h2>"
      ],
      "metadata": {
        "id": "-w9SwJr7Dt0O"
      }
    },
    {
      "cell_type": "markdown",
      "source": [
        "### Aula 66 Criando Tabelas\n",
        "<h1>Tema central: Criação de tabelas no Excel</h1><h2>Disposição dos dados</h2><ul><li>Melhor disposição é títulos na parte superior e dados abaixo</li><li>Títulos em negrito e cor diferente para destacar</li><li>Adicionar bordas nas linhas para guiar a leitura</li></ul><h2>Formatação rápida</h2><ul><li>Usar a opção &quot;Inserir Tabela&quot;</li><li>Selecionar dados, marcar opção de cabeçalho e clicar OK</li><li>Excel formata automaticamente</li></ul><h2>Recursos</h2><ul><li>Filtro: permite filtrar dados da tabela por coluna</li><li>Segmentação de dados: mesma função mas visualmente mais bonito</li><li>Permite selecionar valores na lateral para filtrar</li></ul><h2>Importância</h2><ul><li>Organização e disposição correta é crucial para:<ul><li>Análise e manipulação de dados</li><li>Uso posterior de funções</li><li>Obtenção dos melhores resultados</li></ul></li></ul>"
      ],
      "metadata": {
        "id": "m1npEXwgDvjk"
      }
    },
    {
      "cell_type": "markdown",
      "source": [
        "## Introdução a Funções e Fórmulas do Excel"
      ],
      "metadata": {
        "id": "NzRc1TkXrZvg"
      }
    },
    {
      "cell_type": "markdown",
      "source": [
        "### Aula 67 Funções e Fórmulas do Excel I\n",
        "<h1>Funções e fórmulas do Excel</h1><h2>Introdução</h2><ul><li>Funções e fórmulas otimizam a análise de dados</li><li>Permite trabalhar com grande volume de informações de forma eficiente</li></ul><h2>Inserir Funções (fx)</h2><ul><li>Mostra todas as funções disponíveis no Excel</li><li>Pode procurar por nome da função</li><li>Mostra a sintaxe, ou seja, o que cada argumento da função significa</li></ul><h2>Principais funções</h2><h3>Soma</h3><ul><li>Soma valores de um intervalo</li><li>Atualiza automaticamente se os valores forem alterados</li></ul><h3>Multiplicação</h3><ul><li>Multiplica valores de um intervalo</li></ul><h3>Média</h3><ul><li>Calcula a média de um intervalo</li><li>Também pode ser obtida selecionando o intervalo e olhando no canto inferior direito</li></ul><h3>Mediana</h3><ul><li>Retorna a mediana de um conjunto de valores</li></ul><h3>Máximo</h3><ul><li>Retorna o maior valor de um intervalo</li></ul><h3>Mínimo</h3><ul><li>Retorna o menor valor de um intervalo</li></ul><h3>Int</h3><ul><li>Transforma um número em inteiro (faz arredondamento)</li></ul><h2>Funções de Data</h2><h3>Dia</h3><ul><li>Extrai o dia de uma data</li></ul><h3>Mês</h3><ul><li>Extrai o mês de uma data</li></ul><h3>Ano</h3><ul><li>Extrai o ano de uma data</li></ul><h3>Hoje</h3><ul><li>Retorna a data atual</li></ul><h3>Agora</h3><ul><li>Retorna a data e hora atual</li></ul><p>Espero que esse mapa mental resumo ajude a entender as principais funções e fórmulas do Excel abordadas no vídeo! Fiz o possível para destacar os tópicos principais e explicar como cada função funciona. Caso tenha alguma dúvida ou precise de mais detalhes, pode me perguntar!</p>"
      ],
      "metadata": {
        "id": "NhGoDXyFNsxf"
      }
    },
    {
      "cell_type": "markdown",
      "source": [
        "### Aula 68 Funções e Fórmulas do Excel II\n",
        "<h1>Funções e fórmulas</h1><h2>Contar</h2><h3>contar.números</h3><ul><li>Conta números de um intervalo</li><li>Não conta células vazias</li></ul><h3>contar.valores</h3><ul><li>Conta o número de células preenchidas em um intervalo</li><li>Considera espaços em branco como valores</li></ul><h3>contar.vazio</h3><ul><li>Conta o número de células vazias em um intervalo</li></ul><h2>Concatenar</h2><h3>concatenar</h3><ul><li>Une textos em células individuais</li></ul><h3>concate</h3><ul><li>Une textos em um intervalo de células</li></ul><h3>unir.texto</h3><ul><li>Une textos com um delimitador</li><li>Permite ignorar células vazias</li></ul><h2>Aleatório</h2><h3>aleatório</h3><ul><li>Gera número aleatório entre 0 e 1</li></ul><h3>aleatório.entre</h3><ul><li>Gera número aleatório inteiro dentro de um intervalo</li></ul><h3>arred</h3><ul><li>Arredonda números</li></ul><h3>matriz.aleatória</h3><ul><li>Gera matriz com números aleatórios</li></ul><h2>Exercício</h2><ul><li>Calcular estatísticas de uma tabela de vendas</li><li>Valor mínimo e máximo</li><li>Quantidade de vendas</li><li>Verificar se há valores vazios</li><li>Aplicar 15% de desconto se valor &gt; R$ 3.000</li></ul>"
      ],
      "metadata": {
        "id": "9SyhUoaaNvL3"
      }
    },
    {
      "cell_type": "markdown",
      "source": [
        "### Aula 69 Funções SE I\n",
        "<h1>Função SE no Excel</h1><h2>O que é</h2><ul><li>Função condicional</li><li>Testa se uma condição é verdadeira ou falsa</li><li>Se verdadeira, retorna um valor</li><li>Se falsa, retorna outro valor</li></ul><h2>Sintaxe</h2><pre><code>=SE(teste_lógico;valor_se_verdadeiro;valor_se_falso)</code></pre><h2>Operadores de comparação</h2><ul><li>Igual: =</li><li>Maior: &gt;</li><li>Menor: &lt;</li><li>Maior ou igual: &gt;=</li><li>Menor ou igual: &lt;=</li><li>Diferente: &lt;&gt;</li></ul><h2>Exemplos</h2><ul><li>Validar se nomes são iguais</li><li>Validar se números são iguais</li><li>Verificar se vendedores bateram meta</li><li>Simular placas de trânsito</li></ul><h2>Cuidados</h2><ul><li>Usar aspas em textos</li><li>Travar células referenciadas</li><li>Evitar espaços nos textos</li></ul><h2>Vantagens</h2><ul><li>Condicional simples e poderosa</li><li>Auxilia na gestão visual de dados</li><li>Base para automatização</li></ul>"
      ],
      "metadata": {
        "id": "XdhgNaCWNwK4"
      }
    },
    {
      "cell_type": "markdown",
      "source": [
        "### Aula 70 Função SE II\n",
        "<p>TEMA CENTRAL: Utilização de múltiplas funções SE no Excel</p><ul><li>Permite testar vários cenários e retornar o valor mais plausível</li><li>Usa função SE dentro da função SE<ul><li>SE verdadeiro: teste adicional se primeiro teste verdadeiro</li><li>SE falso: testa cenário alternativo</li></ul></li><li>Exemplos<ul><li>Testar operação (soma, média etc) digitada pelo usuário<ul><li>Várias funções SE testando valor digitado</li></ul></li><li>Testar se vendedor bateu meta<ul><li>1a função SE: teste se bateu valor mínimo</li><li>Dentro do SE verdadeiro, 2a função SE testa categoria de produto</li><li>SE falso final: não bateu nem a meta mínima</li></ul></li><li>Não acumula descontos em compras<ul><li>Múltiplas funções SE testando faixas de itens e valores</li><li>Retornar maior desconto aplicável</li></ul></li></ul></li><li>Permite testar vários cenários e ter resposta customizada em uma célula</li><li>Facilita análises complexas com dados em planilhas diferentes</li></ul>\n"
      ],
      "metadata": {
        "id": "XDpw46e4NxOn"
      }
    },
    {
      "cell_type": "markdown",
      "source": [
        "### Aula 71 Travamento de Células\n",
        "\n",
        "<h1>Travamento de células no Excel</h1><h2>Conceitos principais</h2><ul><li>Travar células é útil em:<ul><li>Fórmulas e funções</li><li>Evita usar intervalos errados</li></ul></li><li>Referências de células:<ul><li>Letras = colunas (A, B, C...)</li><li>Números = linhas (1, 2, 3...)</li></ul></li><li>Travamento:<ul><li>Impede que referência mude ao arrastar</li><li>Usa cifrão ($) na frente da referência</li><li>$C = trava coluna</li><li>$10 = trava linha</li><li>$C$10 = trava coluna e linha</li></ul></li><li>Atalho para travar:<ul><li>F4 alterna entre opções</li></ul></li></ul><h2>Exemplos de uso</h2><ul><li>Marcar &quot;X&quot; se valor bater:<ul><li>Trava linha da comparação</li><li>Deixa coluna variável</li></ul></li><li>Aplicar desconto:<ul><li>Trava % de desconto</li><li>Deixa valores variáveis</li></ul></li><li>Somar grupo + individuais:<ul><li>Trava referência do grupo</li><li>Deixa valores individuais variáveis</li></ul></li></ul><h2>Importância</h2><ul><li>Evita erros de referência</li><li>Mantém fórmulas funcionando conforme o esperado</li><li>Fundamental para uso correto de funções no Excel</li></ul>"
      ],
      "metadata": {
        "id": "XOjH87U2NzCn"
      }
    },
    {
      "cell_type": "markdown",
      "source": [
        "### Aula 72 Gerenciador de Nomes\n",
        "\n",
        "<h1>Gerenciador de Nomes</h1><h2>Definição e utilidade</h2><ul><li>Serve para definir nomes para intervalos de células, colunas ou tabelas</li><li>Facilita a utilização desses intervalos em fórmulas</li><li>Promove agilidade ao trabalhar com fórmulas</li></ul><h2>Exemplos de uso</h2><ul><li>Em vez de selecionar o intervalo inteiro, pode-se digitar o nome definido</li><li>Integração em funções como SOMA, MÉDIA etc</li></ul><h2>Formas de criação</h2><ul><li>Selecionar intervalo &gt; Na barra de fórmulas, dar um nome</li><li>Fórmula &gt; Gerenciador de Nomes &gt; Novo</li><li>Selecionar tabela com cabeçalhos &gt; Ctrl+Shift+F3 &gt; Criar nomes baseado em valores</li></ul><h2>Gerenciamento</h2><ul><li>Ver nomes criados</li><li>Editar nomes</li><li>Excluir nomes</li></ul><h2>Aplicações</h2><ul><li>Trabalhar com planilhas grandes e complexas</li><li>Integração entre várias abas/pastas de trabalho</li></ul><h2>Exercício proposto</h2><ul><li>Criar nome &quot;dólar&quot; para célula de câmbio</li><li>Calcular vendas finais multiplicando vendas por taxa do dólar</li><li>Criar fórmula com nome para soma das vendas finais</li><li>Criar fórmula com nome para quantidade total de vendas</li></ul>\n"
      ],
      "metadata": {
        "id": "qtIJ6cM7N2Nc"
      }
    },
    {
      "cell_type": "markdown",
      "source": [
        "### Aula 73 Trabalhando com a Matemática\n",
        "<h1>Operadores matemáticos no Excel</h1><h2>Introdução</h2><ul><li>Operadores matemáticos servem como atalho às fórmulas do Excel</li><li>Economizam tempo ao invés de ficar procurando as fórmulas</li></ul><h2>Operadores matemáticos mais comuns</h2><h3>Multiplicação</h3><ul><li>Use o asterisco (*)</li><li>Selecione a primeira célula com o valor</li><li>Multiplique pelas outras células com valores</li></ul><h3>Divisão</h3><ul><li>Use a barra (/)</li><li>Também fica no alt gr + q</li><li>Substitui a fórmula de divisão</li></ul><h3>Adição</h3><ul><li>Use o sinal de mais (+) convencional</li><li>Selecione a célula e some com a outra</li></ul><h3>Subtração</h3><ul><li>Use o sinal de menos (-) convencional</li><li>Selecione a célula e subtraia da outra</li></ul><h3>Raiz quadrada</h3><ul><li>Use a fórmula =RAIZ()</li><li>Exemplo: =RAIZ(16) retorna 4</li></ul><h3>Número Pi</h3><ul><li>Use pi()</li><li>Abre e fecha parênteses, não precisa de número dentro</li></ul><h3>Potência</h3><ul><li>Use o chapéu (^)</li><li>Sinal de igual, selecione a primeira célula</li><li>Coloque o chapéu e selecione a segunda célula</li></ul><h2>Exercício prático</h2><ul><li>Demonstração de uma fórmula com operadores matemáticos</li><li>Conforme mudam os operadores, os valores são alterados</li></ul>"
      ],
      "metadata": {
        "id": "w07QIlKHN3bz"
      }
    },
    {
      "cell_type": "markdown",
      "source": [
        "## ARRUMAR, CONT.SE, SOMA.SE"
      ],
      "metadata": {
        "id": "DUsN-UOrrilx"
      }
    },
    {
      "cell_type": "markdown",
      "source": [
        "### Aula 74 Função Arrumar\n",
        "<h1>Tema central: Função ARRUMAR no Excel</h1><h2>Elimina espaços extras nas células</h2><ul><li>A função <code>ARRUMAR</code> retira todos os espaços adicionais desnecessários nas células</li><li>Isso evita problemas ao copiar e colar células ou usar funções que comparam texto</li></ul><h2>Diferença entre &quot;Mateus&quot; e &quot;Mateus &quot;</h2><ul><li>O Excel trata &quot;Mateus&quot; e &quot;Mateus &quot; como textos diferentes</li><li>Isso pode causar problemas em comparações ou outras funções</li></ul><h2>Exemplo da função ARRUMAR</h2><ul><li>Célula &quot;dinâmica&quot; tinha muitos espaços extras</li><li>Ao usar <code>=ARRUMAR(dinâmica)</code>, os espaços extras são eliminados</li><li>Isso é confirmado pela função <code>NÚMERO.DE.CARACTERES</code></li></ul><h2>Uso em outras funções</h2><ul><li>Ao comparar &quot;Everton&quot; com &quot;Everton &quot;, dava erro</li><li>Substituindo a célula por <code>=ARRUMAR(Everton)</code> conserta o problema</li><li>Permite que a comparação funcione corretamente</li></ul><h2>Conclusão</h2><ul><li>A função <code>ARRUMAR</code> é útil para limpar espaços desnecessários</li><li>Isso evita problemas em comparações, cópia/colagem e outras funções</li><li>Pode ser usada diretamente nas células ou dentro de outras fórmulas</li></ul>"
      ],
      "metadata": {
        "id": "rO4jjxuevw93"
      }
    },
    {
      "cell_type": "markdown",
      "source": [
        "### Aula 75 Funções Lógicas (e/ou)\n",
        "\n",
        "<h1>Funções lógicas no Excel</h1><h2>Tema central</h2><ul><li>Uso das funções E e OU para criar testes lógicos no Excel</li></ul><h2>Função E</h2><ul><li>Retorna VERDADEIRO se todas as condições forem atendidas</li><li>Retorna FALSO se qualquer condição for falsa</li></ul><h3>Exemplo</h3><pre><code>=E(C12=18;C14=1,7)</code></pre><ul><li>Retornará VERDADEIRO apenas se C12 for 18 e C14 for 1,7</li></ul><h2>Função OU</h2><ul><li>Retorna VERDADEIRO se qualquer condição for verdadeira</li><li>Retorna FALSO apenas se todas as condições forem falsas</li></ul><h3>Exemplo</h3><pre><code>=OU(C12=18;C14=1,7)</code></pre><ul><li>Retornará VERDADEIRO se C12 for 18 ou C14 for 1,7</li></ul><h2>Uso com a função SE</h2><ul><li>As funções E e OU podem ser usadas dentro da função SE</li></ul><h3>Exemplo</h3><pre><code>=SE(E(C12=18;C14=1,7);&quot;Pode participar&quot;;&quot;Não pode participar&quot;)</code></pre><h2>Exercício</h2><ul><li>Determinar se um notebook de valor entre R$ 1.000 e R$ 1.300 deve ser comprado</li></ul>"
      ],
      "metadata": {
        "id": "I7T0J0FYwHGz"
      }
    },
    {
      "cell_type": "markdown",
      "source": [
        "### Aula 76 Função Cont.se e Cont.ses\n",
        "<h1>Funções CONT.SE e CONT.SES</h1><h2>Conceito</h2><ul><li>Funções para contar quantas vezes um valor se repete em um intervalo</li><li>CONTEC conta baseado em 1 critério</li><li>CONT.SE conta baseado em 2 ou mais critérios</li></ul><h2>Aplicações</h2><h3>CONT.SE</h3><ul><li>Contar vendas por vendedor</li><li>Intervalo: nomes dos vendedores</li><li>Critério: célula com nome do vendedor</li></ul><h3>CONT.SES</h3><ul><li>Contar vendas por vendedor e produto</li><li>Intervalo 1: nomes dos vendedores</li><li>Critério 1: célula com nome do vendedor</li><li>Intervalo 2: produtos</li><li>Critério 2: célula com nome do produto</li></ul><h3>Datas</h3><ul><li>Critérios em formato &quot;&gt;&quot;&amp;data ou &quot;&lt;&quot;&amp;data para intervalos</li><li>Permite contar valores entre datas</li></ul><h2>Exercícios</h2><ul><li>Contar vendas entre códigos</li><li>Contar vendas por:<ul><li>Cidade</li><li>Vendedor</li><li>Cidade e vendedor</li></ul></li></ul>"
      ],
      "metadata": {
        "id": "6FsuVaXnwLH-"
      }
    },
    {
      "cell_type": "markdown",
      "source": [
        "### Aula 77 Função Somase e Somases\n",
        "<p>TEMA CENTRAL: Funções SOMA.SE e SOMA.SES no Excel</p><h1>Função SOMA.SE</h1><ul><li>Soma valores em um intervalo baseado em um critério</li><li>Sintaxe:<ul><li>Intervalo com os critérios</li><li>Critério (texto, número ou data)</li><li>Intervalo dos valores a serem somados</li></ul></li><li>Requer intervalos de mesmo tamanho</li><li>Retorna a soma dos valores quando o critério é atendido</li></ul><h1>Função SOMA.SES</h1><ul><li>Soma valores baseado em dois ou mais critérios</li><li>Sintaxe:<ul><li>Intervalo dos valores a serem somados</li><li>Intervalo do critério 1</li><li>Critério 1</li><li>Intervalo do critério 2</li><li>Critério 2</li></ul></li><li>Também requer intervalos de mesmo tamanho</li><li>Retorna a soma quando ambos critérios são atendidos</li></ul><h1>Trabalhando com números e datas</h1><ul><li>Utilizar aspas, operador de comparação e símbolo de concatenação</li><li>Ex: &quot;&gt;=01/01/2023&quot;</li></ul><h1>Exercícios propostos</h1><ul><li>Total de vendas por:<ul><li>Código inicial e final</li><li>Cidade</li><li>Vendedor</li><li>Cidade e vendedor</li></ul></li></ul>"
      ],
      "metadata": {
        "id": "Bvr0OQ0XwMmi"
      }
    },
    {
      "cell_type": "markdown",
      "source": [
        "### Aula 78 Quiz - Funçoes II"
      ],
      "metadata": {
        "id": "7IMSSxLHwNnJ"
      }
    },
    {
      "cell_type": "markdown",
      "source": [
        "## Formatação Condicional"
      ],
      "metadata": {
        "id": "Xl_WrGoJrm5w"
      }
    },
    {
      "cell_type": "markdown",
      "source": [
        "### Aula 79 Formatação Condicional Pré- Definida\n",
        "<h1>Utilização de formatação condicional pré-definida no Excel</h1><h2>Introdução</h2><ul><li>Promove melhor gestão visual e identificação de desvios</li><li>Vamos explorar as formatações condicionais pré-definidas do Excel</li></ul><h2>Escala de cores</h2><ul><li>Aplica cores conforme faixas de valores</li><li>Permite identificar visualmente dias/valores críticos (vermelho) e dias/valores bons (verde)</li></ul><h2>Igual a</h2><ul><li>Realça células com valores iguais ao critério definido</li><li>Útil para destacar nomes ou outros textos específicos</li></ul><h2>Maior que / Menor que</h2><ul><li>Realça células com valores maiores/menores que um limite</li><li>Permite identificar visualmente valores críticos</li></ul><h2>Entre</h2><ul><li>Realça células com valores dentro de um intervalo definido</li><li>Similar ao maior/menor que, mas para um range de valores</li></ul><h2>Barras de dados</h2><ul><li>Mostra o progresso de uma métrica em forma de barra</li><li>Útil para acompanhar andamento de projetos</li></ul><h2>Ícones</h2><ul><li>Exibe ícones que representam status (positivo/negativo)</li><li>Atualiza automaticamente conforme os valores</li></ul><h2>Melhores/Piores alunos</h2><ul><li>Realça valores acima ou abaixo da média</li><li>Permite identificar visualmente alunos acima e abaixo da média</li></ul><h2>Considerações finais</h2><ul><li>Importante pré-selecionar o intervalo de dados</li><li>Explorar as opções do Excel para melhor aproveitamento</li><li>Praticar através dos exercícios</li></ul>"
      ],
      "metadata": {
        "id": "IxAP__tZyNrS"
      }
    },
    {
      "cell_type": "markdown",
      "source": [
        "### Aula 80 Formatação Condicional Padrão\n",
        "<h2>Formatação condicional no Excel</h2><h3>Regras de formatação condicional</h3><ul><li>Por porcentagem<ul><li>Define faixas de valores (ex: &gt;= 70% fica verde)</li><li>Permite maior flexibilidade que as formatações pré-definidas</li></ul></li><li>Por fórmula<ul><li>Formata célula baseada em resultado de outra célula</li><li>Usa a fórmula &quot;SE&quot;<ul><li>Teste lógico</li><li>Valor se verdadeiro</li><li>Valor se falso</li></ul></li><li>Muito utilizada (99% dos casos)</li></ul></li></ul><h3>Dicas importantes</h3><ul><li>Selecionar célula/intervalo antes de aplicar formatação</li><li>Ao aplicar para intervalo:<ul><li>Desmarcar &quot;travar célula&quot; em linha</li><li>Senão não varia conforme outras células</li></ul></li><li>Praticar com diferentes regras</li></ul><p>O vídeo ensina sobre formatação condicional no Excel, explicando as duas regras mais utilizadas: por porcentagem e por fórmula.</p><p>A regra por porcentagem permite definir faixas de valores para aplicar determinadas formatações, com mais flexibilidade.</p><p>Já a regra por fórmula formata baseado no resultado de outra célula, usando a fórmula &quot;SE&quot;. É importante desmarcar o travamento de linha ao aplicar para intervalos.</p><p>Por fim, algumas dicas: selecionar células primeiro, desmarcar travamento e praticar criando diferentes regras de formatação.</p>"
      ],
      "metadata": {
        "id": "R5Bh5IUNyRHf"
      }
    },
    {
      "cell_type": "markdown",
      "source": [
        "### Aula 81 Formataçao Condicional com Fórmulas\n",
        "<h1>Formatação condicional de linhas inteiras com fórmulas</h1><h2>Introdução</h2><ul><li>A formatação condicional permite formatar células, linhas, colunas ou intervalos inteiros fazendo referência a outra célula</li><li>Será ensinado como formatar linhas inteiras usando fórmulas</li></ul><h2>Cuidados</h2><ul><li>A formatação condicional já trava a célula referenciada na fórmula</li><li>É preciso destravar para que a formatação seja aplicada linha a linha</li></ul><h2>Passo a passo</h2><ol><li>Selecionar a linha</li><li>Ir em Formatação Condicional &gt; Nova Regra &gt; Fórmulas</li><li>Fórmula:<ul><li>SE(célula_referência=“aprovado”;1;0)</li></ul></li><li>Formatar preenchimento como desejado</li><li>Destravar linha referenciada na fórmula</li><li>Selecionar tabela inteira</li><li>Aplicar formatação</li></ol><h2>Exemplo prático</h2><ul><li>Regra 1: SE status = “aprovado”, preenchimento verde</li><li>Regra 2: SE status = “reprovado”, preenchimento amarelo</li></ul><h2>Considerações finais</h2><ul><li>Útil para visualização de desvios ou situações positivas</li><li>Poucas pessoas sabem fazer</li><li>Praticar aplicando nas linhas inteiras com base no status da pessoa</li></ul>"
      ],
      "metadata": {
        "id": "0z08NcX1ySOv"
      }
    },
    {
      "cell_type": "markdown",
      "source": [
        "### Aula 82 Guia de Formatação Condicional Avançada\n"
      ],
      "metadata": {
        "id": "xYzOPYpayTnu"
      }
    },
    {
      "cell_type": "markdown",
      "source": [
        "## Filtro, Duplicatas, Transpose e Atingir Metas"
      ],
      "metadata": {
        "id": "i9Egj6sZrrAB"
      }
    },
    {
      "cell_type": "markdown",
      "source": [
        "### Aula 83 Filtro Simples\n",
        "<h1>Filtros em tabelas</h1><h2>O que são filtros?</h2><ul><li>Permitem selecionar, filtrar e classificar valores que cumprem requisitos estabelecidos</li><li>Aplicados em tabelas</li></ul><h2>Como adicionar filtros</h2><ul><li>Selecionar cabeçalho da tabela</li><li>Ir na aba Dados &gt; Filtro</li><li>Ou atalho CTRL + SHIFT + L</li></ul><h2>Opções de filtro por tipo de coluna</h2><h3>Texto</h3><ul><li>Classificar A-Z ou Z-A</li><li>Filtrar texto<ul><li>CONTAINS</li><li>Nomes específicos</li><li>Combinações com E, OU</li></ul></li></ul><h3>Números</h3><ul><li>Do menor para o maior</li><li>Do maior para o menor</li><li>Filtrar 10 primeiros, maiores que, menores que, etc</li></ul><h3>Cores ou formatação</h3><ul><li>Classificar cores</li><li>Filtrar por cores específicas</li></ul><h2>Refinar resultados</h2><ul><li>Aplicar múltiplos filtros para refinar resultado</li></ul><h2>Limpar filtros</h2><ul><li>Limpar filtros individualmente</li><li>Limpar todos de uma vez</li></ul><h1>Exercício</h1><ul><li>Aplicar formatação condicional (azul para &gt;150 mil)</li><li>Classificar valores azuis em primeiro</li><li>Ordenar coluna de forma decrescente</li></ul>"
      ],
      "metadata": {
        "id": "KIlm123pI_vY"
      }
    },
    {
      "cell_type": "markdown",
      "source": [
        "### Aula 84 Congelar, Dividir Painéis e Agrupamento\n",
        "<h1>Congelar e dividir painéis no Excel</h1><h2>Congelar painéis</h2><ul><li>Utilizado para fixar parte superior da tabela durante navegação e análise</li><li>Evita ter que rolar para cima para ver cabeçalho</li><li>Vai na guia Exibir &gt; Congelar Painéis</li><li>Pode congelar linha ou linha e coluna</li><li>Escolha célula correta para congelar coluna certa</li><li>Descongelar painéis para remover</li></ul><h2>Dividir painéis</h2><ul><li>Utilizado para comparar partes distintas da mesma tabela</li><li>Fixa parte superior e permite rolar restante</li><li>Evita ter que ocultar linhas manualmente</li><li>Útil para tabelas grandes, compara início e fim</li><li>Vai em Exibir &gt; Dividir</li><li>Divide na linha/coluna desejada</li></ul><h2>Observações</h2><ul><li>Funções úteis para facilitar análise de grandes tabelas</li><li>Saber utilizar traz praticidade</li><li>Congelar fixa parte superior, dividir compara seções</li></ul>"
      ],
      "metadata": {
        "id": "8o54y7SPJFhy"
      }
    },
    {
      "cell_type": "markdown",
      "source": [
        "### Aula 85 Remover Duplicatas\n",
        "<h1>Remover duplicatas e função Único</h1><h2>Objetivo comum</h2><p>Remover valores repetidos em um intervalo fornecido</p><h2>Remover Duplicatas</h2><ul><li>Localização: guia Dados &gt; Ferramentas de Dados &gt; Remover Duplicatas</li><li>Necessita selecionar a tabela ou coluna com valores duplicados</li><li>Mostra quantos valores estavam repetidos e remove-os</li><li>Atenção:<ul><li>Selecionar todas as colunas relevantes</li><li>Senão remove valores baseado apenas na coluna selecionada</li></ul></li></ul><h2>Função ÚNICO</h2><ul><li>Disponível no Office 365</li><li>Argumentos:<ul><li>Matriz (obrigatório): intervalo com valores</li><li>By_col (opcional):<ul><li>Verdadeiro: retorna colunas exclusivas</li><li>Falso (padrão): retorna linhas exclusivas</li></ul></li><li>Exactly_once (opcional):<ul><li>Verdadeiro: remove valores duplicados</li><li>Falso (padrão): retorna um valor distinto</li></ul></li></ul></li><li>Funciona de forma muito similar ao Remover Duplicatas</li><li>Permite mais controle sobre quais valores remover</li></ul><h2>Aplicações</h2><ul><li>Combinar com funções como SOMA, CONT.NÚM, etc</li><li>Analisar dados removendo duplicatas</li><li>Otimizar processamento de dados</li></ul>"
      ],
      "metadata": {
        "id": "QNrTyOrNJDCB"
      }
    },
    {
      "cell_type": "markdown",
      "source": [
        "### Aula 86 Texto para Coluna\n",
        "<h1>Transformar texto em colunas</h1><h2>Introdução</h2><ul><li>É muito comum precisar transformar texto em colunas, especialmente em arquivos CSV</li><li>Isso permite analisar e trabalhar melhor com os dados</li></ul><h2>Quando transformar texto em colunas</h2><ul><li>Quando se tem tudo aglomerado em um texto só</li><li>Mas há um delimitador em comum, como vírgula, ponto e vírgula etc</li><li>Cada parte entre os delimitadores vira uma coluna</li></ul><h2>Como transformar</h2><ul><li>Selecionar os dados</li><li>Ir em &quot;Dados&quot; &gt; &quot;Texto para Colunas&quot;</li><li>Escolher delimitado por espaço ou largura fixa</li><li>Em geral, escolher espaço delimitado</li><li>Escolher o delimitador correto, como vírgula, ponto e vírgula etc</li><li>Pode-se usar opções avançadas:<ul><li>Escolher local de destino das novas colunas</li><li>Formatar colunas como números ou datas</li><li>Alterar tipo de delimitador</li></ul></li></ul><h2>Conclusão</h2><ul><li>Permite analisar e trabalhar melhor dados textuales</li><li>Explorar opções avançadas para mais controle</li><li>Facilita muito o trabalho com arquivos CSV e dados textuais</li></ul>"
      ],
      "metadata": {
        "id": "xE-bq0WbJTr6"
      }
    },
    {
      "cell_type": "markdown",
      "source": [
        "### Aula 87 Gráfico Simples\n",
        "<p>TEMA CENTRAL:</p><p>Criar gráficos no Excel</p><p>TÓPICOS ABORDADOS:</p><ul><li><p>Tipos de gráficos</p><ul><li>Gráfico cartesiano<ul><li>Mostra relação entre duas variáveis (eixos X e Y)</li></ul></li><li>Gráfico de colunas<ul><li>Compara valores entre categorias</li></ul></li><li>Gráfico de barras<ul><li>Similar ao de colunas, mas com eixos invertidos</li></ul></li></ul></li><li><p>Inserindo gráficos</p><ul><li>Selecionar intervalo de dados</li><li>Ir na aba Inserir &gt; seção Gráficos</li><li>Escolher tipo de gráfico</li></ul></li><li><p>Editando gráficos</p><ul><li>Títulos e legendas</li><li>Cores, estilos, efeitos 3D</li><li>Formatação dos elementos</li></ul></li><li><p>Relatórios</p><ul><li>Selecionar área com gráficos</li><li>Layout de impressão</li></ul></li><li><p>Exercício</p><ul><li>Resumir população dos estados</li><li>Fazer gráfico de pizza com legenda</li></ul></li></ul>"
      ],
      "metadata": {
        "id": "Xe96nASQJX_p"
      }
    },
    {
      "cell_type": "markdown",
      "source": [
        "### Aula 88 Quiz - Filtros e Duplicatas"
      ],
      "metadata": {
        "id": "hlla4RJJJbrg"
      }
    },
    {
      "cell_type": "markdown",
      "source": [
        "### Aula 89 Atingir Metas\n",
        "<h1>Função atingir metas</h1><h2>O que é?</h2><ul><li>Retorna o valor necessário para que uma determinada condição seja satisfeita</li><li>Útil para calcular:<ul><li>Quantia necessária no final do mês</li><li>Nota necessária para obter determinada média</li><li>Etc</li></ul></li></ul><h2>Como usar</h2><ul><li>Aba Dados &gt; Teste de Hipóteses &gt; Atingir Meta</li><li>Preencher 3 campos:<ul><li>Definir célula: célula com fórmula que será alterada</li><li>Valor: valor que se quer atingir</li><li>Alterar valor de: célula que terá seu valor modificado</li></ul></li><li>Exemplos:<ul><li>Calcular nota necessária na P6 para obter média 6</li><li>Calcular quantidade a vender para obter receita ou margem desejada</li></ul></li></ul><h2>Vantagens</h2><ul><li>Evita tentativa e erro jogando valores manualmente</li><li>Encontra o valor exato automaticamente</li><li>Pode ser usado em diversos cenários (notas, metas financeiras, etc)</li></ul>"
      ],
      "metadata": {
        "id": "dq6qRze1Jhdv"
      }
    },
    {
      "cell_type": "markdown",
      "source": [
        "## Validação de Dados, Proteção e Exercícios"
      ],
      "metadata": {
        "id": "pj8jOWn1rxZR"
      }
    },
    {
      "cell_type": "markdown",
      "source": [
        "### Aula 90 Validação de Dados\n",
        "<h1>Validação de dados</h1><h2>Conceito</h2><ul><li>Impede que dados inválidos sejam inseridos</li><li>Condiciona o preenchimento correto dos dados</li><li>Evita erros e inconsistências</li></ul><h2>Objetivos</h2><ul><li>Garantir qualidade e confiabilidade dos dados</li><li>Facilitar análises e relatórios</li><li>Melhorar a experiência do usuário</li></ul><h2>Funcionalidades</h2><h3>Tipos de validação</h3><ul><li>Número inteiro (intervalos, maior que, menor que etc.)</li><li>Número decimal (idem)</li><li>Data (idem)</li><li>Hora</li><li>Texto (comprimento)</li><li>Lista (valores pré-definidos)</li></ul><h3>Mensagens</h3><ul><li>Parar (não permite inserir)</li><li>Aviso (avisa, mas permite inserir)</li><li>Informação (apenas informa o erro)</li></ul><h3>Configurações</h3><ul><li>Célula ou intervalo de células</li><li>Regras de validação</li><li>Texto das mensagens</li><li>Tipo de mensagem</li></ul><h2>Aplicação prática</h2><ul><li>Evitar erros de preenchimento</li><li>Garantir padronização</li><li>Auxiliar no preenchimento</li><li>Agilizar a análise de dados</li></ul><h2>Exercício PepsiCo</h2><ul><li>País &gt; Filial &gt; Código amostra</li><li>Peso &lt; 22 kg</li><li>Dimensões &gt; Volume &lt; 1,4 m3</li><li>Status liberado ou não</li></ul>"
      ],
      "metadata": {
        "id": "rD1qF7gPNp4B"
      }
    },
    {
      "cell_type": "markdown",
      "source": [
        "### Aula 91 Proteção da Planilha\n",
        "<h1>Proteger planilhas e pastas de trabalho no Excel</h1><h2>Formas de proteção</h2><ul><li>Criptografar pasta de trabalho com senha<ul><li>Impede acesso sem senha</li><li>Arquivo &gt; Informações &gt; Proteger pasta de trabalho &gt; Criptografar com senha</li></ul></li><li>Proteger planilha<ul><li>Permite escolher o que o usuário pode alterar</li><li>Revisão &gt; Proteger planilha &gt; Marcar permissões &gt; Senha</li></ul></li><li>Proteger pasta de trabalho<ul><li>Impede alterar nomes de abas</li><li>Revisão &gt; Proteger pasta de trabalho &gt; Senha</li></ul></li><li>Proteger células individuais<ul><li>Permite desbloquear células específicas</li><li>Clique direito na célula &gt; Formatar célula &gt; Proteção &gt; Desmarcar &gt; Aplicar proteção na planilha</li></ul></li></ul><h2>Considerações</h2><ul><li>Combinar proteções para maior segurança</li><li>Senhas complexas, não óbvias</li><li>Testar proteções após aplicar</li><li>Útil para permitir entrada de dados em células específicas</li><li>Boa prática para planilhas confidenciais</li></ul>"
      ],
      "metadata": {
        "id": "oKiZbsXaNtuP"
      }
    },
    {
      "cell_type": "markdown",
      "source": [
        "### Aula 92 Quiz - Validação de Dados e Atingir Metas\n"
      ],
      "metadata": {
        "id": "kCzT8FyhNzSJ"
      }
    },
    {
      "cell_type": "markdown",
      "source": [
        "## Procuras"
      ],
      "metadata": {
        "id": "f4jd5OMor4jg"
      }
    },
    {
      "cell_type": "markdown",
      "source": [
        "### Aula 93 Procuras: Índice e Corresp\n",
        "<h1>Procuras utilizando Índice e Corresp</h1><h2>Índice</h2><ul><li>Sintaxe: matriz, linha, coluna</li><li>Retorna o valor que está na intersecção da linha e coluna especificadas</li></ul><h2>Corresp</h2><ul><li>Restrição: matriz tem que ter apenas 1 linha ou 1 coluna</li><li>Sintaxe: valor procurado, matriz, tipo de correspondência</li><li>Retorna a posição em que o valor procurado aparece na matriz</li></ul><h2>Combinando Índice e Corresp</h2><ul><li>Corresp retorna um número (posição)</li><li>Esse número pode ser usado como linha ou coluna no Índice</li><li>Permite criar sistemas de procura mais dinâmicos</li></ul><h2>Exemplos</h2><ul><li>Retornar preço do açaí baseado no tamanho do copo e quantidade de ingredientes</li><li>Usando listas suspensas para seleção ao invés de números</li><li>Corresp procura na lista e retorna a linha/coluna</li><li>Essa posição é usada no Índice para retornar o preço</li></ul><p>Em resumo, combinar Índice e Corresp permite criar sistemas de procura poderosos para automatizar processos.</p>"
      ],
      "metadata": {
        "id": "jFptzAQcDf19"
      }
    },
    {
      "cell_type": "markdown",
      "source": [
        "### Aula 94 Procv\n",
        "<h1>PROC V</h1><h2>Tema central</h2><p>Função PROC V no Excel para realizar buscas verticais em tabelas</p><h2>Tópicos abordados</h2><ul><li>O que é a função PROC V<ul><li>Busca valores verticalmente em uma tabela</li><li>Muito utilizada no Brasil para trabalhar com dados</li></ul></li><li>Sintaxe<ul><li>Valor procurado (entre aspas se texto)</li><li>Matriz da tabela</li><li>Número de colunas para deslocamento</li><li>[Opcional] Correspondência aproximada ou exata</li></ul></li><li>Vantagens<ul><li>Encontrar informações relacionadas em tabelas</li><li>Pode ser combinada com outros funções (ex: SE)</li></ul></li><li>Dicas<ul><li>Travar referências de células</li><li>Usar listas suspensas para garantir dados corretos</li></ul></li><li>Exercícios<ul><li>Combinar PROC V e CORRESP</li><li>Validar números de pedidos com base em tabela</li></ul></li></ul><p>No vídeo, são apresentados dois exemplos práticos de utilização da função:</p><ol><li>Encontrar a fruta favorita de uma pessoa em uma tabela</li><li>Verificar se um vendedor estourou o orçamento em outra tabela</li></ol><p>E por fim, é proposto um exercício para praticar a função.</p>"
      ],
      "metadata": {
        "id": "9CF_VZpyDjrv"
      }
    },
    {
      "cell_type": "markdown",
      "source": [
        "### Aula 95 Proch\n",
        "<h1>Função PROC H no Excel</h1><h2>Tema central</h2><p>A função PROC H no Excel, que procura valores horizontalmente em uma tabela ou matriz de dados.</p><h2>Tópicos abordados</h2><ul><li>O que é a função PROC H<ul><li>Procura valores horizontalmente ao longo das linhas de uma tabela</li><li>Análoga à função PROC V, que procura verticalmente</li></ul></li><li>Como usar<ul><li>Sintaxe semelhante ao PROC V</li><li>Valor procurado deve estar na primeira linha da tabela</li><li>Retorna valor da célula correspondente abaixo do valor procurado</li></ul></li><li>Aplicações<ul><li>Tabelas com dados dispostos horizontalmente</li><li>Validar se um valor atende a determinada condição</li><li>Obter valores relacionados horizontalmente</li></ul></li><li>Vantagens<ul><li>Não precisa usar a função CORRESP como no PROC V</li><li>Mais simples para certos casos de uso</li></ul></li><li>Exemplos<ul><li>Descobrir fruta preferida ou cor com base no nome</li><li>Validar se vendedor está dentro do orçamento</li><li>Obter informações de pedido com base no número</li></ul></li></ul><p>O vídeo fornece exemplos práticos da utilização da função PROC H para procurar valores relacionados horizontalmente em uma tabela ou matriz de dados no Excel. São destacadas as semelhanças e diferenças em relação à função PROC V.</p>"
      ],
      "metadata": {
        "id": "VEpy5v1fDm9P"
      }
    },
    {
      "cell_type": "markdown",
      "source": [
        "### Aula 96 Plus:Procx\n",
        "<h1>Utilização do PROC X</h1><h2>Introdução</h2><ul><li>PROC X é utilizado para localizar valores em linhas de uma tabela ou intervalo</li><li>Independente de em qual lado da coluna o retorno esteja ou a ordem (de baixo para cima ou de cima para baixo)</li></ul><h2>Comparação com PROC V</h2><h3>PROC V</h3><ul><li>Exige o &quot;valor procurado&quot;</li><li>Valor procurado é o que varia para realizar a busca</li><li>Retorna ND (não disponível) se o valor não for encontrado</li><li>Precisa garantir que o valor esteja o mais a esquerda possível na tabela</li><li>Utiliza a função CERRO para retornar uma mensagem customizada se não encontrar o valor</li></ul><h3>PROC X</h3><ul><li>Subdivide a tabela em &quot;matriz pesquisa&quot; e &quot;matriz retorno&quot;</li><li>Matriz pesquisa: coluna onde se encontra o valor procurado</li><li>Matriz retorno: coluna que se deseja retornar</li><li>Parâmetro &quot;SER NÃO ENCONTRADA&quot; substitui a função SEERRO</li><li>Parâmetro &quot;MODO DE CORRESPONDÊNCIA&quot; determina se a busca é exata ou aproximada</li><li>Parâmetro &quot;PESQUISAR&quot; permite procurar de cima para baixo ou de baixo para cima</li><li>Funciona independente se a coluna de retorno está a esquerda ou a direita da coluna de pesquisa</li></ul><h2>Exemplo de uso</h2><ul><li>Tabela de estoque com registro de retiradas ao longo do tempo</li><li>Interessa saber a quantidade final, o último valor</li><li>PROC V sempre retornaria o primeiro valor</li><li>PROC X permite pesquisar de baixo para cima e retornar o último valor</li></ul><h2>Exercício prático</h2><ul><li>Tabela com registro de horários de entrada e saída dos funcionários</li><li>Objetivo: calcular o tempo trabalhado de cada funcionário</li><li>Horário de entrada: fácil de obter com PROC V (primeiro valor)</li><li>Horário de saída: precisa do último valor, então utiliza PROC X</li></ul><p>Esse é um resumo abrangente dos principais tópicos e exemplos apresentados no vídeo. Utilizei uma estrutura de mapa mental com tópicos e subtópicos para facilitar a visualização do conteúdo. Fique à vontade para fazer perguntas se algum ponto não ficou claro!</p>"
      ],
      "metadata": {
        "id": "EjYlXUrtDpI6"
      }
    },
    {
      "cell_type": "markdown",
      "source": [
        "### Aula 97 Quiz - Procuras"
      ],
      "metadata": {
        "id": "wHA07L6XDq2O"
      }
    },
    {
      "cell_type": "markdown",
      "source": [
        "### Aula 98 Super Exercício 1\n",
        "<h1>Tema central: Exercício com múltiplas funções SE's para comparar data de aniversário</h1><h2>Objetivo</h2><ul><li>Comparar mês e dia de uma data com a data atual</li><li>Indicar se o aniversário já passou, se é hoje ou se ainda vai acontecer</li></ul><h2>Regras</h2><ul><li>Se o mês da data for menor que o mês atual -&gt; aniversário já passou</li><li>Se o mês for igual ao atual:<ul><li>Se o dia da data for menor que o dia atual -&gt; aniversário já passou</li><li>Se o dia da data for igual ao dia atual -&gt; aniversário é hoje</li><li>Se não -&gt; aniversário ainda vai acontecer</li></ul></li><li>Se não cair em nenhum caso, o aniversário ainda vai acontecer</li></ul><h2>Implementação</h2><ul><li>Usa as funções <code>MÊS()</code>, <code>DIA()</code> e <code>HOJE()</code></li><li>Encadeia múltiplas funções <code>SE()</code> para verificar as condições</li><li>Exibe mensagem diferente para cada caso</li><li>Aplica formatação condicional para destacar visualmente cada mensagem</li></ul><h2>Observações</h2><ul><li>Pode ter outras formas de implementar a lógica</li><li>Testar com diferentes datas para validar o funcionamento</li><li>Importante praticar e não apenas ver a solução</li></ul>"
      ],
      "metadata": {
        "id": "aa5z8YkXDsZ8"
      }
    },
    {
      "cell_type": "markdown",
      "source": [
        "### Aula 99 Super Exercício 2\n",
        "<h1>Tema central:</h1><p>Determinar se peças de produção estão aprovadas, reprovadas ou precisam de retrabalho</p><h2>Critérios</h2><ul><li><p>Aprovada:</p><ul><li>Valor coletado está entre especificação - 1,5% e especificação + 1,5%</li></ul></li><li><p>Reprovada:</p><ul><li>Valor coletado é menor que especificação - 1,15 * tolerância</li><li>Ou valor coletado é maior que especificação + 1,15 * tolerância</li></ul></li><li><p>Retrabalho</p><ul><li>Casos que não se encaixam como aprovados ou reprovados</li></ul></li></ul><h2>Lógica</h2><ul><li>Função SE</li><li>Dentro dela:<ul><li>OU para casos de reprovação (um ou outro)</li><li>E para casos de aprovação (ambas condições)</li></ul></li></ul><h2>Formatação</h2><ul><li>Condicional por cores:<ul><li>Verde: Aprovado</li><li>Vermelho: Reprovado</li><li>Amarelo: Retrabalho</li></ul></li></ul><h2>Recomendações</h2><ul><li>Praticar o exercício</li><li>Rever a aula para melhor compreensão</li><li>Tirar dúvidas conforme necessário</li></ul>"
      ],
      "metadata": {
        "id": "ilj5vM-dDt5g"
      }
    },
    {
      "cell_type": "markdown",
      "source": [
        "## Filtro Avançado, Exercícios, Tabelas e Gráfico Dinâmico\n"
      ],
      "metadata": {
        "id": "Tg1IWWoar57_"
      }
    },
    {
      "cell_type": "markdown",
      "source": [
        "### Aula 100 Subtotal\n",
        "<h1>Função SUBTOTAL</h1><h2>Definição</h2><ul><li>Compilado de funções matemáticas e estatísticas em uma única função</li><li>Canivete suíço - contém várias funções em uma só</li></ul><h2>Funcionamento</h2><ul><li>Recebe como parâmetros:<ul><li>Número da função desejada (soma, média, etc)</li><li>Referência (intervalo de células)</li></ul></li><li>Facilita o trabalho com tabelas<ul><li>Considera linhas ocultas (com filtro)</li></ul></li></ul><h2>Automatização</h2><ul><li>Vincular função a uma célula<ul><li>Alterar função pelo valor da célula</li></ul></li><li>Utilizar validação por lista<ul><li>Criar lista de funções</li><li>Vincular a célula por PROC.V</li><li>Retornar subtotal desejado</li></ul></li></ul><h2>Diferenças estatísticas</h2><ul><li>Desvio padrão A x P<ul><li>A: População</li><li>P: Amostra</li></ul></li></ul>"
      ],
      "metadata": {
        "id": "znv2Dp87F2Fl"
      }
    },
    {
      "cell_type": "markdown",
      "source": [
        "### Aula 101 Filtro Avançado\n",
        "<h1>Filtro avançado no Excel</h1><h2>Diferenças para o filtro simples</h2><ul><li>Permite copiar valores filtrados para outro local</li><li>Costuma ser usado com macros para automatizar relatórios</li></ul><h2>Funcionamento</h2><ul><li>Necessita de uma tabela de critérios separada</li><li>O cabeçalho das tabelas precisa ser igual</li></ul><h3>Definindo critérios</h3><ul><li>E para filtrar com vários critérios (E)</li><li>OU para alternar entre critérios</li></ul><h3>Valores nos critérios</h3><ul><li>Usa operadores como &gt;, &lt;, =</li><li>Intervalos com E e OU</li></ul><h2>Vantagens</h2><ul><li>Atualizações automáticas com macros</li><li>Geração de relatórios rápida</li><li>Combina com outras funções (impressão, nova aba etc.)</li></ul>"
      ],
      "metadata": {
        "id": "InJrILNPF68A"
      }
    },
    {
      "cell_type": "markdown",
      "source": [
        "### Aula 102 Super Exercício III\n",
        "<h1>Tema central:</h1><p>Utilização do PROC V no Excel para criar uma tabela de pedidos de compra com validações</p><h2>Tipos de produto</h2><ul><li>Criados usando validação de dados:<ul><li>Manufatura</li><li>Processos</li><li>Desenvolvimento</li></ul></li></ul><h2>Descrição do produto</h2><ul><li>Varía de acordo com o tipo escolhido</li><li>Usado validação com fórmula SE</li></ul><h2>Quantidade</h2><ul><li>Livre</li></ul><h2>Total parcial</h2><ul><li>Usa PROC V com matriz tabela e SEs<ul><li>Retorna estoque ou preço baseado no tipo</li><li>Valida se tem estoque suficiente<ul><li>Senão, mostra alerta</li></ul></li><li>Calcula o preço total</li></ul></li></ul><h2>Total sem desconto</h2><ul><li>Soma dos totais parciais</li></ul><h2>Desconto</h2><ul><li>Baseado no maior total parcial<ul><li>Acima de 25 mil = 11%</li><li>10 a 25 mil = 7%</li><li>5 a 10 mil = 4%</li></ul></li></ul><h2>Total final</h2><ul><li>Total sem desconto - desconto</li></ul><h2>Formatação condicional</h2><ul><li>Por fórmula</li><li>Pinta linha inteira baseado no tipo</li></ul>"
      ],
      "metadata": {
        "id": "zSTFFENfF9ou"
      }
    },
    {
      "cell_type": "markdown",
      "source": [
        "### Aula 103 Tabela Dinâmica I\n",
        "<h1>Tabelas Dinâmicas</h1><h2>O que são</h2><ul><li>Resumem, analisam e agrupam grandes quantidades de dados</li><li>Extraem dados de fontes como SQL, Azure, XML</li><li>Permite alternar valores entre linhas e colunas</li><li>Otimiza a visualização dos dados</li></ul><h2>Funcionamento</h2><ul><li>Compila grandes volumes de dados</li><li>Permite trabalhar os dados de forma dinâmica e intuitiva</li></ul><h2>Como criar</h2><ul><li>Selecionar intervalo de dados</li><li>Inserir &gt; Tabela Dinâmica</li><li>Escolher se será em nova planilha ou planilha existente</li></ul><h2>Configuração</h2><ul><li>Arrastar campos:<ul><li>Valor -&gt; Valores numéricos (soma, média, etc)</li><li>Quantidade</li><li>Vendedor</li><li>Produto</li></ul></li><li>Alternar disposição:<ul><li>Linhas e colunas</li><li>Hierarquia dos dados</li></ul></li></ul><h2>Recursos</h2><ul><li>Formatação<ul><li>Cores</li><li>Estilos</li></ul></li><li>Layouts</li><li>Campos calculados (comissão, %, etc)</li><li>Filtros</li><li>Agrupamentos</li></ul><p>O vídeo ensina didaticamente como criar e configurar tabelas dinâmicas no Excel, explorando suas principais funcionalidades. O foco é entender na prática como funcionam para otimizar o trabalho com grandes quantidades de dados.</p>"
      ],
      "metadata": {
        "id": "k4zfu-13F-I-"
      }
    },
    {
      "cell_type": "markdown",
      "source": [
        "### Aula 104 Tabela Dinâmica II\n",
        "<h1>Tema central: Análise de dados em tabelas dinâmicas</h1><h2>Dados coletados</h2><ul><li>Data</li><li>Linha de produção</li><li>Espessura do produto</li><li>Cor</li><li>Tipo de defeito</li><li>Severidade</li><li>Localização (centro, direita, esquerda)</li><li>Tamanho</li><li>Deformação</li></ul><h2>Preparando a tabela dinâmica</h2><ul><li>Data fica em linha</li><li>Defeitos em coluna</li><li>Contagem de defeitos em valores: conta células preenchidas</li></ul><h2>Análises</h2><ul><li>Defeitos por espessura</li><li>Agrupar dados por mês, trimestre, ano</li><li>Identificar períodos com mais/menos defeitos</li><li>Comparar proporcionalmente entre períodos</li><li>Gráficos ajudam a visualizar melhor os dados</li></ul><p>Esse resumo traz o tema central que é a análise de dados em tabelas dinâmicas, e depois discorre sobre os principais tópicos abordados: os dados coletados, como preparar a tabela dinâmica, e algumas análises que podem ser feitas. Os markdowns de títulos e listas ajudam a organizar visualmente as informações.</p>"
      ],
      "metadata": {
        "id": "vejUrntVGLZL"
      }
    },
    {
      "cell_type": "markdown",
      "source": [
        "### Aula 105 Gráfico Dinâmico\n",
        "<h1>Gráficos dinâmicos</h1><ul><li>São construídos a partir de tabelas dinâmicas</li><li>Atualizam-se dinamicamente após a compilação de valores</li><li>Permitem uma análise visual dos dados</li></ul><h2>Criando gráficos dinâmicos</h2><ul><li>Clicar na tabela dinâmica</li><li>Ir em &quot;Análise da tabela dinâmica&quot;</li><li>Escolher o tipo de gráfico (colunas, colunas empilhadas, etc)</li></ul><h3>Funcionalidades</h3><ul><li>Expandir e recolher campos</li><li>Visualizar a evolução ao longo do tempo (meses, trimestres)</li><li>Identificar variações atípicas (ex: defeito de sulfato em ago e dez)</li><li>Filtrar dados (ex: ocultar trimestres)</li><li>Mudar layouts e formatar área de plotagem</li></ul><h2>Complementando a análise</h2><ul><li>Criar outra tabela dinâmica e gráfico</li><li>Relacionar os gráficos por meio de uma característica em comum</li></ul><h3>Próximos passos</h3><ul><li>Aprender a trabalhar de forma interativa entre gráficos</li></ul>"
      ],
      "metadata": {
        "id": "cTVbRVivF-hs"
      }
    },
    {
      "cell_type": "markdown",
      "source": [
        "### Aula 106 Segmentaçaõ de Dados\n",
        "<h1>Segmentação de dados</h1><ul><li>Substitui a filtragem tradicional</li><li>Dá um aspecto mais dinâmico aos dashboards</li><li>Permite interligação entre tabelas dinâmicas</li></ul><h2>Como fazer a segmentação</h2><ul><li>Inserir a segmentação na tabela dinâmica</li><li>Escolher os campos para filtrar (ex: espessura e cor)</li></ul><h2>Funcionalidades</h2><ul><li>Filtrar por valores específicos (ex: espessuras menores que 5mm)</li><li>Filtrar por categorias (ex: vidro cinza)</li><li>Inserir linha do tempo para filtrar por períodos</li><li>Fazer a mesclagem de filtros como numa tabela comum</li></ul><h2>Integração de tabelas</h2><ul><li>Conexões de relatório</li><li>Permite interligar tabelas dinâmicas</li><li>É a premissa básica para construção de dashboards</li></ul><h2>Considerações finais</h2><ul><li>Para o enfeite do dashboard, o mais importante são bons dados confiáveis</li></ul>"
      ],
      "metadata": {
        "id": "FHutJ2pgGT3k"
      }
    },
    {
      "cell_type": "markdown",
      "source": [
        "### Aula 107 Gráficos Avançados\n",
        "<h1>Criando gráficos avançados no Excel</h1><h2>Introdução</h2><ul><li>Entender a seleção individual de eixos para rearranjar os dados e facilitar a criação dos gráficos</li><li>Saber criar gráficos do zero, determinando o que fica em cada eixo</li><li>Geralmente não temos os dados da maneira que queremos, mas temos que trabalhar com eles a nosso favor</li></ul><h2>Gráficos simples vs avançados</h2><ul><li>Gráficos simples: automáticos, mas podem ficar ruins visualmente</li><li>Gráficos avançados:<ul><li>Configuramos os eixos e criamos do zero</li><li>Exige que saibamos trabalhar bem os dados</li></ul></li></ul><h2>Criando gráfico avançado</h2><ul><li>Selecionar dados:<ul><li>Adicionar nome e valores para cada série</li><li>Editar eixos para ter os rótulos desejados</li></ul></li><li>Praticar sempre a criação de gráficos do zero</li></ul><h2>Exercício prático</h2><ul><li>Dados de caso real da Pepsico</li><li>Utilizar funções:<ul><li>SUBTOTAL</li><li>PROCV</li></ul></li><li>Calcular:<ul><li>% de retrabalho mensal</li><li>% Year-to-Date (acumulado mês a mês)</li></ul></li><li>Analisar os dados graficamente</li></ul>"
      ],
      "metadata": {
        "id": "JPLX1oHnGY7X"
      }
    },
    {
      "cell_type": "markdown",
      "source": [
        "### Aula 108 Pesquisa de Satisfação - Excel"
      ],
      "metadata": {
        "id": "Y6XBZb5_Gdae"
      }
    },
    {
      "cell_type": "markdown",
      "source": [
        "## Introdução Power BI"
      ],
      "metadata": {
        "id": "5jquJ3vTsD9u"
      }
    },
    {
      "cell_type": "markdown",
      "source": [
        "### Aula 109 Power BI Começou\n",
        "<h1>Tema central: Power BI</h1><h2>O que é o Power BI</h2><ul><li>Ferramenta de análise de dados do tipo self-service</li><li>Não é apenas uma ferramenta de dashboard</li><li>Permite análise robusta de dados em tempo real</li><li>Auxilia na tomada de decisões rápidas sobre o negócio</li></ul><h2>Por que analisar dados</h2><ul><li>Detectar problemas nos processos da empresa (manufatura, compras, vendas etc)</li><li>Tomar decisões rápidas para economizar dinheiro e fazer a empresa crescer</li></ul><h2>Como analisar dados</h2><ul><li>Converter valores numéricos em informações úteis</li><li>Transformar informações em conhecimento para apoiar decisões</li></ul><h2>O que é Business Intelligence (BI)</h2><ul><li>Inteligência de negócio</li><li>Conjunto de ferramentas de análise de dados, como o Power BI</li></ul><h2>O Power BI</h2><ul><li>Ferramenta de dashboard e análise de dados da Microsoft</li><li>Permite análise de dados em tempo real</li><li>Alternativa mais robusta que o Excel</li></ul><h2>Vantagens sobre o Excel</h2><ul><li>Desempenho com grandes bancos de dados</li><li>Coleta de dados automatizada</li><li>Integração de diversas fontes de dados</li><li>Facilidade de uso e construção de dashboards</li></ul><p>Em resumo, o Power BI é uma poderosa ferramenta de análise de dados que permite, de forma intuitiva, extrair insights de diversas fontes de dados para apoiar a tomada de decisões de negócio.</p>"
      ],
      "metadata": {
        "id": "6eCzcIaEINan"
      }
    },
    {
      "cell_type": "markdown",
      "source": [
        "### Aula 110 BI X Data Science\n",
        "<h1>Tema central:</h1><h2>Utilização de dados para apoiar a tomada de decisões em empresas</h2><h3>Lean Manufacturing</h3><ul><li>Produção puxada: fabricar de acordo com a demanda do cliente</li><li>Depende da integração de informações entre cliente e fornecedor</li></ul><h3>Business Intelligence (BI) / Data Analytics</h3><ul><li>Análise de dados do passado para descobrir o que aconteceu</li><li>Ajuda a encontrar a causa raiz de problemas</li><li>Power BI: ferramenta que integra e trata dados e gera visualizações (reports e dashboards) para apoiar a tomada de decisões</li></ul><h3>Diferença entre Data Analytics e Data Science</h3><ul><li>Data Science: análise preditiva, não olha só para o passado</li><li>Usa estatística, machine learning e algoritmos para prever o futuro e apoiar a tomada de decisões</li><li>Equação com variáveis de entrada para prever uma variável de saída (ex: vendas)</li></ul><h3>Power BI</h3><ul><li>Plataforma de Business Intelligence</li><li>Focada em Data Analytics</li><li>Mas permite também integrar Data Science (R, Python)</li></ul>"
      ],
      "metadata": {
        "id": "Z7qgS63bIWEf"
      }
    },
    {
      "cell_type": "markdown",
      "source": [
        "### Aula 111 Alguns Softwares de Bi\n",
        "<h1>Tema central: Softwares de Business Intelligence (BI)</h1><h2>Power BI</h2><ul><li>Facilita limpeza, tratamento, modelagem e análise de dados para insights de negócio</li><li>Faz a limpeza e tratamento de dados com defeitos</li><li>Salva os algoritmos de tratamento para não precisar refazer todo o processo</li><li>É um software de self-service BI - o usuário monta dashboards e relatórios</li><li>Com apenas 3 cliques já gera gráficos para tomada de decisão</li></ul><h2>Por que usar softwares de BI?</h2><ul><li>Mais rápido que linguagens de programação e softwares matemáticos</li><li>Não precisa saber programar</li><li>Pacotes internos que ajudam na limpeza e tratamento de dados</li></ul><h2>Principais softwares de BI</h2><ul><li>Power BI (gratuito, fácil de usar)</li><li>Google Data Studio (gratuito, web, mais conectores)</li><li>Tableau (pago, robusto)</li><li>Metabase (gratuito, open source, precisa programar)</li></ul><h2>Conclusão</h2><ul><li>Power BI é melhor custo-benefício: gratuito, fácil de usar e muito poderoso</li></ul>"
      ],
      "metadata": {
        "id": "Rcc8NCUoIYMW"
      }
    },
    {
      "cell_type": "markdown",
      "source": [
        "### Aula 112 Power Bi Destop x Mobile x Web\n",
        "<h1>Power BI</h1><h2>Power BI Desktop</h2><ul><li>Utilizado para <strong>criar dashboards</strong></li><li>Carrega e faz tratamento de dados</li><li>Faz modelagem e cálculos nos dados</li><li>Cria visualizações e gráficos</li></ul><h2>Power BI Web</h2><ul><li>Permite publicar dashboards criados no Desktop</li><li>Compartilha dashboards com gestores</li><li>Permite agendar atualizações dos dados</li><li>Organiza em workspaces diferentes projetos</li></ul><h2>Power BI Mobile</h2><ul><li>Aplicativo para visualizar dashboards</li><li>Otimizado para telas de celular (retrato)</li><li>Permite anotações e compartilhamento a partir do celular</li><li>Disponível na mão para consultas rápidas</li></ul><p>O Power BI Desktop é focado na criação dos dashboards. O Web permite publicar, compartilhar e manter os dashboards atualizados. O Mobile otimiza a visualização dos dashboards em celulares.</p>"
      ],
      "metadata": {
        "id": "AbVN9KdFIZJd"
      }
    },
    {
      "cell_type": "markdown",
      "source": [
        "### Aula 113 Instalando Power Bi e Criando uma conta\n",
        "<h1>Power BI</h1><h2>Introdução</h2><ul><li>Software gratuito da Microsoft para análise de dados</li><li>Permite criar dashboards e compartilhar, desde que tenha conta corporativa ou educacional</li></ul><h2>Requisitos</h2><ul><li>PC com no mínimo 4GB de RAM</li><li>Para bancos de dados grandes, usar 6 a 8GB de RAM</li><li>Para Big Data, ter um PC muito robusto com 32GB de RAM ou mais</li></ul><h2>Instalação</h2><ul><li>Fazer download gratuito pelo site da Microsoft</li><li>Disponível para desktop e dispositivos móveis</li></ul><h2>Contas</h2><ul><li>Sem conta, só dá para usar localmente no desktop</li><li>Para publicar dashboards, precisa de conta corporativa ou educacional</li></ul><h2>Funcionalidades</h2><ul><li>Permite importar e analisar dados de diversas fontes</li><li>Criação de visualizações e dashboards</li><li>Compartilhamento de dashboards pela web e dispositivos móveis</li></ul><h2>Conclusão</h2><ul><li>Software muito útil para análise de dados</li><li>Fácil de usar e aprender</li><li>Recomendado fazer o download e começar a explorar</li></ul>\n",
        "\n"
      ],
      "metadata": {
        "id": "IULNleU0Iaks"
      }
    },
    {
      "cell_type": "markdown",
      "source": [
        "### Aula 114 O que você será capaz no final do curso\n",
        "<h1>Poder do BI</h1><h2>Carregamento de dados</h2><ul><li>Importar dados de várias fontes<ul><li>Planilhas Excel</li><li>Arquivos CSV/TXT</li><li>Bancos de dados<ul><li>Azure</li><li>Oracle</li><li>Amazon</li></ul></li></ul></li><li>Dados da internet</li></ul><h2>Tratamento de dados</h2><ul><li>Limpeza e pré-processamento<ul><li>Corrigir erros</li><li>Remover dados inconsistentes</li><li>Padronizar formatos</li></ul></li></ul><h2>Modelagem</h2><ul><li>Cálculos e fórmulas</li><li>Relações entre dados</li><li>Análoga à modelagem no Excel</li></ul><h2>Visualização</h2><ul><li>Dashboards<ul><li>Gráficos<ul><li>Colunas</li><li>Linhas</li><li>Pizza</li></ul></li><li>KPIs</li></ul></li><li>Contar uma história</li><li>Mostrar apenas o necessário</li></ul><h2>Relatórios</h2><ul><li>Dados inter-relacionados</li><li>Múltiplas camadas</li><li>Visão geral e detalhada<ul><li>Por área (RH, vendas, produção)</li><li>Indicadores-chave</li></ul></li><li>Detectar problemas e apoiar decisões</li></ul><p>O tema central é sobre as funcionalidades do Power BI para análise de dados, importando de várias fontes, tratando e relacionando dados e criando visualizações e relatórios para apoiar a tomada de decisão.</p>"
      ],
      "metadata": {
        "id": "xnVnOsCNIb1M"
      }
    },
    {
      "cell_type": "markdown",
      "source": [
        "### Aula 115 Teoria sobre Dashboards\n",
        "\n",
        "<h1>Dashboard</h1><h2>O que é</h2><ul><li>Ferramenta de visualização e análise de dados em tempo real</li><li>Se conecta a um banco de dados e se atualiza automaticamente</li><li>Permite tomar decisões de negócios mais rápidas</li></ul><h2>Como criar um bom dashboard</h2><h3>Entender o cliente</h3><ul><li>Descubra os principais problemas e indicadores-chave do gestor</li><li>Isso definirá os dados e gráficos mais importantes</li></ul><h3>Contar uma história (Storytelling)</h3><ul><li>Organize os dados de forma lógica e intuitiva</li><li>O &quot;caminho dos olhos&quot; deve ser claro ao usuário</li><li>Decisões rápidas em menos de 5 minutos</li></ul><h3>Personalização</h3><ul><li>Permita filtros e ajustes pelo próprio usuário</li><li>Isso aumenta a utilidade do dashboard</li></ul><h3>Iteração e Feedback</h3><ul><li>Raramente o dashboard fica perfeito na primeira versão</li><li>Peça feedback do gestor e faça melhorias incrementais</li></ul><h2>Perfil do profissional de BI</h2><ul><li>Forma de &quot;T&quot;: profundo em ferramentas de BI e amplo em negócios</li><li>Facilita o diálogo com gestores de diversas áreas</li></ul><p>Esse é o resumo dos principais pontos abordados no vídeo sobre a criação de dashboards, buscando facilitar a visualização por meio de uma estrutura de mapa mental. Caso algo não tenha ficado claro ou você queira algum ponto desenvolvido com mais detalhes, por favor me avise.</p>\n",
        "\n"
      ],
      "metadata": {
        "id": "_7Xf4A78IdAi"
      }
    },
    {
      "cell_type": "markdown",
      "source": [
        "## Conexão e Dashboards"
      ],
      "metadata": {
        "id": "6pflj0kesIBt"
      }
    },
    {
      "cell_type": "markdown",
      "source": [
        "### Aula 116 Conexão de Dados\n",
        "<h1>Carregamento de dados no Power BI</h1><h2>Origem dos dados</h2><ul><li>Onde estão localizados os dados?<ul><li>Excel</li><li>Bloco de notas</li><li>CSV</li><li>Internet</li><li>Servidor</li><li>Banco de dados (ex: MySQL)</li></ul></li></ul><h2>Tipos de dados</h2><ul><li>Numéricos</li><li>Não numéricos</li></ul><h2>Localização ideal</h2><ul><li>Nuvem</li><li>Servidor</li><li>Locais que ficam ligados 100% do tempo</li><li>Permite atualização automática</li></ul><h2>Atualização dos dados</h2><ul><li>Manual (digitado)<ul><li>Chance de erros</li><li>Menos confiável</li></ul></li><li>Automática (máquinas)<ul><li>Mais confiável</li></ul></li></ul><h2>Confiabilidade dos dados</h2><ul><li>Sistema de medição confiável?</li><li>Dashboards com dados não confiáveis levam a más decisões</li></ul><h2>Análise dos dados</h2><ul><li>Analisar também no Excel para verificar confiabilidade</li><li>Eliminar erros</li><li>Confirmar acurácia</li><li>Então utilizar os dados no Power BI</li></ul>"
      ],
      "metadata": {
        "id": "POc5qPM-KhAw"
      }
    },
    {
      "cell_type": "markdown",
      "source": [
        "### Aula 117 Tipos de Fontes de Dados\n",
        "##### Arquivo de PDF"
      ],
      "metadata": {
        "id": "AevgmPYdKqRD"
      }
    },
    {
      "cell_type": "markdown",
      "source": [
        "### Aula 118 Navegação inicial pelo Power Bi\n",
        "<h1>Aprendendo Power BI</h1><h2>Introdução</h2><ul><li>Melhor maneira de aprender é fuçando e testando</li><li>Interface parecida com outros softwares Windows (barra de menus)</li></ul><h2>Áreas principais</h2><h3>Centro</h3><ul><li>Onde fica o dashboard</li></ul><h3>Lado direito</h3><ul><li>Configurações (filtros, visualizações, gráficos)</li></ul><h3>Lado esquerdo</h3><ul><li>3 abas principais:<ul><li>Report: o dashboard</li><li>Data: visualizar dados</li><li>Model: conectar tabelas (relacionamentos)</li></ul></li></ul><h2>Barra de menus</h2><h3>File</h3><ul><li>Abrir, salvar, importar arquivos</li></ul><h3>Home</h3><ul><li>Aquisição de dados</li><li>Transformação de dados</li><li>Criação de visuais</li><li>Cálculos</li></ul><h3>Insert</h3><ul><li>Inserir visualizações</li><li>Formas, textos, imagens</li></ul><h3>Modeling</h3><ul><li>Tabelas auxiliares</li><li>Fórmulas</li><li>Parâmetros</li></ul><h3>View</h3><ul><li>Temas, cores</li><li>Filtros</li><li>Visão mobile</li></ul><h3>Help</h3><ul><li>Documentação</li></ul><h2>Exemplo rápido</h2><ul><li>Fácil criar visualizações e gráficos</li><li>Basta arrastar campos para os buckets</li><li>Pode trocar rapidamente o tipo de gráfico</li></ul><h2>Páginas</h2><ul><li>Várias páginas como no Excel</li><li>Costuma ter:<ul><li>1a página: resumo gerencial</li><li>Outras: dados mais detalhados</li></ul></li></ul><h2>Considerações finais</h2><ul><li>Fuçando e testando se aprende mais</li><li>Home e Insert são as partes mais utilizadas</li></ul>"
      ],
      "metadata": {
        "id": "X9-Nyx0BKrOy"
      }
    },
    {
      "cell_type": "markdown",
      "source": [
        "### Aula 119 Carregamento uma Fonte de Dados - Excel\n",
        "<h1>Tema central: Introdução ao Power BI</h1><h2>Conexão de dados</h2><ul><li>Home: aba para conexão de dados</li><li>Tipos de conexão:<ul><li>Datasets do Power BI</li><li>SQL Server</li><li>Excel (mais utilizado)</li></ul></li><li>Get Data: permite selecionar fontes de dados<ul><li>Arquivos: TXT, XML, JSON, PDF, SharePoint</li><li>Bancos de dados: SQL Server, Access, MySQL etc</li><li>Plataformas: Power BI, Azure</li><li>Serviços online: Dynamics 365, Salesforce, Google Analytics etc</li></ul></li></ul><h2>Importando dados do Excel</h2><ul><li>Selecionar planilha desejada</li><li>Transformar ou carregar dados</li><li>Barra lateral direita:<ul><li>Fields: exibe tabelas e colunas</li><li>Visualizations: cria visualizações</li><li>Filters: filtros</li></ul></li></ul><h2>Criando visualizações</h2><ul><li>Gráficos de barras: por curso e concluintes</li><li>Treemap: curso, concluintes e estado</li><li>Adicionar mais campos para melhorar visualização</li></ul><h2>Próximos passos</h2><ul><li>Aprofundar o uso de variáveis e campos</li><li>Entender melhor as funcionalidades</li></ul>"
      ],
      "metadata": {
        "id": "Wv0-eJuuKsB8"
      }
    },
    {
      "cell_type": "markdown",
      "source": [
        "### Aula 120 Ajustando o Dataset e Encoding\n",
        "<h1>Tratamento de dados no Power BI</h1><h2>Carregamento dos dados</h2><ul><li>Após carregar a fonte de dados, o próximo passo é o tratamento dos dados</li><li>É importante salvar os arquivos no formato CSV para facilitar o tratamento</li></ul><h2>Encoding</h2><ul><li>O encoding define a codificação de caracteres</li><li>É preciso definir o encoding correto para exibir os caracteres corretamente</li><li>O encoding padrão costuma ser UTF-8</li><li>É possível testar encodings diferentes até encontrar o que representa os dados corretamente</li></ul><h2>Transformação dos dados</h2><ul><li>A guia Transformar Dados permite modificar os dados carregados antes de criar os relatórios</li><li>É possível:<ul><li>Excluir colunas</li><li>Modificar tipos de dados</li><li>Corrigir problemas nos dados</li></ul></li><li>Permite resolver problemas sem mexer na fonte de dados original</li></ul><h2>Identificando e corrigindo problemas</h2><ul><li>Problemas como valores incorretos ou em branco podem acontecer na extração dos dados</li><li>É preciso investigar os dados para identificar e corrigir esses problemas</li><li>Isso pode ser feito diretamente no Power BI com o Power Query ou na fonte de dados original</li></ul><h2>Próximos passos</h2><ul><li>Funções mais avançadas de transformação de dados serão vistas futuramente</li><li>Por enquanto é possível fazer modificações básicas como ajustar o encoding</li><li>O objetivo é exibir os dados de forma correta nos relatórios</li></ul>"
      ],
      "metadata": {
        "id": "C-2Y1nTWKtWc"
      }
    },
    {
      "cell_type": "markdown",
      "source": [
        "## Gráficos e fontes de dados"
      ],
      "metadata": {
        "id": "e5yefztMsLfl"
      }
    },
    {
      "cell_type": "markdown",
      "source": [
        "### Aula 121 Construindo os Primeiros Gráficos e Views\n",
        "<h1>Criando gráficos no Power BI</h1><h2>Introdução</h2><ul><li>Vamos ver como criar alguns gráficos básicos no Power BI</li><li>Serão abordados:<ul><li>Gráfico de barras</li><li>Gráfico de linhas</li><li>Tabelas</li><li>Matrizes (tabelas dinâmicas)</li></ul></li></ul><h2>Gráfico de barras</h2><ul><li>Campos principais:<ul><li><strong>Eixo X:</strong> variável categórica (ex: modalidade de ensino)</li><li><strong>Legendas:</strong> variável categórica para agrupamento (ex: sigla da unidade federativa)</li><li><strong>Valores:</strong> variável numérica para altura das barras (ex: número de concluintes)</li></ul></li><li>Pode-se mudar a operação do campo Valores (soma, média, contagem etc)</li><li>Formatação:<ul><li>Cores, tamanhos de fonte, títulos</li><li>Transparência do fundo</li><li>Tamanho e posicionamento</li></ul></li></ul><h2>Gráfico de linhas</h2><ul><li>Funciona melhor com dados temporais (anos, meses etc)</li><li>Analytics:<ul><li>Linhas de referência (média, mediana, valores fixos)</li><li>Cálculo de indicadores (mínimo, máximo, percentis)</li></ul></li></ul><h2>Tabelas</h2><ul><li>Exibição em forma de tabela dos dados</li><li>Útil para detalhamento de informações</li></ul><h2>Matrizes</h2><ul><li>Semelhante a tabelas dinâmicas</li><li>Dados categorizados em linhas e colunas</li><li>Permite expandir e recolher seções</li><li>Facilita análises mais profundas</li></ul><h2>Recomendações</h2><ul><li>Praticar a criação dos diferentes tipos de visualizações</li><li>Entender como cada gráfico funciona</li><li>Ganhar intimidade com a ferramenta</li></ul>"
      ],
      "metadata": {
        "id": "rFBseJ4QvcKI"
      }
    },
    {
      "cell_type": "markdown",
      "source": [
        "### Aula 122 Carregando uma Fonte de Dados - txt\n",
        "<h1>Extração e tratamento de dados txt e csv no Power BI</h1><h2>Formato txt</h2><ul><li>Formato leve</li><li>Problemas com delimitadores e encoding</li><li>Soluções:<ul><li>Verificar delimitador (vírgula, tab, etc)</li><li>Verificar encoding (UTF-8, etc)</li><li>Utilizar cabeçalho<ul><li>Facilita interpretação</li><li>Permite transformar primeira linha em cabeçalho</li></ul></li><li>Renomear colunas quando necessário</li></ul></li></ul><h2>Formato csv</h2><ul><li>Salvo com separador ponto-e-vírgula no Brasil</li><li>Evita confusão entre separador de decimal e separador de coluna</li><li>Mesmos cuidados com encoding</li><li>Remover linhas em branco</li><li>Transformar primeira linha em cabeçalho</li></ul><h2>Preparação dos dados</h2><ul><li>Planilhas Excel nem sempre estão no formato ideal para análise</li><li>Podemos tratar os dados no Power BI sem alterar a origem</li><li>Técnicas de tratamento de dados serão vistas em módulo futuro</li></ul><h2>Análise dos dados</h2><ul><li>Power BI analisa dados da mesma coluna</li><li>Pode ser necessário empilhar dados de anos diferentes numa única coluna</li><li>Permite depois visualizar em gráficos e outros elementos</li></ul><p>Esse é um resumo abrangente do conteúdo do vídeo, cobrindo o contexto, principais tópicos e recomendações. Foi formatado com Markdown para facilitar a visualização. Caso queira algum esclarecimento ou informação adicional sobre algum ponto, por favor me avise.</p>"
      ],
      "metadata": {
        "id": "hZs9TKFKvgJi"
      }
    },
    {
      "cell_type": "markdown",
      "source": [
        "### Aula 123 Conectando uma fonte de Dados - Web\n",
        "<h1>Conectando a dados na web (web scraping)</h1><h2>Introdução</h2><ul><li>É possível se conectar a tabelas publicadas na internet diretamente no Power BI (web scraping)</li><li>Permite analisar dados públicos sem precisar baixar arquivos CSV ou Excel</li></ul><h2>Passo a passo</h2><ol><li>Identificar site com dados públicos<ul><li>Exemplo: Site do FMI com dados econômicos dos países</li></ul></li><li>Localizar a tabela de interesse no site</li><li>Copiar o link da tabela</li><li>No Power BI, ir em &quot;Obter Dados&quot; &gt; &quot;Web&quot;</li><li>Colar o link da tabela e clicar em OK</li><li>Selecionar apenas a tabela de interesse em &quot;WebView&quot;</li><li>Transformar os dados se necessário (Power Query)</li><li>Criar visualizações e análises</li></ol><h2>Cuidados</h2><ul><li>Utilizar apenas dados realmente públicos</li><li>Verificar termos de uso do site</li><li>Baixar uma cópia dos dados se possível, caso o site mude a estrutura os dados podem parar de funcionar</li></ul><h2>Conclusão</h2><ul><li>O web scraping permite obter dados públicos na web sem precisar de APIs ou bancos de dados</li><li>É preciso fazer transformações nos dados em alguns casos</li><li>Deve-se ter cuidado com alterações no site que podem quebrar o modelo de dados</li></ul>"
      ],
      "metadata": {
        "id": "mfyNhEd7vkhF"
      }
    },
    {
      "cell_type": "markdown",
      "source": [
        "### Aula 124 Conectando uma fonte de Dados Criptografadas\n",
        "<h1>Fontes de dados em empresas</h1><h2>Planilhas</h2><ul><li>Fáceis de conectar (Excel, CSV)</li><li>Sem proteção<ul><li>Podem ser modificadas</li><li>Menor confiabilidade</li></ul></li></ul><h2>Bancos de dados</h2><ul><li>Maior segurança e confiabilidade</li><li>Exemplos: SAP, MRP</li><li>Requer permissão para acesso<ul><li>Precisa de servidor, banco de dados, senha</li></ul></li></ul><h2>Acessando bancos de dados</h2><ul><li>Pessoal de TI utiliza SQL</li><li>Criam planilha com dados necessários<ul><li>Atualizada automaticamente</li></ul></li><li>Ou entregam dataset pronto</li></ul><h2>Por que dados criptografados</h2><ul><li>Informações sigilosas</li><li>Você não tem acesso direto</li></ul><h2>Conectando no SQL</h2><ul><li>Ver como conectar e analisar dados</li><li>Dashboards geralmente precisam desses dados</li></ul>"
      ],
      "metadata": {
        "id": "y9VSOr3ZvlcN"
      }
    },
    {
      "cell_type": "markdown",
      "source": [
        "### Aula 125 Instalando do Conector MySQL\n",
        "##### PDF"
      ],
      "metadata": {
        "id": "ETKpgQhivmTM"
      }
    },
    {
      "cell_type": "markdown",
      "source": [
        "### Aula 126 Carregando uma Fonte de Dados - MySQL\n",
        "<h1>Tema central: SQL e conexão com bancos de dados no Power BI</h1><h2>SQL</h2><ul><li>Linguagem de programação para bancos de dados em formato de tabelas</li><li>Muito utilizada por empresas</li></ul><h2>Conectando ao banco de dados no Power BI</h2><h3>Passo a passo</h3><ul><li>Clicar em &quot;Get Data&quot; &gt; &quot;More&quot;</li><li>Escolher o tipo de banco de dados (MySQL, SQL Server etc.)</li><li>Informar dados do servidor e do banco de dados</li><li>Informar credenciais de acesso (username e password)</li><li>Selecionar as tabelas que deseja importar</li><li>Clicar em &quot;Load&quot; para importar os dados</li></ul><h3>Observações</h3><ul><li>O Power BI salva as conexões recentes para facilitar futuras conexões</li><li>Para editar conexões, ir em File &gt; Options and Settings &gt; Data Source Settings</li><li>Atualizações no banco de dados externos são refletidas no Power BI</li></ul><h3>Performance</h3><ul><li>Depende da velocidade do servidor e da internet</li><li>Também depende do tamanho das tabelas sendo importadas</li></ul><p>A partir daí, os dados já podem ser explorados no Power BI para criação de visualizações, relatórios etc.</p>"
      ],
      "metadata": {
        "id": "h-kUDEdCvnx6"
      }
    },
    {
      "cell_type": "markdown",
      "source": [
        "### Aula 127 Carregando uma Fonte de Dados - outros Conectores\n",
        "<h1>Utilizando conectores personalizados no Power BI</h1><h2>Introdução</h2><ul><li>O Power BI possui muitos conectores prontos para diversas fontes de dados</li><li>Mas às vezes não existe um conector pronto para a fonte que queremos analisar</li></ul><h2>Solução</h2><ul><li>Procurar conectores prontos de terceiros:<ul><li>Muitas empresas criam e disponibilizam conectores (alguns pagos)</li><li>O GitHub tem vários conectores gratuitos</li></ul></li><li>Neste exemplo, vamos utilizar um conector gratuito do site Lambda</li></ul><h2>Passo a passo</h2><ol><li>Fazer download do conector desejado</li><li>Salvar o arquivo .mez na pasta Custom Connectors dentro da pasta Power BI Desktop</li><li>Reabrir o Power BI Desktop</li><li>O conector personalizado aparecerá na lista de conectores disponíveis</li><li>Conectar à fonte de dados desejada e importar os dados</li></ol><h2>Considerações</h2><ul><li>Conectores de terceiros podem ter bugs ou limitações</li><li>Mas permitem obter dados de fontes não suportadas nativamente</li></ul><h2>Exemplo</h2><ul><li>Foi demonstrada a importação de dados de insights do Instagram</li><li>Possibilitando análises do conteúdo postado</li></ul>"
      ],
      "metadata": {
        "id": "tT-muIaGvpni"
      }
    },
    {
      "cell_type": "markdown",
      "source": [
        "### Aula 128 Documentação do Conectores\n",
        "\n",
        "##### PDF"
      ],
      "metadata": {
        "id": "ShChF9PPvqiW"
      }
    },
    {
      "cell_type": "markdown",
      "source": [
        "## Report"
      ],
      "metadata": {
        "id": "kNhu56kcsOFE"
      }
    },
    {
      "cell_type": "markdown",
      "source": [
        "### Aula 130 Criando o primeiro Report\n",
        "<h1>Criando um Dashboard</h1><h2>Introdução</h2><ul><li>Entender os requisitos do cliente</li><li>Converter informações em inteligência</li><li>Descobrir:<ul><li>Quem vai utilizar</li><li>O que precisa</li><li>Qual é o problema</li></ul></li></ul><h2>Planejando o Dashboard</h2><ul><li>Técnica do &quot;Z&quot;<ul><li>Começar com informações principais e macro (topo horizontal)</li><li>Depois ir para baixo e horizontal novamente</li><li>Criar fluxo de leitura da esquerda para a direita</li></ul></li><li>Informações prioritárias no topo:<ul><li>Faturamento</li><li>Lucro</li><li>Quantidade vendida</li></ul></li></ul><h2>Gráficos</h2><ul><li>Vendas acumuladas dos últimos anos<ul><li>Gráfico de linhas</li></ul></li><li>Unidades vendidas por produto<ul><li>Gráfico de barras ou pizza</li></ul></li><li>Vendas por país<ul><li>Gráfico de barras ou mapa</li></ul></li><li>Desconto por produto<ul><li>Gráfico de barras</li></ul></li></ul><h2>Recursos</h2><ul><li>Filtro por segmento</li></ul><h2>Pré-visualização</h2><ul><li>Usar PowerPoint para planejar layout</li><li>Exportar visual e usar como imagem de fundo no Power BI</li><li>Solicitar feedback do cliente durante o processo</li></ul>"
      ],
      "metadata": {
        "id": "2QlLvfad3D3r"
      }
    },
    {
      "cell_type": "markdown",
      "source": [
        "### Aula 131 Criando o Primeiro Report - Exercício\n",
        "<h1>Publicar relatório no Power BI</h1><h2>Obter dados</h2><ul><li>Importar planilha Excel com dados financeiros</li></ul><h2>Criar indicadores principais</h2><ul><li>Cards<ul><li>Vendas</li><li>Lucro</li><li>Unidades vendidas</li></ul></li></ul><h2>Criar gráficos</h2><ul><li>Vendas por mês</li><li>Unidades vendidas por produto</li><li>Vendas por país</li><li>Desconto por produto</li></ul><h2>Adicionar filtros</h2><ul><li>Filtrar por segmento</li></ul><h2>Recursos</h2><ul><li>Hierarquia de datas</li><li>Formatação rápida</li><li>Interação entre gráficos</li><li>Publicação na web e mobile</li></ul><p>O vídeo mostra o passo a passo para importar dados, criar indicadores e gráficos, adicionar filtros e publicar um relatório de business intelligence no Power BI. Ele abrange desde a obtenção dos dados até a publicação do relatório final com interatividade entre os gráficos, permitindo análises exploratórias pelos usuários.</p>"
      ],
      "metadata": {
        "id": "GmRsorC83Hqe"
      }
    },
    {
      "cell_type": "markdown",
      "source": [
        "### Aula 132 Report x Dashboard\n",
        "<h1>Tema central: Diferenças entre Report e Dashboard no Power BI</h1><h2>Report</h2><ul><li>Pode conter várias páginas</li><li>Permite fazer filtros cruzados, clicando nos dados para filtrar</li><li>No Power BI é chamado de Report mesmo tendo várias páginas</li></ul><h2>Dashboard</h2><ul><li>É uma página única</li><li>É uma visão macro, gerencial</li><li>Permite juntar vários reports em um só</li></ul><h2>Criando Dashboards</h2><ul><li>Pode-se criar fazendo uma foto de uma página do Report (Pin Live Page)</li><li>Ou dando pin em elementos específicos do Report (Pin Visual)</li></ul><h2>Utilizando Dashboards</h2><ul><li>Ao clicar nos elementos, navega para o Report de origem, com filtros aplicados</li><li>Permite navegar facilmente entre visão macro (Dashboard) e detalhada (Reports)</li><li>Útil para gestores terem visão global e depois acessar dados específicos</li></ul>"
      ],
      "metadata": {
        "id": "8qc_E1yl3Jel"
      }
    },
    {
      "cell_type": "markdown",
      "source": [
        "### Aula 133 Banco de Dados x Dataset\n",
        "<h1>Banco de dados, Datasets e Power BI</h1><h2>Banco de dados</h2><ul><li>Conjunto de uma ou mais tabelas que podem estar relacionadas</li><li>Exemplo:<ul><li>Planilha Excel com 3 abas (tabelas)<ul><li>Tabela 1: Data da compra, produto, comprador</li><li>Tabela 2: Descrição dos produtos</li><li>Tabela 3: Informação sobre os compradores</li></ul></li></ul></li><li>As tabelas geralmente estão relacionadas por IDs (produto, usuário)</li></ul><h2>Dataset</h2><ul><li>Dados tratados e preparados para análise</li><li>Pode vir de um ou mais bancos de dados</li><li>Passos:<ol><li>Carregar os dados</li><li>Tratar os dados (limpeza, transformação)</li><li>Modelar os dados (opcional)</li><li>Criar reports/dashboards</li></ol></li><li>Exemplos de tratamento:<ul><li>Filtrar apenas dados necessários</li><li>Corrigir problemas</li><li>Padronizar tipo de dados</li></ul></li></ul><h2>Power BI</h2><ul><li>Permite criar visuais e dashboards a partir dos datasets</li><li>Para atualizar dados automaticamente, é necessário:<ol><li>Configurar atualização do dataset (agenda)</li><li>A atualização do dataset propaga para os reports</li></ol></li><li>Não atualiza automaticamente se o banco de dados original for alterado</li></ul>"
      ],
      "metadata": {
        "id": "jXAs_AJB3Klq"
      }
    },
    {
      "cell_type": "markdown",
      "source": [
        "### Aula 134 Instalando o gateway de dados local\n",
        "#### PDF"
      ],
      "metadata": {
        "id": "Rx3g5wwL3Lv6"
      }
    },
    {
      "cell_type": "markdown",
      "source": [
        "### Aula 135 Refresh di Dataset (atualizar gráficos)\n",
        "<h1>Atualização de dados no Power BI</h1><h2>Power BI Desktop</h2><ul><li>Botão &quot;Refresh&quot; na aba Home atualiza todos os dados conectados</li><li>Não funciona se:<ul><li>Arquivo já estiver aberto</li><li>Arquivo foi excluído</li><li>Credenciais de acesso alteradas</li></ul></li></ul><h2>Power BI Web</h2><ul><li>Mais leve que o Desktop</li><li>Permite agendamento de atualização</li></ul><h3>Configurações necessárias</h3><ul><li><p>Gateway Connection</p><ul><li>Conexão entre computador local e Power BI Web</li><li>Necessita instalar o OpenMessage Gateway</li></ul></li><li><p>Data Source Credentials</p><ul><li>Informar credenciais de acesso aos dados</li><li>Login, senha, se for banco de dados online</li></ul></li></ul><h3>Funcionamento</h3><ul><li><p>Atualização só ocorre se:</p><ul><li>Computador local estiver conectado à internet</li><li>Limitação se quiser agendamento automático</li></ul></li><li><p>Alternativas:</p><ul><li>Outras técnicas para não depender do computador local</li></ul></li></ul>"
      ],
      "metadata": {
        "id": "SHVQNyjo3NGi"
      }
    },
    {
      "cell_type": "markdown",
      "source": [
        "### Aula 136 Atualização Agendada (via Nuvem e Power BI WEB)\n",
        "<p>TEMA CENTRAL: Agendamento de atualização de dados no Power BI</p><h2>Atualização de dados</h2><ul><li>Pode agendar atualizações diárias ou usar dados em nuvem para atualizar automaticamente</li><li>Em &quot;My Workspace&quot;, vá em &quot;Dataset&quot; &gt; &quot;Schedule Refresh&quot; para agendar</li><li>Escolha frequência (diária, semanal etc.) e horário da atualização</li><li>Pode enviar e-mail de notificação caso dê erro</li></ul><h2>Problema: depende do computador estar ligado</h2><ul><li>O gateway está conectado ao computador local</li><li>Se o computador estiver desligado, dará falha de conexão</li><li>Solução: usar arquivos em nuvem (OneDrive, SharePoint)</li></ul><h2>Atualização pelo OneDrive</h2><ul><li>Em &quot;Get Data&quot;, escolher a opção &quot;OneDrive&quot;</li><li>Fazer login no OneDrive pessoal</li><li>Selecionar a pasta e o arquivo desejado</li><li>Ele puxará automaticamente como um dataset</li><li>Vá em &quot;Settings&quot; &gt; &quot;OneDrive Refresh&quot; e ative para atualizar automaticamente</li></ul><h2>Vantagens</h2><ul><li>Arquivos na nuvem, independente do computador estar ligado</li><li>O OneDrive já atualiza automaticamente a cada hora</li><li>Não precisa mais agendar atualizações</li><li>Resolve problema de depender do computador estar ligado</li></ul>"
      ],
      "metadata": {
        "id": "gwZEACGR3Ob5"
      }
    },
    {
      "cell_type": "markdown",
      "source": [
        "## Tratamento de dados"
      ],
      "metadata": {
        "id": "9kL27CIHshVS"
      }
    },
    {
      "cell_type": "markdown",
      "source": [
        "### Aula 137 Tratamento de Dados - Introdução"
      ],
      "metadata": {
        "id": "k_Vh94eo3GuY"
      }
    },
    {
      "cell_type": "markdown",
      "source": [
        "### Aula 138 Introdução ao Power Query\n",
        "<h1>Power Query</h1><h2>O que é</h2><ul><li>Ferramenta de ETL (Extract, Transform, Load) do Power BI</li><li>Responsável por extrair, tratar e carregar os dados</li></ul><h2>Funcionalidades</h2><h3>Extração</h3><ul><li>Conectar em fontes de dados</li><li>Importar dados</li></ul><h3>Transformação</h3><ul><li>Limpar e tratar os dados</li><li>Adicionar, remover ou modificar colunas</li><li>Alterar tipos de dados</li><li>Calcular novas colunas</li><li>Aplicar filtros</li><li>Fazer junções com outras fontes</li></ul><h3>Carregamento</h3><ul><li>Salvar modificações no Power BI</li><li>Disponibilizar dados tratados para criação de dashboards</li></ul><h2>Interface</h2><ul><li>Painel esquerdo: tabelas importadas</li><li>Painel central: visualização da tabela selecionada</li><li>Painel direito: etapas aplicadas na tabela</li><li>Barra superior: ferramentas para transformação e tratamento dos dados</li></ul><h2>Como abrir</h2><ul><li>Ao importar uma fonte, clicar em &quot;Transform Data&quot;</li><li>Clicar nos 3 pontos de uma tabela e selecionar &quot;Editar Consulta&quot;</li><li>Clicar em &quot;Transformar Dados&quot; em uma tabela</li></ul><h2>Fluxo de trabalho</h2><ol><li>Importar fonte de dados</li><li>Abrir Power Query</li><li>Limpar e tratar dados</li><li>Aplicar alterações (botão &quot;Fechar e Aplicar&quot;)</li><li>Dados tratados disponíveis no Power BI</li></ol>"
      ],
      "metadata": {
        "id": "h1tEH2X64j0H"
      }
    },
    {
      "cell_type": "markdown",
      "source": [
        "### Aula 139 Power Query para Remover Erros\n",
        "<h1>Tratamento de erros em bancos de dados no Power BI</h1><h2>Tipos de erros</h2><ul><li>Erros críticos (impedem análise de dados)<ul><li>Problemas na fonte de dados (nome/localização)</li></ul></li><li>Erros de tipo (problemas na transformação)</li><li>Erros de valor (dados inválidos)</li></ul><h2>Valores problemáticos</h2><ul><li>Valores em branco (blanks)<ul><li>Dificultam preenchimento automático</li></ul></li><li>Valores nulos (null)</li></ul><h2>Soluções</h2><ul><li>Identificar e consertar erros na fonte de dados</li><li>Substituir blanks por null</li><li>Filtrar/remover linhas com dados nulos</li><li>Verificar tipo de dado correto para cada coluna</li><li>Analisar qualidade dos dados por coluna</li></ul><h2>Cuidados</h2><ul><li>Alterações na fonte de dados podem gerar erros</li><li>Seguir a ordem correta nas transformações</li><li>Analisar erros para entender e corrigir problemas</li></ul>"
      ],
      "metadata": {
        "id": "4GHkCopz4nG9"
      }
    },
    {
      "cell_type": "markdown",
      "source": [
        "### Aula 140 Power Query para Remover Erros\n",
        "<h1>Configuração correta dos tipos de dados</h1><h2>Introdução</h2><ul><li>É importante configurar corretamente os tipos de dados (texto, data, número) ao puxar dados de uma fonte externa</li><li>Caso contrário, pode dar erro em operações matemáticas ou com datas</li></ul><h2>Problema demonstrado</h2><ul><li>Dados puxados do Excel em formato CSV</li><li>Power BI detectou tipos de dados incorretamente:<ul><li>Trocar ponto por vírgula nos decimais</li><li>Transformar colunas texto em numéricas</li><li>Manter colunas numéricas como texto (máquina)</li></ul></li></ul><h2>Solução</h2><ul><li>Excluir detecção automática do Power BI</li><li>Configurar tipo de dados manualmente:<ul><li>Utilizar opções &quot;Detect data type&quot; e &quot;Change data type&quot;</li><li>Substituir valores: trocar ponto por vírgula nos decimais</li><li>Transformar coluna em texto ou número conforme necessário</li></ul></li></ul><h2>Importância</h2><ul><li>Power BI guarda passos de transformação, não dados tratados</li><li>Se fonte de dados mudar, pode afetar extração</li><li>Não alterar local/nome de planilhas ou colunas depois de configurar</li></ul><h2>Finalização</h2><ul><li>Aplicar todas modificações com &quot;Close &amp; Apply&quot;</li><li>Dados estarão tratados para uso em visualizações</li></ul>"
      ],
      "metadata": {
        "id": "eb9UtJG44oAN"
      }
    },
    {
      "cell_type": "markdown",
      "source": [
        "### Aula 141 Power Query para Reduzir o Peso do Banco de Dados\n",
        "<h1>Reduzir o tamanho do banco de dados no Power BI</h1><h2>Motivação</h2><ul><li>Agilizar análises e atualização de dashboards</li><li>Melhorar tempo de carregamento de dados<ul><li>Influencia uso das versões PRO e Premium (que é mais cara)</li></ul></li></ul><h2>Formas de reduzir o tamanho</h2><h3>Filtrar dados desnecessários</h3><ul><li>Por data<ul><li>Filtrar apenas período de interesse (ex: 2o semestre de 2019)</li></ul></li><li>Por coluna<ul><li>Remover colunas não utilizadas (ex: custo, operador)</li></ul></li></ul><h3>Agrupar dados</h3><ul><li>Agrupamento básico<ul><li>Agrupar por data e somar valores de interesse</li></ul></li><li>Agrupamento avançado<ul><li>Filtrar por múltiplas colunas (data, unidade)</li><li>Somar valores de múltiplas colunas (produção, defeitos)</li></ul></li></ul><h3>Limpeza de dados</h3><ul><li>Remover linhas vazias</li><li>Remover erros</li></ul><h2>Conclusão</h2><ul><li>Filtrar, agrupar e limpar para reduzir o banco de dados ao necessário para análise</li><li>Evita carregar dados desnecessários, melhorando performance</li></ul>"
      ],
      "metadata": {
        "id": "jGPnRBip4pB9"
      }
    },
    {
      "cell_type": "markdown",
      "source": [
        "### Aula 142 Power Query para Adicionar Colunas\n",
        "<h1>Adicionando colunas de cálculo no Power Query</h1><h2>Objetivo</h2><ul><li>Agilizar a análise de dados e criação de gráficos</li></ul><h2>Funcionalidades</h2><h3>Adicionar colunas personalizadas</h3><ul><li>Permite criar novas colunas com cálculos</li><li>Usar operações matemáticas (+, -, *, /)</li><li>Referenciar outras colunas []</li><li>Verificar erros de sintaxe</li></ul><h3>Colunas condicionais</h3><ul><li>Usar a função IF</li><li>Verifica uma condição e retorna valores diferentes</li><li>Sintaxe:<ul><li>IF [condição]<ul><li>TRUE: &quot;valor se verdadeiro&quot;</li><li>FALSE: &quot;valor se falso&quot;</li></ul></li></ul></li></ul><h3>Unindo colunas</h3><ul><li>Transformar valores em datas, horários</li><li>Função date:<ul><li>date([ano], [mês], [dia])</li></ul></li><li>Função datetime:<ul><li>datetime([ano], [mês], [dia], [hora], [minutos], [segundos])</li></ul></li></ul><h2>Considerações</h2><ul><li>Mais de 2000 funções disponíveis</li><li>Consultar documentação para aprender novas funções</li></ul>"
      ],
      "metadata": {
        "id": "ccj1GGCD4qEL"
      }
    },
    {
      "cell_type": "markdown",
      "source": [
        "### Aula 143 Linguagem M por trás do Power Query\n",
        "<h1>Linguagem M no Power BI</h1><h2>O que é</h2><ul><li>Linguagem utilizada pelo Power BI para modificar e transformar dados</li><li>Também conhecida como M Language ou Mashup Language</li></ul><h2>Características</h2><ul><li>Semelhante a linguagens como F, C++ e VBA</li><li>Linguagem procedural (executada linha a linha)</li><li>Cada passo realiza uma transformação nos dados</li></ul><h2>Utilização</h2><ul><li>O Power Query utiliza a linguagem M por baixo dos panos para fazer as transformações</li><li>Pode ser utilizada manualmente para operações mais complexas</li></ul><h2>Principais funcionalidades</h2><ul><li>Unir fontes de dados diferentes</li><li>Limpar e formatar dados</li><li>Criar colunas derivadas com fórmulas</li><li>Filtrar e ordenar dados</li><li>Agregações e cálculos</li></ul><h2>Exemplo de uso: função IF</h2><ul><li>Checa uma condição e retorna um valor se verdadeiro e outro se falso</li><li>Útil para criar indicadores e classificações</li></ul><pre><code>if Faturamento &lt;= 50.000 then &quot;Baixo&quot;else if Faturamento &lt;= 100.000 then &quot;Médio&quot;else &quot;Alto&quot;</code></pre><ul><li>Pode ser aninhada para múltiplas condições</li><li>Saída pode ser texto, número ou outra expressão</li></ul><h2>Importância</h2><ul><li>Prepara os dados para visualizações e análises posteriores no Power BI</li><li>Permite flexibilidade e controle sobre os dados</li></ul>"
      ],
      "metadata": {
        "id": "vy0A5ieg4rwG"
      }
    },
    {
      "cell_type": "markdown",
      "source": [
        "### Aula 144 Principais Funções do Power Query\n",
        "#### PDF"
      ],
      "metadata": {
        "id": "aJWrV3ar4s2E"
      }
    },
    {
      "cell_type": "markdown",
      "source": [
        "### Aula 145 Ediçaõ Avançada por Linguagem M\n",
        "<h1>Tema central:</h1><p>Editor avançado (Advanced Editor) do Power BI e linguagem M (Power Query)</p><h2>Tópicos abordados:</h2><ul><li><p>O que é o Advanced Editor</p><ul><li>Compilador de ETL (Extract, Transform and Load) do Power BI</li><li>Baseado na linguagem M (também chamada de linguagem de ETL)</li><li>Faz todos os passos de tratamento de dados do Power Query</li></ul></li><li><p>O que é a linguagem M:</p><ul><li>Tem mais de 2 mil funções</li><li>Linguagem tipo &quot;Let In&quot;:<ul><li>&quot;Let&quot; faz todas as transformações</li><li>&quot;In&quot; mostra os dados em determinada etapa</li></ul></li></ul></li><li><p>Como aprender a usar o Advanced Editor:</p><ul><li>Analisando o código gerado pelo Power Query</li><li>Consultando a documentação da Microsoft</li><li>Entendendo função por função</li><li>Lendo os erros gerados</li></ul></li><li><p>Vantagens de usar o Advanced Editor:</p><ul><li>Ganho de velocidade nas transformações</li><li>Acesso a algumas funções não disponíveis na interface</li><li>Não precisa recarregar os dados a cada modificação</li></ul></li><li><p>Desvantagens e limitações:</p><ul><li>Curva de aprendizado da linguagem</li><li>Documentação com sintaxe, mas sem explicações</li><li>Dificuldade em decorar as mais de 2 mil funções</li></ul></li><li><p>Dicas para usar o Advanced Editor:</p><ul><li>Começar aprendendo o Power Query visual primeiro</li><li>Usar Google e fóruns para sanar dúvidas</li><li>Consultar documentação da Microsoft regularmente</li></ul></li><li><p>Conclusão:</p><ul><li>Power Query visual resolve 95% dos casos</li><li>Advanced Editor necessário apenas em casos muito avançados</li></ul></li></ul>"
      ],
      "metadata": {
        "id": "GpL-4p9n4uDk"
      }
    },
    {
      "cell_type": "markdown",
      "source": [
        "### Aula 146 Plus Referência de Linguagem M\n",
        "#### PDF"
      ],
      "metadata": {
        "id": "N4ly3wU54vQl"
      }
    },
    {
      "cell_type": "markdown",
      "source": [
        "## Report com Dados tratados"
      ],
      "metadata": {
        "id": "EhVsdQBZskL6"
      }
    },
    {
      "cell_type": "markdown",
      "source": [
        "### Aula 147 Criando Report com Dados Tratados\n",
        "<h1>Criando um relatório no Power BI</h1><h2>Problema</h2><ul><li>Analisar dados financeiros de uma empresa</li><li>Receitas, gastos e despesas entre 2010 e 2014</li></ul><h2>Categorias</h2><ul><li>RO - Receita Operacional</li><li>CO - Custo Operacional</li><li>DA - Despesa Administrativa</li></ul><h2>Requisitos do gestor</h2><ul><li>Dashboard para visualizar resultados</li><li>Filtrar por categoria e tipo (receita, imposto, gastos, despesas)</li><li>Plotar dados no tempo</li><li>Mostrar tabela original</li></ul><h2>Etapas</h2><h3>Tratamento dos dados</h3><ul><li>Carregar planilha Excel no Power BI</li><li>Separar colunas de categoria e tipo</li><li>Transformar custos e despesas em valores negativos</li><li>Pivotar anos em colunas</li></ul><h3>Dashboard</h3><ul><li>Gráfico Waterfall por tipo</li><li>Filtro (Slicer) por ano</li><li>Tabela dinâmica (Matrix) com total por categoria e ano</li><li>Gráficos adicionais: barras e fita por receita e despesas</li><li>Cartão com lucro/prejuízo total</li><li>Gráfico de linhas com receita por ano</li></ul><p>Esse é um resumo de alto nível do vídeo, cobrindo o problema inicial, os requisitos, o tratamento de dados e os principais elementos do dashboard construído no Power BI. Utilizei uma estrutura de mapa mental com tópicos e subtópicos para facilitar a visualização.</p>"
      ],
      "metadata": {
        "id": "D0xusj__6t2u"
      }
    },
    {
      "cell_type": "markdown",
      "source": [
        "### Aula 148 Criando Report com Dados Tratados (Exercício)\n",
        "<h1>Tema central: Construção de dashboards no Power BI</h1><h2>Etapas</h2><ul><li>Criação do relatório</li><li>Validação com o gestor</li><li>Ajustes visuais</li></ul><h2>Ajustes visuais</h2><h3>Tabelas</h3><ul><li>Arredondar números</li><li>Expandir dados por categoria</li><li>Filtros por hierarquia</li></ul><h3>Gráficos</h3><ul><li>Expandir por tipo/categoria</li><li>Mudar visualização (linhas &gt;&gt; barras)</li><li>Criar mapa de árvore (treemap)<ul><li>Filtrar categoria de receita</li><li>Destacar gastos</li></ul></li></ul><h3>Filtros</h3><ul><li>Por ano (2013)</li><li>Por tipo (custos operacionais)</li></ul><h2>Recursos</h2><ul><li>Atualização automática ao publicar</li><li>Testar diferentes visualizações</li></ul><h2>Conclusão</h2><ul><li>Possível criar a maioria dos dashboards</li><li>Organizar bem os dados no Excel</li><li>Testar opções do Power BI na prática</li></ul>"
      ],
      "metadata": {
        "id": "bKY75Ybp68Z-"
      }
    },
    {
      "cell_type": "markdown",
      "source": [
        "## Criando Dashboards - Part I"
      ],
      "metadata": {
        "id": "31Z07Jz9soVY"
      }
    },
    {
      "cell_type": "markdown",
      "source": [
        "### Aula 149 Modelo Star Schema\n",
        "<h1>Bancos de dados em tabela única é erro na certa</h1><h2>Problemas</h2><ul><li>Mudanças nos nomes das variáveis quebram a continuidade dos dados</li><li>Tabelas muito grandes ficam pesadas e difíceis de analisar</li></ul><h2>Solução - Modelo Star Schema</h2><ul><li>Várias tabelas dimensão que trazem os dados descritivos</li><li>Uma tabela fato central que agrega os dados para análise</li><li>Tabelas dimensão têm poucas linhas</li><li>Tabela fato tem muitas linhas</li><li>Relações entre as tabelas por meio de IDs</li></ul><h2>Vantagens</h2><ul><li>Evita erros por mudanças de nomes de variáveis</li><li>Organização facilita análises no Power BI</li><li>Consultas mais rápidas</li><li>Modelo escalável</li></ul><h2>Implementação</h2><ul><li>Pensar no modelo Star Schema já na modelagem dos dados</li><li>Quebrar tabela única do Excel em várias tabelas</li><li>Criar tabelas dimensão e tabela fato</li><li>Fazer relações entre elas no Power BI</li></ul>"
      ],
      "metadata": {
        "id": "OjrP1Q0l7izL"
      }
    },
    {
      "cell_type": "markdown",
      "source": [
        "### Aula 150 Construindo um BD com tabelas DIM e FACT\n",
        "<h1>Estrutura de tabelas para análise de dados</h1><h2>Tabelas FACT</h2><ul><li>Armazenam os <strong>fatos</strong> (dados numéricos)</li><li>Podem ser agregados (soma, média, etc)</li><li>Exemplos:<ul><li>Quantidade de vendas</li><li>Valor monetário</li><li>Lucro</li><li>Desconto</li></ul></li></ul><h2>Tabelas DIMENSÃO (GIN)</h2><ul><li>Armazenam informações <strong>descritivas</strong></li><li>Exemplos:<ul><li>Nome dos clientes</li><li>Idade dos clientes</li><li>Endereço dos clientes</li><li>Cargo dos clientes</li><li>Região / Cidade</li></ul></li><li>Também armazenam uma <strong>chave primária (ID)</strong> para relacionar com a tabela fato</li></ul><h2>Relacionando tabelas</h2><ul><li>A tabela fato armazena os IDs das tabelas dimensão</li><li>Permite agrupar e filtrar dados com mais flexibilidade</li></ul><h2>Características</h2><ul><li>Tabelas dimensão são menores (dezenas de linhas)</li><li>Tabela fato é muito maior (milhares ou milhões de linhas)</li></ul>"
      ],
      "metadata": {
        "id": "M9iv2EV17lXS"
      }
    },
    {
      "cell_type": "markdown",
      "source": [
        "### Aula 151 Quebrando uma tabela em tabelas DIM e FACT\n",
        "<p>TEMA CENTRAL:Como configurar o modelo Star Schema no Power BI</p><p>TÓPICOS ABORDADOS:</p><ul><li>Não é necessário mudar todas as planilhas originais</li><li>Pode-se criar as tabelas dimensão e fato diretamente no Power Query do Power BI</li></ul><ol><li><p>Criando a tabela dimensão de Segmento</p><ul><li>Duplicar a tabela original</li><li>Renomear para DimSegment</li><li>Manter apenas a coluna Segmento</li><li>Remover linhas duplicadas</li><li>Adicionar coluna de índice como ID</li></ul></li><li><p>Criando outras tabelas dimensão</p><ul><li>Mesmo processo para DimCountry, DimProduct e DimDate</li><li>Mantendo apenas a coluna da dimensão e removendo duplicatas</li><li>Adicionando coluna de índice como ID</li></ul></li><li><p>Criando tabela fato</p><ul><li>Duplicar tabela original novamente</li><li>Renomear para FactSales</li><li>Remover colunas desnecessárias</li><li>Unir dados das dimensões usando Merge Queries</li><li>Expandir consulta para gerar apenas o ID</li><li>Remover colunas originais que já possuem ID</li></ul></li><li><p>Visualizando o modelo</p><ul><li>Ocultar tabela original</li><li>Arrastar tabelas para facilitar visualização</li><li>Verificar relações criadas automaticamente</li><li>Excluir relações desnecessárias</li></ul></li></ol><p>Dessa forma, é possível criar o modelo Star Schema diretamente no Power BI, sem precisar mexer nas planilhas e bancos de dados originais. O modelo fica preparado para criar os gráficos e análises necessários.</p>"
      ],
      "metadata": {
        "id": "shEm1XC67nyL"
      }
    },
    {
      "cell_type": "markdown",
      "source": [
        "### Aula 152 Criando primeiros views com tabela DIM e FACT\n",
        "<h1>Podemos fazer gráficos no Power BI com qualquer dado desde que estejam conectados</h1><h2>Dados utilizados</h2><ul><li>Dados de exercício da aula anterior</li><li>Tabela de dimensão e tabela fato</li></ul><h2>Tipos de gráficos</h2><ul><li>Gráfico de linhas<ul><li>Mostrando vendas por mês</li></ul></li><li>Gráfico de barras<ul><li>Mostrando lucro por produto</li></ul></li></ul><h2>Regras para criação de gráficos</h2><ul><li>Os dados precisam estar relacionados entre si<ul><li>Ex: Tabela de dimensão país precisa estar relacionada com a tabela fato vendas</li></ul></li><li>O relacionamento é feito da tabela fato para a tabela de dimensão<ul><li>A tabela de dimensão filtra os dados da tabela fato</li></ul></li><li>Se não houver relacionamento, o gráfico mostrará valores incorretos</li><li>Para relacionar, basta arrastar a coluna comum entre as tabelas (ex: country_id)</li></ul><h2>Considerações finais</h2><ul><li>Podemos criar gráficos com qualquer coluna das tabelas, desde que exista relacionamento entre elas</li><li>O relacionamento padrão é entre tabela fato e tabela dimensão</li><li>Para relacionar tabela dimensão com outra tabela dimensão, são necessárias modificações mais avançadas</li></ul>"
      ],
      "metadata": {
        "id": "qN-e7eYV7o1c"
      }
    },
    {
      "cell_type": "markdown",
      "source": [
        "### Aula 153 Tipos de Relação\n",
        "<h1>Relações</h1><h2>O que são</h2><ul><li>Correlacionam tabelas no modelo de dados</li><li>Ex: Tabela Cliente com ID do cliente e Tabela Vendas com ID do cliente -&gt; Relaciona os clientes às vendas</li></ul><h2>Cardinalidade</h2><ul><li>Define tipo de relação entre tabelas</li></ul><h3>One-to-many / Many-to-one</h3><ul><li>1 registro em uma tabela se relaciona com vários registros na outra</li><li>Mesma coisa, depende do sentido</li><li>Ex: 1 cliente faz várias compras</li></ul><h3>One-to-one</h3><ul><li>1 registro em uma tabela equivale a 1 registro na outra</li><li>Pode juntar em uma tabela só</li></ul><h3>Many-to-many (evitar!)</h3><ul><li>Mesmo registro aparece várias vezes nas duas tabelas</li><li>Quebrar em duas one-to-many com tabela intermediária</li></ul><h2>Direção do filtro</h2><ul><li>Sentido da seta na relação</li><li>Filtragem funciona no sentido oposto</li><li>Pode ser único sentido ou ambos os sentidos (both)</li></ul><h2>Criando relações</h2><ul><li>Arrastando colunas de uma tabela à outra</li><li>Pelo &quot;Manage Relationships&quot;<ul><li>Ativar/desativar relações</li><li>Criar manualmente</li></ul></li></ul>"
      ],
      "metadata": {
        "id": "Hsxg4u_e7qGk"
      }
    },
    {
      "cell_type": "markdown",
      "source": [
        "### Aula 154 Expand e Drill\n",
        "<h1>Funções Drill e Expand no Power BI</h1><h2>Drill</h2><ul><li>Permite quebrar os dados sem respeitar a hierarquia</li><li>Útil para mudar a visualização por país, ocupação, segmento, etc</li><li>Soma valores de todos os itens do mesmo grupo (ex: todos os Jan para obter o valor total de Jan de todos os anos)</li></ul><h2>Expand</h2><ul><li>Respeita a hierarquia dos dados</li><li>Útil para dados temporais (datas)</li><li>Mostra os dados em detalhe, preservando a granularidade (ex: exibe Jan/2005, Fev/2005, Jan/2006, etc)</li></ul><h3>Diferenças Principais</h3><ul><li>Drill:<ul><li>Não respeita hierarquia</li><li>Bom para mudar visualização por diferentes filtros</li><li>Soma valores do mesmo grupo</li></ul></li><li>Expand:<ul><li>Respeita hierarquia</li><li>Bom para dados temporais</li><li>Mostra dados em detalhe</li></ul></li></ul><h3>Quando usar</h3><ul><li>Expand: Dados temporais, quer ver a evolução mês a mês, ano a ano</li><li>Drill: Mudar visualização por país, ocupação, etc. Ver totais por grupos</li></ul><p>Esse é um resumo abrangente das principais informações e diferenças entre as funções Drill e Expand apresentadas no vídeo. Foi formatado com Markdown para facilitar a visualização.</p>"
      ],
      "metadata": {
        "id": "HHszOler7rF7"
      }
    },
    {
      "cell_type": "markdown",
      "source": [
        "### Aula 155 Introdução à Filtros e Slicers\n",
        "<h1>Utilizar filtros para personalizar relatórios para o usuário final</h1><h2>Slicers</h2><ul><li>Filtram dados do relatório</li><li>Funcionam apenas em relatórios (não em dashboards)</li></ul><h3>Exemplo de slicer</h3><ul><li><p>Data</p><ul><li>Permite filtrar por hierarquia: ano, trimestre, mês, dia</li><li>Pode ser em formato de lista, dropdown, entre datas específicas</li><li>Opções:<ul><li>Orientação: vertical ou horizontal</li><li>Seleção única ou múltipla</li><li>&quot;Selecionar tudo&quot;</li></ul></li><li>É interessante adicionar um título</li></ul></li><li><p>Outros campos</p><ul><li>Ocupação, país, etc</li><li>Vários slicers podem ser adicionados</li><li>Cada um filtra cumulativamente os dados</li><li>Opções similares ao slicer de datas</li></ul></li></ul><h2>Objetivo</h2><ul><li>Permitir que o usuário filtre os dados como desejar</li><li>Personalizar o relatório de acordo com suas necessidades</li><li>Pensar no usuário final ao projetar os filtros</li></ul>"
      ],
      "metadata": {
        "id": "NI0hI1Db7sGc"
      }
    },
    {
      "cell_type": "markdown",
      "source": [
        "## Criando Dashboards - Part II"
      ],
      "metadata": {
        "id": "cxGnj8RCsvLH"
      }
    },
    {
      "cell_type": "markdown",
      "source": [
        "### Aula 156 Filtro de relatório, página e view\n",
        "<h1>Planejando filtros no Power BI</h1><h2>Tipos de filtros</h2><ul><li>Filtros por visual (VIEW)<ul><li>Aplica o filtro apenas no gráfico selecionado</li></ul></li><li>Filtros por página<ul><li>Aplica o filtro em toda uma página do relatório</li></ul></li><li>Filtros por relatório<ul><li>Aplica o filtro em todo o relatório, em todas as páginas</li></ul></li></ul><h2>Aplicando filtros por relatório</h2><ul><li>Filtrar por ano (2007)<ul><li>Aplica em todas as páginas</li><li>Restringe visualizações apenas para 2007</li></ul></li></ul><h2>Aplicando filtros por página</h2><ul><li>Filtrar apenas para Estados Unidos<ul><li>Aplica apenas na página selecionada</li><li>Atualiza todos os gráficos da página</li></ul></li></ul><h2>Aplicando filtros por visual</h2><ul><li>Filtrar por gênero (masculino/feminino)<ul><li>Aplica apenas no gráfico selecionado</li><li>Não afeta outros gráficos</li></ul></li></ul><h2>Considerações importantes</h2><ul><li>Usuário final não consegue ver/alterar filtros de página e relatório<ul><li>Deve-se usar filtros slicers se quiser que o usuário filtre</li></ul></li><li>Personalizar filtros e gráficos para facilitar análise e decisões do usuário</li></ul>"
      ],
      "metadata": {
        "id": "aTL_Hbjs-BfU"
      }
    },
    {
      "cell_type": "markdown",
      "source": [
        "### Aula 157 Relações de cada view\n",
        "<h1>Controle de filtros no Power BI</h1><h2>Configurando interações de filtros</h2><ul><li>Podemos escolher quais visualizações são filtradas por cada slicer</li><li>Isso é configurado na opção &quot;Edit interactions&quot;</li><li>Por padrão, todos os filtros aplicam em todas as visualizações</li><li>Podemos:<ul><li>Filtrar a visualização (filter)</li><li>Bloquear o filtro na visualização (block)</li><li>Não aplicar filtros na visualização (none)</li></ul></li></ul><h2>Sincronizando slicers entre páginas</h2><ul><li>Os slicers podem ser sincronizados entre páginas de um relatório</li><li>Isso permite criar filtros mestres que controlam todas as páginas</li><li>É configurado na opção &quot;Sync slicers&quot;</li><li>Podemos:<ul><li>Sincronizar os valores selecionados (Sync)</li><li>Tornar o slicer visível em outras páginas (Visible)</li><li>Selecionar em quais visualizações o slicer é aplicado (Selection)</li></ul></li></ul><h2>Considerações importantes</h2><ul><li>Os nomes das visualizações ajudam a identificar onde aplicar os filtros</li><li>Slicers sincronizados funcionam melhor quando as análises são correlacionadas</li><li>Para análises não relacionadas, filtros separados podem ser mais adequados</li></ul>\n",
        "\n",
        "\n"
      ],
      "metadata": {
        "id": "TIv4CszK-Don"
      }
    },
    {
      "cell_type": "markdown",
      "source": [
        "### Aula 158 Tipos de Gráficos de Colunas + Ribbon\n",
        "<h1>Gráficos de Colunas no Power BI</h1><h2>Tipos de Gráficos de Colunas</h2><ul><li>Stacked Vertical/Horizontal<ul><li>Mostra valores empilhados</li><li>Bom para ver totais</li></ul></li><li>Clustered Vertical/Horizontal<ul><li>Mostra valores lado a lado</li><li>Bom para comparação</li></ul></li><li>100% Stacked<ul><li>Mostra valores em porcentagens</li><li>Bom para comparar percentuais</li></ul></li><li>Ribbon Chart<ul><li>Mescla stacked e clustered</li><li>Mostra maior valor em cima</li><li>Bom para ver qual valor é maior</li></ul></li></ul><h2>Configurações Importantes</h2><ul><li>Legendas<ul><li>Até 5 categorias funciona bem</li><li>Muitas legendas poluem o gráfico</li></ul></li><li>Rótulos de Dados<ul><li>Dentro ou fora das colunas</li><li>Ajuda a ver os valores</li></ul></li><li>Eixos<ul><li>Mudar tamanho das fontes</li><li>Mudar largura das colunas</li></ul></li></ul><h2>Dicas de Uso</h2><ul><li>Poucas categorias para Clustered</li><li>Trocar eixo/legenda se muito complexo</li><li>Ribbon precisa de espaço para rótulos</li><li>Funciona para poucas e muitas categorias</li><li>Tomar cuidado com excesso de legendas</li></ul>"
      ],
      "metadata": {
        "id": "I_MG3YxO-FSn"
      }
    },
    {
      "cell_type": "markdown",
      "source": [
        "### Aula 159 Refereências de gráficos Microsoft\n",
        "##### PDF"
      ],
      "metadata": {
        "id": "TD_Yfn4y-GzJ"
      }
    },
    {
      "cell_type": "markdown",
      "source": [
        "### Aula 160 Gráficos de Linhas, Área e Analytics\n",
        "<h1>Gráficos de Linhas</h1><ul><li>Ótimos para análises temporais</li><li>Mostram a evolução de algo no tempo</li><li>Eixo X: variável tempo (datas)</li><li>Eixo Y: valores (ex: vendas)</li></ul><h2>Recursos</h2><ul><li>Separar dados por variáveis (legendas)</li><li>Adicionar eixo Y2 com outra métrica (ex: quantidade vendida)</li><li>Opções de visualização:<ul><li>Área</li><li>Empilhado</li></ul></li></ul><h2>Analytics</h2><ul><li>Linhas de referência:<ul><li>Constante</li><li>Tendência</li><li>Máximo/Mínimo</li><li>Média</li><li>Mediana</li><li>Percentis</li><li>Previsão</li></ul></li><li>Adaptam-se a mudanças de granularidade (drill up/down)</li><li>Cuidado com previsões! Considerar fatores externos</li></ul><h2>Conclusão</h2><ul><li>Ótima ferramenta para análises temporais e comparações</li><li>Permite visualizações e análises avançadas</li><li>Analytics traz insights adicionais</li></ul>"
      ],
      "metadata": {
        "id": "woIz-qhM-IPv"
      }
    },
    {
      "cell_type": "markdown",
      "source": [
        "### Aula 161 Waterfall and Funnel Chart\n",
        "<h1>Tema Central: Análise de dados financeiros e de marketing</h1><h2>Gráfico Waterfall</h2><ul><li>Utilizado para análise de <strong>ganhos e perdas financeiras</strong></li><li>Mostra o total de ganhos/perdas em cada período</li><li>Permite análise:<ul><li>Temporal (por ano)</li><li>Por categoria (receita operacional, despesas, etc)</li><li>Por descrição</li></ul></li><li>Útil para área de finanças</li></ul><h2>Gráfico Funil</h2><ul><li>Utilizado para análise de <strong>percentuais de conversão</strong></li><li>Mostra quantas pessoas passam por cada etapa:<ul><li>Visitantes &gt; Leads &gt; Qualificados &gt; Vendas</li></ul></li><li>Útil para áreas de <strong>marketing e vendas</strong></li><li>Permite calcular:<ul><li>% de conversão total (visitantes &gt; vendas)</li><li>% de conversão por etapa</li></ul></li></ul><p>Os gráficos permitem análises complementares sobre dados financeiros e de negócios. O Waterfall foca em ganhos/perdas e o Funil em taxas de conversão. Ambos trazem insights valiosos para tomada de decisão.</p>"
      ],
      "metadata": {
        "id": "vCcW8xf_-KJd"
      }
    },
    {
      "cell_type": "markdown",
      "source": [
        "### Aula 162 Pie and Tree map\n",
        "<h1>Gráficos para análise de dados</h1><h2>Gráfico de Pizza (Pie Chart)</h2><ul><li>Útil para poucas categorias (máx. 8)</li><li>Ocupa muito espaço</li><li>Permite adicionar detalhes (subgrupos)</li><li>Pode usar em conjunto com outros gráficos (filtros cruzados)</li></ul><h2>Gráfico de Donut</h2><ul><li>Mesmas funcionalidades do gráfico de pizza</li><li>Deixa um espaço no meio para adicionar informações extras (como total de vendas)</li></ul><h2>Gráfico Treemap</h2><ul><li>Nova versão do gráfico de pizza</li><li>Aproveita melhor o espaço</li><li>Permite visualizar mais categorias e subgrupos</li><li>Fácil de ver a proporção dos dados</li><li>Permite adicionar rótulos de dados (data labels)</li></ul><h2>Conclusões</h2><ul><li>Evitar gráfico de pizza com muitas fatias</li><li>Treemap tem melhor aproveitamento de espaço</li><li>Importante adicionar rótulos de dados</li><li>Filtros cruzados enriquecem as análises</li></ul>"
      ],
      "metadata": {
        "id": "PFAtHUo4-L4U"
      }
    },
    {
      "cell_type": "markdown",
      "source": [
        "## Criando Dashboards - Part III"
      ],
      "metadata": {
        "id": "crYkh-OBszEF"
      }
    },
    {
      "cell_type": "markdown",
      "source": [
        "### Aula 163 KPIs, Gauges and Cards\n",
        "<h1>Utilize Cards para informações gerais e Gauges para acompanhamento de metas</h1><h2>Cards</h2><ul><li>Reúnem informações globais sobre o processo</li><li>Ficam no início do Dashboard</li><li>Ex: quantidade de vendas total</li><li>Funcionam apenas para variáveis numéricas</li><li>Permite configurar:<ul><li>Formatação dos dados (unidades, casas decimais)</li><li>Tamanho e cor do texto</li><li>Título e categoria</li><li>Cor do fundo e bordas</li></ul></li></ul><h2>Multi-Row Cards</h2><ul><li>Mostram múltiplas informações secundárias</li><li>Compõem os Cards principais</li><li>Ex: quantidade de produtos, ticket médio</li><li>Pode ser horizontal ou vertical</li><li>Permite configurar:<ul><li>Formatação dos dados</li><li>Nomes das variáveis</li><li>Título do card</li></ul></li></ul><h2>KPI</h2><ul><li>Acompanha uma meta ao longo do tempo (mês, ano)</li><li>Utiliza eixo de tendência (data) e target goal</li><li>Mostra se está acima ou abaixo da meta</li><li>Permite configurar:<ul><li>Formatação dos dados</li><li>Transparência do eixo de tendência</li><li>Texto e formatação do target goal</li><li>Se maior ou menor é melhor</li><li>Cores de status</li></ul></li></ul><h2>Gauge</h2><ul><li>Mostra atingimento de meta como um todo</li><li>Em comparação a um valor mínimo, máximo e target</li><li>Permite configurar:<ul><li>Valores fixos de min/max/target</li><li>Ou por variáveis calculadas</li><li>Cores do gauge</li><li>Formatação dos dados</li><li>Texto e cor do target</li></ul></li></ul><h2>Conclusão</h2><ul><li>Cards: informações gerais</li><li>Gauges: acompanhamento de metas</li><li>Utilize bem para criar Dashboards</li></ul>"
      ],
      "metadata": {
        "id": "EGU99xw-DTHU"
      }
    },
    {
      "cell_type": "markdown",
      "source": [
        "### Aula 164 Mapas\n",
        "<h1>Mapas no Power BI</h1><h2>Introdução</h2><ul><li>Mapas ajudam a localizar clientes</li><li>Não são muito utilizados por ocuparem muito espaço</li><li>Úteis para:<ul><li>Localizar maiores clientes</li><li>Maiores vendas</li><li>Maiores fornecedores</li><li>Quantidade de vendas por localização</li></ul></li></ul><h2>Tipos de Mapas</h2><ul><li>Filled Map<ul><li>Preenche países/regiões com cores</li><li>Permite adicionar informações nos tooltips</li></ul></li><li>Map<ul><li>Adiciona bolhas nos locais<ul><li>Tamanho das bolhas baseado em métrica (ex: vendas)</li></ul></li><li>Permite dividir bolha em fatias (ex: por gênero)</li><li>Mais utilizado que Filled Map</li></ul></li></ul><h2>Configurações importantes</h2><ul><li>Formato de variável<ul><li>Certifique-se que variáveis de localização (país, cidade) estão formatadas corretamente</li></ul></li><li>Tamanho de bolhas</li><li>Cores</li><li>Zoom</li><li>Estilo de mapa (road, dark, gray, etc)</li></ul><h2>Considerações Finais</h2><ul><li>Existem mais opções de mapa com visualizações personalizadas</li><li>Integração com ArcGIS para mais recursos de mapa</li></ul>"
      ],
      "metadata": {
        "id": "7lczb9gJDWti"
      }
    },
    {
      "cell_type": "markdown",
      "source": [
        "### Aula 165 Table vs Matrix\n",
        "<h1>Utilização de tabelas e matrizes no Power BI</h1><h2>Objetivo</h2><ul><li>Mostrar dados numéricos com mais detalhes para análises mais profundas</li></ul><h2>Diferenças</h2><h3>Tabela</h3><ul><li>Semelhante a uma planilha do Excel</li><li>Mais simples</li><li>Útil para resumir informações</li></ul><h3>Matriz</h3><ul><li>Semelhante a uma tabela dinâmica do Excel</li><li>Permite mais análises</li><li>Possui campos de:<ul><li>Linhas</li><li>Colunas</li><li>Valores</li></ul></li></ul><h2>Formatação</h2><ul><li>Estilo visual da tabela/matriz</li><li>Destaque das linhas/colunas</li><li>Tamanho do texto</li><li>Cores</li><li>Formatação condicional:<ul><li>Fundo</li><li>Fonte</li><li>Barra de dados</li><li>Ícones</li></ul></li></ul><h2>Cuidados</h2><ul><li>São elementos pesados, com muitos dados</li><li>Evitar usar na primeira página</li><li>Usar com moderação e quando necessário</li></ul>"
      ],
      "metadata": {
        "id": "8aT_4zvNDXnh"
      }
    },
    {
      "cell_type": "markdown",
      "source": [
        "### Aula 166 Q & A\n",
        "<h1>Tema central: Q&amp;A do Power BI</h1><h2>O que é o Q&amp;A</h2><ul><li>Question and Answers (Perguntas e Respostas)</li><li>Inteligência artificial que permite fazer perguntas sobre os dados e obter respostas visualizadas em gráficos</li></ul><h2>Funcionamento</h2><ul><li>Permite que o usuário faça perguntas em linguagem natural sobre os dados</li><li>Exibe sugestões de perguntas e gráficos</li><li>Pode-se ensinar o Q&amp;A com termos e perguntas comuns dos usuários</li></ul><h2>Vantagens</h2><ul><li>Permite análises profundas e específicas sob demanda</li><li>Fácil para o usuário final interagir sem conhecer os dados</li></ul><h2>Desvantagens</h2><ul><li>Ocupa muito espaço no dashboard</li><li>Menor controle sobre o layout e design dos gráficos</li></ul><h2>Dicas de uso</h2><ul><li>Configurar corretamente o tipo de dados das colunas</li><li>Não trazer colunas demais para não confundir</li><li>Esconder colunas não utilizadas</li><li>Sugerir visualizações úteis com base no feedback dos usuários</li><li>Ensinar o Q&amp;A com os termos e as perguntas mais comuns dos usuários</li></ul>"
      ],
      "metadata": {
        "id": "0vZdhmnWDY7C"
      }
    },
    {
      "cell_type": "markdown",
      "source": [
        "### Aula 167 Drill trhough page and buttons\n",
        "<h1>Utilizando botões no Power BI</h1><h2>Objetivo</h2><ul><li>Facilitar a navegação do usuário pelo relatório</li></ul><h2>Tipos de botões</h2><ul><li>Setas</li><li>Formas</li><li>Imagens</li><li>Botões prontos</li></ul><h2>Configurações</h2><ul><li>Aparência<ul><li>Cores</li><li>Ícones</li><li>Texto</li><li>Efeitos (hover, clique)</li></ul></li><li>Ações<ul><li>Navegar entre páginas</li><li>Retornar página anterior</li><li>Links externos</li><li>Drill through</li><li>Q&amp;A</li><li>e mais...</li></ul></li></ul><h2>Vantagens</h2><ul><li>Experiência mais intuitiva</li><li>Ocultar complexidade</li><li>Personalização</li><li>Integração com recursos (drill through)</li></ul><h2>Dicas</h2><ul><li>Manter consistência</li><li>Testar com usuários</li><li>Criatividade no uso</li></ul><p>Em resumo, os botões permitem melhorar muito a experiência do usuário, facilitando a navegação e ocultando complexidades. Podem ser configurados de diversas maneiras, tanto visualmente quanto em suas ações. Requerem criatividade e teste com usuários para um bom aproveitamento.</p>"
      ],
      "metadata": {
        "id": "vVoFOaz9DaDC"
      }
    },
    {
      "cell_type": "markdown",
      "source": [
        "### Aula 168 Review PBI\n",
        "<p>TEMA CENTRAL:Criando dashboards eficazes no Power BI</p><p>TÓPICOS ABORDADOS:</p><ul><li><p>Escolher as informações certas para os gráficos certos (90% de um bom dashboard)</p></li><li><p>Como se conectar a diferentes bancos de dados</p></li><li><p>Tratamento de dados</p></li><li><p>Configuração de variáveis</p></li><li><p>Criação de esquemas em estrela (star schema)</p></li><li><p>Tabelas de fatos e dimensões</p></li><li><p>Principais tipos de gráficos</p><ul><li>Gráficos de colunas<ul><li>Diversos tipos</li></ul></li><li>Gráficos de pizza</li><li>Gráficos de linhas<ul><li>Análises<ul><li>Linhas de tendência</li><li>Linhas de predição</li></ul></li></ul></li></ul></li><li><p>Aplicação na prática</p><ul><li>Fazer benchmarking<ul><li>Analisar dashboards de outras pessoas e modelos da Microsoft</li></ul></li><li>Obter feedback dos gestores<ul><li>Iterar melhorias com base no feedback</li></ul></li><li>Deixar o dashboard bonito<ul><li>Facilitar a usabilidade</li><li>Diminuir o tempo de decisão</li></ul></li></ul></li><li><p>Próximos passos</p><ul><li>Obter mais experiência prática</li><li>Fuçar, testar, aprender com a documentação da Microsoft</li><li>Avançar para tópicos mais complexos<ul><li>Análises estatísticas</li><li>Dashboards mais elaborados</li></ul></li></ul></li></ul>"
      ],
      "metadata": {
        "id": "_caKq2P3DbNx"
      }
    },
    {
      "cell_type": "markdown",
      "source": [
        "### Aula 169 Pesquisa de Satisfação - Power BI"
      ],
      "metadata": {
        "id": "kesgi5dgDcbB"
      }
    }
  ]
}
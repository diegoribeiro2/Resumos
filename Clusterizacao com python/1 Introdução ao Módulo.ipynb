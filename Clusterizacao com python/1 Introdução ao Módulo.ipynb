{
 "cells": [
  {
   "cell_type": "markdown",
   "metadata": {},
   "source": [
    "### 482 Apresentação\n",
    "<h1>Apresentação sobre Clustering</h1><h2>Apresentação do instrutor</h2><ul><li>Nome: Cainan</li><li>Formação:<ul><li>Biólogo</li><li>Mestrado e doutorado em Genética</li></ul></li><li>Trabalhou com análise de dados biológicos</li><li>Migrou de carreira para cientista de dados</li><li>Trabalhou em:<ul><li>Eli Lilly</li><li>Hermes Pardini</li><li>Ambev Tech</li></ul></li></ul><h2>O que esperar do curso</h2><ul><li>O que é clustering e sua importância</li><li>Principais métodos que serão abordados:<ul><li>K-Means</li><li>Cluster Hierárquico</li><li>DBSCAN</li><li>MeanShift</li><li>Gaussian Mixture</li><li>K-Modes</li><li>K-Prototypes</li></ul></li></ul><h2>Bibliotecas que serão utilizadas</h2><ul><li>Scikit-Learn</li><li>K-Modes</li><li>L-Ubriq</li><li>PyCaret</li></ul><h2>Estrutura do curso</h2><ul><li>Introdução teórica</li><li>Notebooks práticos no Colab<ul><li>Maior foco nos métodos K-Means e Cluster Hierárquico</li></ul></li></ul>"
   ]
  },
  {
   "cell_type": "markdown",
   "metadata": {},
   "source": [
    "### 483. Introdução a Clusterização\n",
    "<h1>Métricas para classificação</h1><h2>Tema central</h2><ul><li>Diferentes métricas que podem ser utilizadas em algoritmos de classificação</li></ul><h2>Tópicos abordados</h2><h3>Tipos de métricas</h3><ul><li>Para variáveis numéricas (métricas padronizadas)</li><li>Para variáveis binárias (dummies)</li></ul><h3>Principais métricas numéricas</h3><ul><li>Distância euclidiana<ul><li>Reta entre dois pontos</li></ul></li><li>Distância quadrática euclidiana<ul><li>Distância euclidiana sem raiz quadrada</li></ul></li><li>Distância de Manhattan</li><li>Distância de cosseno<ul><li>Não necessariamente para dados numéricos contínuos</li></ul></li></ul><h3>Outras métricas</h3><ul><li>Distância de Acard</li><li>Dados de covariância entre variáveis</li></ul><h3>Conceitos gerais</h3><ul><li>Dissimilaridade<ul><li>Entre observações</li><li>Entre variáveis</li><li>Propósito</li></ul></li><li>As métricas influenciam os algoritmos</li><li>Depende do objetivo de negócio</li></ul><h3>Próximos passos</h3><ul><li>Introdução do notebook que será utilizado</li><li>Setup do ambiente prático</li></ul>"
   ]
  },
  {
   "cell_type": "markdown",
   "metadata": {},
   "source": [
    "### 484. Bibliotecas e Primeiros passos\n",
    "<h1>Tema central: Introdução ao notebook que será utilizado no módulo de Machine Learning</h1><h2>Bibliotecas</h2><ul><li>Data Wrangling e Visualização<ul><li>Pandas, NumPy, Seaborn, Matplotlib, Plotly, Yellowbrick</li></ul></li><li>Machine Learning<ul><li>Scikit-Learn (datasets, modelos como KMeans, Clusterização Hierárquica, DBSCAN)</li><li>SciPy (funções como linkage, fcluster e dendrogram)</li><li>Alfabeto (para nomes de colunas)</li><li>SciPy Widgets (botões interativos)</li></ul></li></ul><h2>Diferença entre modelos</h2><ul><li>Supervisionados vs Não Supervisionados<ul><li>Classificação vs Clustering</li><li>Não usar métricas de um no outro</li></ul></li></ul><h2>Configurações</h2><ul><li>Configurações visuais<ul><li>Tamanho figuras, fontes, paleta de cores</li><li>Fundo branco</li><li>Linhas cinza no fundo</li></ul></li></ul><h2>Primeiro algoritmo</h2><ul><li>K-Means</li></ul>\n"
   ]
  },
  {
   "cell_type": "code",
   "execution_count": 14,
   "metadata": {},
   "outputs": [],
   "source": [
    "# Data wrangling\n",
    "import numpy as np\n",
    "import pandas as pd"
   ]
  },
  {
   "cell_type": "code",
   "execution_count": 33,
   "metadata": {},
   "outputs": [],
   "source": [
    "# Dataviz\n",
    "import seaborn as sns\n",
    "import matplotlib.pyplot as plt\n",
    "import plotly.express as px\n",
    "import plotly.graph_objects as go\n",
    "\n",
    "from yellowbrick.cluster import KElbowVisualizer, SilhouetteVisualizer, InterclusterDistance, kelbow_visualizer, silhouette_visualizer"
   ]
  },
  {
   "cell_type": "code",
   "execution_count": 34,
   "metadata": {},
   "outputs": [],
   "source": [
    "## -- Machine learning -- ##\n",
    "from sklearn import datasets\n",
    "from sklearn.mixture import GaussianMixture\n",
    "from sklearn.cluster import KMeans, DBSCAN, MeanShift\n",
    "from sklearn.cluster import k_means, dbscan, mean_shift, estimate_bandwidth\n",
    "from sklearn.metrics import silhouette_score, davies_bouldin_score, calinski_harabasz_score\n",
    "from sklearn.decomposition import PCA\n",
    "from sklearn.preprocessing import scale\n",
    "\n",
    "from sklearn.cluster import AgglomerativeClustering\n",
    "from scipy.cluster.hierarchy import linkage, dendrogram, fcluster\n",
    "\n",
    "from kmodes.kmodes import KModes            # clustering categorical data\n",
    "from kmodes.kprototypes import KPrototypes  # clustering mixed data"
   ]
  },
  {
   "cell_type": "code",
   "execution_count": 35,
   "metadata": {},
   "outputs": [],
   "source": [
    "# Didatic purposes\n",
    "import string\n",
    "from ipywidgets import interact"
   ]
  }
 ],
 "metadata": {
  "kernelspec": {
   "display_name": "Python 3",
   "language": "python",
   "name": "python3"
  },
  "language_info": {
   "codemirror_mode": {
    "name": "ipython",
    "version": 3
   },
   "file_extension": ".py",
   "mimetype": "text/x-python",
   "name": "python",
   "nbconvert_exporter": "python",
   "pygments_lexer": "ipython3",
   "version": "3.12.4"
  }
 },
 "nbformat": 4,
 "nbformat_minor": 2
}

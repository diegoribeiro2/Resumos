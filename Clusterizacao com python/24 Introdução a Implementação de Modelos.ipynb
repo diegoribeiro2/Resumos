{
 "cells": [
  {
   "cell_type": "markdown",
   "metadata": {},
   "source": [
    "### 588. Apresentação\n",
    "<h1>Tema central: Deploy de modelos de machine learning</h1><h2>Objetivos do módulo</h2><ul><li>Apresentar conceitos de deploy de modelos</li><li>Ensinar a colocar modelos em produção para serem consumidos</li><li>Tornar alunos capazes de fazer deploy via API ou nuvem</li><li>Incentivar boas práticas de engenharia de machine learning</li></ul><h2>Tópicos abordados</h2><h3>Pipeline e estruturação de código</h3><ul><li>Pensando na implementação desde o início</li></ul><h3>Streamlit</h3><ul><li>Plataforma para criar aplicativos e disponibilizar modelos publicamente</li></ul><h3>APIs</h3><ul><li>Permitir consumo dos modelos por código</li></ul><h3>Nuvem</h3><ul><li>Hospedar modelos na nuvem para disponibilizá-los</li></ul><h3>Docker</h3><ul><li>Empacotar modelos para funcionar em qualquer sistema operacional</li></ul><h3>MLflow</h3><ul><li>Gerenciar ciclo de vida dos modelos (experimentação, comparação)</li></ul><h2>Aplicação prática</h2><ul><li>Aplicativo web para prever custo de seguro saúde</li><li>Utiliza idade, IMC, número de filhos e tabagismo</li><li>Disponibilizado via Streamlit, API e nuvem</li></ul><h2>Considerações finais</h2><ul><li>Módulo introduz ferramentas principais de deploy</li><li>Auxilia alunos nos projetos finais</li></ul>\n"
   ]
  },
  {
   "cell_type": "markdown",
   "metadata": {},
   "source": [
    "### 589. Requisitos\n",
    "<h1>Requisitos para o módulo</h1><h2>Conhecimentos necessários</h2><ul><li>Python</li><li>Pandas</li><li>Data Wrangling</li><li>Machine Learning</li></ul><h2>Softwares necessários</h2><h3>Gestão de ambientes virtuais</h3><ul><li>Anaconda ou Miniconda</li></ul><h3>IDE</h3><ul><li>Visual Studio Code<ul><li>Extensões:<ul><li>Python</li><li>Jupyter</li><li>Thunder Client</li><li>Markdown All-in-One</li><li>Docker (opcional)</li></ul></li></ul></li></ul><h3>Outros</h3><ul><li>Git</li><li>GitHub (conta)</li><li>Docker (opcional)</li></ul><h2>Considerações</h2><ul><li>As gravações foram feitas no Linux (Ubuntu), mas é possível utilizar Windows ou Mac seguindo as instruções para cada SO.</li></ul><h2>Instruções para download</h2><ul><li>Arquivo Instructions.md com links para download de cada software de acordo com o SO.</li></ul>"
   ]
  },
  {
   "cell_type": "markdown",
   "metadata": {},
   "source": [
    "### 590. Introdução\n",
    "<h1>MLOps e deploy de modelos</h1><h2>Conceitos principais</h2><ul><li>MLOps<ul><li>Derivado de DevOps</li><li>Foca em colocar modelos de ML em <strong>produção</strong> e fazer <strong>monitoramento</strong></li></ul></li><li>Deploy de modelo<ul><li>Colocar o modelo <strong>em uso</strong>, sendo <strong>consumido</strong> por quem foi projetado</li><li>Faz parte do ciclo MLOps</li><li>Transição do ambiente de <strong>pesquisa/desenvolvimento</strong> para o ambiente de <strong>produção</strong></li></ul></li></ul><h2>Ambientes</h2><ul><li>Desenvolvimento<ul><li>Construção do modelo com dados históricos</li></ul></li><li>Produção<ul><li>Aplicação do modelo treinado em novos dados</li><li>Gera predições para ajudar a cumprir um objetivo</li></ul></li></ul><h2>Princípios de ML Ops</h2><ul><li>Confiabilidade</li><li>Manutenibilidade</li><li>Flexibilidade</li><li>Reprodutibilidade</li><li>Transparência</li></ul><h2>Monitoramento de modelos</h2><ul><li>Verificar se modelo está funcionando conforme o esperado</li><li>Identificar necessidade de atualizações<ul><li>Novo algoritmo</li><li>Novas features</li><li>Data drift</li></ul></li></ul><h2>Validação e monitoramento de dados</h2><ul><li>Garantir qualidade dos dados de entrada</li><li>Verificar distribuição dos dados ao longo do tempo</li></ul>"
   ]
  },
  {
   "cell_type": "markdown",
   "metadata": {},
   "source": [
    "### 591. Abordagens e Arquiteturas de deploy e MLOps\n",
    "<h1>Arquiteturas de Deployment</h1><h2>Embutida</h2><ul><li>Aplicação com o modelo embutido</li><li>Exemplo: Streamlit</li><li>Atualização do modelo requer modificação da aplicação</li></ul><h2>API Dedicada</h2><ul><li>API separada somente para o modelo</li><li>Aplicação de interação com o usuário é separada</li><li>Facilita atualização do modelo sem mexer na aplicação</li><li>Exemplos: Flask, FastAPI</li></ul><h2>Modelo Publicado como Dados</h2><ul><li>Comum em streaming de dados</li><li>Modelo sendo treinado e atualizado em tempo real conforme chegam novos dados</li><li>Mais comum em grandes empresas (Big Techs)</li></ul><h2>Previsões Offline</h2><ul><li>Análise e previsões feitas em lotes/batches</li><li>Exemplo: previsões mensais de churn</li></ul><h2>Outras Classificações</h2><ul><li>Previsões em batch vs previsões em tempo real (live predictions)</li></ul>"
   ]
  },
  {
   "cell_type": "markdown",
   "metadata": {},
   "source": [
    "### 592. VS Code\n",
    "<h2>Ambientação do VS Code</h2><ul><li>Abrindo o VS Code<ul><li>Interface padrão</li><li>Abrir pasta do projeto</li></ul></li><li>Explorando a interface<ul><li>Barra lateral<ul><li>Seção de exploração de arquivos e pastas</li><li>Busca em arquivos</li><li>Sincronização com Git/GitHub</li><li>Depuração</li><li>Extensões</li></ul></li></ul></li><li>Instalando extensões importantes<ul><li>Python</li><li>Jupyter</li><li>Docker</li><li>Markdown All-in-One</li><li>Thunderclient</li></ul></li><li>Executando código Python<ul><li>Criando arquivo Python</li><li>Selecionando interpretador Python<ul><li>Comando: Python Select Interpreter</li></ul></li><li>Executando arquivo<ul><li>Botão Run File</li><li>Terminal &gt; Novo Terminal</li></ul></li></ul></li><li>Abrindo Jupyter Notebook<ul><li>Extensão Jupyter</li><li>Arquivo .ipynb</li></ul></li><li>Configurações<ul><li>Selecionando ambientes virtuais/kernels</li></ul></li></ul><p>O vídeo mostra uma ambientação na IDE VS Code, ensinando a explorar sua interface e instalar extensões importantes como Python, Jupyter, Docker e outras.</p><p>Também ensina a executar códigos Python na IDE, seja por meio do botão Run File ou pelo terminal integrado, mostrando como selecionar o interpretador Python.</p><p>Por fim, demonstra como abrir o Jupyter Notebook na própria IDE por meio da extensão, e como selecionar diferentes ambientes virtuais e kernels para executar o código.</p>"
   ]
  }
 ],
 "metadata": {
  "kernelspec": {
   "display_name": "Python 3",
   "language": "python",
   "name": "python3"
  },
  "language_info": {
   "codemirror_mode": {
    "name": "ipython",
    "version": 3
   },
   "file_extension": ".py",
   "mimetype": "text/x-python",
   "name": "python",
   "nbconvert_exporter": "python",
   "pygments_lexer": "ipython3",
   "version": "3.12.4"
  }
 },
 "nbformat": 4,
 "nbformat_minor": 2
}

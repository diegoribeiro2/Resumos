{
  "nbformat": 4,
  "nbformat_minor": 0,
  "metadata": {
    "colab": {
      "provenance": [],
      "collapsed_sections": [
        "hUmmH-W88Snz",
        "L61uaoBy7-Bp",
        "aXOQYVsh8D84",
        "mhv5aFVw835d",
        "4T6qCbA58-C7",
        "alt_VeET9D0r"
      ]
    },
    "kernelspec": {
      "name": "python3",
      "display_name": "Python 3"
    },
    "language_info": {
      "name": "python"
    }
  },
  "cells": [
    {
      "cell_type": "markdown",
      "source": [
        "# **Módulo Matéria 01** - Introdução a Análise de Dados"
      ],
      "metadata": {
        "id": "Khm-fRG54G5h"
      }
    },
    {
      "cell_type": "markdown",
      "source": [
        "## Grupo da Matéria - Introdução a Análise de Dados\n",
        "\n",
        "\n"
      ],
      "metadata": {
        "id": "hUmmH-W88Snz"
      }
    },
    {
      "cell_type": "markdown",
      "source": [
        "### Aula 01 Grupo da Matéria - Introdução a Análise de Dados"
      ],
      "metadata": {
        "id": "EOlI3UGM04CX"
      }
    },
    {
      "cell_type": "markdown",
      "source": [
        "## Comece por aqui"
      ],
      "metadata": {
        "id": "L61uaoBy7-Bp"
      }
    },
    {
      "cell_type": "markdown",
      "source": [
        "### Aula 02 Queremos te conhecer melhor!"
      ],
      "metadata": {
        "id": "r154uLQX06VG"
      }
    },
    {
      "cell_type": "markdown",
      "source": [
        "### Aula 03 Apostila digital Carreiras"
      ],
      "metadata": {
        "id": "NqtG5HuH06yO"
      }
    },
    {
      "cell_type": "markdown",
      "source": [
        "### Aula 04 Apostila de Carreira"
      ],
      "metadata": {
        "id": "LR9kbt1j07cf"
      }
    },
    {
      "cell_type": "markdown",
      "source": [
        "## Base de Dados - Introdução ao Excel"
      ],
      "metadata": {
        "id": "aXOQYVsh8D84"
      }
    },
    {
      "cell_type": "markdown",
      "source": [
        "### Aula 05 Bem vindo ao Ciclo Base"
      ],
      "metadata": {
        "id": "4IeKJE5b08ON"
      }
    },
    {
      "cell_type": "markdown",
      "source": [
        "### Aula 06 Resolvendo problemas de negócios\n",
        "<h1>Tema central: Análise de dados para tomada de decisão em negócios</h1><h2>Apresentação</h2><ul><li>Nome do instrutor: Everton Garcia de Menezes</li><li>Formação: Engenheiro mecânico, Black Belt em Six Sigma</li><li>Experiência: Projetos de melhoria em empresas como Ambev, startups (finanças, operações, produto, marketing, etc)</li></ul><h2>Utilização de dados em negócios</h2><ul><li>Ajuda na tomada de decisão para maximizar resultados</li><li>Identificar melhor alocação de recursos (financeiros, humanos, ferramentas) para aumentar performance</li><li>Análise de dados passados e futuros (previsões)</li></ul><h2>Carreiras em análise de dados</h2><ul><li>Analista de dados, Analista de BI, Business Analyst<ul><li>Salários entre R$3-15 mil</li></ul></li><li>Arquiteto de dados<ul><li>Projeta banco de dados e arquitetura para análise</li><li>Salários entre R$5-13 mil</li></ul></li><li>Engenheiro de dados<ul><li>Responsável por disponibilizar e tratar dados</li><li>Integração entre dados e análises</li></ul></li><li>Cientista de dados<ul><li>Modelos preditivos com machine learning</li><li>Salários entre R$5-12 mil</li></ul></li></ul><h2>Case de e-commerce</h2><ul><li>Objetivo: Identificar oportunidades de melhoria nos resultados do negócio</li><li>Análises:<ul><li>Faturamento</li><li>Clientes</li><li>Produtos</li><li>Marketing</li></ul></li><li>Recomendação: Fazer os exercícios junto com o instrutor para melhor aprendizado</li></ul>"
      ],
      "metadata": {
        "id": "_A_lIl4209NF"
      }
    },
    {
      "cell_type": "markdown",
      "source": [
        "### Aula 07 Ambientação\n",
        "<h1>Introdução ao Excel</h1><h2>Abrindo e configurando uma planilha</h2><ul><li>Abrir o Excel</li><li>Criar uma nova pasta de trabalho (planilha)</li><li>Cada quadradinho é uma célula</li><li>Cada célula pode conter:<ul><li>Texto</li><li>Números</li><li>Porcentagens</li><li>Datas</li></ul></li><li>Células têm tipos de dados:<ul><li>Texto</li><li>Número</li><li>Moeda</li><li>Data</li><li>etc</li></ul></li><li>É possível formatar:<ul><li>Fonte</li><li>Tamanho</li><li>Cor</li><li>Negrito</li><li>Itálico</li><li>Sublinhado</li><li>Alinhamento</li></ul></li><li>Redimensionar colunas e linhas</li></ul><h2>Trabalhando com fórmulas</h2><ul><li>Fórmulas começam com =</li><li>Operadores:<ul><li><ul><li>Adição</li></ul></li><li><ul><li>Subtração</li></ul></li><li><ul><li>Multiplicação</li></ul></li><li>/ Divisão</li></ul></li><li>Referenciar células:<ul><li>Por coordenada (coluna + linha), ex: E3</li><li>Clicando na célula</li></ul></li><li>Funções:<ul><li>SOMA - Soma intervalo de células</li></ul></li></ul><p>Esse é um resumo abrangendo os principais tópicos sobre introdução ao Excel que foram apresentados no vídeo, cobrindo desde abrir e configurar uma planilha até trabalhar com algumas fórmulas básicas. Foi apresentado em forma de mapa mental com os tópicos principais e subtópicos para facilitar a visualização.</p>"
      ],
      "metadata": {
        "id": "oGxGQF0N097d"
      }
    },
    {
      "cell_type": "markdown",
      "source": [
        "### Aula 08 Fazendo as primeiras análises\n",
        "<h1>Análise de dados no Excel</h1><h2>Introdução</h2><ul><li>Dados servem para tomar decisões de negócio</li><li>Serão analisados dados de pedidos de um e-commerce</li></ul><h2>Base de dados</h2><ul><li>Contém informações sobre cada pedido:<ul><li>ID do pedido</li><li>ID do usuário (cliente)</li><li>ID do produto</li><li>Valores (subtotal, taxas, total)</li><li>Data da criação</li><li>Quantidade</li></ul></li></ul><h2>Perguntas e análises</h2><h3>Faturamento na 1a quinzena de maio/2016</h3><ul><li>Soma dos valores totais dos pedidos neste período</li><li>Feito com a fórmula <code>SOMA</code></li></ul><h3>Vendas totais do produto 34</h3><ul><li>Localiza os pedidos com produto 34</li><li>Soma os valores totais desses pedidos</li><li>Feito com a fórmula <code>SOMASE</code></li></ul><h3>Total de pedidos no período</h3><ul><li>Soma das quantidades de todos os pedidos</li><li>Feito com a fórmula <code>SOMA</code></li></ul><h3>Quantidade de pedidos com produto 34</h3><ul><li>Conta quantidade de vezes que aparece o produto 34</li><li>Feito com a fórmula <code>CONT.C</code></li></ul><h3>Percentual de pedidos com produto 34</h3><ul><li>Divide quantidade de pedido do produto 34 pelo total de pedidos</li><li>Fórmulas: <code>CONT.VALORES</code> e divisão</li></ul><h2>Conclusão</h2><ul><li>Consegue-se responder perguntas e embasar decisões de negócio com análises simples no Excel</li></ul>"
      ],
      "metadata": {
        "id": "ZndTO-Mx1JbK"
      }
    },
    {
      "cell_type": "markdown",
      "source": [
        "### Aula 09 Buscando informações de Outras Tabelas\n",
        "<h1>Integrando dados de múltiplas tabelas</h1><h2>Tabelas</h2><ul><li>orders (pedidos)</li><li>products (produtos)</li><li>people (usuários)</li><li>reviews (avaliações)</li></ul><h2>Correlacionando colunas</h2><ul><li>orders<ul><li>user_id -&gt; people (usuários)</li><li>product_id -&gt; products (produtos)</li></ul></li></ul><h2>Puxando dados de outras tabelas</h2><ul><li>Função:<ul><li>PROC V (procurar verticalmente)</li></ul></li><li>Produtos:<ul><li>title</li><li>category</li></ul></li><li>Travando intervalo:<ul><li>CTRL + SHIFT</li><li>F4</li></ul></li></ul><h2>Exemplo</h2><ul><li>Produto 34:<ul><li>Heavy Duty Wooden Clock</li><li>Categoria: Gadgets</li></ul></li></ul><h2>Próximos passos</h2><ul><li>Puxar mais dados da tabela people sobre os usuários</li></ul>"
      ],
      "metadata": {
        "id": "L5TES8uB1LQQ"
      }
    },
    {
      "cell_type": "markdown",
      "source": [
        "### Aula 10 Análise Exploratória\n",
        "<h1>Tema central:</h1><p>Responder perguntas de negócio sobre faturamento de produtos</p><h2>Etapas para chegar ao objetivo final:</h2><ul><li>Saber o faturamento por pedido<ul><li>Criar coluna de &quot;faturamento&quot; = preço unitário * quantidade</li></ul></li><li>Saber o faturamento por produto<ul><li>Agrupar produtos<ul><li>Remover duplicatas</li></ul></li><li>Somar faturamento de pedidos de mesmo produto<ul><li>Usar SOMASE</li></ul></li></ul></li><li>Top 10 produtos por faturamento<ul><li>Classificar a coluna de faturamento de forma decrescente</li></ul></li><li>Top 1 produto de 2019<ul><li>Extrair o ano da data<ul><li>Usar função ANO</li></ul></li><li>Filtrar por ano e produto<ul><li>Usar filtro</li></ul></li><li>Fazer nova soma com dois critérios (produto e ano)<ul><li>Usar SOMASES</li></ul></li></ul></li><li>Conferir resultados<ul><li>Filtrar produtos e anos para confirmar faturamentos calculados</li></ul></li></ul><p>O vídeo ensina passo a passo como responder às perguntas de negócio sobre faturamento de produtos, passando por etapas de preparação e manipulação dos dados, cálculos, ordenação e filtros até chegar na resposta final.</p>"
      ],
      "metadata": {
        "id": "e3wuABr61M2X"
      }
    },
    {
      "cell_type": "markdown",
      "source": [
        "## Base de Dados - Dashboards no Excel"
      ],
      "metadata": {
        "id": "mhv5aFVw835d"
      }
    },
    {
      "cell_type": "markdown",
      "source": [
        "### Aula 11 Análise Gráfica Simples\n",
        "<h1>Tema central:</h1><h2>Análise de dados e criação de gráficos no Excel</h2><h2>Tópicos abordados:</h2><ul><li><p>Perguntas de negócio que queremos responder com os gráficos</p><ul><li>Quais produtos mais faturam</li><li>Quais categorias mais faturam</li><li>Faturamento mês a mês em 2019</li><li>Em que regiões temos mais clientes</li></ul></li><li><p>Gráfico de barras</p><ul><li>Mostra faturamento por produto</li><li>Pode mostrar top 10 produtos para melhor visualização</li></ul></li><li><p>Gráfico de pizza</p><ul><li>Mostra faturamento por categoria</li><li>Útil quando há poucas categorias</li></ul></li><li><p>Gráfico de linhas</p><ul><li>Analisa a evolução do faturamento ao longo do tempo</li><li>Permite visualizar sazonalidades</li></ul></li><li><p>Mapa</p><ul><li>Mostra a quantidade de clientes por estado</li><li>É importante incluir também o país para evitar confusão entre estados com mesmo nome</li></ul></li><li><p>Opções de formatação:</p><ul><li>Títulos dos eixos</li><li>Título do gráfico</li><li>Cores e estilos pré-definidos</li><li>Rótulos de dados</li><li>Legendas</li></ul></li></ul><p>Em resumo, foram demonstradas técnicas para criar diferentes tipos de gráficos no Excel, sempre visando responder a perguntas de negócio relevantes, para facilitar a análise e visualização dos dados.</p>"
      ],
      "metadata": {
        "id": "ILSE-Xem2Jt3"
      }
    },
    {
      "cell_type": "markdown",
      "source": [
        "### Aula 12 Análises Dinâmicas\n",
        "<h1>Tabelas Dinâmicas</h1><h2>Introdução</h2><ul><li>Permite flexibilidade para o usuário fazer análises, sem precisar refazer tabelas</li><li>Seleciona os dados e insere uma tabela dinâmica</li></ul><h2>Primeira análise</h2><ul><li>Faturamento por data</li><li>Adiciona colunas de faturamento e data criada</li><li>Pode expandir por ano, trimestre ou mês</li></ul><h2>Gráficos</h2><ul><li>Cria gráfico de linha de faturamento por mês</li><li>Filtra por anos específicos</li><li>Identifica sazonalidade no faturamento</li></ul><h2>Segunda análise</h2><ul><li>Adiciona coluna de quantidade vendida</li><li>Cria gráfico combinado de linha e coluna</li><li>Compara faturamento e quantidade</li></ul><h2>Filtros</h2><ul><li>Adiciona filtro por categoria</li><li>Permite filtrar dados rapidamente</li></ul><h2>Linha do tempo</h2><ul><li>Adiciona filtro de linha do tempo por data</li><li>Permite filtrar intervalos de tempo com facilidade</li></ul><h2>Conclusão</h2><ul><li>Tabelas e gráficos dinâmicos trazem flexibilidade para análise de dados pelo usuário</li></ul>"
      ],
      "metadata": {
        "id": "YuXO60wf2NvE"
      }
    },
    {
      "cell_type": "markdown",
      "source": [
        "### Aula 13 Filtragem Combinada\n",
        "\n",
        "<h1>Criando novas tabelas e gráficos dinâmicos</h1><h2>Introdução</h2><ul><li>Será criado novas tabelas e gráficos dinâmicos para responder a novas perguntas de negócio</li><li>Cada gráfico precisa ter sua própria tabela dinâmica</li></ul><h2>Faturamento por produto</h2><ul><li>Criada nova tabela dinâmica com colunas: faturamento e título do produto</li><li>Transformado em gráfico de barras horizontais</li><li>Classificado do maior faturamento para o menor</li><li>Filtrado para mostrar apenas top 10 produtos</li></ul><h2>Média de avaliação por categoria</h2><ul><li>Adicionado categoria dos produtos à tabela de avaliações (reviews) usando PROCV</li><li>Nova tabela dinâmica com colunas: nota (rating) e categoria</li><li>Configurado para calcular média da nota</li><li>Transformado em gráfico de barras</li></ul><h2>Quantidade de clientes por mês</h2><ul><li>Nova tabela dinâmica com colunas: data de criação e contagem de IDs (clientes)</li><li>Transformado em gráfico de linhas</li></ul><h2>Considerações finais</h2><ul><li>Filtros só funcionam entre tabelas da mesma base de dados</li><li>Cada filtro/segmentação é válido apenas para uma base de dados</li></ul>\n"
      ],
      "metadata": {
        "id": "jQIjgJGR2O7S"
      }
    },
    {
      "cell_type": "markdown",
      "source": [
        "### Aula 14 Montando um Dashboard\n",
        "<h1>Dashboard de vendas</h1><h2>Tema central</h2><ul><li>Como criar um dashboard para apoiar a tomada de decisões de um gestor de vendas</li></ul><h2>Tópicos abordados</h2><h3>O que é um dashboard</h3><ul><li>Uma tela flexível para visualizar várias informações relevantes para a tomada de decisão</li><li>Permite que o gestor responda perguntas frequentes de negócio (faturamento, produtos mais vendidos, etc)</li></ul><h3>Etapas para criar o dashboard</h3><ul><li>Definir o título</li><li>Adicionar cards com dados principais (faturamento total, quantidade vendida)</li><li>Inserir gráficos (quantidade de clientes por fonte, quantidade por estado)</li><li>Trazer outros gráficos criados anteriormente (faturamento no tempo, top produtos, faturamento por categoria)</li><li>Adicionar filtros</li><li>Ajustar layout e design</li></ul><h3>Benefícios</h3><ul><li>Deixa o poder de análise nas mãos do gestor</li><li>Permite visualizar muitas informações de uma vez</li><li>Funciona integrado com filtros para análises mais específicas</li><li>Facilita e agiliza a tomada de decisão baseada em dados</li></ul><p>O vídeo mostrou na prática como construir um dashboard conectando dados em tabelas dinâmicas, gráficos e filtros para apoiar decisões de negócio de um gestor de vendas.</p>"
      ],
      "metadata": {
        "id": "SNk8YdPC2SXp"
      }
    },
    {
      "cell_type": "markdown",
      "source": [
        "### Aula 15 Imprimindo um Dashboard\n",
        "<h1>Melhorando a aparência do dashboard</h1><ul><li>Ajustando o tamanho dos gráficos e filtros</li><li>Deixando o design dos gráficos monocromático (azul)</li><li>Adicionando títulos aos gráficos<ul><li>Faturamento e quantidade vendida no tempo</li><li>Top 10 produtos vendidos</li><li>Origem dos clientes</li><li>Localização dos clientes</li><li>Nota de avaliação por categoria</li></ul></li></ul><h1>Imprimindo e exportando o dashboard</h1><ul><li>Arquivo &gt; Imprimir<ul><li>Não ficou um bom formato (dashboard quebrado em 3 páginas)</li></ul></li><li>Configurando a área de impressão<ul><li>Margens estreitas</li><li>Área de W47 selecionada</li><li>Orientação paisagem</li><li>Ajuste 1 página largura para 1 página altura</li></ul></li><li>Arquivo &gt; Imprimir<ul><li>Agora dashboard cabe em 1 página</li></ul></li><li>Opções:<ul><li>Imprimir direto na impressora</li><li>Imprimir em PDF</li></ul></li><li>Outra opção: Arquivo &gt; Exportar &gt; Criar PDF</li><li>PDF pode ser anexado em emails e enviado para gestores</li></ul>\n"
      ],
      "metadata": {
        "id": "cX46UVnB2ckS"
      }
    },
    {
      "cell_type": "markdown",
      "source": [
        "## Base de Dados - Introdução ao Power Bi"
      ],
      "metadata": {
        "id": "4T6qCbA58-C7"
      }
    },
    {
      "cell_type": "markdown",
      "source": [
        "### Aula 16 Instalando o Power Bi\n",
        "<h1>Análise de dados no Power BI</h1><h2>Download do Power BI</h2><ul><li>Pesquisar no Google por &quot;Power BI Download&quot;</li><li>Clicar no link da Microsoft</li><li>Escolher entre:<ul><li>Power BI Desktop (para criar dashboards)</li><li>Power BI Mobile (apenas para visualizar dashboards)</li></ul></li><li>Clicar em &quot;Fazer download&quot; do Desktop</li><li>Abrir a Microsoft Store</li><li>Clicar em &quot;Adquirir&quot; para baixar o software</li></ul><h2>Utilizando o Power BI Desktop</h2><ul><li>Após o download, abrir o software</li><li>Tela inicial já aparece pronta para uso</li><li>Não precisa fazer configurações extras</li><li>Já é possível:<ul><li>Importar e analisar dados</li><li>Criar dashboards e relatórios</li><li>Compartilhar análises</li></ul></li></ul><p>Esse é um resumo em forma de mapa mental abordando o download e introdução ao uso do Power BI Desktop para análise de dados. O tema central é apresentar esse software e como realizar o seu download para começar a utilizá-lo para análises de dados mais robustas.</p>"
      ],
      "metadata": {
        "id": "tX704spL3a3m"
      }
    },
    {
      "cell_type": "markdown",
      "source": [
        "### Aula 17 Conhecendo o Power BI\n",
        "<h2>Power BI x Excel</h2><ul><li>Excel<ul><li>Fácil para fazer manipulações e criar/analisar bases de dados</li><li>Usuário modifica facilmente</li></ul></li><li>Power BI<ul><li>Análise de bases de dados existentes (não modifica)</li><li>Melhor para análises correlacionadas</li></ul></li></ul><h2>Interface do Power BI</h2><ul><li>Aba &quot;Obter Dados&quot;<ul><li>Diversas fontes: Excel, CSV, SQL, Web...</li></ul></li><li>Lado direito<ul><li>Aba Dados: exibe dados importados</li><li>Aba Visualizações: tipos de gráficos</li></ul></li></ul><h2>Análises Realizadas</h2><ul><li>Faturamento total<ul><li>Usando cartão (card) e coluna Total</li></ul></li><li>Quantidade total de pedidos<ul><li>Usando cartão e contagem da coluna ID</li></ul></li><li>Quantidade de produtos diferentes<ul><li>Usando contagem distinta da coluna Product ID</li></ul></li><li>Quantidade vendida de um produto<ul><li>Usando fatiador (slicer) para filtrar a coluna Product ID</li></ul></li><li>Faturamento por dia<ul><li>Gráfico de linhas<ul><li>Eixo X: coluna Data</li><li>Eixo Y: coluna Total</li></ul></li></ul></li></ul><p>O vídeo mostra de forma prática algumas análises simples que podem ser feitas no Power BI para responder a perguntas de negócio. É destacada a facilidade em importar dados de diversas fontes e correlacioná-los utilizando diferentes tipos de visualizações.</p>"
      ],
      "metadata": {
        "id": "cQUud6Rb3c_a"
      }
    },
    {
      "cell_type": "markdown",
      "source": [
        "### Aula 18 Definindo Problema de Negócio\n",
        "<h1>Tema central: Análises de dados para aumentar o faturamento de um e-commerce</h1><h2>Faturamento</h2><ul><li>Faturamento total</li><li>Faturamento por mês (sazonalidade)</li><li>Previsão de faturamento futuro</li><li>Quantidade de pedidos</li></ul><h2>Produtos</h2><ul><li>Quais vendem mais/menos</li><li>Categorias com mais/menos vendas</li><li>Produtos campeões de venda (para investir em marketing)</li><li>Produtos com poucas vendas (para remover do portfólio)</li></ul><h2>Avaliação de produtos</h2><ul><li>Quais têm melhor/pior avaliação</li><li>Destacar os 10 melhores/piores</li></ul><h2>Localização de clientes</h2><ul><li>Onde estão os clientes</li><li>Cidades/estados com mais clientes (para focar marketing)</li><li>Locais sem clientes (para captar novos)</li></ul><h2>Aquisição de clientes</h2><ul><li>Evolução da aquisição de clientes</li><li>Como aumentar</li></ul><h2>Dashboard</h2><ul><li>Permitir filtragem e análises customizadas</li><li>Facilitar o acesso do gestor a essas métricas</li></ul><p>O objetivo é fornecer insights para aumentar o faturamento por meio de:</p><ul><li>Decisões de marketing mais assertivas</li><li>Entendimento do portfólio de produtos</li><li>Foco no que gera mais receita</li></ul>"
      ],
      "metadata": {
        "id": "Xn0bJERT3d-3"
      }
    },
    {
      "cell_type": "markdown",
      "source": [
        "### Aula 19 Puxando e Tratando Dados csv\n",
        "<h1>Trabalhando com base de dados real</h1><h2>Obtenção dos dados</h2><ul><li>Arquivos CSV<ul><li>Delimitados por vírgula</li><li>Muito comuns em exportações de dados</li></ul></li><li>Exemplos<ul><li>Orders</li><li>Products</li></ul></li></ul><h2>Análises iniciais</h2><ul><li>Cálculo de faturamento<ul><li>Problema: não considera quantidade</li><li>Solução: criar coluna de faturamento (preço * quantidade)</li></ul></li><li>Cálculo de imposto<ul><li>Problema: campo Tax como texto</li><li>Solução:<ul><li>Substituir R$ e traços</li><li>Trocar ponto por vírgula</li><li>Converter para número decimal</li></ul></li></ul></li></ul><h2>Tratamento dos dados</h2><ul><li>Converter IDs para texto (não faz sentido somar)</li><li>Criar colunas de faturamento e imposto</li></ul><h2>Análises de negócio</h2><ul><li>Faturamento</li><li>Imposto total</li><li>Quantidade de pedidos</li><li>Faturamento por data</li></ul><p>Espero que esse mapa mental resumo ajude a entender os principais pontos e etapas abordados no vídeo! Fiz um passo a passo desde a obtenção dos dados até algumas análises, destacando problemas e soluções no tratamento dos dados. Avise se precisar de mais algum detalhamento ou esclarecimento!</p>\n"
      ],
      "metadata": {
        "id": "HcaBTzpL3fWt"
      }
    },
    {
      "cell_type": "markdown",
      "source": [
        "### Aula 20 Conetando Bases de Dados\n",
        "<h1>Conectando dados no Power BI</h1><h2>Tema central:</h2><p>Conectar diferentes bases de dados no Power BI para fazer análises mais completas</p><h3>Bases de dados utilizadas:</h3><ul><li>Tabela de pedidos (Orders)</li><li>Tabela de produtos (Products)</li><li>Tabela de avaliações (Reviews)</li><li>Tabela de pessoas (People)</li></ul><h3>Etapas para conectar os dados:</h3><ul><li>Importar cada base de dados (CSV)</li><li>Transformar dados (tipos de dados, criar novas colunas)</li><li>Exibição do modelo (juntar tabelas)</li><li>Relacionar colunas entre tabelas<ul><li>ProductID de Orders com ID de Products</li><li>UserID de Orders com ID de People</li><li>ProductID de Reviews com ID de Products</li></ul></li></ul><h3>Análise com dados conectados:</h3><ul><li>Gráfico de pizza de faturamento por categoria de produto<ul><li>Utiliza colunas de faturamento (Orders) e categoria (Products)</li></ul></li><li>Filtragem interativa entre visualizações</li><li>Tooltips com informações das diferentes tabelas</li></ul>"
      ],
      "metadata": {
        "id": "wXy0AlwF3gET"
      }
    },
    {
      "cell_type": "markdown",
      "source": [
        "## Base de Dados - Dashboards no Power Bi"
      ],
      "metadata": {
        "id": "alt_VeET9D0r"
      }
    },
    {
      "cell_type": "markdown",
      "source": [
        "### Aula 21 Direções dos Filtros\n",
        "\n",
        "<h1>Análise de dados de negócios</h1><h2>Gráficos para análise temporal</h2><ul><li>Gráficos de linhas são os melhores para analisar dados ao longo do tempo</li></ul><h2>Análise de clientes criados por mês/ano</h2><ul><li>Tabela People contém dados dos clientes</li><li>Campos:<ul><li>createdAt: data de criação do cliente</li><li>id: número identificador do cliente</li></ul></li><li>Gráfico:<ul><li>Eixo X: mês e ano de criação do cliente</li><li>Eixo Y: número de clientes criados</li></ul></li><li>Permite filtrar por períodos de tempo específicos</li></ul><h2>Conexão entre tabelas e filtros</h2><ul><li>Setinhas no modelo de dados mostram a direção dos filtros<ul><li>Filtros na tabela People afetam tabela Orders</li><li>O contrário não é verdadeiro</li></ul></li><li>Para mudar:<ul><li>Clique na setinha e mude de &quot;único&quot; para &quot;ambos&quot; sentidos</li></ul></li></ul><h2>Análise combinando filtros</h2><ul><li>Pode criar filtros de data nas duas tabelas (People e Orders)</li><li>Filtrar data de criação do cliente afeta faturamento total<ul><li>Clientes antigos continuam comprando depois da data de criação</li></ul></li><li>Importante entender a direção dos filtros<ul><li>Qual tabela está filtrando a outra</li></ul></li><li>Melhor filtrar clientes e ver o efeito no faturamento</li></ul>"
      ],
      "metadata": {
        "id": "NX2XoAdk4qNC"
      }
    },
    {
      "cell_type": "markdown",
      "source": [
        "### Aula 22 Previsão de Faturamento\n",
        "\n",
        "<h1>Previsões no Power BI</h1><h2>Introdução</h2><ul><li>Power BI permite fazer previsões com muita velocidade</li><li>Vamos aprender a usar opções avançadas do gráfico de faturamento para fazer previsões</li><li>Isso envolve quase que machine learning</li></ul><h2>Linha de tendência</h2><ul><li>Interpola os dados para mostrar a tendência média</li><li>Útil quando as variáveis são correlacionadas mas o eixo X não é temporal</li><li>Ex: quantidade de acessos no site vs. vendas</li></ul><h2>Linha de previsão</h2><ul><li>Faz previsões futuras com base nos dados</li><li>Podemos configurar:<ul><li>Quantos pontos prever (meses, anos)</li><li>Sazonalidade (se há padrões cíclicos nos dados)</li><li>Intervalo de confiança</li></ul></li></ul><h2>Outras configurações</h2><ul><li>Formatar visual: nomes de eixos, cores, etc</li><li>Adicionar análises: linhas de tendência, barras de erro, etc</li></ul><h2>Conclusão</h2><ul><li>Poderosa ferramenta de previsão sem precisar de conhecimentos avançados de machine learning</li><li>Permite embasar decisões de negócios com previsões baseadas em dados</li></ul>"
      ],
      "metadata": {
        "id": "ORW1TMK_4uZ7"
      }
    },
    {
      "cell_type": "markdown",
      "source": [
        "### Aula 23 Mapa de clientes\n",
        "<h1>Análise de quantidade de clientes por estado</h1><h2>Configuração inicial</h2><ul><li>Ativar opção de mapa na configuração</li><li>Categorizar colunas como tipo geográfico (cidade, estado, país, latitude, longitude etc.)</li></ul><h2>Mapa</h2><ul><li>Adicionar coluna &quot;estado&quot; para localização</li><li>Adicionar coluna &quot;id&quot; para tamanho da bolha (quantidade de clientes)</li></ul><h2>Gráfico</h2><ul><li>Barras: contagem de id por source</li><li>Filtrar estado no mapa filtra gráfico também</li></ul><h1>Objetivo</h1><p>Ajudar área de marketing com:</p><ul><li>Quantidade de clientes por estado</li><li>Origem dos clientes (fonte de tráfego)</li><li>Cruzamento das informações por estado</li></ul>\n"
      ],
      "metadata": {
        "id": "6uHrg4XO4vcp"
      }
    },
    {
      "cell_type": "markdown",
      "source": [
        "### Aula 24 Análises de Melhores e Piores\n",
        "\n",
        "<h1>Análise dos 10 melhores e 10 piores produtos em faturamento</h1><h2>Introdução</h2><ul><li>Dashboard muito lotado, será criada uma nova página</li><li>Análise será feita em tabelas separadas</li></ul><h2>Top 10 produtos</h2><ul><li>Campos: Título, Categoria, Quantidade, Faturamento</li><li>Ordenação de maior para menor faturamento</li><li>Filtro: 10 produtos superiores em faturamento<ul><li>Utiliza ProductID (único) no filtro</li></ul></li></ul><h2>Bottom 10 produtos</h2><ul><li>Cópia da tabela top 10</li><li>Ordenação de pior para melhor faturamento</li><li>Filtro: 10 produtos inferiores em faturamento</li></ul><h2>Filtro por data</h2><ul><li>Sincronização de filtros entre páginas</li><li>Permite filtrar top e bottom por data</li></ul>"
      ],
      "metadata": {
        "id": "wmmyku434w82"
      }
    },
    {
      "cell_type": "markdown",
      "source": [
        "### Aula 25 Finalizando as Análises de Negócio\n",
        "<h1>Tema central: Análise de negócios</h1><h2>Total de impostos</h2><ul><li>Criou um novo card para calcular o total de impostos</li></ul><h2>Avaliação média</h2><ul><li>Criou um novo card para mostrar a avaliação média dos produtos</li></ul><h2>Filtros</h2><ul><li>Filtro por nota para ver produtos com melhores notas</li><li>Corrigiu a direção da seta no star schema para o filtro funcionar corretamente</li><li>Adicionou filtro por categoria</li></ul><h2>Top 10 e Bottom 10 produtos por avaliação</h2><ul><li>Criou tabela para mostrar:<ul><li>Quantidade de avaliações</li><li>Média das avaliações</li></ul></li><li>Filtrando para mostrar os 10 produtos:<ul><li>Com melhores avaliações (Top 10)</li><li>Com piores avaliações (Bottom 10)</li></ul></li></ul><h2>Considerações finais</h2><ul><li>Respondeu todas as perguntas de negócio necessárias</li><li>Próximo passo é melhorar a aparência visual do dashboard</li></ul>\n",
        "\n"
      ],
      "metadata": {
        "id": "8gNdP7C_4yJ7"
      }
    },
    {
      "cell_type": "markdown",
      "source": [
        "### Aula 26 Estilizando o Dashboard\n",
        "<p>Tema central: Formatação de um dashboard no Power BI</p><h1>Formatação geral</h1><ul><li>Mudança de temas visuais (cores, fontes, etc)</li><li>Redimensionamento e realocação dos elementos</li><li>Adição de títulos e textos explicativos</li></ul><h1>Formatação de cartões (cards)</h1><ul><li>Redução do tamanho da fonte</li><li>Formatação para moeda dos valores</li><li>Adição de títulos personalizados</li><li>Adição de bordas, sombras e efeitos</li><li>Cópia rápida de formatação entre cards</li></ul><h1>Formatação de filtros</h1><ul><li>Redimensionamento</li><li>Adição de cores de fonte e bordas</li><li>Adição de títulos personalizados</li><li>Alinhamento e distribuição uniforme</li></ul><h1>Formatação de gráficos</h1><ul><li>Cópia de formatação de cartões</li><li>Adição/alteração de títulos personalizados</li><li>Ajuste de posicionamento e tamanho</li></ul><p>O vídeo mostra passo a passo as etapas de formatação de um dashboard, incluindo formatação geral da página, tratamento individual de elementos como cartões, filtros e gráficos, com foco em melhorar a aparência, legibilidade e interpretação.</p>\n"
      ],
      "metadata": {
        "id": "iHoaeB9x4zqC"
      }
    },
    {
      "cell_type": "markdown",
      "source": [
        "### Aula 27 Exportando um Relatório\n",
        "<h1>Estilização de Dashboards</h1><h2>Página 1 - Vendas</h2><ul><li>Renomeação da página</li><li>Formatação da coluna &quot;Data da Compra&quot;</li><li>Título &quot;Análise de Melhores e Piores Produtos&quot;</li><li>Formatação das tabelas<ul><li>Bordas</li><li>Títulos</li><li>Cores das linhas</li><li>Cores de fundo alternadas</li><li>Renomeação das colunas</li></ul></li><li>Ajuste do layout</li></ul><h2>Página 2 - Análise</h2><ul><li>Renomeação da página</li><li>Checagem da ordenação correta das tabelas</li><li>Exportação do Dashboard<ul><li>Em PDF</li><li>Para compartilhar por e-mail</li></ul></li></ul><p>O vídeo mostra o passo a passo da estilização de um dashboard com dois páginas, focando na formatação de elementos como colunas, tabelas e layout, de forma a tornar a visualização e análise dos dados mais intuitiva e eficiente para o usuário final.</p>\n",
        "\n"
      ],
      "metadata": {
        "id": "HdP_CaQa404v"
      }
    },
    {
      "cell_type": "markdown",
      "source": [
        "## Base de Dados - Introdução ao VBA"
      ],
      "metadata": {
        "id": "vOBDO3_Y9IJx"
      }
    },
    {
      "cell_type": "markdown",
      "source": [
        "### Aula 28 Fundamentos do VBA\n",
        "<h1>Automatização de Processos com VBA no Excel</h1><h2>Introdução</h2><ul><li>Apresentação do instrutor Juan, Product Manager na DNC</li><li>O VBA permite automatizar processos no Excel para ganhar tempo</li><li>Não é requisito para vagas, mas é uma habilidade útil</li></ul><h2>O que é o VBA</h2><ul><li>Linguagem de programação para criar rotinas no Excel</li><li>Permite mostrar para o Excel o passo a passo para realizar uma tarefa</li><li>Mundo de possibilidades para criar funções personalizadas</li></ul><h2>Exemplo de uso</h2><ul><li>Enviar um e-mail com um relatório/dashboard automaticamente</li><li>Basta clicar em um botão que tira print da tela e envia por e-mail</li><li>Integra com ferramentas do Office como e-mail</li></ul><h2>Pré-requisito</h2><ul><li>Habilitar a aba Desenvolvedor no Excel</li><li>Permite trabalhar com macros e VBA para automatização</li><li>Visto em: Arquivo &gt; Opções &gt; Personalizar Faixa de Opções</li></ul><h2>Conteúdos das próximas aulas</h2><ul><li>Iniciar desenvolvimento de macros e VBA</li><li>Aprender mais sobre como funcionam</li><li>Testar funções para facilitar o dia a dia</li></ul>"
      ],
      "metadata": {
        "id": "Wi7J7YNi6hhU"
      }
    },
    {
      "cell_type": "markdown",
      "source": [
        "### Aula 29 Criando a Primeira Macro\n",
        "<h1>Tema central: Introdução ao VBA e macros no Excel</h1><h2>O que é VBA</h2><ul><li>Linguagem de programação por trás do funcionamento do Excel</li><li>Todas as funções e edições que fazemos são códigos rodando em VBA</li></ul><h2>O que são macros</h2><ul><li>Conjunto de ações/comandos que podem ser gravados e executados no Excel</li><li>Sequência de passos que o Excel vai seguir quando a macro for acionada</li></ul><h2>Gravar uma macro</h2><ul><li>Vá na aba Desenvolvedor &gt; Botão Gravar Macro</li><li>Dê um nome e clique OK</li><li>Faça as ações desejadas (ex: formatar células)</li><li>Pare a gravação</li><li>Macro ficará salva para uso posterior</li></ul><h2>Executar a macro</h2><ul><li>Pode criar um botão e atribuir a macro a ele</li><li>Ao clicar no botão, a macro será executada</li></ul><h2>Editar a macro</h2><ul><li>Clicando em Macros, é possível ver e editar o código VBA por trás</li><li>O código pode ser modificado para obter novos comportamentos</li><li>É possível referenciar qualquer célula ativa com ActiveCell</li></ul><h2>Considerações finais</h2><ul><li>Macros gravam ações na interface do Excel</li><li>VBA permite criar ações mais avançadas, sem limites</li><li>O foco aqui é entender a lógica básica por trás das macros</li></ul>\n",
        "\n"
      ],
      "metadata": {
        "id": "zro58BSQ6jki"
      }
    },
    {
      "cell_type": "markdown",
      "source": [
        "### Aula 30 Enviando o primeiro e-mail automatizado\n",
        "<h2>Envio de e-mails pelo VBA</h2><ul><li><p>Introdução</p><ul><li>Objetivo: Criar funcionalidade no Excel para envio automatizado de e-mails</li><li>Será utilizado o Outlook para realizar o envio dos e-mails</li></ul></li><li><p>Pré-requisitos</p><ul><li><p>Ter o Outlook instalado</p><ul><li>Fazer download caso não tenha</li><li>Criar conta Outlook se necessário</li></ul></li><li><p>Entender o fluxo manual de envio de e-mail no Outlook</p><ol><li>Abrir Outlook</li><li>Criar novo e-mail</li><li>Preencher destinatário, assunto e corpo</li><li>Enviar e-mail</li></ol></li></ul></li><li><p>Código VBA</p><ul><li><p>Criar sub rotina <code>EnviarEmail</code></p></li><li><p>Criar dimensões (objetos)</p><ul><li><code>OutlookApp As Object</code></li><li><code>OutlookMail As Object</code></li></ul></li><li><p>Abrir Outlook</p><ul><li><code>Set OutlookApp = CreateObject(&quot;Outlook.Application&quot;)</code></li></ul></li><li><p>Criar novo e-mail</p><ul><li><code>Set OutlookMail = OutlookApp.CreateItem(0)</code></li></ul></li><li><p>Preencher parâmetros do e-mail</p><ul><li>Destinatário: <code>OutlookMail.To = &quot;fulano@email.com&quot;</code></li><li>Assunto: <code>OutlookMail.Subject = &quot;Teste Macro&quot;</code></li><li>Corpo: <code>OutlookMail.Body = &quot;Teste teste&quot;</code></li></ul></li><li><p>Enviar e-mail</p><ul><li><code>OutlookMail.Send</code></li></ul></li><li><p>Fechar aplicativos</p><ul><li><code>Set OutlookApp = Nothing</code></li><li><code>Set OutlookMail = Nothing</code></li></ul></li></ul></li><li><p>Considerações finais</p><ul><li>Código permite envio automatizado de e-mails pelo Excel</li><li>Pode ser expandido para casos de uso mais complexos</li></ul></li></ul>"
      ],
      "metadata": {
        "id": "6M55Gj7j6neF"
      }
    },
    {
      "cell_type": "markdown",
      "source": [
        "### Aula 31 Configurando a imagem a ser enviada\n",
        "<h1>Exportando dashboards por e-mail</h1><h2>Introdução</h2><ul><li>Já estruturamos o e-mail</li><li>Vamos exportar o dashboard como PDF para anexar no e-mail</li></ul><h2>Criando a macro para exportar PDF</h2><ul><li>Gravei uma macro exportando uma seleção de células como PDF</li><li>Testei a macro para verificar se está funcionando</li><li>Analisei o código VBA gerado</li></ul><h2>Integrando a macro no envio de e-mail</h2><ul><li>Chamei a função PDF antes de montar o corpo do e-mail</li><li>Adicionei o arquivo PDF como anexo usando o caminho do arquivo</li><li>Melhorei o texto do e-mail para ser mais descritivo</li></ul><h2>Resultado</h2><ul><li>A macro envia o e-mail com o PDF anexado corretamente</li><li>Próximo passo é facilitar a execução para o usuário final</li></ul>"
      ],
      "metadata": {
        "id": "yMqRhRMQ6otD"
      }
    },
    {
      "cell_type": "markdown",
      "source": [
        "### Aula 32 Ajustando código\n",
        "<h1>Automatizando planilhas no Excel com Macros e VBA</h1><h2>Contexto</h2><ul><li>Criando uma aplicação no Excel para enviar e-mails com relatórios em PDF automaticamente</li></ul><h2>Objetivo</h2><ul><li>Tornar o processo de envio de e-mails com relatórios mais fácil e automatizado</li></ul><h2>Funcionalidades desenvolvidas</h2><h3>1. Impedir a abertura automática do PDF</h3><ul><li>Alterado configuração para não abrir PDF após publish</li></ul><h3>2. Atribuir macro ao botão &quot;Enviar&quot;</h3><ul><li>Ao clicar no botão, dispara macro para:<ul><li>Gerar PDF</li><li>Enviar e-mail com PDF em anexo</li></ul></li></ul><h3>3. Puxar e-mail de destinatário de uma célula</h3><ul><li>Antes: e-mail fixo no código VBA</li><li>Agora: referencia uma célula que contém o e-mail</li></ul><h2>Benefícios</h2><ul><li>Processo totalmente automatizado, sem precisar abrir outros softwares</li><li>Pode customizar outras informações puxando de células (assunto do e-mail, corpo do e-mail)</li><li>Facilita o trabalho e impressiona pessoas ao redor</li><li>Importante se manter atualizado em automações para se destacar no mercado</li></ul>"
      ],
      "metadata": {
        "id": "L2RirNKU6qfC"
      }
    },
    {
      "cell_type": "markdown",
      "source": [
        "### Aula 33 Pesquisa de Satisfação - Base de dados"
      ],
      "metadata": {
        "id": "iZBOLkCL6roo"
      }
    },
    {
      "cell_type": "markdown",
      "source": [
        "## Aula ao Vivo - Introdução a Analise de Dados"
      ],
      "metadata": {
        "id": "SjUrT6yV9OCw"
      }
    },
    {
      "cell_type": "markdown",
      "source": [
        "## Desafio 1: Preveja os resultados de um e-commerce utilizando o Power Bi"
      ],
      "metadata": {
        "id": "N5vucIiA9Ww9"
      }
    }
  ]
}
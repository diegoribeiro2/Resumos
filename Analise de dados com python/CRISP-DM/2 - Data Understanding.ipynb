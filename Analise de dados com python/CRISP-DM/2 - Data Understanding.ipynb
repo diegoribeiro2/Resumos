{
  "cells": [
    {
      "cell_type": "markdown",
      "metadata": {
        "id": "38HRUrReSiB9"
      },
      "source": [
        "## **Módulo Matéria 04** - Análise de Regressão em Python Parte 03 Crisp-DM"
      ]
    },
    {
      "cell_type": "markdown",
      "metadata": {
        "id": "kexwXapgmN8Y"
      },
      "source": [
        "## Data Understanding\n",
        "\n"
      ]
    },
    {
      "cell_type": "markdown",
      "metadata": {
        "id": "UosKNgPITllD"
      },
      "source": [
        "### 302 Definindo a etapa: Data Understanding\n",
        "\n",
        "######Collect Initial Data, Describe Data, Explore Data, Verify Data Quality\n",
        "######1.Inital data collection report\n",
        "######2.Data Description Report\n",
        "######3.Data Exploration Report\n",
        "######4. Data Quality Report\n",
        "<h1>Fase de Data Understanding</h1><h2>Tema central</h2><p>Análise inicial dos dados de um projeto de ciência de dados</p><h2>Tarefas</h2><h3>Coleta inicial dos dados</h3><ul><li>Adquirir ou obter acesso aos dados necessários</li><li>Carregar os dados na plataforma de análise (MetaBase, Jupyter etc.)</li><li>Pode envolver a junção de múltiplas fontes de dados (Excel, SQL, CRM etc.)</li><li>Saída: Relatório descrevendo as fontes de dados e problemas na coleta</li></ul><h3>Descrição dos dados</h3><ul><li>Examinar de forma superficial os tipos e quantidades de dados</li><li>Identificar se são textuais, numéricos etc.</li><li>Quantos registros existem</li><li>Saída: Relatório descritivo dos dados</li></ul><h3>Exploração dos dados</h3><ul><li>Fazer consultas, visualizações e análises estatísticas básicas</li><li>Definir a variável target (que queremos predizer)</li><li>Apoia a descrição dos dados e verificação da qualidade dos dados</li><li>Saída: Relatório com o que foi descoberto na exploração</li></ul><h3>Verificação da qualidade dos dados</h3><ul><li>Avaliar completude, problemas e falta de dados</li><li>Identificar principais problemas e possíveis soluções</li><li>Saída: Relatório sobre problemas de qualidade e soluções</li></ul><h2>Importância</h2><ul><li>Coleta de dados de várias fontes aumenta complexidade</li><li>Qualidade dos dados impacta modelos e preparação de dados</li><li>Bons dados resultam em bons projetos</li></ul>\n"
      ]
    },
    {
      "cell_type": "markdown",
      "metadata": {
        "id": "eiH9JSk9VtQ8"
      },
      "source": [
        "### 303 Na prática do Entendimento dos Dados\n",
        "###### Crisp - DM 1.0\n",
        "###### tipo de dados , negócio, qual o tamanho da oportunidade\n",
        "<h1>Aumento de vendas de seguros</h1><h2>Etapa de Data Understanding</h2><h3>Coleta inicial dos dados</h3><ul><li>Dados já estavam consolidados em um Data Lake</li><li>Facilitou a coleta inicial</li></ul><h3>Descrição dos dados</h3><ul><li>130 features sobre cada cliente</li><li>Identificação do tipo de cada variável (inteiro, string, float, etc)</li><li>Análise de algumas variáveis desconhecidas</li></ul><h3>Exploração dos dados</h3><ul><li>16% dos clientes possuem algum seguro</li><li>Metade dos clientes com seguro possuem seguro de vida</li><li>Começa a entender o contexto do problema</li></ul><h3>Verificação da qualidade dos dados</h3><ul><li>Idade média muito baixa</li><li>Identificação de idades negativas e muito altas (erro nos dados)</li><li>Necessidade de tratamento na etapa de Data Preparation</li></ul><h2>Considerações finais</h2><ul><li>Não é a etapa de tomar decisões ou resolver problemas</li><li>É onde se começa a entender os dados e o contexto de negócio</li><li>Base para as próximas etapas</li></ul>\n"
      ]
    },
    {
      "cell_type": "markdown",
      "metadata": {
        "id": "xG0HrzA4VwZk"
      },
      "source": [
        "### 304 Tipos de Problemas de Mineração\n",
        "######Segmentação, Classificação, Predição, Análises de dependências, recomendação\n",
        "######Separação de base de dados subgrupos ou classes significantes\n",
        "######Classe rótulo descritivo\n",
        "######variável contínua e regressão\n",
        "######encontrar um modelo a dependência entre esses dois valores duas variáveis, associação\n",
        "######tipo Netflix\n",
        "<h1>Tipos de problemas de mineração de dados</h1><h2>Tema central</h2><ul><li>Principais tipos de problemas que podem ser resolvidos com mineração de dados</li></ul><h2>Segmentação</h2><ul><li>Objetivo: Separar uma base de dados em subgrupos ou classes significantes</li><li>Técnicas: Clusterização, visualização de dados, redes neurais</li></ul><h2>Classificação</h2><ul><li>Objetivo: Atribuir classes/rótulos a objetos não rotulados previamente</li><li>Exemplo: Classificar clientes de banco como bons pagadores ou maus pagadores</li><li>Algoritmos: KNN, árvores de decisão</li></ul><h2>Predição</h2><ul><li>Semelhante à classificação, mas com variável numérica contínua (ao invés de classes)</li><li>Também chamada de regressão</li><li>Exemplo: Prever o lucro gerado por cliente em um banco</li></ul><h2>Análise de dependências</h2><ul><li>Encontrar dependência entre duas variáveis</li><li>Exemplo: Taxa de abandono de cursos e idade dos alunos</li><li>Técnicas: Análise de correlação, regressão, regras de associação</li></ul><h2>Recomendação</h2><ul><li>Recomendar produtos/serviços que o usuário deverá gostar</li><li>Exemplos: Netflix, Spotify</li><li>Técnicas: Colaborativa, baseada em conteúdo, híbrida</li></ul><h2>Considerações finais</h2><ul><li>Importante conhecer esses problemas para conectar com objetivo de negócio do projeto</li><li>Algoritmos serão vistos mais a frente</li></ul>\n"
      ]
    },
    {
      "cell_type": "markdown",
      "metadata": {
        "id": "64Rnm7YdhXH7"
      },
      "source": [
        "### 305 Resumo do módulo\n",
        "<h1>Tema central: Fase de business understanding em projetos de mineração de dados</h1><h2>Objetivo da fase de business understanding</h2><ul><li>Entender claramente os principais problemas e oportunidades de negócio que podem ser endereçados com a mineração de dados</li><li>Ter uma visão do valor que será entregue ao cliente</li></ul><h2>Preparação para a próxima fase (data understanding)</h2><ul><li>Começar a entender os dados disponíveis no cliente</li><li>Identificar fontes de dados relevantes para resolver os problemas de negócio</li></ul><h2>Postura e atitudes importantes</h2><ul><li>Ter postura de consultor, não de funcionário do cliente</li><li>Encantar o cliente e entregar valor</li><li>Respeitar o tempo e prioridades do cliente</li></ul><h2>Outros pontos</h2><ul><li>Cuidado com os dados do cliente:<ul><li>Não expor publicamente</li><li>Usar apenas para fins do projeto e portfolio pessoal</li></ul></li></ul><p>Espero que este resumo em forma de mapa mental destaque os principais tópicos e relações abordados no vídeo. Avise-me se você precisar de algum esclarecimento ou informação adicional!</p>"
      ]
    }
  ],
  "metadata": {
    "colab": {
      "provenance": []
    },
    "kernelspec": {
      "display_name": "Python 3",
      "name": "python3"
    },
    "language_info": {
      "name": "python"
    }
  },
  "nbformat": 4,
  "nbformat_minor": 0
}

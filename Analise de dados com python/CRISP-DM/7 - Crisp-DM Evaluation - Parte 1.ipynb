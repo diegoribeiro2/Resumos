{
  "cells": [
    {
      "cell_type": "markdown",
      "metadata": {
        "id": "_Q4mXX8U3Fky"
      },
      "source": [
        "#Matéria 04 - Análise de Regressão em Python pt 04 b"
      ]
    },
    {
      "cell_type": "markdown",
      "metadata": {
        "id": "g-HesRcon2wd"
      },
      "source": [
        "## Resumo e Extra"
      ]
    },
    {
      "cell_type": "markdown",
      "metadata": {
        "id": "r63L0_AkUP2S"
      },
      "source": [
        "### 325 Resumo do Módulo\n",
        "<h1>Modeling no Crisp-DM</h1><h2>Tarefas</h2><ul><li>Select Modeling Techniques<ul><li>Escolher técnicas de modelagem (modelos) a serem testados</li><li>Definir restrições dos modelos (por ex. não lidar com variáveis categóricas)</li></ul></li><li>Generate Test Design<ul><li>Definir separação do dataset (treino e teste) via K-Fold Cross Validation</li><li>Escolher métrica de avaliação dos modelos (ex. MSE, RMSE)</li></ul></li><li>Build Model<ul><li>Construir os modelos com parâmetros padrão</li><li>Treinar os modelos nos dados de treino (X e y)</li></ul></li><li>Assess Model<ul><li>Avaliar performance dos modelos</li><li>Otimizar hiperparâmetros com Grid Search</li><li>Melhorar performance do melhor modelo</li></ul></li></ul><h2>Observações</h2><ul><li>O Crisp-DM fornece um guia de tarefas para não esquecer nada importante no projeto</li><li>Não dita regras específicas (por ex. usar Grid Search e não Random Search)</li><li>Cabe ao cientista de dados aplicar seu conhecimento técnico em cada tarefa</li></ul>"
      ]
    },
    {
      "cell_type": "markdown",
      "metadata": {
        "id": "6eQY5rd5UTwZ"
      },
      "source": [
        "### 326 Extra - Auto ML\n",
        "<h1>Tema central: AutoML na prática</h1><h2>O que é AutoML</h2><ul><li>Ferramenta que testa automaticamente vários modelos de Machine Learning em um dataset</li><li>Escolhe o melhor modelo com base em uma métrica definida</li><li>Pode ajudar na etapa de seleção de modelos (model selection)</li></ul><h2>Biblioteca AutoSklearn</h2><ul><li>Permite rodar AutoML para modelos de regressão e classificação do Sklearn</li><li>Tem vários parâmetros de configuração<ul><li>tempo máximo de execução</li><li>tempo máximo por modelo</li><li>métrica para avaliar melhor modelo</li><li>modelos para incluir/excluir</li><li>etc</li></ul></li></ul><h2>Exemplo prático</h2><ul><li>Utilizado dataset de Boston</li><li>Separação entre dados de treino e teste</li><li>Configuração do AutoSklearn para regressão</li><li>Definição de métrica Mean Squared Error</li><li>Treinamento dos modelos</li><li>Melhor modelo encontrado: Gaussian Process</li><li>Teste do modelo: predição e cálculo das métricas</li><li>Comparação com modelos selecionados manualmente<ul><li>Desempenho inferior ao XGBoost otimizado</li><li>Melhor que regressão linear e SVR simples</li></ul></li></ul><h2>Conclusões</h2><ul><li>AutoML pode ajudar na seleção de modelos</li><li>Não substitui completamente a seleção manual</li><li>Output pode ser usado para decidir quais modelos testar e otimizar</li></ul>"
      ]
    },
    {
      "cell_type": "markdown",
      "metadata": {
        "id": "1jnMBkRvokF3"
      },
      "source": [
        "## CRISP- DM Evaluation - Parte I"
      ]
    },
    {
      "cell_type": "markdown",
      "metadata": {
        "id": "5q9SjOgaUVXS"
      },
      "source": [
        "### 327 Boas Vindas ao Módulo\n",
        "<h1>Evaluation</h1><h2>Tema central</h2><p>Fase do processo CRISP-DM responsável por avaliar os resultados do modelo de Machine Learning desenvolvido e determinar os próximos passos.</p><h2>Tópicos abordados</h2><h3>Definição de Evaluation</h3><ul><li>Fase que envolve menos construção de código</li><li>Objetivo é avaliar todo o cenário e resultados</li></ul><h3>Tasks</h3><ul><li>Evaluate Results<ul><li>Avaliar os resultados obtidos</li></ul></li><li>Review Process<ul><li>Revisar todo o processo realizado</li></ul></li><li>Determine Next Steps<ul><li>Determinar próximos passos com base na avaliação</li></ul></li></ul><h3>Evaluation na prática</h3><ul><li>Análise de casos de projetos sem construção de código</li><li>Foco em avaliar resultados e processo</li></ul><h3>Resumo de Evaluation</h3><ul><li>Importante fase do CRISP-DM</li><li>Não envolve codificação</li><li>Centrada em avaliação de resultados e processo para determinar próximos passos</li></ul>"
      ]
    },
    {
      "cell_type": "markdown",
      "metadata": {
        "id": "0VNgcqGCUXDR"
      },
      "source": [
        "### 328 O que é Evaluation\n",
        "<h1>Avaliação (Evaluation)</h1><h2>Tema central</h2><p>Fase de avaliação do processo de mineração de dados seguindo o framework CRISP-DM.</p><h2>Tópicos abordados</h2><h3>Retorno ao entendimento de negócio (Business Understanding)</h3><ul><li>Avalia os critérios de negócio definidos inicialmente</li><li>Verifica se o processo faz sentido sob a perspectiva de negócio</li></ul><h3>Avaliação dos resultados (Evaluate Results)</h3><ul><li>Avalia os outputs dos modelos</li><li>Avalia os achados (findings) obtidos durante o processo</li><li>Findings podem levar a novos projetos e questionamentos</li></ul><h3>Revisão dos processos (Review Process)</h3><ul><li>Reavalia todas as outras etapas percorridas</li></ul><h3>Próximos passos (Determine Next Steps)</h3><ul><li>Lista de possíveis ações a serem tomadas</li><li>Decisões sobre continuidade</li></ul><p>Espero que este resumo em forma de mapa mental ajude a ter uma visão geral dos principais tópicos abordados sobre a fase de Evaluation do CRISP-DM. Utilizei markdown para destacar os tópicos principais e facilitar a visualização. Caso algo não tenha ficado claro ou você queira algum esclarecimento adicional, por favor me avise.</p>"
      ]
    },
    {
      "cell_type": "markdown",
      "metadata": {
        "id": "zfXqxa9PUYza"
      },
      "source": [
        "### 329 Evaluate Results\n",
        "<h1>Avaliação dos resultados</h1><h2>Visão geral</h2><ul><li>Etapa importante para avaliar todas as descobertas e insights obtidos durante o projeto</li><li>Dois outputs principais:<ul><li>Assessment da mineração de dados</li><li>Modelos aprovados</li></ul></li></ul><h2>Avaliação</h2><ul><li>Realizar com visão de negócios<ul><li>Faz sentido para o negócio?</li><li>Atinge o critério de sucesso de negócios?</li></ul></li><li>Se não atingiu o critério<ul><li>Identificar possíveis causas</li><li>Informações que podem estar prejudicando o modelo</li></ul></li><li>Interpretar e entender os resultados</li><li>Identificar novos objetivos de negócio</li><li>Listar recomendações para futuros projetos</li></ul><h2>Outputs</h2><ul><li><strong>Assessment de mineração de dados</strong><ul><li>Resumo de todos os insights e descobertas</li></ul></li><li><strong>Modelos aprovados</strong><ul><li>Modelos que atendem aos critérios de negócio</li><li>Pode ser nenhum, alguns ou todos</li></ul></li></ul>"
      ]
    },
    {
      "cell_type": "markdown",
      "metadata": {
        "id": "gino3UBSUbHY"
      },
      "source": [
        "### 330 Reviews Process\n",
        "<h1>Revisão de Processo</h1><h2>O que é</h2><ul><li>Fase que revisa todo o projeto para garantir qualidade</li><li>Revisão linear (diferente da preparação de dados que é iterativa)</li><li>Pressupõe que critérios de sucesso já foram atingidos</li></ul><h2>Importância</h2><ul><li>Revisar cada fase do projeto</li><li>Validar qualidade da construção do modelo</li><li>Identificar problemas que passaram despercebidos</li></ul><h2>Perguntas a fazer</h2><ul><li>A etapa foi necessária?</li><li>Está otimizada?</li><li>Como pode ser melhorada?</li></ul><h2>Pontos de atenção</h2><ul><li>Identificar falhas e etapas erradas</li><li>Identificar caminhos inesperados<ul><li>Ex: fonte de dados externas que podem parar de funcionar</li></ul></li></ul><h2>Saída</h2><ul><li>Processo revisado</li><li>Destacar o que precisa ser refeito ou melhorado</li><li>Documentar de forma resumida (notebook, código comentado, documento separado)</li></ul>"
      ]
    }
  ],
  "metadata": {
    "colab": {
      "provenance": [],
      "toc_visible": true
    },
    "kernelspec": {
      "display_name": "Python 3",
      "name": "python3"
    },
    "language_info": {
      "name": "python"
    }
  },
  "nbformat": 4,
  "nbformat_minor": 0
}

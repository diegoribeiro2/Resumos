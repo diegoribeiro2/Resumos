{
  "cells": [
    {
      "cell_type": "markdown",
      "metadata": {
        "id": "38HRUrReSiB9"
      },
      "source": [
        "## **Módulo Matéria 04** - Análise de Regressão em Python Parte 03 Crisp-DM"
      ]
    },
    {
      "cell_type": "markdown",
      "metadata": {
        "id": "l8RJq6H5m0jX"
      },
      "source": [
        "## Definindo o Data Preparation"
      ]
    },
    {
      "cell_type": "markdown",
      "metadata": {
        "id": "ClRl4Y4vVxw8"
      },
      "source": [
        "### 306 Definindo o Data Preparation\n",
        "######Fase mais longa 60 % - 80 %\n",
        "######Dataset Dataset Description\n",
        "<h2>Tema central: Data Preparation</h2><ul><li>Fase de preparação dos dados para modelagem no processo CRISP-DM<ul><li>Terceira fase do CRISP-DM<ul><li>Após Business Understanding e Data Understanding</li></ul></li><li>Fase mais longa (60-80% do projeto)</li><li>Fundamental para o sucesso do projeto</li></ul></li></ul><h3>Etapas</h3><ul><li>Select Data<ul><li>Selecionar os dados relevantes</li></ul></li><li>Clean Data<ul><li>Limpeza e tratamento dos dados</li></ul></li><li>Construct Data<ul><li>Construção de novos atributos</li></ul></li><li>Integrate Data<ul><li>Integração de diferentes fontes de dados</li></ul></li></ul><h3>Saídas</h3><ul><li>Dataset</li><li>Dataset Description<ul><li>Documentação do dataset final</li></ul></li></ul><h3>Observação</h3><ul><li>CRISP-DM fornece o fluxo, não as técnicas<ul><li>Técnicas devem ser aprendidas em outras disciplinas</li><li>Cabe ao cientista de dados escolher as melhores técnicas para cada etapa</li></ul></li></ul>"
      ]
    },
    {
      "cell_type": "markdown",
      "metadata": {
        "id": "Y2zWnDB0m7NF"
      },
      "source": [
        "## Data e Data Description"
      ]
    },
    {
      "cell_type": "markdown",
      "metadata": {
        "id": "mvlWsRNwaetl"
      },
      "source": [
        "### 307 Dataset e Data Description\n",
        "######Dataset é o conjunto de dados.\n",
        "######Output do seu Data Preparation\n",
        "######Resultado (separação de dataset de treino e de teste)\n",
        "######Raw Dataset é conjunto de dados bruto.\n",
        "###### Data Description descrever as features do seu Data set.\n",
        "<h1>Dataset e Preparação de Dados</h1><h2>Conceitos Principais</h2><ul><li><strong>Dataset</strong>:<ul><li>Conjunto de dados já tratado e preparado, pronto para ser utilizado na modelagem</li><li>Output da fase de preparação de dados</li></ul></li><li><strong>Raw Dataset</strong>:<ul><li>Conjunto de dados bruto, cru, como recebido do cliente</li><li>Input para a preparação de dados</li></ul></li><li><strong>Dataset Description</strong>:<ul><li>Documento descritivo do dataset final</li><li>Indica nome, tipo e significado de cada coluna</li><li>Gerado após a conclusão da preparação de dados</li></ul></li></ul><h2>Etapas da Preparação de Dados</h2><ul><li><strong>Select Data</strong>: Selecionar colunas e dados relevantes</li><li><strong>Clean Data</strong>: Limpeza e tratamento dos dados</li><li><strong>Construct Data</strong>: Construção de novas colunas (features)</li><li><strong>Integrate Data</strong>: Integração de diferentes fontes de dados</li><li><strong>Format Data</strong>: Formatação dos dados no formato apropriado</li></ul><h2>Importância</h2><ul><li>Entender os objetivos de negócio e variável alvo</li><li>Gerar dataset pronto para uso em modelagem</li><li>Melhorar qualidade e utilidade dos dados</li></ul>\n",
        "\n",
        "\n"
      ]
    },
    {
      "cell_type": "markdown",
      "metadata": {
        "id": "7dxgcHb_aPG8"
      },
      "source": [
        "### 308 Select Data\n",
        "######Quais features são relevantes?\n",
        "######Quais linhas são relevantes?\n",
        "######Conhecimento de negócio ;\n",
        "######Relevância para nosso target ;\n",
        "######Qualidade e restrição técnicas ;\n",
        "######Qual a nossa correlação com nosso target?\n",
        "######Raiotale for inclusion/exclusion\n",
        "######Justificava para inclusão/exclusão\n",
        "<h1>Selecionar Dados</h1><h2>O que é</h2><ul><li>Escolher quais colunas (features) e linhas usar no dataset</li><li>Definir o que é relevante para o modelo e objetivo</li></ul><h2>Critérios</h2><ul><li>Relevância para o objetivo</li><li>Qualidade dos dados</li><li>Restrições técnicas</li></ul><h2>Técnicas</h2><ul><li>Analisar correlação entre features e target</li><li>Identificar missing values e dados inconsistentes</li></ul><h2>Resultado</h2><ul><li>Rationality for Inclusion or Exclusion</li><li>Lista do que será incluído e excluído e o motivo</li></ul><h2>Exemplos</h2><ul><li>Excluir nome: restrição técnica (necessitaria NLP)</li><li>Excluir category: alta correlação com main category</li><li>Excluir goal: será usada goal_USD com valores convertidos</li></ul><h2>Iterativo</h2><ul><li>Pode precisar voltar nessa etapa após modeling se modelo não performar bem</li></ul>"
      ]
    },
    {
      "cell_type": "markdown",
      "metadata": {
        "id": "fhcEBgQZaegV"
      },
      "source": [
        "### 309 Clean Data\n",
        "######Aprofundar na qualidade dados;\n",
        "######Inicio limpeza de dados selecionar:\n",
        "######Subconjuntos, alguns padrões, fazer algumas estimativas\n",
        "######Data cleaning Report\n",
        "<p>TEMA CENTRAL: Limpeza de dados (Data Cleaning)</p><ul><li>Correlacionada com a tarefa de verificar a qualidade dos dados<ul><li>Resolve os problemas reportados na verificação da qualidade dos dados</li></ul></li><li>Tipos de limpeza<ul><li>Selecionar subconjunto de dados limpos</li><li>Selecionar padrões para preencher problemas<ul><li>Ex: Substituir valores ausentes pela moda</li></ul></li><li>Fazer estimativas<ul><li>Ex: Calcular média para preencher valores ausentes</li></ul></li></ul></li><li>Exemplos<ul><li>Remover símbolos de moeda e converter coluna para numérica</li><li>Corrigir datas inconsistentes usando moda ou média</li><li>Preencher valores de moeda ausentes com moda ou comparando com outras colunas</li></ul></li><li>Interação com formatação de dados<ul><li>As duas tarefas podem ser feitas em conjunto</li></ul></li><li>Conhecimento de negócio é importante<ul><li>Para decidir as melhores formas de limpeza</li></ul></li><li>Output: Data Cleaning Report<ul><li>Descreve os métodos e decisões de limpeza</li><li>Explica o que foi feito e por quê</li></ul></li></ul>\n"
      ]
    },
    {
      "cell_type": "markdown",
      "metadata": {
        "id": "i4gaYNwXaeFF"
      },
      "source": [
        "### 310 Construct Data\n",
        "######Combinação de outras feature;\n",
        "######Registros inteiros novos;\n",
        "######Valores transformados;\n",
        "######Dois outputs:\n",
        "######Derived Atributes: a partir de um ou mais atributos existentes;\n",
        "######Generated Records: registros novos.\n",
        "<h1>Construindo Novos Dados</h1><h2>Técnicas para construir novas features</h2><ul><li>Combinar features existentes<ul><li>Exemplo: Criar feature &quot;time_range&quot; combinando &quot;deadline&quot; e &quot;launched&quot;</li></ul></li><li>Transformar valores<ul><li>Exemplo: Converter moedas usando valor, cotação e criando valor em dólar</li></ul></li><li>Criar medidas de distância<ul><li>Exemplo: Distância entre local de trabalho e residência</li></ul></li><li>One-hot encoding<ul><li>Transforma variáveis categóricas em variáveis booleanas (0 ou 1)</li><li>Facilita uso em alguns modelos</li></ul></li></ul><h2>Outputs</h2><ul><li>Derived attributes<ul><li>Novos atributos construídos a partir de atributos existentes</li><li>Ex: área = comprimento X largura</li></ul></li><li>Generated records<ul><li>Novos registros gerados, como no one-hot encoding</li></ul></li></ul><h2>Documentação</h2><ul><li>Descrever o que foi feito</li><li>Técnica utilizada</li><li>Nova feature criada</li><li>Motivo de ter sido criada</li></ul><p>O vídeo aborda técnicas para construir novas features durante a preparação dos dados, visando deixá-los mais adequados para aplicação em modelos de machine learning. São apresentadas formas de combinar atributos existentes, fazer transformações, criar medidas de distância, aplicar one-hot encoding em variáveis categóricas, entre outras.</p><p>Também destaca a importância de documentar tudo o que foi feito, descrevendo as técnicas, as novas features e os motivos pelos quais foram criadas.</p>\n",
        "\n"
      ]
    },
    {
      "cell_type": "markdown",
      "metadata": {
        "id": "P68NI_ErbMLE"
      },
      "source": [
        "### 311 Integrate Data\n",
        "###### Integrar dados de diferente tabelas e fontes\n",
        "###### Merged Data : Dado integrado\n",
        "###### Agregação: Calcular uma nova informação\n",
        "###### O que é relevante?\n",
        "<h1>Integrando dados</h1><h2>Conceito</h2><ul><li>Integrar dados de tabelas/fontes diferentes em um mesmo dataframe</li><li>Fazer o &quot;join&quot; de tabelas como em um banco de dados SQL</li><li>Não precisa seguir a ordem exata das etapas do CRISP-DM</li><li>Pode exigir limpeza dos dados após a integração</li></ul><h2>Exemplo</h2><ul><li>Tabela 1: Dados sobre campanhas do Kickstarter<ul><li>ID, textos, vídeos, imagens, etc.</li></ul></li><li>Tabela 2: Características dos projetos<ul><li>Status, categoria, meta financeira, etc.</li></ul></li></ul><h3>Integração</h3><ul><li>Usar a coluna ID para juntar os dados das duas tabelas</li></ul><h2>Tipos</h2><h3>Merge</h3><ul><li>Juntar os dados de diferentes fontes</li></ul><h3>Agregação</h3><ul><li><p>Criar novos dados a partir de resumo de informações</p></li><li><p>Exemplo:</p><ul><li>Tabela de investimentos por apoiador</li><li>Agregar por projeto calculando:<ul><li>Total investido</li><li>Número de apoiadores por país</li><li>Média de idade dos apoiadores</li></ul></li></ul></li><li><p>Integrar esses dados agregados na tabela principal usando o ID ou nome do projeto</p></li></ul>\n"
      ]
    },
    {
      "cell_type": "markdown",
      "metadata": {
        "id": "-6UaX1lPl411"
      },
      "source": [
        "### 312 Format Data\n",
        "###### Alterar o Data Type do dado;\n",
        "###### Reformatted Data.\n",
        "<h1>Formatar dados</h1><h2>O que é formatar dados?</h2><ul><li>Alterar o tipo ou formato dos dados sem mudar o significado</li><li>Facilita entendimento e próximos passos do projeto</li></ul><h2>Exemplos de formatação</h2><ul><li>Mudar tipo:<ul><li>Número armazenado como texto -&gt; mudar para inteiro ou float</li><li>Data como texto -&gt; mudar para tipo data</li></ul></li><li>Mudar formato de data:<ul><li>Remover hora/minutos/segundos se não forem necessários</li><li>Padrão americano (mês/dia/ano) -&gt; padrão brasileiro (dia/mês/ano)</li></ul></li></ul><h2>Por que formatar dados?</h2><ul><li>Permite calcular médias, máximos, etc em colunas numéricas</li><li>Facilita entendimento e análise</li><li>Prepara os dados para próximas etapas:<ul><li>Machine learning</li><li>Análise estatística</li><li>Podem exigir:<ul><li>Coluna de ID como primeira coluna</li><li>Tipos de dados específicos</li></ul></li></ul></li></ul><h2>Resultado</h2><ul><li>Dados reformatados:<ul><li>Novos tipos de dados</li><li>Novos formatos de data</li><li>Colunas reorganizadas</li></ul></li></ul><p>Espero que este resumo em forma de mapa mental ajude a entender a essência do vídeo sobre formatação de dados! Avise-me se você precisar de algum esclarecimento ou informação adicional.</p>\n"
      ]
    },
    {
      "cell_type": "markdown",
      "metadata": {
        "id": "JA6KAVOxl4z1"
      },
      "source": [
        "### 313 Resumo: Data Preparation\n",
        "###### Select Data - selecionar os dados;\n",
        "###### Clean Data - limpeza dos dados (understanding);\n",
        "###### Construct Data - Criar um dado novo;\n",
        "###### Integrate Data - Integrar dados (JOIN E AGREGAÇÃO (GROUP BY)\n",
        "###### Format Data - Mundança de dados (TYPE)\n",
        "###### Output principal Dataset e Dataset description;\n",
        "<h1>Data Preparation</h1><h2>Tarefas</h2><h3>Select Data</h3><ul><li>Selecionar os dados importantes para o dataset</li><li>Fazer uma lista dos dados incluídos/excluídos e as justificativas</li></ul><h3>Clean Data</h3><ul><li>Limpar os dados com base no relatório de qualidade dos dados da etapa &quot;Data Understanding&quot;</li><li>Fazer um relatório de limpeza de dados (Data Cleaning Report)<ul><li>Quais dados foram alterados</li><li>Como foram alterados</li><li>Técnicas utilizadas para resolver problemas de qualidade</li></ul></li></ul><h3>Construct Data</h3><ul><li>Construir novos dados<ul><li>Multiplicação de colunas</li><li>Análise de APIs</li><li>Outras informações externas</li></ul></li><li>Saída: os próprios dados construídos</li></ul><h3>Integrate Data</h3><ul><li>Integrar dados de tabelas/coleções diferentes (join)</li><li>Agregar valores (group by) para gerar novos dados</li><li>Saída: os próprios dados integrados</li></ul><h3>Format Data</h3><ul><li>Formatos de dados<ul><li>Mudança de tipos (texto -&gt; número)</li><li>Mudança de formatos de data</li></ul></li><li>Saída: os próprios dados formatados</li></ul><h2>Saídas Principais</h2><ul><li>Dataset preparado</li><li>Dataset description<ul><li>Descrição das features</li><li>Origem dos dados</li><li>Informações sobre os atributos</li></ul></li></ul><h2>Observações</h2><ul><li>As tarefas não são lineares<ul><li>Pode voltar para etapas anteriores conforme necessário</li></ul></li><li>Algumas tarefas geram relatórios (select, clean)</li><li>Outras tarefas geram os próprios dados como saída (construct, integrate, format)</li></ul>"
      ]
    }
  ],
  "metadata": {
    "colab": {
      "provenance": []
    },
    "kernelspec": {
      "display_name": "Python 3",
      "name": "python3"
    },
    "language_info": {
      "name": "python"
    }
  },
  "nbformat": 4,
  "nbformat_minor": 0
}

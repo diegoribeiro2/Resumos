{
  "cells": [
    {
      "cell_type": "markdown",
      "metadata": {
        "id": "38HRUrReSiB9"
      },
      "source": [
        "## **Módulo Matéria 04** - Análise de Regressão em Python Parte 03 Crisp-DM"
      ]
    },
    {
      "cell_type": "markdown",
      "metadata": {
        "id": "shudxhuYlg4D"
      },
      "source": [
        "## Business Understanding"
      ]
    },
    {
      "cell_type": "markdown",
      "metadata": {
        "id": "BjTZNyhFTjDT"
      },
      "source": [
        "### 300 Definindo a Etapa: Business Understanding\n",
        "<h1>Business Understanding</h1><h2>Objetivo principal</h2><p>Compreender os objetivos de negócio e planejar o projeto de mineração de dados</p><h2>Tarefas</h2><h3>Determinar objetivos de negócio</h3><ul><li>Background do projeto<ul><li>Informações sobre a organização</li><li>Problema a ser resolvido</li><li>Stakeholders</li><li>Área do projeto</li><li>Como o problema é tratado atualmente</li></ul></li><li>Objetivo de negócio<ul><li>Objetivo principal relacionado ao negócio</li><li>Objetivos adjacentes</li></ul></li><li>Critérios de sucesso<ul><li>O que define um projeto bem-sucedido para o negócio</li></ul></li></ul><h3>Avaliar situação</h3><ul><li>Inventário de recursos<ul><li>Recursos disponíveis: pessoas, dados, software, hardware</li></ul></li><li>Requisitos, premissas e restrições<ul><li>Requisitos do projeto</li><li>Premissas (verdades assumidas)</li><li>Restrições técnicas e de negócio</li></ul></li><li>Riscos e contingências</li><li>Terminologia<ul><li>Definições de termos específicos da área</li></ul></li><li>Custos e benefícios<ul><li>Avaliação financeira do projeto</li></ul></li></ul><h3>Determinar metas de mineração de dados</h3><ul><li>Meta de mineração de dados<ul><li>Tradução do objetivo de negócio em termos técnicos</li></ul></li><li>Critérios de sucesso<ul><li>Resultados esperados da mineração de dados</li></ul></li></ul><h3>Produzir plano de projeto</h3><ul><li>Plano de projeto<ul><li>Cronograma de tarefas do projeto</li></ul></li><li>Avaliação inicial de ferramentas e técnicas<ul><li>Escolha inicial de ferramentas e técnicas a serem utilizadas</li></ul></li></ul><h2>Considerações finais</h2><ul><li>Etapa fundamental para garantir que o projeto atenda às necessidades de negócio</li><li>Plano de projeto é dinâmico e pode mudar durante a execução</li></ul>"
      ]
    },
    {
      "cell_type": "markdown",
      "metadata": {
        "id": "WpEwx8tNTkRE"
      },
      "source": [
        "### 301 Na prática do Entendimento de Negócio\n",
        "###### Critério de sucesso\n",
        "###### Determine Business Objectives\n",
        "###### Determine Data Mining Goals\n",
        "<h1>Tema central: Entendendo o Business Understanding do Crisp-DM</h1><h2>Introdução</h2><ul><li>O Crisp-DM possui etapas, tasks e outputs bem definidos</li><li>Nem tudo precisa ou deve ser aplicado em todos os projetos</li><li>É preciso avaliar o que faz sentido para seu contexto</li></ul><h2>Business Objectives</h2><ul><li>Atividades para determinar os objetivos de negócio</li><li>Organização:<ul><li>Desenvolver organograma (nem sempre necessário)</li></ul></li><li>Problema:<ul><li>Definir a área do problema</li><li>Verificar se o projeto já começou para todos</li></ul></li><li>Solução:<ul><li>Avaliar conhecimento prévio sobre mineração de dados</li><li>Fazer um &quot;kick-off&quot; do projeto</li></ul></li></ul><h2>Output Business Objectives</h2><ul><li>Objetivo de negócio: frase resumindo o objetivo</li><li>Critério de sucesso: métrica numérica para avaliar o objetivo</li><li>Meta de mineração de dados: objetivo traduzido tecnicamente</li><li>Critério de sucesso de mineração: métrica numérica da meta</li></ul><h2>Exemplo de caso</h2><ul><li>Objetivo: aumentar vendas de seguros</li><li>Critério de sucesso: aumento de 20% nas vendas</li><li>Meta de mineração: prever propensão de compra de seguros</li><li>Critério de mineração: acertar 70% das previsões</li></ul><h2>Considerações finais</h2><ul><li>Atividades do User Guide podem guiar, mas não são obrigatórias</li><li>Avaliar o contexto antes de implementar cada uma</li></ul>\n"
      ]
    }
  ],
  "metadata": {
    "colab": {
      "provenance": []
    },
    "kernelspec": {
      "display_name": "Python 3",
      "name": "python3"
    },
    "language_info": {
      "name": "python"
    }
  },
  "nbformat": 4,
  "nbformat_minor": 0
}

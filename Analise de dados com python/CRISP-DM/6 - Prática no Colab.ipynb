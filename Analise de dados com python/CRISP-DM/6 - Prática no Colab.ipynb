{
  "nbformat": 4,
  "nbformat_minor": 0,
  "metadata": {
    "colab": {
      "provenance": []
    },
    "kernelspec": {
      "name": "python3",
      "display_name": "Python 3"
    },
    "language_info": {
      "name": "python"
    }
  },
  "cells": [
    {
      "cell_type": "markdown",
      "source": [
        "## **Módulo Matéria 04** - Análise de Regressão em Python part 04"
      ],
      "metadata": {
        "id": "StwEZWev-h1_"
      }
    },
    {
      "cell_type": "markdown",
      "source": [
        "## Prática no Colab"
      ],
      "metadata": {
        "id": "wIjxp080-jZM"
      }
    },
    {
      "cell_type": "markdown",
      "source": [
        "### 321 Material de Apoio - Scikit"
      ],
      "metadata": {
        "id": "qms4b7Z_-pao"
      }
    },
    {
      "cell_type": "markdown",
      "source": [
        "### 322 Prática no Colab I\n",
        "<h1>Tema central: Modelagem de regressão para estimar preços de casas em Boston</h1><h2>Técnicas de modelagem selecionadas</h2><ul><li>Regressão linear do sklearn</li><li>Support vector regression (SVR) do sklearn</li><li>Decision tree regression do XGBoost</li></ul><h2>Premissas dos modelos</h2><ul><li>Apenas variáveis numéricas</li></ul><h2>Design do teste</h2><ul><li>Separação do dataset:<ul><li>20% para teste (x_test e y_test)</li><li>80% para treino (x_train e y_train)</li><li>Utilizando train_test_split do sklearn</li></ul></li></ul><h2>Regressão Linear</h2><ul><li>Importada do sklearn</li><li>Modelo definido chamando a função LinearRegression()</li><li>Modelo treinado com .fit(X_train, y_train)</li></ul><h2>Próximos passos</h2><ul><li>Treinar os outros modelos (SVR e XGBoost)</li><li>Testar os modelos</li><li>Otimizar hiperparâmetros</li><li>Comparar desempenho dos modelos</li></ul>"
      ],
      "metadata": {
        "id": "vPS5tTQT-lqU"
      }
    },
    {
      "cell_type": "code",
      "execution_count": null,
      "metadata": {
        "colab": {
          "base_uri": "https://localhost:8080/"
        },
        "id": "eSbfAE2s8tUI",
        "outputId": "4c48b8a1-fdcb-43fa-cb71-9b4ea9da44e2"
      },
      "outputs": [
        {
          "output_type": "stream",
          "name": "stdout",
          "text": [
            "Requirement already satisfied: scikit-learn in /usr/local/lib/python3.10/dist-packages (1.2.2)\n",
            "Requirement already satisfied: numpy>=1.17.3 in /usr/local/lib/python3.10/dist-packages (from scikit-learn) (1.25.2)\n",
            "Requirement already satisfied: scipy>=1.3.2 in /usr/local/lib/python3.10/dist-packages (from scikit-learn) (1.11.4)\n",
            "Requirement already satisfied: joblib>=1.1.1 in /usr/local/lib/python3.10/dist-packages (from scikit-learn) (1.4.2)\n",
            "Requirement already satisfied: threadpoolctl>=2.0.0 in /usr/local/lib/python3.10/dist-packages (from scikit-learn) (3.5.0)\n"
          ]
        }
      ],
      "source": [
        "pip install scikit-learn"
      ]
    },
    {
      "cell_type": "code",
      "source": [
        "from sklearn.datasets import fetch_california_housing"
      ],
      "metadata": {
        "id": "RVHUS5xt81kS"
      },
      "execution_count": null,
      "outputs": []
    },
    {
      "cell_type": "code",
      "source": [
        "fetch_california_housing()"
      ],
      "metadata": {
        "colab": {
          "base_uri": "https://localhost:8080/"
        },
        "id": "UylIFlZNAQOW",
        "outputId": "631fefa8-af4f-45af-8ee4-6bfc4a756a0f"
      },
      "execution_count": null,
      "outputs": [
        {
          "output_type": "execute_result",
          "data": {
            "text/plain": [
              "{'data': array([[   8.3252    ,   41.        ,    6.98412698, ...,    2.55555556,\n",
              "           37.88      , -122.23      ],\n",
              "        [   8.3014    ,   21.        ,    6.23813708, ...,    2.10984183,\n",
              "           37.86      , -122.22      ],\n",
              "        [   7.2574    ,   52.        ,    8.28813559, ...,    2.80225989,\n",
              "           37.85      , -122.24      ],\n",
              "        ...,\n",
              "        [   1.7       ,   17.        ,    5.20554273, ...,    2.3256351 ,\n",
              "           39.43      , -121.22      ],\n",
              "        [   1.8672    ,   18.        ,    5.32951289, ...,    2.12320917,\n",
              "           39.43      , -121.32      ],\n",
              "        [   2.3886    ,   16.        ,    5.25471698, ...,    2.61698113,\n",
              "           39.37      , -121.24      ]]),\n",
              " 'target': array([4.526, 3.585, 3.521, ..., 0.923, 0.847, 0.894]),\n",
              " 'frame': None,\n",
              " 'target_names': ['MedHouseVal'],\n",
              " 'feature_names': ['MedInc',\n",
              "  'HouseAge',\n",
              "  'AveRooms',\n",
              "  'AveBedrms',\n",
              "  'Population',\n",
              "  'AveOccup',\n",
              "  'Latitude',\n",
              "  'Longitude'],\n",
              " 'DESCR': '.. _california_housing_dataset:\\n\\nCalifornia Housing dataset\\n--------------------------\\n\\n**Data Set Characteristics:**\\n\\n    :Number of Instances: 20640\\n\\n    :Number of Attributes: 8 numeric, predictive attributes and the target\\n\\n    :Attribute Information:\\n        - MedInc        median income in block group\\n        - HouseAge      median house age in block group\\n        - AveRooms      average number of rooms per household\\n        - AveBedrms     average number of bedrooms per household\\n        - Population    block group population\\n        - AveOccup      average number of household members\\n        - Latitude      block group latitude\\n        - Longitude     block group longitude\\n\\n    :Missing Attribute Values: None\\n\\nThis dataset was obtained from the StatLib repository.\\nhttps://www.dcc.fc.up.pt/~ltorgo/Regression/cal_housing.html\\n\\nThe target variable is the median house value for California districts,\\nexpressed in hundreds of thousands of dollars ($100,000).\\n\\nThis dataset was derived from the 1990 U.S. census, using one row per census\\nblock group. A block group is the smallest geographical unit for which the U.S.\\nCensus Bureau publishes sample data (a block group typically has a population\\nof 600 to 3,000 people).\\n\\nA household is a group of people residing within a home. Since the average\\nnumber of rooms and bedrooms in this dataset are provided per household, these\\ncolumns may take surprisingly large values for block groups with few households\\nand many empty houses, such as vacation resorts.\\n\\nIt can be downloaded/loaded using the\\n:func:`sklearn.datasets.fetch_california_housing` function.\\n\\n.. topic:: References\\n\\n    - Pace, R. Kelley and Ronald Barry, Sparse Spatial Autoregressions,\\n      Statistics and Probability Letters, 33 (1997) 291-297\\n'}"
            ]
          },
          "metadata": {},
          "execution_count": 13
        }
      ]
    },
    {
      "cell_type": "code",
      "source": [
        "california_housing = fetch_california_housing()"
      ],
      "metadata": {
        "id": "EPooGnJc84Sp"
      },
      "execution_count": null,
      "outputs": []
    },
    {
      "cell_type": "code",
      "source": [
        "X = california_housing.data #CARACTERISTICAS DAS CASAS\n",
        "y = california_housing.target #PREÇO CONHECIDO DAS CASAS - TARGET"
      ],
      "metadata": {
        "id": "lcrT7XF5888B"
      },
      "execution_count": null,
      "outputs": []
    },
    {
      "cell_type": "code",
      "source": [
        "print(X)"
      ],
      "metadata": {
        "colab": {
          "base_uri": "https://localhost:8080/"
        },
        "id": "MndeH2wn8_P5",
        "outputId": "5ad485fb-2b18-471e-f901-03e2d37e586b"
      },
      "execution_count": null,
      "outputs": [
        {
          "output_type": "stream",
          "name": "stdout",
          "text": [
            "[[   8.3252       41.            6.98412698 ...    2.55555556\n",
            "    37.88       -122.23      ]\n",
            " [   8.3014       21.            6.23813708 ...    2.10984183\n",
            "    37.86       -122.22      ]\n",
            " [   7.2574       52.            8.28813559 ...    2.80225989\n",
            "    37.85       -122.24      ]\n",
            " ...\n",
            " [   1.7          17.            5.20554273 ...    2.3256351\n",
            "    39.43       -121.22      ]\n",
            " [   1.8672       18.            5.32951289 ...    2.12320917\n",
            "    39.43       -121.32      ]\n",
            " [   2.3886       16.            5.25471698 ...    2.61698113\n",
            "    39.37       -121.24      ]]\n"
          ]
        }
      ]
    },
    {
      "cell_type": "code",
      "source": [
        "print(y)"
      ],
      "metadata": {
        "colab": {
          "base_uri": "https://localhost:8080/"
        },
        "id": "smyoZ0IS9CXL",
        "outputId": "a5a3ce9f-6227-45c1-e8dc-dab407e39f3d"
      },
      "execution_count": null,
      "outputs": [
        {
          "output_type": "stream",
          "name": "stdout",
          "text": [
            "[4.526 3.585 3.521 ... 0.923 0.847 0.894]\n"
          ]
        }
      ]
    },
    {
      "cell_type": "markdown",
      "source": [
        "## Modeling Techniques\n",
        "1. Regressão Linear do SKLEARN\n",
        "<https://scikit-learn.org/stable/modules/generated/sklearn.linear_model.LinearRegression.html>\n",
        "2. Support Vector Regression do SKLEARN\n",
        "<https://scikit-learn.org/stable/modules/generated/sklearn.svm.SVR.html>\n",
        "3. Decision Tree Regression do XGBoost\n",
        "<https://xgboost.readthedocs.io/en/stable/python/python_api.html>\n",
        "\n",
        "## Modeling Assumptions:\n",
        "Apenas variáveis numéricas"
      ],
      "metadata": {
        "id": "uXDFp1oe-utb"
      }
    },
    {
      "cell_type": "markdown",
      "source": [
        "## Test Design\n",
        "\n",
        "### Dataset split:\n",
        "Separação de Train/TEst dataset padrão com 20% de massa para teste via método SKLEARN\n",
        "<https://scikit-learn.org/stable/modules/generated/sklearn.model_selection.train_test_split.html>\n",
        "\n",
        "## Métrica de avaliação do modelo\n",
        "R2, R2 ajustado, MSE, RMSE e MAE\n",
        "Escolher entre MSE e MAE\n",
        "MSE  Média dos quadrados dos erros - Penalizar se modelo erra muito\n",
        "MAE  Média do erro absoluto - tratando todos erros iguais\n",
        "RMSE Raiz quadrada\n",
        "Validação da métrica MSE E RMSE para penalizar grandes erros de previsão.\n",
        "Utilizando o método do SKLEARN\n",
        "<https://scikit-learn.org/stable/modules/generated/sklearn.metrics.mean_squared_error.html>"
      ],
      "metadata": {
        "id": "WGkGyiim-xqT"
      }
    },
    {
      "cell_type": "code",
      "source": [
        "from sklearn.model_selection import train_test_split, GridSearchCV\n",
        "from sklearn.linear_model import LinearRegression\n",
        "from sklearn.metrics import mean_squared_error\n",
        "from sklearn.svm import SVR\n",
        "import pandas as pd\n",
        "import numpy as np\n",
        "from xgboost import XGBRegressor"
      ],
      "metadata": {
        "id": "R5l24H2X9E-K"
      },
      "execution_count": null,
      "outputs": []
    },
    {
      "cell_type": "code",
      "source": [
        "X_train, X_test, y_train, y_test = train_test_split(X, y, test_size=0.2, random_state=42)"
      ],
      "metadata": {
        "id": "SfMbE2rY9Hv7"
      },
      "execution_count": null,
      "outputs": []
    },
    {
      "cell_type": "code",
      "source": [
        "print(X_train)"
      ],
      "metadata": {
        "colab": {
          "base_uri": "https://localhost:8080/"
        },
        "id": "Tyb1hRpc9Je0",
        "outputId": "255f661a-c2ba-47d6-b568-bf1b485680e6"
      },
      "execution_count": null,
      "outputs": [
        {
          "output_type": "stream",
          "name": "stdout",
          "text": [
            "[[   3.2596       33.            5.0176565  ...    3.6918138\n",
            "    32.71       -117.03      ]\n",
            " [   3.8125       49.            4.47354497 ...    1.73809524\n",
            "    33.77       -118.16      ]\n",
            " [   4.1563        4.            5.64583333 ...    2.72321429\n",
            "    34.66       -120.48      ]\n",
            " ...\n",
            " [   2.9344       36.            3.98671727 ...    3.33206831\n",
            "    34.03       -118.38      ]\n",
            " [   5.7192       15.            6.39534884 ...    3.17889088\n",
            "    37.58       -121.96      ]\n",
            " [   2.5755       52.            3.40257649 ...    2.10869565\n",
            "    37.77       -122.42      ]]\n"
          ]
        }
      ]
    },
    {
      "cell_type": "code",
      "source": [
        "print(y_train)"
      ],
      "metadata": {
        "colab": {
          "base_uri": "https://localhost:8080/"
        },
        "id": "OmmFcjAP9LRL",
        "outputId": "c2d83ad4-bd3a-4d0d-c346-1e749ecb6955"
      },
      "execution_count": null,
      "outputs": [
        {
          "output_type": "stream",
          "name": "stdout",
          "text": [
            "[1.03  3.821 1.726 ... 2.221 2.835 3.25 ]\n"
          ]
        }
      ]
    },
    {
      "cell_type": "markdown",
      "source": [
        "## Técnica 1. Regressão Linear"
      ],
      "metadata": {
        "id": "YMbeV3Gr_EOm"
      }
    },
    {
      "cell_type": "code",
      "source": [
        "regLinear = LinearRegression()"
      ],
      "metadata": {
        "id": "GZt50EiW9WaK"
      },
      "execution_count": null,
      "outputs": []
    },
    {
      "cell_type": "code",
      "source": [
        "Treinado = regLinear.fit(X_train, y_train)"
      ],
      "metadata": {
        "id": "tW7TPBuB9ZDK"
      },
      "execution_count": null,
      "outputs": []
    },
    {
      "cell_type": "markdown",
      "source": [
        "### 323 Prática no Colab II\n",
        "<h1>Tema central:</h1><p>Construção e avaliação de modelos de machine learning para prever o preço de imóveis</p><h2>Tópicos abordados:</h2><ul><li>Seleção de modelos<ul><li>Requisitos técnicos<ul><li>Regressão Linear</li><li>Support Vector Regression (SVR)</li><li>XGBoost Regressor</li></ul></li></ul></li><li>Geração de teste<ul><li>Separação do dataset<ul><li>Treino</li><li>Teste</li></ul></li><li>Métricas de avaliação<ul><li>Mean Squared Error (MSE)</li><li>Root Mean Squared Error (RMSE)</li></ul></li></ul></li><li>Construção dos modelos (Modeling)<ul><li>Regressão Linear</li><li>Support Vector Regression</li><li>XGBoost Regressor</li></ul></li><li>Avaliação dos modelos<ul><li>Predições no conjunto de teste</li><li>Cálculo das métricas MSE e RMSE</li><li>Comparação dos erros</li><li>Escolha do melhor modelo (menor RMSE)</li></ul></li><li>Próximos passos<ul><li>Otimização de hiperparâmetros</li><li>Melhoria dos modelos</li></ul></li></ul><p>O vídeo mostra o processo de construção, avaliação e comparação de três modelos de regressão para prever o preço de imóveis, utilizando conjuntos de treino e teste separados do dataset. As métricas MSE e RMSE são calculadas entre os valores previstos e reais no conjunto de teste para escolher o melhor modelo, que foi o XGBoost Regressor. O próximo passo será a otimização dos hiperparâmetros para tentar melhorar ainda mais o desempenho do modelo selecionado.</p>"
      ],
      "metadata": {
        "id": "3EB2_QHG_NPa"
      }
    },
    {
      "cell_type": "code",
      "source": [
        "yLinear = regLinear.predict(X_test)"
      ],
      "metadata": {
        "id": "iXEIP1Wx9bpi"
      },
      "execution_count": null,
      "outputs": []
    },
    {
      "cell_type": "code",
      "source": [
        "print(yLinear)"
      ],
      "metadata": {
        "colab": {
          "base_uri": "https://localhost:8080/"
        },
        "id": "KqoYJDPp9dnI",
        "outputId": "808be87d-e7e3-4945-b218-83d616851687"
      },
      "execution_count": null,
      "outputs": [
        {
          "output_type": "stream",
          "name": "stdout",
          "text": [
            "[0.71912284 1.76401657 2.70965883 ... 4.46877017 1.18751119 2.00940251]\n"
          ]
        }
      ]
    },
    {
      "cell_type": "code",
      "source": [
        "y_test"
      ],
      "metadata": {
        "colab": {
          "base_uri": "https://localhost:8080/"
        },
        "id": "KKiCgDbH9fM_",
        "outputId": "44f7b56d-e983-452d-831d-8ef6d99facbb"
      },
      "execution_count": null,
      "outputs": [
        {
          "output_type": "execute_result",
          "data": {
            "text/plain": [
              "array([0.477  , 0.458  , 5.00001, ..., 5.00001, 0.723  , 1.515  ])"
            ]
          },
          "metadata": {},
          "execution_count": 26
        }
      ]
    },
    {
      "cell_type": "code",
      "source": [
        "MSELinear = mean_squared_error(y_test, yLinear)"
      ],
      "metadata": {
        "id": "COFIKw-I9ppm"
      },
      "execution_count": null,
      "outputs": []
    },
    {
      "cell_type": "code",
      "source": [
        "print(\"MSE:\", MSELinear)\n",
        "print(\"RMSE:\", np.sqrt(MSELinear))"
      ],
      "metadata": {
        "colab": {
          "base_uri": "https://localhost:8080/"
        },
        "id": "5gE-rogR9rUv",
        "outputId": "b8d76cc6-6c1f-444f-8f2a-19be51acb061"
      },
      "execution_count": null,
      "outputs": [
        {
          "output_type": "stream",
          "name": "stdout",
          "text": [
            "MSE: 0.5558915986952422\n",
            "RMSE: 0.7455813830127749\n"
          ]
        }
      ]
    },
    {
      "cell_type": "markdown",
      "source": [
        "## Técnica SVR"
      ],
      "metadata": {
        "id": "TkheI4da_UIk"
      }
    },
    {
      "cell_type": "code",
      "source": [
        "regSVR = SVR().fit(X_train, y_train)"
      ],
      "metadata": {
        "id": "8IOrUxTj9tia"
      },
      "execution_count": null,
      "outputs": []
    },
    {
      "cell_type": "code",
      "source": [
        "ySVR = regSVR.predict(X_test)"
      ],
      "metadata": {
        "id": "_f7gyqDL9zDA"
      },
      "execution_count": null,
      "outputs": []
    },
    {
      "cell_type": "code",
      "source": [
        "print(ySVR)"
      ],
      "metadata": {
        "colab": {
          "base_uri": "https://localhost:8080/"
        },
        "id": "OhkecTzJ90ts",
        "outputId": "5e81b5b8-36a5-4fd1-c49e-fbc835995d97"
      },
      "execution_count": null,
      "outputs": [
        {
          "output_type": "stream",
          "name": "stdout",
          "text": [
            "[1.74839687 1.77561334 1.88771095 ... 1.81632304 1.82315874 1.73570366]\n"
          ]
        }
      ]
    },
    {
      "cell_type": "code",
      "source": [
        "MSESVR = mean_squared_error(y_test, ySVR)"
      ],
      "metadata": {
        "id": "aq8mtP0_93bY"
      },
      "execution_count": null,
      "outputs": []
    },
    {
      "cell_type": "code",
      "source": [
        "print(\"MSE:\", MSESVR)\n",
        "print(\"RMSE:\", np.sqrt(MSESVR))"
      ],
      "metadata": {
        "colab": {
          "base_uri": "https://localhost:8080/"
        },
        "id": "fZXN3ZkF95tI",
        "outputId": "d0c91a6f-697c-4864-f525-63078c38a24d"
      },
      "execution_count": null,
      "outputs": [
        {
          "output_type": "stream",
          "name": "stdout",
          "text": [
            "MSE: 1.3320115421348744\n",
            "RMSE: 1.1541280440812771\n"
          ]
        }
      ]
    },
    {
      "cell_type": "code",
      "source": [
        "## Técnica 3. Decision Tree Regression (XGBoost)"
      ],
      "metadata": {
        "id": "H-7RcVCU97q-"
      },
      "execution_count": null,
      "outputs": []
    },
    {
      "cell_type": "code",
      "source": [
        "regXGB = XGBRegressor().fit(X_train, y_train)"
      ],
      "metadata": {
        "id": "jh96wMSg9_Jd"
      },
      "execution_count": null,
      "outputs": []
    },
    {
      "cell_type": "code",
      "source": [
        "yXGB = regXGB.predict(X_test)"
      ],
      "metadata": {
        "id": "tdBvZrYM-BU2"
      },
      "execution_count": null,
      "outputs": []
    },
    {
      "cell_type": "code",
      "source": [
        "MSEXGB = mean_squared_error(y_test, yXGB)"
      ],
      "metadata": {
        "id": "gB23x96Q-DKz"
      },
      "execution_count": null,
      "outputs": []
    },
    {
      "cell_type": "code",
      "source": [
        "print(\"MSE XGB:\", MSEXGB)\n",
        "print(\"RMSE XGB:\", np.sqrt(MSEXGB))"
      ],
      "metadata": {
        "colab": {
          "base_uri": "https://localhost:8080/"
        },
        "id": "X_3Rwttu-E-9",
        "outputId": "7c9d5a6a-b068-4db5-9852-7fed784cda83"
      },
      "execution_count": null,
      "outputs": [
        {
          "output_type": "stream",
          "name": "stdout",
          "text": [
            "MSE XGB: 0.2225899267544737\n",
            "RMSE XGB: 0.4717943691423984\n"
          ]
        }
      ]
    },
    {
      "cell_type": "markdown",
      "source": [
        "### 324 Prática no Colab III\n",
        "<h1>Tema central</h1><p>Otimização de modelos de machine learning para previsão de preços de imóveis</p><h2>Tópicos abordados</h2><ul><li><p>Escolha de modelos</p><ul><li>Regressão Linear (Scikit-Learn)</li><li>Support Vector Regression (Scikit-Learn)</li><li>Decision Tree Regression (XGBoost)</li></ul></li><li><p>Avaliação de modelos</p><ul><li>Métricas: Mean Squared Error (MSE), Root Mean Squared Error (RMSE)</li><li>Decision Tree Regression (XGBoost) teve melhor desempenho</li></ul></li><li><p>Otimização de hiperparâmetros</p><ul><li>Utilizou Grid Search CV (Scikit-Learn)</li><li>Definiu parâmetros e valores a serem testados</li><li>Encontrou melhor combinação de hiperparâmetros</li><li>Reduziu MSE e RMSE</li></ul></li><li><p>Processo</p><ul><li>Split de dados em treino e teste</li><li>Execução dos modelos com parâmetros default</li><li>Comparação do desempenho dos modelos</li><li>Otimização do melhor modelo (XGBoost)</li><li>Avaliação do modelo otimizado</li></ul></li><li><p>Conclusão</p><ul><li>Otimização dos hiperparâmetros melhorou o desempenho do modelo</li><li>XGBoost com hiperparâmetros otimizados teve o melhor resultado</li></ul></li></ul><p>Espero que esse resumo em forma de mapa mental ajude a ter uma visão geral dos principais tópicos e processo abordados no vídeo. Caso tenha alguma dúvida ou precise de mais detalhes em algum ponto, fique à vontade para perguntar.</p>"
      ],
      "metadata": {
        "id": "ek-zD67u_Xki"
      }
    },
    {
      "cell_type": "code",
      "source": [
        "regXGB.get_params().keys()"
      ],
      "metadata": {
        "colab": {
          "base_uri": "https://localhost:8080/"
        },
        "id": "fyzl6SCo-InF",
        "outputId": "708ee2ea-0c71-4939-c4f2-19516c3f311c"
      },
      "execution_count": null,
      "outputs": [
        {
          "output_type": "execute_result",
          "data": {
            "text/plain": [
              "dict_keys(['objective', 'base_score', 'booster', 'callbacks', 'colsample_bylevel', 'colsample_bynode', 'colsample_bytree', 'device', 'early_stopping_rounds', 'enable_categorical', 'eval_metric', 'feature_types', 'gamma', 'grow_policy', 'importance_type', 'interaction_constraints', 'learning_rate', 'max_bin', 'max_cat_threshold', 'max_cat_to_onehot', 'max_delta_step', 'max_depth', 'max_leaves', 'min_child_weight', 'missing', 'monotone_constraints', 'multi_strategy', 'n_estimators', 'n_jobs', 'num_parallel_tree', 'random_state', 'reg_alpha', 'reg_lambda', 'sampling_method', 'scale_pos_weight', 'subsample', 'tree_method', 'validate_parameters', 'verbosity'])"
            ]
          },
          "metadata": {},
          "execution_count": 38
        }
      ]
    },
    {
      "cell_type": "code",
      "source": [
        "# max_depth profundidade máxima\n",
        "# learning_rate velocidade de aprendizagem da arvore\n",
        "# objective\n",
        "# booster tipo específico\n",
        "# n_jobs processamento em paralelo\n",
        "# gamma criação de uma folha na arvore de decisão\n",
        "# min_child_weight peso do nó filho da arvore\n",
        "# delta\n",
        "# porcentagem a razão amostra e subamostras\n",
        "parameters = {\n",
        "    \"max_depth\": [1],\n",
        "    \"learning_rate\": [0.1,0.2,0.3],\n",
        "    \"objective\": ['reg:squarederror'],\n",
        "    \"booster\": ['gbtree'],\n",
        "    \"n jobs\": [5],\n",
        "    \"gamma\": [0,1],\n",
        "    \"min_child_weight\": [1,3],\n",
        "    \"max_delta_step\": [0,1],\n",
        "    \"subsample\": [0.5,1]\n",
        "}"
      ],
      "metadata": {
        "id": "uKUOXb_z-MCm"
      },
      "execution_count": null,
      "outputs": []
    },
    {
      "cell_type": "code",
      "source": [
        "# refit qual é metrica melhor para meu modelo\n",
        "# verbose sua função vai descrevendo passo a passo\n",
        "xgbGrid =GridSearchCV(XGBRegressor(), parameters, refit = 'neg_mean_squared_error', verbose= True)"
      ],
      "metadata": {
        "id": "chn8GpWh-OpV"
      },
      "execution_count": null,
      "outputs": []
    },
    {
      "cell_type": "code",
      "source": [
        "xgbGridModel = xgbGrid.fit(X_train, y_train)"
      ],
      "metadata": {
        "collapsed": true,
        "id": "0OgOExbvBlr0"
      },
      "execution_count": null,
      "outputs": []
    },
    {
      "cell_type": "code",
      "source": [
        "xgbGridModel.best_params_"
      ],
      "metadata": {
        "id": "cX6K7jHhBleT"
      },
      "execution_count": null,
      "outputs": []
    },
    {
      "cell_type": "code",
      "source": [
        "yGrid = xgbGridModel.predict(X_test)"
      ],
      "metadata": {
        "id": "6btbKDy4MKE0"
      },
      "execution_count": null,
      "outputs": []
    },
    {
      "cell_type": "code",
      "source": [
        "print('MSE XGB Grid:', MSEGrid)\n",
        "print('RMSE XGB Grid:', np.sqrt(MSEGrid))"
      ],
      "metadata": {
        "id": "EA3xUnIRMRfu"
      },
      "execution_count": null,
      "outputs": []
    }
  ]
}
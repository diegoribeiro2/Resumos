{
  "cells": [
    {
      "cell_type": "markdown",
      "metadata": {
        "id": "38HRUrReSiB9"
      },
      "source": [
        "## **Módulo Matéria 04** - Análise de Regressão em Python"
      ]
    },
    {
      "cell_type": "markdown",
      "metadata": {
        "id": "-JeYKmfpg9i-"
      },
      "source": [
        "## Operações em Python"
      ]
    },
    {
      "cell_type": "markdown",
      "metadata": {
        "id": "Szqks4E_OSCQ"
      },
      "source": [
        "### Aula 253 Operadores Aritméticos\n",
        "<h1>Operadores Aritméticos\n",
        "\n",
        "<h1>Tema central: Aritmética e formatação em Python</h1><h2>Operadores aritméticos</h2><ul><li>Operadores: +, -, *, /, **, //, %</li><li>Regras de precedência:<ul><li>Parênteses</li><li>Expoente (**)</li><li>Multiplicação, divisão, resto e divisão inteira</li><li>Adição e subtração</li></ul></li></ul><h2>Conversão de variáveis</h2><ul><li>int() - converte para inteiro</li><li>float() - converte para ponto flutuante</li><li>str() - converte para string</li></ul><h2>Formatação com .format()</h2><ul><li>Placeholders com chaves {}</li><li>Variáveis passadas por parâmetro depois do .format()</li><li>Formatação numérica:<ul><li>{posição:largura.precisão tipo}<ul><li>posição: índice da variável no .format()</li><li>largura: número de caracteres</li><li>precisão: número de casas decimais</li><li>tipo: inteiro (d) ou ponto flutuante (f)</li></ul></li></ul></li></ul><p>Esse é um resumo em forma de mapa mental abordando os principais tópicos do vídeo, incluindo os operadores aritméticos, conversão de variáveis e formatação com .format(). Fiz em português conforme solicitado e usei markdowns para destacar os tópicos. Por favor, avise se precisar de algum esclarecimento ou complemento!</p>\n"
      ]
    },
    {
      "cell_type": "markdown",
      "metadata": {
        "id": "jByQAOYWOU7d"
      },
      "source": [
        "### Aula 254 Operadores Aritméticos na Prática\n",
        "<p>Tema central: Operadores aritméticos e formatação de impressão em Python</p><h1>Operadores aritméticos</h1><ul><li>Tipos<ul><li>Soma (+)</li><li>Subtração (-)</li><li>Multiplicação (*)</li><li>Divisão (/)</li><li>Potência (**)</li><li>Divisão inteira (//)</li><li>Resto da divisão (%)</li></ul></li><li>Exemplos de uso com variáveis numéricas</li><li>Ordem de precedência<ul><li>Parênteses</li><li>Potência</li><li>Multiplicação/Divisão/Resto/Divisão inteira</li><li>Soma/Subtração</li></ul></li><li>Conversão de tipos<ul><li>int()</li><li>float()</li><li>str()</li></ul></li></ul><h1>Impressão formatada</h1><ul><li>print() permite impressão formatada</li><li>Placeholders {} para inserir variáveis</li><li>str.format() para formatar números:<ul><li>: para alinhamento</li><li>. para casas decimais</li><li>f ou F para ponto flutuante</li><li>d ou D para inteiro</li></ul></li></ul><h1>Exercícios</h1><ul><li>Testar operadores aritméticos</li><li>Imprimir tabuada formatada</li><li>Calcular consumo de combustível</li></ul><p>Espero que este resumo em forma de mapa mental ajude a relembrar os principais tópicos abordados no vídeo. Caso tenha alguma dúvida ou precise de mais detalhes, por favor me avise.</p>"
      ]
    },
    {
      "cell_type": "code",
      "execution_count": null,
      "metadata": {
        "id": "mpTMU5ojb7sI"
      },
      "outputs": [],
      "source": [
        "# Declaração de variáveis\n",
        "a = 7\n",
        "b = 2"
      ]
    },
    {
      "cell_type": "code",
      "execution_count": null,
      "metadata": {
        "colab": {
          "base_uri": "https://localhost:8080/"
        },
        "id": "L0z5-yGtb8xz",
        "outputId": "beabb53a-c74a-4f5c-8bb9-b202c46f2f92"
      },
      "outputs": [
        {
          "name": "stdout",
          "output_type": "stream",
          "text": [
            "9\n",
            "<class 'int'>\n"
          ]
        }
      ],
      "source": [
        "# Soma 7 + 2 == 9\n",
        "print(a + b)\n",
        "print(type(a+b))"
      ]
    },
    {
      "cell_type": "code",
      "execution_count": null,
      "metadata": {
        "colab": {
          "base_uri": "https://localhost:8080/"
        },
        "id": "4ot7qfV7b8rD",
        "outputId": "4f4ba2fe-8602-4b0e-d434-01e618d28a7a"
      },
      "outputs": [
        {
          "name": "stdout",
          "output_type": "stream",
          "text": [
            "5\n",
            "<class 'int'>\n"
          ]
        }
      ],
      "source": [
        "# Subtração 7 -2 == 5\n",
        "print(a-b)\n",
        "print(type(a-b))"
      ]
    },
    {
      "cell_type": "code",
      "execution_count": null,
      "metadata": {
        "colab": {
          "base_uri": "https://localhost:8080/"
        },
        "id": "5j34SSawc2g1",
        "outputId": "a5ac10dc-4688-4898-c9b6-d2e45c7d1cf6"
      },
      "outputs": [
        {
          "name": "stdout",
          "output_type": "stream",
          "text": [
            "14\n"
          ]
        }
      ],
      "source": [
        "# Multiplicação 7 * 2 == 5\n",
        "print( a * b)"
      ]
    },
    {
      "cell_type": "code",
      "execution_count": null,
      "metadata": {
        "colab": {
          "base_uri": "https://localhost:8080/"
        },
        "id": "WhG3SExNb8iJ",
        "outputId": "324b01f4-5408-4f9a-9840-522565b69aa6"
      },
      "outputs": [
        {
          "name": "stdout",
          "output_type": "stream",
          "text": [
            "3.5\n",
            "<class 'float'>\n"
          ]
        }
      ],
      "source": [
        "# Divisão 7 / 2 == 3.5 -> observe que o resultado final é uma variável do tipo float\n",
        "print(a/b)\n",
        "print(type(a/b))"
      ]
    },
    {
      "cell_type": "code",
      "execution_count": null,
      "metadata": {
        "colab": {
          "base_uri": "https://localhost:8080/"
        },
        "id": "eDOxYt4Eb8Qw",
        "outputId": "755eca54-79d2-4bfc-bb9b-edf4caa29499"
      },
      "outputs": [
        {
          "name": "stdout",
          "output_type": "stream",
          "text": [
            "49\n"
          ]
        }
      ],
      "source": [
        "# potência 7 ** 2 == 7 == 49\n",
        "print(7**2)"
      ]
    },
    {
      "cell_type": "code",
      "execution_count": null,
      "metadata": {
        "colab": {
          "base_uri": "https://localhost:8080/"
        },
        "id": "6zobwMyxdQwT",
        "outputId": "3424349f-93ea-49ca-e10d-968a2e2ccdbb"
      },
      "outputs": [
        {
          "name": "stdout",
          "output_type": "stream",
          "text": [
            "3\n",
            "1\n",
            "<class 'int'>\n",
            "<class 'int'>\n"
          ]
        }
      ],
      "source": [
        "# divisão inteira o resta da divisão\n",
        "# 7 dividido por 2 é 3 inteiro mais de resto. 3 * 2 + 1 == 7\n",
        "print(a//b)\n",
        "print(a%b)\n",
        "print(type(a//b))\n",
        "print(type(a%b))"
      ]
    },
    {
      "cell_type": "code",
      "execution_count": null,
      "metadata": {
        "colab": {
          "base_uri": "https://localhost:8080/"
        },
        "id": "DgLu6OLSeOe8",
        "outputId": "9c5dfd07-c0dc-485e-84c5-a78f7d254f24"
      },
      "outputs": [
        {
          "name": "stdout",
          "output_type": "stream",
          "text": [
            "Jeremias de Souza\n"
          ]
        }
      ],
      "source": [
        "# Concatenação de 2 textos\n",
        "nomePrimeiro = 'Jeremias'\n",
        "nomeUltimo = 'de Souza'\n",
        "nomeCompleto = nomePrimeiro + ' ' + nomeUltimo\n",
        "print(nomeCompleto)"
      ]
    },
    {
      "cell_type": "code",
      "execution_count": null,
      "metadata": {
        "colab": {
          "base_uri": "https://localhost:8080/"
        },
        "id": "uO3ckbUSemye",
        "outputId": "454cfbcf-15d7-416d-9c4b-2354e27c7ca7"
      },
      "outputs": [
        {
          "name": "stdout",
          "output_type": "stream",
          "text": [
            "Olá Olá Olá Olá Olá \n"
          ]
        }
      ],
      "source": [
        "# Repetir a palavra 'Olá' 5 vezes\n",
        "print('Olá '*5)\n"
      ]
    },
    {
      "cell_type": "code",
      "execution_count": null,
      "metadata": {
        "colab": {
          "base_uri": "https://localhost:8080/"
        },
        "id": "5cDE922xe6Mq",
        "outputId": "360ba331-196c-4111-edd8-86cdc0880b0c"
      },
      "outputs": [
        {
          "name": "stdout",
          "output_type": "stream",
          "text": [
            "____________________________________________________________\n",
            "\n",
            "           Seja bem vindo ao curso de Python da DNC\n",
            "____________________________________________________________\n"
          ]
        }
      ],
      "source": [
        "# print com repetição\n",
        "print('_'*60)\n",
        "print()\n",
        "print(' '* 10,'Seja bem vindo ao curso de Python da DNC')\n",
        "print('_'*60)"
      ]
    },
    {
      "cell_type": "code",
      "execution_count": null,
      "metadata": {
        "id": "u3gc_5qzgMEK"
      },
      "outputs": [],
      "source": [
        "# Declarando as variáveis:\n",
        "a = 5\n",
        "b = 7\n",
        "c = 3.45\n",
        "d = 5.50\n"
      ]
    },
    {
      "cell_type": "code",
      "execution_count": null,
      "metadata": {
        "colab": {
          "base_uri": "https://localhost:8080/"
        },
        "id": "pn9IHvqfgXB9",
        "outputId": "5a27e7a9-ea41-40d9-a984-ebe0910467f2"
      },
      "outputs": [
        {
          "name": "stdout",
          "output_type": "stream",
          "text": [
            "43.5\n"
          ]
        }
      ],
      "source": [
        "# Quanto é: a + b * d\n",
        "print(a + b * d)"
      ]
    },
    {
      "cell_type": "code",
      "execution_count": null,
      "metadata": {
        "colab": {
          "base_uri": "https://localhost:8080/"
        },
        "id": "FtzJqg4igbqf",
        "outputId": "c9a571bb-8052-4e9e-edfc-5bb827660508"
      },
      "outputs": [
        {
          "name": "stdout",
          "output_type": "stream",
          "text": [
            "66.0\n"
          ]
        }
      ],
      "source": [
        "# Quanto é : (a+b) * d\n",
        "print((a+b)* d)"
      ]
    },
    {
      "cell_type": "code",
      "execution_count": null,
      "metadata": {
        "colab": {
          "base_uri": "https://localhost:8080/"
        },
        "id": "l_bG21nXgj96",
        "outputId": "58844dc4-1de9-45be-81fe-2ecfa65c1ade"
      },
      "outputs": [
        {
          "name": "stdout",
          "output_type": "stream",
          "text": [
            "57984.15\n"
          ]
        }
      ],
      "source": [
        "# Quanto é: b ** a *c\n",
        "print(b ** a * c)"
      ]
    },
    {
      "cell_type": "code",
      "execution_count": null,
      "metadata": {
        "colab": {
          "base_uri": "https://localhost:8080/"
        },
        "id": "4jRmATQ2gpzW",
        "outputId": "0989312e-db91-4a75-f0a9-2aae27abc19e"
      },
      "outputs": [
        {
          "name": "stdout",
          "output_type": "stream",
          "text": [
            "378391341587299.8\n"
          ]
        }
      ],
      "source": [
        "# Quanto é: b** (a * c)\n",
        "print(b ** (a * c))"
      ]
    },
    {
      "cell_type": "code",
      "execution_count": null,
      "metadata": {
        "colab": {
          "base_uri": "https://localhost:8080/"
        },
        "id": "XuWa5yOvhR0t",
        "outputId": "ad16cdea-e30a-44bd-9e28-ba5fc1e92301"
      },
      "outputs": [
        {
          "name": "stdout",
          "output_type": "stream",
          "text": [
            "O valor total da conta é : R$ 43.75\n"
          ]
        }
      ],
      "source": [
        "# Problema 1\n",
        "# Declarando as variáveis\n",
        "lanche = 10.9\n",
        "lancheQtd = 2\n",
        "refriPreco = 4.5\n",
        "refriQtd = 3\n",
        "batataPreco = 8.45\n",
        "batataQtd = 1\n",
        "\n",
        "contaTotal = lanchePreco * lancheQtd + refriPreco * refriQtd + batataPreco * batataQtd\n",
        "\n",
        "# resposta do item 1:\n",
        "print('O valor total da conta é : R$',contaTotal)"
      ]
    },
    {
      "cell_type": "code",
      "execution_count": null,
      "metadata": {
        "colab": {
          "base_uri": "https://localhost:8080/"
        },
        "id": "WhBG9MPjiZJX",
        "outputId": "5fe458a3-e6ef-4e6c-877c-b2d9db799cc5"
      },
      "outputs": [
        {
          "name": "stdout",
          "output_type": "stream",
          "text": [
            "4.0\n",
            "3.75\n"
          ]
        }
      ],
      "source": [
        "# Calculando item 2:\n",
        "nota10Qtd= contaTotal // 10\n",
        "valorFaltante = contaTotal - nota10Qtd *10\n",
        "\n",
        "print(nota10Qtd)\n",
        "print(valorFaltante)\n",
        "\n"
      ]
    },
    {
      "cell_type": "code",
      "execution_count": null,
      "metadata": {
        "colab": {
          "base_uri": "https://localhost:8080/"
        },
        "id": "k3ASCQVbjEgE",
        "outputId": "316a4e35-02ae-4f84-b23d-53e56dd56023"
      },
      "outputs": [
        {
          "name": "stdout",
          "output_type": "stream",
          "text": [
            "Usei 4  notas de 10 reais\n"
          ]
        }
      ],
      "source": [
        "# Respondendo item 2:\n",
        "# Já que o valorFaltante é menor que 5 reais, então não preciso gastar outra nota de 10\n",
        "print('Usei', int(nota10Qtd), ' notas de 10 reais')"
      ]
    },
    {
      "cell_type": "code",
      "execution_count": null,
      "metadata": {
        "colab": {
          "base_uri": "https://localhost:8080/"
        },
        "id": "pRUjEywckl71",
        "outputId": "0967765a-f3ee-44de-faaf-458678813c23"
      },
      "outputs": [
        {
          "name": "stdout",
          "output_type": "stream",
          "text": [
            "1.0\n"
          ]
        }
      ],
      "source": [
        "# Calculando o item 3:\n",
        "nota5Qtd = valorFaltante // 5 + 1\n",
        "valorFaltante = valorFaltante - nota5Qtd * 5\n",
        "\n",
        "print(nota5Qtd)"
      ]
    },
    {
      "cell_type": "code",
      "execution_count": null,
      "metadata": {
        "colab": {
          "base_uri": "https://localhost:8080/"
        },
        "id": "wLR1_d1pjyds",
        "outputId": "112b6ff0-3afc-43f5-a879-2c4b26af03fe"
      },
      "outputs": [
        {
          "name": "stdout",
          "output_type": "stream",
          "text": [
            "-1.25\n",
            "Usei 1 notas de 5 reais\n"
          ]
        }
      ],
      "source": [
        "# Respondendo o item 3:\n",
        "# Já que o novo valorFaltante é menor que 0 reais, então já paguei o que eu precisava. Não estou devendo\n",
        "print(valorFaltante)\n",
        "\n",
        "print('Usei', int(nota5Qtd),'notas de 5 reais')"
      ]
    },
    {
      "cell_type": "code",
      "execution_count": null,
      "metadata": {
        "colab": {
          "base_uri": "https://localhost:8080/"
        },
        "id": "hcPi5uCdlH7X",
        "outputId": "b8620860-8230-46db-c659-214ae8949672"
      },
      "outputs": [
        {
          "name": "stdout",
          "output_type": "stream",
          "text": [
            "0.0\n",
            "-1.25\n"
          ]
        }
      ],
      "source": [
        "# Calculando item 4:\n",
        "# Já que a única nota menor de 5 reais é a nota de 2 reais, temos que ver se ela é maior do que o Valor Faltante.\n",
        "nota2Qtd = (-valorFaltante) // 2\n",
        "valorFaltante = valorFaltante + nota2Qtd*2\n",
        "\n",
        "print(nota2Qtd)\n",
        "print(valorFaltante)"
      ]
    },
    {
      "cell_type": "code",
      "execution_count": null,
      "metadata": {
        "colab": {
          "base_uri": "https://localhost:8080/"
        },
        "id": "Bnv8e8QMl9Qj",
        "outputId": "643d4e57-1e87-4550-f50e-9fb9fd7c4d3a"
      },
      "outputs": [
        {
          "name": "stdout",
          "output_type": "stream",
          "text": [
            "Recebi 0 de notas de 2 reais\n"
          ]
        }
      ],
      "source": [
        "# Respondendo o item 4:\n",
        "\n",
        "print('Recebi', int(nota2Qtd), 'de notas de 2 reais')"
      ]
    },
    {
      "cell_type": "code",
      "execution_count": null,
      "metadata": {
        "colab": {
          "base_uri": "https://localhost:8080/"
        },
        "id": "9HVg2QnnmeQ7",
        "outputId": "dffa7f1a-e494-49f4-eb1e-f17e457a0003"
      },
      "outputs": [
        {
          "name": "stdout",
          "output_type": "stream",
          "text": [
            "1.25\n",
            "0.0\n"
          ]
        }
      ],
      "source": [
        "# Calculando item 5:\n",
        "# Já que já recebemos tudo o que dava em notas, o que falta é somente moedas\n",
        "\n",
        "moedaValor= 0 - valorFaltante\n",
        "valorFaltante = moedaValor + valorFaltante\n",
        "\n",
        "print(moedaValor)\n",
        "print(valorFaltante)"
      ]
    },
    {
      "cell_type": "code",
      "execution_count": null,
      "metadata": {
        "colab": {
          "base_uri": "https://localhost:8080/"
        },
        "id": "fJHaE9ekm2em",
        "outputId": "9ef34986-b0b1-46b0-84b0-479d4751dc3f"
      },
      "outputs": [
        {
          "name": "stdout",
          "output_type": "stream",
          "text": [
            "Recebi 1.25 em moedas\n"
          ]
        }
      ],
      "source": [
        "# Respondendo o item 5:\n",
        "\n",
        "print('Recebi', moedaValor, 'em moedas')"
      ]
    },
    {
      "cell_type": "code",
      "execution_count": null,
      "metadata": {
        "id": "ca7_DavXB5oo"
      },
      "outputs": [],
      "source": [
        "# Transformando Variáveis\n",
        "# Declarando as variáveis\n",
        "a = 1.857\n",
        "b = '4'\n",
        "c= True\n",
        "d = False\n",
        "e = 'tex34'\n"
      ]
    },
    {
      "cell_type": "code",
      "execution_count": null,
      "metadata": {
        "colab": {
          "base_uri": "https://localhost:8080/"
        },
        "id": "Um4NV4nXCvDU",
        "outputId": "cd67a6cb-f2e5-47f4-daba-b3b153c9f43c"
      },
      "outputs": [
        {
          "data": {
            "text/plain": [
              "1"
            ]
          },
          "execution_count": 2,
          "metadata": {},
          "output_type": "execute_result"
        }
      ],
      "source": [
        "# int(a)\n",
        "int(a)"
      ]
    },
    {
      "cell_type": "code",
      "execution_count": null,
      "metadata": {
        "colab": {
          "base_uri": "https://localhost:8080/"
        },
        "id": "FZ5td1IECu7u",
        "outputId": "73648684-36cb-4795-96c6-105e785e8a86"
      },
      "outputs": [
        {
          "name": "stdout",
          "output_type": "stream",
          "text": [
            "<class 'str'>\n"
          ]
        },
        {
          "data": {
            "text/plain": [
              "4"
            ]
          },
          "execution_count": 3,
          "metadata": {},
          "output_type": "execute_result"
        }
      ],
      "source": [
        "# int(b)\n",
        "print(type(b))\n",
        "int(b)"
      ]
    },
    {
      "cell_type": "code",
      "execution_count": null,
      "metadata": {
        "colab": {
          "base_uri": "https://localhost:8080/"
        },
        "id": "GL5rBgA5Cuz3",
        "outputId": "78901478-c61f-4e5e-b2fa-b72b1ec43053"
      },
      "outputs": [
        {
          "name": "stdout",
          "output_type": "stream",
          "text": [
            "<class 'bool'>\n"
          ]
        },
        {
          "data": {
            "text/plain": [
              "1"
            ]
          },
          "execution_count": 5,
          "metadata": {},
          "output_type": "execute_result"
        }
      ],
      "source": [
        "# int(c)\n",
        "print(type(c))\n",
        "int(c)"
      ]
    },
    {
      "cell_type": "code",
      "execution_count": null,
      "metadata": {
        "colab": {
          "base_uri": "https://localhost:8080/"
        },
        "id": "3oPsfNjyCumx",
        "outputId": "78741b43-43cc-47aa-ddfe-10fec65d0365"
      },
      "outputs": [
        {
          "name": "stdout",
          "output_type": "stream",
          "text": [
            "<class 'bool'>\n"
          ]
        },
        {
          "data": {
            "text/plain": [
              "0"
            ]
          },
          "execution_count": 6,
          "metadata": {},
          "output_type": "execute_result"
        }
      ],
      "source": [
        "# int(d)\n",
        "print(type(d))\n",
        "int(d)"
      ]
    },
    {
      "cell_type": "code",
      "execution_count": null,
      "metadata": {
        "colab": {
          "base_uri": "https://localhost:8080/"
        },
        "id": "3n0tUctJC2i3",
        "outputId": "3194df63-8f45-45a5-dea7-7e4cfb7ac53f"
      },
      "outputs": [
        {
          "name": "stdout",
          "output_type": "stream",
          "text": [
            "<class 'str'>\n"
          ]
        }
      ],
      "source": [
        "# int(e)\n",
        "print(type(e))"
      ]
    },
    {
      "cell_type": "code",
      "execution_count": null,
      "metadata": {
        "id": "NA8pPA3RDXkj"
      },
      "outputs": [],
      "source": [
        "a = 1\n",
        "# float(a)"
      ]
    },
    {
      "cell_type": "code",
      "execution_count": null,
      "metadata": {
        "colab": {
          "base_uri": "https://localhost:8080/"
        },
        "id": "yg7mHG8kDXXK",
        "outputId": "a63785df-e6c9-4744-a156-8c84921440d3"
      },
      "outputs": [
        {
          "name": "stdout",
          "output_type": "stream",
          "text": [
            "1.0\n",
            "<class 'int'>\n",
            "<class 'float'>\n"
          ]
        }
      ],
      "source": [
        "float(a)\n",
        "print(float(a))\n",
        "print(type(a))\n",
        "print(type(float(a)))"
      ]
    },
    {
      "cell_type": "code",
      "execution_count": null,
      "metadata": {
        "colab": {
          "base_uri": "https://localhost:8080/"
        },
        "id": "hqIin5lmDW3G",
        "outputId": "fe27fe0d-2d13-4903-92a1-0128e9c3f39d"
      },
      "outputs": [
        {
          "data": {
            "text/plain": [
              "4.0"
            ]
          },
          "execution_count": 11,
          "metadata": {},
          "output_type": "execute_result"
        }
      ],
      "source": [
        "float(b)"
      ]
    },
    {
      "cell_type": "code",
      "execution_count": null,
      "metadata": {
        "colab": {
          "base_uri": "https://localhost:8080/"
        },
        "id": "PV9BIDoNDWdT",
        "outputId": "5a48f8dc-f8c8-4fec-a4c5-a68ae9ae439d"
      },
      "outputs": [
        {
          "data": {
            "text/plain": [
              "1.0"
            ]
          },
          "execution_count": 12,
          "metadata": {},
          "output_type": "execute_result"
        }
      ],
      "source": [
        "float(c)"
      ]
    },
    {
      "cell_type": "code",
      "execution_count": null,
      "metadata": {
        "colab": {
          "base_uri": "https://localhost:8080/"
        },
        "id": "9tcNQhrKDV1T",
        "outputId": "de27e18b-3011-4688-828d-50a47edb5d56"
      },
      "outputs": [
        {
          "data": {
            "text/plain": [
              "0.0"
            ]
          },
          "execution_count": 13,
          "metadata": {},
          "output_type": "execute_result"
        }
      ],
      "source": [
        "float(d)"
      ]
    },
    {
      "cell_type": "code",
      "execution_count": null,
      "metadata": {
        "colab": {
          "base_uri": "https://localhost:8080/",
          "height": 36
        },
        "id": "LpMsgaX7EMbR",
        "outputId": "b061d6aa-df23-41ef-d03a-afe6885d0603"
      },
      "outputs": [
        {
          "data": {
            "application/vnd.google.colaboratory.intrinsic+json": {
              "type": "string"
            },
            "text/plain": [
              "'1'"
            ]
          },
          "execution_count": 17,
          "metadata": {},
          "output_type": "execute_result"
        }
      ],
      "source": [
        "b = 2.758\n",
        "# str(a)\n",
        "str(a)"
      ]
    },
    {
      "cell_type": "code",
      "execution_count": null,
      "metadata": {
        "colab": {
          "base_uri": "https://localhost:8080/",
          "height": 36
        },
        "id": "rkogmj0EEO81",
        "outputId": "ad971f70-bc52-467f-ce34-31e6955e8bd0"
      },
      "outputs": [
        {
          "data": {
            "application/vnd.google.colaboratory.intrinsic+json": {
              "type": "string"
            },
            "text/plain": [
              "'2.758'"
            ]
          },
          "execution_count": 18,
          "metadata": {},
          "output_type": "execute_result"
        }
      ],
      "source": [
        "# str(b)\n",
        "str(b)"
      ]
    },
    {
      "cell_type": "code",
      "execution_count": null,
      "metadata": {
        "colab": {
          "base_uri": "https://localhost:8080/",
          "height": 36
        },
        "id": "8HObiddeEO2E",
        "outputId": "c0aa44f9-fb41-4ba8-9a93-cba7ae296007"
      },
      "outputs": [
        {
          "data": {
            "application/vnd.google.colaboratory.intrinsic+json": {
              "type": "string"
            },
            "text/plain": [
              "'True'"
            ]
          },
          "execution_count": 19,
          "metadata": {},
          "output_type": "execute_result"
        }
      ],
      "source": [
        "# str(c)\n",
        "str(c)"
      ]
    },
    {
      "cell_type": "code",
      "execution_count": null,
      "metadata": {
        "colab": {
          "base_uri": "https://localhost:8080/",
          "height": 36
        },
        "id": "cwah_ykLEOvQ",
        "outputId": "f103ea99-1bf7-4dd0-d6a3-d53fae1ab019"
      },
      "outputs": [
        {
          "data": {
            "application/vnd.google.colaboratory.intrinsic+json": {
              "type": "string"
            },
            "text/plain": [
              "'False'"
            ]
          },
          "execution_count": 20,
          "metadata": {},
          "output_type": "execute_result"
        }
      ],
      "source": [
        "# str(d)\n",
        "str(d)"
      ]
    },
    {
      "cell_type": "code",
      "execution_count": null,
      "metadata": {
        "colab": {
          "base_uri": "https://localhost:8080/",
          "height": 36
        },
        "id": "45BHvs1rEOnu",
        "outputId": "dbd3e10d-0477-4365-ca68-a2137e3f04b6"
      },
      "outputs": [
        {
          "data": {
            "application/vnd.google.colaboratory.intrinsic+json": {
              "type": "string"
            },
            "text/plain": [
              "'tex34'"
            ]
          },
          "execution_count": 21,
          "metadata": {},
          "output_type": "execute_result"
        }
      ],
      "source": [
        "# str(e)\n",
        "str(e)"
      ]
    },
    {
      "cell_type": "code",
      "execution_count": null,
      "metadata": {
        "colab": {
          "base_uri": "https://localhost:8080/"
        },
        "id": "NxGSb3O8FvYi",
        "outputId": "e5c88776-0691-41dc-c3b2-d97de4de4683"
      },
      "outputs": [
        {
          "name": "stdout",
          "output_type": "stream",
          "text": [
            "Você pediu um lanche de: R$ 10.9 e uma batata de: R$ 8.45 totalizando: R$ 19.35\n"
          ]
        }
      ],
      "source": [
        "# print comum:\n",
        "print('Você pediu um lanche de: R$',lanchePreco,'e uma batata de: R$', batataPreco, 'totalizando: R$',lanchePreco+batataPreco)"
      ]
    },
    {
      "cell_type": "code",
      "execution_count": null,
      "metadata": {
        "colab": {
          "base_uri": "https://localhost:8080/"
        },
        "id": "8g-d9CecFu-y",
        "outputId": "a9f9f3a8-3ce3-483b-8df2-521ac390a27a"
      },
      "outputs": [
        {
          "name": "stdout",
          "output_type": "stream",
          "text": [
            "Você pediu um lanche de: R$ 10.9 e uma batata de: R$ 8.45 totalizando: R$ 19.35\n"
          ]
        }
      ],
      "source": [
        "# print formatado\n",
        "print('Você pediu um lanche de: R$ {} e uma batata de: R$ {} totalizando: R$ {}'.format(lanchePreco,batataPreco,lanchePreco+batataPreco))"
      ]
    },
    {
      "cell_type": "code",
      "execution_count": null,
      "metadata": {
        "colab": {
          "base_uri": "https://localhost:8080/"
        },
        "id": "psvulx9YHcYR",
        "outputId": "2d3e57a0-6d10-4710-bb77-46bfdcaf2b18"
      },
      "outputs": [
        {
          "name": "stdout",
          "output_type": "stream",
          "text": [
            "|        245 |       2.84 |\n"
          ]
        }
      ],
      "source": [
        "# Personalizando\n",
        "a = 245\n",
        "b = 2.835895\n",
        "\n",
        "print('| {0:10} | {1:10.2f} |'. format(a,b))"
      ]
    }
  ],
  "metadata": {
    "colab": {
      "provenance": []
    },
    "kernelspec": {
      "display_name": "Python 3",
      "name": "python3"
    },
    "language_info": {
      "name": "python"
    }
  },
  "nbformat": 4,
  "nbformat_minor": 0
}

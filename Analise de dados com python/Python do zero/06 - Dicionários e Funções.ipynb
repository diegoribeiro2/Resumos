{
  "cells": [
    {
      "cell_type": "markdown",
      "metadata": {
        "id": "38HRUrReSiB9"
      },
      "source": [
        "## **Módulo Matéria 04** - Análise de Regressão em Python"
      ]
    },
    {
      "cell_type": "markdown",
      "metadata": {
        "id": "kjZUG24BihnJ"
      },
      "source": [
        "## Dicionários e Funções"
      ]
    },
    {
      "cell_type": "markdown",
      "metadata": {
        "id": "99E68DQQO5P-"
      },
      "source": [
        "### Aula 268 Dicionários\n",
        "\n",
        "<p>TEMA CENTRAL: Dicionários em Python</p><ul><li><p>O que são dicionários</p><ul><li>Listas com índices textuais ao invés de numéricos</li><li>Permitem acessar valores através de &quot;chaves&quot;</li></ul></li><li><p>Declarando dicionários</p><ul><li>Utilizando chaves {}</li><li>dict() também declara um dicionário</li></ul></li><li><p>Acessando valores</p><ul><li>nome_dicionario[&quot;chave&quot;] retorna o valor daquela chave</li></ul></li><li><p>Estrutura do dicionário</p><ul><li>Chaves - equivalente às posições nas listas</li><li>Valores - os valores de cada chave</li><li>Itens - combinação de chave e valor</li></ul></li><li><p>Métodos</p><ul><li>valores = dicionario.values() - retorna lista com valores</li><li>chaves = dicionario.keys() - retorna lista com chaves</li><li>itens = dicionario.items() - retorna lista de tuplas com (chave, valor)</li></ul></li><li><p>Deletando</p><ul><li>del dicionario[&quot;chave&quot;] deleta o par chave/valor</li></ul></li><li><p>Dicionário em loops</p><ul><li>for chave, valor in dicionario.items():print(chave, valor)</li><li>Imprime chave e valor de cada item</li></ul></li><li><p>Dicionários dentro de listas</p><ul><li>Lista com vários dicionários dentro</li><li>Equivale a linhas (dicionários) e colunas (chaves) de uma tabela</li></ul></li><li><p>Inserindo em listas</p><ul><li>lista.append(dicionario.copy())</li><li>copy() faz cópia do dicionário para inserir na lista</li></ul></li></ul>\n"
      ]
    },
    {
      "cell_type": "markdown",
      "metadata": {
        "id": "0Y-yPEikO8UM"
      },
      "source": [
        "### 269 Dicionários na Prática!\n",
        "\n"
      ]
    },
    {
      "cell_type": "code",
      "execution_count": null,
      "metadata": {
        "colab": {
          "base_uri": "https://localhost:8080/"
        },
        "id": "ik7LNg6CGoUP",
        "outputId": "0fbbeeba-488b-4514-ec87-052d7662d8e2"
      },
      "outputs": [
        {
          "name": "stdout",
          "output_type": "stream",
          "text": [
            "['Everton', 29, 'São José']\n",
            "{'nome': 'Everton', 'idade': 29, 'cidade': 'São José'}\n"
          ]
        }
      ],
      "source": [
        "# Dicionário\n",
        "# Lista\n",
        "lista = ['Everton', 29 , 'São José']\n",
        "\n",
        "# Dicionário equivalente.\n",
        "dicio = {\n",
        "    'nome': 'Everton',\n",
        "    'idade': 29,\n",
        "    'cidade': 'São José'\n",
        "}\n",
        "\n",
        "print(lista)\n",
        "print(dicio)"
      ]
    },
    {
      "cell_type": "code",
      "execution_count": null,
      "metadata": {
        "colab": {
          "base_uri": "https://localhost:8080/"
        },
        "id": "SFaELIPXGoSk",
        "outputId": "25196207-7c42-409f-c9a7-ea439de6211d"
      },
      "outputs": [
        {
          "name": "stdout",
          "output_type": "stream",
          "text": [
            "{}\n",
            "{}\n",
            "{'key1': 'value1', 'key2': 38.5, 'key3': True, 'key4': [0, 1]}\n"
          ]
        }
      ],
      "source": [
        "# Declarando dicionários\n",
        "dic1 ={}\n",
        "dic2 = dict()\n",
        "dic3 = {\n",
        "    'key1': 'value1',\n",
        "    'key2': 38.5,\n",
        "    'key3': True,\n",
        "    'key4': [0, 1],\n",
        "}\n",
        "\n",
        "# Imprimindo\n",
        "print(dic1)\n",
        "print(dic2)\n",
        "print(dic3)"
      ]
    },
    {
      "cell_type": "code",
      "execution_count": null,
      "metadata": {
        "colab": {
          "base_uri": "https://localhost:8080/"
        },
        "id": "QkJ3Dw88GoNZ",
        "outputId": "da905b8d-ed9b-4442-d388-b17a0d839baf"
      },
      "outputs": [
        {
          "name": "stdout",
          "output_type": "stream",
          "text": [
            "Jeremias\n",
            "29\n",
            "Mogi das Cruzes\n"
          ]
        }
      ],
      "source": [
        "# Declarando dicionário:\n",
        "pessoa = {\n",
        "    'nome': 'Jeremias',\n",
        "    'idade': 29,\n",
        "    'cidade': 'Mogi das Cruzes'\n",
        "}\n",
        "\n",
        "# Acessando os valores:\n",
        "print(pessoa['nome'])\n",
        "print(pessoa['idade'])\n",
        "print(pessoa['cidade'])"
      ]
    },
    {
      "cell_type": "code",
      "execution_count": null,
      "metadata": {
        "colab": {
          "base_uri": "https://localhost:8080/"
        },
        "id": "kVIdDDiEGoKy",
        "outputId": "453baedd-7b6e-4f4b-ee9c-4da6ba7876db"
      },
      "outputs": [
        {
          "name": "stdout",
          "output_type": "stream",
          "text": [
            "{'nome': 'Jeremias', 'idade': 29, 'cidade': 'São Paulo'}\n"
          ]
        }
      ],
      "source": [
        "# Modificando o valor:\n",
        "pessoa['cidade'] = 'São Paulo'\n",
        "\n",
        "# Imprimindo valores\n",
        "print(pessoa)"
      ]
    },
    {
      "cell_type": "code",
      "execution_count": null,
      "metadata": {
        "colab": {
          "base_uri": "https://localhost:8080/"
        },
        "id": "YMOSZSaEGoHL",
        "outputId": "483e28b7-ac5c-4e6f-802b-c870770f2205"
      },
      "outputs": [
        {
          "name": "stdout",
          "output_type": "stream",
          "text": [
            "{'nome': 'Jeremias', 'idade': 29, 'cidade': 'São Paulo', 'peso': 65, 'Cidade': 'São Paulo'}\n"
          ]
        }
      ],
      "source": [
        "# Criando chave\n",
        "pessoa['peso'] = 65\n",
        "pessoa['Cidade'] = 'São Paulo'\n",
        "\n",
        "# Imprimindo valores\n",
        "print(pessoa)"
      ]
    },
    {
      "cell_type": "code",
      "execution_count": null,
      "metadata": {
        "colab": {
          "base_uri": "https://localhost:8080/"
        },
        "id": "FX0YSFeWGoEN",
        "outputId": "a942a5f5-faca-48cb-b4e8-be5e07aee943"
      },
      "outputs": [
        {
          "name": "stdout",
          "output_type": "stream",
          "text": [
            "{'nome': 'Jeremias', 'idade': 29, 'cidade': 'São Paulo', 'peso': 65}\n"
          ]
        }
      ],
      "source": [
        "# Deletando uma chave:\n",
        "del pessoa['Cidade']\n",
        "\n",
        "# Imprimindo valores:\n",
        "print(pessoa)"
      ]
    },
    {
      "cell_type": "code",
      "execution_count": null,
      "metadata": {
        "colab": {
          "base_uri": "https://localhost:8080/"
        },
        "id": "VMnzSJ-6Gn9I",
        "outputId": "ed81fdca-6749-4b66-e655-f3caf750af9b"
      },
      "outputs": [
        {
          "name": "stdout",
          "output_type": "stream",
          "text": [
            "{'nome': 'Everton', 'idade': 29, 'cidade': 'São José'}\n",
            "dict_values(['Everton', 29, 'São José'])\n",
            "dict_keys(['nome', 'idade', 'cidade'])\n",
            "dict_items([('nome', 'Everton'), ('idade', 29), ('cidade', 'São José')])\n"
          ]
        }
      ],
      "source": [
        "# Imprimindo valores\n",
        "print(dicio)\n",
        "print(dicio.values())\n",
        "print(dicio.keys())\n",
        "print(dicio.items())"
      ]
    },
    {
      "cell_type": "code",
      "execution_count": null,
      "metadata": {
        "colab": {
          "base_uri": "https://localhost:8080/"
        },
        "id": "yBNxvLyKGnwX",
        "outputId": "071abbf2-dfb0-48bf-93a6-6893c5d116cf"
      },
      "outputs": [
        {
          "name": "stdout",
          "output_type": "stream",
          "text": [
            "O valor é : Everton\n",
            "O valor é : 29\n",
            "O valor é : São José\n"
          ]
        }
      ],
      "source": [
        "# Acessando os valores\n",
        "# Imprimindo valores\n",
        "for v in dicio.values():\n",
        "  # print('O valor é : {}'.format(v))\n",
        "  print(f'O valor é : {v}')"
      ]
    },
    {
      "cell_type": "code",
      "execution_count": null,
      "metadata": {
        "colab": {
          "base_uri": "https://localhost:8080/"
        },
        "id": "2qw245-FKx8Q",
        "outputId": "3378f7db-a916-48b6-9750-0b3c65a262f1"
      },
      "outputs": [
        {
          "name": "stdout",
          "output_type": "stream",
          "text": [
            "A chave é : nome\n",
            "A chave é : idade\n",
            "A chave é : cidade\n"
          ]
        }
      ],
      "source": [
        "# Acessando as chaves\n",
        "# Imprimindo chaves\n",
        "for k in dicio.keys():\n",
        "  print(f'A chave é : {k}')"
      ]
    },
    {
      "cell_type": "code",
      "execution_count": null,
      "metadata": {
        "colab": {
          "base_uri": "https://localhost:8080/"
        },
        "id": "_wD4kGCJKx2c",
        "outputId": "050054f7-aba6-4bf0-bf3d-22f5e27040ab"
      },
      "outputs": [
        {
          "name": "stdout",
          "output_type": "stream",
          "text": [
            "O(a) ('nome', 'Everton') é: São José \n",
            "O(a) ('idade', 29) é: São José \n",
            "O(a) ('cidade', 'São José') é: São José \n"
          ]
        }
      ],
      "source": [
        "# Acessando as chaves e valores\n",
        "# Imprimindo chaves\n",
        "for k in dicio.items():\n",
        "  print(f'O(a) {k} é: {v} ')"
      ]
    },
    {
      "cell_type": "code",
      "execution_count": null,
      "metadata": {
        "colab": {
          "base_uri": "https://localhost:8080/"
        },
        "id": "Z9YpfCoQKx05",
        "outputId": "51276761-f1d5-4a96-df85-a8492c73af0b"
      },
      "outputs": [
        {
          "name": "stdout",
          "output_type": "stream",
          "text": [
            "{'lanche': 10.9, 'batata': 5.5, 'refri': 3.9}\n"
          ]
        }
      ],
      "source": [
        "# Declarando dicionário\n",
        "\n",
        "cardapio = {\n",
        "    'lanche': 10.9,\n",
        "    'batata': 5.5,\n",
        "    'refri': 3.9,\n",
        "}\n",
        "\n",
        "print(cardapio)\n"
      ]
    },
    {
      "cell_type": "code",
      "execution_count": null,
      "metadata": {
        "colab": {
          "base_uri": "https://localhost:8080/"
        },
        "id": "GhUxvvAeKxx7",
        "outputId": "a1edf56f-c6a6-442e-b966-50322af66d50"
      },
      "outputs": [
        {
          "name": "stdout",
          "output_type": "stream",
          "text": [
            "----------------------------------------\n",
            "--------------- CARDÁPIO ---------------\n",
            "lanche.......................... : R$10.90\n",
            "batata.......................... : R$ 5.50\n",
            "refri........................... : R$ 3.90\n",
            "Quantos lanche você quer? 3\n",
            "Quantos batata você quer? 3\n",
            "Quantos refri você quer? 3\n",
            "{'lanche': 3, 'batata': 3, 'refri': 3}\n",
            "----------------------------------------\n",
            "-----------  RECIBO  -----------\n",
            "3 lanche.............. = R$32.70\n",
            "3 batata.............. = R$16.50\n",
            "3 refri............... = R$11.70\n",
            "--------------------------------\n",
            "    O valor total é R$ 60.90\n"
          ]
        }
      ],
      "source": [
        "# 1. Mostrando cardápio:\n",
        "print('-'*40)\n",
        "print('-'*15, 'CARDÁPIO', '-'*15)\n",
        "for k, v in cardapio.items():\n",
        "  print(f'{k:.<32} : R${v:5.2f}')\n",
        "\n",
        "# 2. Perguntando quantos items ele quer de cada.\n",
        "qtd = {}\n",
        "for k in cardapio.keys():\n",
        "  qtd[k] = int(input(f'Quantos {k} você quer? '))\n",
        "\n",
        "print(qtd)\n",
        "# 3. Calculando o valor total:\n",
        "soma = 0\n",
        "for v1, v2 in zip(cardapio.values(), qtd.values()):\n",
        "  soma += v1 * v2\n",
        "\n",
        "# Imprimindo recibo:\n",
        "print('-'*40)\n",
        "print('-'*11, ' RECIBO ','-'*11)\n",
        "for k, v in qtd.items():\n",
        "  print(f'{v} {k:.<20} = R${v * cardapio[k]:5.2f}')\n",
        "print('-'*32)\n",
        "print(f'    O valor total é R$ {soma:.2f}')\n"
      ]
    },
    {
      "cell_type": "code",
      "execution_count": null,
      "metadata": {
        "colab": {
          "base_uri": "https://localhost:8080/"
        },
        "id": "LiQ_vrHAKxvG",
        "outputId": "3c01a6b9-d7f2-4ae4-ec00-2927ca70fe2d"
      },
      "outputs": [
        {
          "name": "stdout",
          "output_type": "stream",
          "text": [
            "{'nome': 'Islene', 'idade': 37, 'cidade': 'Mogi das Cruzes'}\n",
            "Renata\n",
            "Mogi das Cruzes\n"
          ]
        }
      ],
      "source": [
        "# Dicionários dentro de listas\n",
        "# Copiando a lista de dicionários\n",
        "\n",
        "# Imprimindo cada lista:\n",
        "pessoas = [\n",
        "    {'nome':'Jeremias', 'idade': 29, 'cidade': 'Mogi das Cruzes'},\n",
        "    {'nome':'Renata', 'idade': 28, 'cidade': 'Mogi das Cruzes'},\n",
        "    {'nome':'Islene', 'idade': 37, 'cidade': 'Mogi das Cruzes'}\n",
        "]\n",
        "# Imprimindo o nome da pessoa 1:\n",
        "print(pessoas[2])\n",
        "\n",
        "# Imprimindo a idade da pessoa 2:\n",
        "print(pessoas[1]['nome'])\n",
        "\n",
        "# Imprimindo a cidade da pessoa 3:\n",
        "print(pessoas[1][\"cidade\"])\n",
        "\n"
      ]
    },
    {
      "cell_type": "code",
      "execution_count": null,
      "metadata": {
        "colab": {
          "base_uri": "https://localhost:8080/"
        },
        "id": "YoXdITGGKxqJ",
        "outputId": "20b208b1-bddf-4e5f-d416-94d7e8a2c70a"
      },
      "outputs": [
        {
          "name": "stdout",
          "output_type": "stream",
          "text": [
            "Dados da pessoa: {'nome': 'Jeremias', 'idade': 29, 'cidade': 'Mogi das Cruzes'}\n",
            " A chave nome é :Jeremias\n",
            " A chave idade é :29\n",
            " A chave cidade é :Mogi das Cruzes\n",
            "Dados da pessoa: {'nome': 'Renata', 'idade': 28, 'cidade': 'Mogi das Cruzes'}\n",
            " A chave nome é :Renata\n",
            " A chave idade é :28\n",
            " A chave cidade é :Mogi das Cruzes\n",
            "Dados da pessoa: {'nome': 'Islene', 'idade': 37, 'cidade': 'Mogi das Cruzes'}\n",
            " A chave nome é :Islene\n",
            " A chave idade é :37\n",
            " A chave cidade é :Mogi das Cruzes\n"
          ]
        }
      ],
      "source": [
        "# montando for:\n",
        "for p in pessoas:\n",
        "  print(f'Dados da pessoa: {p}')\n",
        "  for k, v in p. items():\n",
        "    print(f' A chave {k} é :{v}')"
      ]
    },
    {
      "cell_type": "code",
      "execution_count": null,
      "metadata": {
        "colab": {
          "base_uri": "https://localhost:8080/"
        },
        "id": "ETB5qbylKxiI",
        "outputId": "1108b4f7-1fdd-4eb9-856b-41d23ebe6114"
      },
      "outputs": [
        {
          "name": "stdout",
          "output_type": "stream",
          "text": [
            "O nome da pessoa 1 é Jeremias\n",
            "O nome da pessoa 2 é Renata\n",
            "O nome da pessoa 3 é Islene\n",
            "------------------------------\n",
            "A pessoa 1 tem 29 anos e o nome dela é Jeremias e mora em Mogi das Cruzes\n",
            "A pessoa 2 tem 28 anos e o nome dela é Renata e mora em Mogi das Cruzes\n"
          ]
        }
      ],
      "source": [
        "# Imprimir somente os nomes:\n",
        "for i, p in enumerate(pessoas):\n",
        "  # print(i+1, p)\n",
        "  print(f\"O nome da pessoa {i+1} é {p['nome']}\")\n",
        "print('-'*30)\n",
        "\n",
        "# Imprimir os dados de pessoas com menos de 30 anos:\n",
        "for i, p in enumerate(pessoas):\n",
        "  for k, v in p. items():\n",
        "    if k == 'idade' and v < 30:\n",
        "      print(f\"A pessoa {i+1} tem {p['idade']} anos e o nome dela é {p['nome']} e mora em {p['cidade']}\")"
      ]
    },
    {
      "cell_type": "code",
      "execution_count": null,
      "metadata": {
        "colab": {
          "base_uri": "https://localhost:8080/"
        },
        "id": "wZKMWnLd-XMS",
        "outputId": "99d34118-b36d-4190-9e27-a2fa80553b8d"
      },
      "outputs": [
        {
          "name": "stdout",
          "output_type": "stream",
          "text": [
            "Fale um nome: Jeremias\n",
            "Fale a idade: 29\n",
            "Você quer continuar? (s/n) s\n",
            "Fale um nome: Renata\n",
            "Fale a idade: 28\n",
            "Você quer continuar? (s/n) s\n",
            "Fale um nome: Islene\n",
            "Fale a idade: 37\n",
            "Você quer continuar? (s/n) n\n",
            "[{'nome': 'Jeremias', 'idade': 29}, {'nome': 'Renata', 'idade': 28}, {'nome': 'Islene', 'idade': 37}]\n"
          ]
        }
      ],
      "source": [
        "# Declarando lista e dicio vazios\n",
        "temp = {}\n",
        "pessoas = []\n",
        "\n",
        "while True:\n",
        "  temp['nome'] = str(input('Fale um nome: ' ))\n",
        "  temp['idade'] = int(input('Fale a idade: '))\n",
        "  controle = str(input('Você quer continuar? (s/n) '))\n",
        "  pessoas.append(temp.copy())\n",
        "  if controle == 'n':\n",
        "    break\n",
        "\n",
        "print(pessoas)"
      ]
    },
    {
      "cell_type": "markdown",
      "metadata": {
        "id": "QMQ9srwBO-dU"
      },
      "source": [
        "### Aula 270 Funções\n",
        "\n",
        "<h1>Funções em Python</h1><h2>O que são funções?</h2><ul><li>Rotinas - tarefas repetitivas que podemos automatizar</li><li>Ações executadas várias vezes nos programas</li><li>Otimizam nosso trabalho</li></ul><h2>Como criar funções</h2><ul><li><p><code>def nome_funcao():</code></p><ul><li><code>def</code> indica que está declarando uma função</li><li><code>nome_funcao</code> é o nome que damos à função</li><li><code>()</code> pode conter parâmetros (entrada) da função</li></ul></li><li><p>Corpo da função:</p><ul><li>Ações que serão executadas quando chamarmos a função</li></ul></li><li><p>Chamada da função:</p><ul><li>Usamos o nome da função seguido de <code>()</code></li><li>Executa as ações definidas na função</li></ul></li></ul><h2>Parâmetros e argumentos</h2><ul><li>Parâmetros: variáveis declaradas na definição da função</li><li>Argumentos: valores passados na chamada da função</li></ul><h2>Retorno de valores</h2><ul><li><code>return valor</code> retorna um valor para quem chamou a função</li></ul><h2>Variáveis locais e globais</h2><ul><li>Locais: disponíveis apenas dentro da função</li><li>Globais: disponíveis em todo o programa<ul><li>Declarar com <code>global nome_variavel</code> dentro da função</li></ul></li></ul><h2>Documentando funções</h2><ul><li>Help interno do Python para funções</li><li>Docstrings:<ul><li><code>&quot;&quot;&quot; documentação da função &quot;&quot;&quot;</code></li><li>Logo após definição da função</li><li>Descreve o que a função faz</li></ul></li></ul><p>Esse é um resumo em forma de mapa mental abordando os principais tópicos sobre funções no Python apresentados no vídeo. Usei markdown para destacar os títulos e facilitar a visualização.</p>\n"
      ]
    },
    {
      "cell_type": "markdown",
      "metadata": {
        "id": "fb5D9rFjPSUU"
      },
      "source": [
        "### Aula 271 Funções na Prática!\n",
        "\n",
        "<h1>Tema central: Funções em Python</h1><h2>Criando funções</h2><ul><li>Palavra <code>def</code>, nome da função, parênteses com parâmetros (opcionais), dois pontos e corpo da função</li><li>Devem ser declaradas no início do programa</li><li>Primeiro exemplo: função <code>ola()</code> que imprime uma saudação</li></ul><h2>Chamando funções</h2><ul><li>Chamar pelo nome a qualquer momento para executar o código da função</li><li>Pode chamar quantas vezes quiser para reutilizar código</li></ul><h2>Funções e bibliotecas</h2><ul><li>Funções facilitam o uso de bibliotecas de terceiros</li><li>São grupos de funções úteis criadas por outros</li></ul><h2>Parâmetros</h2><ul><li>Podem receber diferentes tipos de dados como entrada</li><li>Primeiro exemplo: Função <code>txt()</code> que recebe uma string e imprime formatada</li></ul><h2>Retorno de funções</h2><ul><li>Use <code>return</code> para retornar um valor para o programa principal</li><li>Permite trabalhar com o resultado da função</li></ul><h2>Parâmetros opcionais</h2><ul><li>Defina um valor padrão para torná-los opcionais</li><li>Ex: <code>def soma(a, b=0)</code> onde <code>b</code> é opcional</li></ul><h2>Parâmetros variáveis</h2><ul><li>Use <code>*nums</code> para aceitar número indefinido de argumentos</li><li>Ex: calcula a média de uma quantidade variável de números</li></ul><h2>Documentando funções</h2><ul><li>Use docstring com <code>&quot;&quot;&quot;</code> para documentar e ter ajuda</li><li>Descreva o que a função faz e seus parâmetros</li></ul><h2>Escopos local e global</h2><ul><li>Local é dentro da função, global é programa principal</li><li>Variáveis globais podem ser lidas mas não modificadas em funções</li></ul><h2>Funções nativas internas</h2><ul><li>Muitas já disponíveis como <code>print()</code>, <code>len()</code> etc</li><li>Use <code>dir(__builtins__)</code> para ver todas</li></ul><p>E alguns exercícios são sugeridos para praticar funções, como fatorial, validação de número par, tratamento de input do usuário e cálculos estatísticos de listas.</p>\n"
      ]
    },
    {
      "cell_type": "code",
      "execution_count": null,
      "metadata": {
        "colab": {
          "base_uri": "https://localhost:8080/"
        },
        "id": "lePmd35qGrnC",
        "outputId": "fb9a0743-d8c4-44fd-c894-206257d07800"
      },
      "outputs": [
        {
          "name": "stdout",
          "output_type": "stream",
          "text": [
            "ação 1\n",
            "Olá, seja muito bem vindo!\n",
            "--------------------\n",
            "pegar dados\n",
            "Olá, seja muito bem vindo!\n",
            "--------------------\n"
          ]
        }
      ],
      "source": [
        "# Função sem parâmetro de entrada\n",
        "\n",
        "# Função de imprimir\n",
        "def ola():\n",
        "  print('Olá, seja muito bem vindo!')\n",
        "  print('--------------------')\n",
        "\n",
        "# Programa principal\n",
        "print('ação 1')\n",
        "ola()\n",
        "print('pegar dados')\n",
        "ola()\n"
      ]
    },
    {
      "cell_type": "code",
      "execution_count": null,
      "metadata": {
        "colab": {
          "base_uri": "https://localhost:8080/"
        },
        "id": "-YytyspkGrew",
        "outputId": "355ec1e9-c7bf-4ca3-c707-f1976187dce6"
      },
      "outputs": [
        {
          "name": "stdout",
          "output_type": "stream",
          "text": [
            "------------------------\n",
            "------ Bem Vindo -------\n",
            "------------------------\n"
          ]
        }
      ],
      "source": [
        "# Função Bem-Vindo\n",
        "def bemvindo():\n",
        "  print('------------------------')\n",
        "  print('------ Bem Vindo -------')\n",
        "  print('------------------------')\n",
        "# Principal\n",
        "bemvindo()"
      ]
    },
    {
      "cell_type": "code",
      "execution_count": null,
      "metadata": {
        "colab": {
          "base_uri": "https://localhost:8080/"
        },
        "id": "RBIWk4OsGrXL",
        "outputId": "9511ca5a-9baf-46d3-bb9b-27ed86155316"
      },
      "outputs": [
        {
          "name": "stdout",
          "output_type": "stream",
          "text": [
            "Digite uma frase pequena: Seja bem vindo\n",
            "------------------------------------------\n",
            "------------- Seja bem vindo -------------\n",
            "------------------------------------------\n"
          ]
        }
      ],
      "source": [
        "# Função com parâmetro de entrada\n",
        "# Função de imprimir\n",
        "def txt(frase):\n",
        "  tamanho = len(frase)\n",
        "  print('-'*42)\n",
        "  print('-'*int((40-tamanho)*0.5),frase,'-'*int((40-tamanho)*0.5))\n",
        "  print('-'*42)\n",
        "# Principal\n",
        "frase = str(input('Digite uma frase pequena: '))\n",
        "txt(frase)"
      ]
    },
    {
      "cell_type": "code",
      "execution_count": null,
      "metadata": {
        "colab": {
          "base_uri": "https://localhost:8080/"
        },
        "id": "UMrMuPNgGrP6",
        "outputId": "16fe61b8-dff8-410e-ce8f-30458c3e7d2b"
      },
      "outputs": [
        {
          "name": "stdout",
          "output_type": "stream",
          "text": [
            "A soma é de 3\n",
            "A soma é de 12\n"
          ]
        }
      ],
      "source": [
        "# Some dois números\n",
        "def soma(a,b):\n",
        "  s = a + b\n",
        "  print(f'A soma é de {s}')\n",
        "\n",
        "# Principal\n",
        "soma(-2, 5)\n",
        "valor1 = 4\n",
        "valor2 = 8\n",
        "soma(valor1, valor2)\n"
      ]
    },
    {
      "cell_type": "code",
      "execution_count": null,
      "metadata": {
        "colab": {
          "base_uri": "https://localhost:8080/"
        },
        "id": "ohBl4TlqGrGL",
        "outputId": "e0afb6b8-0624-453f-f04f-2305fb875550"
      },
      "outputs": [
        {
          "name": "stdout",
          "output_type": "stream",
          "text": [
            "Digite um valor: 1\n",
            "Digite outro valor: 2\n",
            "1\n",
            "2\n",
            "A soma é de 3\n"
          ]
        }
      ],
      "source": [
        "def soma(a, b=0):\n",
        "  s = a + b\n",
        "  print(a)\n",
        "  print(b)\n",
        "  print(f'A soma é de {s}')\n",
        "\n",
        "# Principal\n",
        "valor1= int(input('Digite um valor: '))\n",
        "valor2= int(input('Digite outro valor: '))\n",
        "soma(valor1, valor2)"
      ]
    },
    {
      "cell_type": "code",
      "execution_count": null,
      "metadata": {
        "colab": {
          "base_uri": "https://localhost:8080/"
        },
        "id": "iNZV8V4wLG_q",
        "outputId": "13b7b7d7-9240-47a0-c360-9f44be6c6d57"
      },
      "outputs": [
        {
          "name": "stdout",
          "output_type": "stream",
          "text": [
            "7\n"
          ]
        }
      ],
      "source": [
        "# Função com retorno\n",
        "def soma(a, b=0):\n",
        "  s = a + b\n",
        "  return s\n",
        "\n",
        "# Principal\n",
        "var = soma(5,2)\n",
        "print(var)\n"
      ]
    },
    {
      "cell_type": "code",
      "execution_count": null,
      "metadata": {
        "colab": {
          "base_uri": "https://localhost:8080/"
        },
        "id": "4JciMQhDNlIh",
        "outputId": "71dd5089-c42d-4319-ffe4-254175997b16"
      },
      "outputs": [
        {
          "name": "stdout",
          "output_type": "stream",
          "text": [
            "5.888888888888889\n"
          ]
        }
      ],
      "source": [
        "# Recebendo vários valores\n",
        "def media(*num):\n",
        "  soma = 0\n",
        "  qtd = len(num)\n",
        "  for n in num:\n",
        "    soma += n\n",
        "  media = soma / qtd\n",
        "  return media\n",
        "\n",
        "# Principal\n",
        "var = media(1,3,5,7,9,10,8,6,4)\n",
        "print(var)\n",
        "\n"
      ]
    },
    {
      "cell_type": "code",
      "execution_count": null,
      "metadata": {
        "colab": {
          "base_uri": "https://localhost:8080/"
        },
        "id": "RbpjybAfjQiC",
        "outputId": "2775d974-a474-4179-e6d0-8c096a67e272"
      },
      "outputs": [
        {
          "name": "stdout",
          "output_type": "stream",
          "text": [
            "olá...olá 2ª linha\n",
            "Help on built-in function print in module builtins:\n",
            "\n",
            "print(...)\n",
            "    print(value, ..., sep=' ', end='\\n', file=sys.stdout, flush=False)\n",
            "    \n",
            "    Prints the values to a stream, or to sys.stdout by default.\n",
            "    Optional keyword arguments:\n",
            "    file:  a file-like object (stream); defaults to the current sys.stdout.\n",
            "    sep:   string inserted between values, default a space.\n",
            "    end:   string appended after the last value, default a newline.\n",
            "    flush: whether to forcibly flush the stream.\n",
            "\n"
          ]
        }
      ],
      "source": [
        "#Help e Docstring\n",
        "print('olá', end='...')\n",
        "print('olá 2ª linha')\n",
        "\n",
        "help(print)"
      ]
    },
    {
      "cell_type": "code",
      "execution_count": null,
      "metadata": {
        "colab": {
          "base_uri": "https://localhost:8080/"
        },
        "id": "fIJmPkhkkQut",
        "outputId": "3005824b-e13d-48ef-ce81-6b6a8b5c83b9"
      },
      "outputs": [
        {
          "name": "stdout",
          "output_type": "stream",
          "text": [
            "5.888888888888889\n",
            "Help on function media in module __main__:\n",
            "\n",
            "media(*num)\n",
            "    A função de média calcula a média de vários números. Você deve colocá-los direto.\n",
            "    Função não aceita listas, nem dicionários.\n",
            "    num: são os números enviados, int ou float\n",
            "    return: media = média dos números\n",
            "    Autor: Jeremias\n",
            "    Versão: 1.0\n",
            "\n"
          ]
        }
      ],
      "source": [
        "def media(*num):\n",
        "  \"\"\"\n",
        "A função de média calcula a média de vários números. Você deve colocá-los direto.\n",
        "Função não aceita listas, nem dicionários.\n",
        "num: são os números enviados, int ou float\n",
        "return: media = média dos números\n",
        "Autor: Jeremias\n",
        "Versão: 1.0\n",
        "  \"\"\"\n",
        "  soma = 0\n",
        "  qtd = len(num)\n",
        "  for n in num:\n",
        "    soma += n\n",
        "  media = soma / qtd\n",
        "  return media\n",
        "\n",
        "  var = media(1,3,5,7,9,10,8,6,4)\n",
        "print(var)\n",
        "\n",
        "help(media)"
      ]
    },
    {
      "cell_type": "code",
      "execution_count": null,
      "metadata": {
        "colab": {
          "base_uri": "https://localhost:8080/"
        },
        "id": "Ovvr6mWflXwa",
        "outputId": "e6a54500-04b4-4e4d-b2ab-75b80525208b"
      },
      "outputs": [
        {
          "name": "stdout",
          "output_type": "stream",
          "text": [
            "8 2 3 7\n",
            "5 2\n",
            "7\n"
          ]
        }
      ],
      "source": [
        "# Escopo Local e Global\n",
        "# Local - Escopo da função\n",
        "# Global - Programa inteiro\n",
        "\n",
        "# Função de somar\n",
        "def soma(a, b = 0):\n",
        "  s = a + b\n",
        "  a = 8\n",
        "  print(a, b, c, s)\n",
        "  return s\n",
        "\n",
        "# Principal\n",
        "a = 5\n",
        "b = 2\n",
        "c = 3\n",
        "somado = soma(a, b)\n",
        "print(a, b)\n",
        "\n",
        "# print(s)\n",
        "print(somado)"
      ]
    },
    {
      "cell_type": "code",
      "execution_count": null,
      "metadata": {
        "colab": {
          "base_uri": "https://localhost:8080/"
        },
        "id": "dC4drdRVoXir",
        "outputId": "1f795852-5e15-4e2e-e9eb-eaa1d657b2b7"
      },
      "outputs": [
        {
          "name": "stdout",
          "output_type": "stream",
          "text": [
            "5 2 8 7\n",
            "5 2\n",
            "7\n"
          ]
        }
      ],
      "source": [
        "# Função de somar\n",
        "def soma(a, b = 0):\n",
        "  global c, s\n",
        "  s = a + b\n",
        "  c = 8\n",
        "  print(a, b, c, s)\n",
        "  return s\n",
        "\n",
        "# Principal\n",
        "a = 5\n",
        "b = 2\n",
        "c = 3\n",
        "somado = soma(a, b)\n",
        "print(a, b)\n",
        "\n",
        "# print(s)\n",
        "print(somado)"
      ]
    },
    {
      "cell_type": "code",
      "execution_count": null,
      "metadata": {
        "colab": {
          "base_uri": "https://localhost:8080/"
        },
        "id": "mHGyqa4xphe_",
        "outputId": "adbcae76-c553-45a8-e8dd-9362bab7ff62"
      },
      "outputs": [
        {
          "data": {
            "text/plain": [
              "['ArithmeticError',\n",
              " 'AssertionError',\n",
              " 'AttributeError',\n",
              " 'BaseException',\n",
              " 'BlockingIOError',\n",
              " 'BrokenPipeError',\n",
              " 'BufferError',\n",
              " 'BytesWarning',\n",
              " 'ChildProcessError',\n",
              " 'ConnectionAbortedError',\n",
              " 'ConnectionError',\n",
              " 'ConnectionRefusedError',\n",
              " 'ConnectionResetError',\n",
              " 'DeprecationWarning',\n",
              " 'EOFError',\n",
              " 'Ellipsis',\n",
              " 'EncodingWarning',\n",
              " 'EnvironmentError',\n",
              " 'Exception',\n",
              " 'False',\n",
              " 'FileExistsError',\n",
              " 'FileNotFoundError',\n",
              " 'FloatingPointError',\n",
              " 'FutureWarning',\n",
              " 'GeneratorExit',\n",
              " 'IOError',\n",
              " 'ImportError',\n",
              " 'ImportWarning',\n",
              " 'IndentationError',\n",
              " 'IndexError',\n",
              " 'InterruptedError',\n",
              " 'IsADirectoryError',\n",
              " 'KeyError',\n",
              " 'KeyboardInterrupt',\n",
              " 'LookupError',\n",
              " 'MemoryError',\n",
              " 'ModuleNotFoundError',\n",
              " 'NameError',\n",
              " 'None',\n",
              " 'NotADirectoryError',\n",
              " 'NotImplemented',\n",
              " 'NotImplementedError',\n",
              " 'OSError',\n",
              " 'OverflowError',\n",
              " 'PendingDeprecationWarning',\n",
              " 'PermissionError',\n",
              " 'ProcessLookupError',\n",
              " 'RecursionError',\n",
              " 'ReferenceError',\n",
              " 'ResourceWarning',\n",
              " 'RuntimeError',\n",
              " 'RuntimeWarning',\n",
              " 'StopAsyncIteration',\n",
              " 'StopIteration',\n",
              " 'SyntaxError',\n",
              " 'SyntaxWarning',\n",
              " 'SystemError',\n",
              " 'SystemExit',\n",
              " 'TabError',\n",
              " 'TimeoutError',\n",
              " 'True',\n",
              " 'TypeError',\n",
              " 'UnboundLocalError',\n",
              " 'UnicodeDecodeError',\n",
              " 'UnicodeEncodeError',\n",
              " 'UnicodeError',\n",
              " 'UnicodeTranslateError',\n",
              " 'UnicodeWarning',\n",
              " 'UserWarning',\n",
              " 'ValueError',\n",
              " 'Warning',\n",
              " 'ZeroDivisionError',\n",
              " '__IPYTHON__',\n",
              " '__build_class__',\n",
              " '__debug__',\n",
              " '__doc__',\n",
              " '__import__',\n",
              " '__loader__',\n",
              " '__name__',\n",
              " '__package__',\n",
              " '__spec__',\n",
              " 'abs',\n",
              " 'aiter',\n",
              " 'all',\n",
              " 'anext',\n",
              " 'any',\n",
              " 'ascii',\n",
              " 'bin',\n",
              " 'bool',\n",
              " 'breakpoint',\n",
              " 'bytearray',\n",
              " 'bytes',\n",
              " 'callable',\n",
              " 'chr',\n",
              " 'classmethod',\n",
              " 'compile',\n",
              " 'complex',\n",
              " 'copyright',\n",
              " 'credits',\n",
              " 'delattr',\n",
              " 'dict',\n",
              " 'dir',\n",
              " 'display',\n",
              " 'divmod',\n",
              " 'enumerate',\n",
              " 'eval',\n",
              " 'exec',\n",
              " 'execfile',\n",
              " 'filter',\n",
              " 'float',\n",
              " 'format',\n",
              " 'frozenset',\n",
              " 'get_ipython',\n",
              " 'getattr',\n",
              " 'globals',\n",
              " 'hasattr',\n",
              " 'hash',\n",
              " 'help',\n",
              " 'hex',\n",
              " 'id',\n",
              " 'input',\n",
              " 'int',\n",
              " 'isinstance',\n",
              " 'issubclass',\n",
              " 'iter',\n",
              " 'len',\n",
              " 'license',\n",
              " 'list',\n",
              " 'locals',\n",
              " 'map',\n",
              " 'max',\n",
              " 'memoryview',\n",
              " 'min',\n",
              " 'next',\n",
              " 'object',\n",
              " 'oct',\n",
              " 'open',\n",
              " 'ord',\n",
              " 'pow',\n",
              " 'print',\n",
              " 'property',\n",
              " 'range',\n",
              " 'repr',\n",
              " 'reversed',\n",
              " 'round',\n",
              " 'runfile',\n",
              " 'set',\n",
              " 'setattr',\n",
              " 'slice',\n",
              " 'sorted',\n",
              " 'staticmethod',\n",
              " 'str',\n",
              " 'sum',\n",
              " 'super',\n",
              " 'tuple',\n",
              " 'type',\n",
              " 'vars',\n",
              " 'zip']"
            ]
          },
          "execution_count": 102,
          "metadata": {},
          "output_type": "execute_result"
        }
      ],
      "source": [
        "# Funções nativas\n",
        "dir(__builtins__)\n"
      ]
    },
    {
      "cell_type": "markdown",
      "metadata": {
        "id": "9KHLUoQpPVUx"
      },
      "source": [
        "### 272 Pesquisa de Satisfação - Introdução a Python\n",
        "\n"
      ]
    }
  ],
  "metadata": {
    "colab": {
      "provenance": []
    },
    "kernelspec": {
      "display_name": "Python 3",
      "name": "python3"
    },
    "language_info": {
      "name": "python"
    }
  },
  "nbformat": 4,
  "nbformat_minor": 0
}

{
  "cells": [
    {
      "cell_type": "markdown",
      "metadata": {
        "id": "UGaSWkdUhf3f"
      },
      "source": [
        "## Repetições em Python"
      ]
    },
    {
      "cell_type": "markdown",
      "metadata": {
        "id": "QYjqTf1COj-a"
      },
      "source": [
        "### Aula 259 Repetições [teoria]\n",
        "\n",
        "<h1>Tema central: Estruturas de repetição (loops) em Python</h1><h2>Tópicos abordados:</h2><ul><li><p>O que são estruturas de repetição (loops)</p><ul><li>Servem para automatizar processos repetitivos no código</li><li>Exemplos: ler um livro página por página, somar números, etc.</li></ul></li><li><p>Tipos de loops</p><ul><li><p>for</p><ul><li>Especifica o início e fim do loop (número de repetições)</li><li>range() define início, fim e passo</li><li>Ex: for i in range(1, 10):<ul><li>print(i)</li></ul></li></ul></li><li><p>while</p><ul><li>Loop enquanto uma condição for verdadeira</li><li>Não sabe previamente quantas repetições</li><li>Ex:<ul><li>fim = False</li><li>while not fim:<ul><li>print(&quot;Lendo página&quot;)</li></ul></li></ul></li></ul></li><li><p>break</p><ul><li>Interrompe o loop a qualquer momento</li></ul></li></ul></li><li><p>Aplicações</p><ul><li>Somar números</li><li>Validar entradas do usuário</li><li>Adicionar itens a um carrinho de compras</li><li>Interromper loops infinitos</li><li>etc.</li></ul></li></ul>\n"
      ]
    },
    {
      "cell_type": "markdown",
      "metadata": {
        "id": "0zIVsvfeOl7Y"
      },
      "source": [
        "### Aula 260 Repetições na Prática - For\n",
        "<h1>Tema central: Laços de repetição (loops) em Python</h1><h2>FOR</h2><ul><li>Utilizado quando se sabe previamente o número de repetições</li><li>Estrutura:<ul><li>range(início, fim, passo)</li><li>for i in range:<ul><li>código a ser repetido</li></ul></li></ul></li><li>Lembrar de colocar fim+1 para incluir o último valor</li><li>range também funciona com valores decrescentes</li></ul><h2>WHILE</h2><h2>Incremento e decremento</h2><ul><li>soma += 1 (incrementa soma em 1)</li><li>soma -= 1 (decrementa soma em 1)</li></ul><h2>Exemplos</h2><ul><li>Imprimir &quot;Olá&quot; 5 vezes</li><li>Ler páginas de um livro em loop</li><li>Somar números digitados pelo usuário</li><li>Somar números ímpares</li><li>Fazer cálculos incrementais como soma cumulativa</li><li>Calcular potência de número por multiplicação sucessiva</li><li>Calcular média de números digitados</li></ul>\n"
      ]
    },
    {
      "cell_type": "code",
      "execution_count": null,
      "metadata": {
        "colab": {
          "base_uri": "https://localhost:8080/"
        },
        "id": "sSvCiraa2NvO",
        "outputId": "9c85544b-d9e5-49bf-bb83-951613be7fd7"
      },
      "outputs": [
        {
          "name": "stdout",
          "output_type": "stream",
          "text": [
            "Olá\n",
            "Olá\n",
            "Olá\n",
            "Olá\n"
          ]
        }
      ],
      "source": [
        "# definindo o passo\n",
        "passo = range(1,5)\n",
        "\n",
        "# usando o for\n",
        "for i in passo:\n",
        "  print('Olá')"
      ]
    },
    {
      "cell_type": "code",
      "execution_count": null,
      "metadata": {
        "colab": {
          "base_uri": "https://localhost:8080/"
        },
        "id": "N1aQ-rOk2NYW",
        "outputId": "5a2748f2-7112-4385-d773-982da5717951"
      },
      "outputs": [
        {
          "name": "stdout",
          "output_type": "stream",
          "text": [
            "i = 1 - Olá\n",
            "i = 2 - Olá\n",
            "i = 3 - Olá\n",
            "i = 4 - Olá\n",
            "i = 5 - Olá\n"
          ]
        }
      ],
      "source": [
        "passo = range(1,5+1)\n",
        "for i in passo:\n",
        "  print('i = {} - Olá'. format(i))"
      ]
    },
    {
      "cell_type": "code",
      "execution_count": null,
      "metadata": {
        "colab": {
          "base_uri": "https://localhost:8080/"
        },
        "id": "Gfdpqr6H2NPx",
        "outputId": "cfd5bd0e-41e3-4c25-f058-e473b05a4ca0"
      },
      "outputs": [
        {
          "name": "stdout",
          "output_type": "stream",
          "text": [
            "Leia a página: 1\n",
            "Leia a página: 2\n",
            "Leia a página: 3\n",
            "Leia a página: 4\n",
            "Leia a página: 5\n",
            "Leia a página: 6\n",
            "Leia a página: 7\n",
            "Leia a página: 8\n",
            "Leia a página: 9\n",
            "Leia a página: 10\n",
            "Leia a página: 11\n",
            "Leia a página: 12\n",
            "Leia a página: 13\n",
            "Leia a página: 14\n",
            "Leia a página: 15\n",
            "Leia a página: 16\n",
            "Leia a página: 17\n",
            "Leia a página: 18\n",
            "Leia a página: 19\n",
            "Leia a página: 20\n",
            "Fim\n"
          ]
        }
      ],
      "source": [
        "passo = range(1,20 + 1)\n",
        "\n",
        "for i in passo:\n",
        "  print('Leia a página: {}'. format(i))\n",
        "print('Fim')"
      ]
    },
    {
      "cell_type": "code",
      "execution_count": null,
      "metadata": {
        "colab": {
          "base_uri": "https://localhost:8080/"
        },
        "id": "Bu9n-wHI2NGY",
        "outputId": "8c7fb5d3-397f-4f1b-c4a4-0488436084ff"
      },
      "outputs": [
        {
          "name": "stdout",
          "output_type": "stream",
          "text": [
            "digite um valor: 10\n",
            "digite um valor: 15\n",
            "digite um valor: 20\n",
            "digite um valor: 25\n",
            "digite um valor: 30\n",
            "A soma total é de 100\n"
          ]
        }
      ],
      "source": [
        "passo = range(1,5 + 1)\n",
        "\n",
        "soma = 0\n",
        "for i in passo:\n",
        "  n = int(input('digite um valor: '))\n",
        "  soma = soma + n\n",
        "print('A soma total é de {}'. format(soma))"
      ]
    },
    {
      "cell_type": "code",
      "execution_count": null,
      "metadata": {
        "colab": {
          "base_uri": "https://localhost:8080/"
        },
        "id": "fAmxjM4i2M54",
        "outputId": "e614371c-1060-4739-f617-6ab5e1066361"
      },
      "outputs": [
        {
          "name": "stdout",
          "output_type": "stream",
          "text": [
            "0\n",
            "3\n",
            "6\n",
            "9\n",
            "12\n",
            "15\n",
            "18\n",
            "Fim\n"
          ]
        }
      ],
      "source": [
        "passo = range(0,20,3)\n",
        "\n",
        "for i in passo:\n",
        "  print(i)\n",
        "print('Fim')\n"
      ]
    },
    {
      "cell_type": "code",
      "execution_count": null,
      "metadata": {
        "colab": {
          "base_uri": "https://localhost:8080/"
        },
        "id": "fxh4rjyg4Uzs",
        "outputId": "fdf15868-2343-4caf-b790-223b0436c496"
      },
      "outputs": [
        {
          "name": "stdout",
          "output_type": "stream",
          "text": [
            "10\n",
            "9\n",
            "8\n",
            "7\n",
            "6\n",
            "5\n",
            "4\n",
            "3\n",
            "2\n"
          ]
        }
      ],
      "source": [
        "passo = range(10,1,-1)\n",
        "\n",
        "for i in passo:\n",
        "  print(i)"
      ]
    },
    {
      "cell_type": "code",
      "execution_count": null,
      "metadata": {
        "colab": {
          "base_uri": "https://localhost:8080/"
        },
        "id": "U_ECiMAg4swW",
        "outputId": "01a3101d-40f5-4471-abeb-c8e4c5edef9c"
      },
      "outputs": [
        {
          "name": "stdout",
          "output_type": "stream",
          "text": [
            "i = 1, soma = 1\n",
            "i = 3, soma = 4\n",
            "i = 5, soma = 9\n",
            "i = 7, soma = 16\n",
            "i = 9, soma = 25\n",
            "25\n"
          ]
        }
      ],
      "source": [
        "passo = range(1,9+1,2)\n",
        "soma = 0\n",
        "\n",
        "for i in passo:\n",
        "  soma = soma + i\n",
        "  print('i = {}, soma = {}'.format(i,soma))\n",
        "print(soma)"
      ]
    },
    {
      "cell_type": "code",
      "execution_count": null,
      "metadata": {
        "colab": {
          "base_uri": "https://localhost:8080/"
        },
        "id": "BzFjOXBd5OZK",
        "outputId": "bab809cf-1090-4464-f1ca-833c53a0b223"
      },
      "outputs": [
        {
          "name": "stdout",
          "output_type": "stream",
          "text": [
            "16\n"
          ]
        }
      ],
      "source": [
        "soma = 1\n",
        "passo = range(1,10+1,2)\n",
        "\n",
        "for i in passo:\n",
        "  #soma = soma + 1\n",
        "  soma +=3\n",
        "print(soma)"
      ]
    },
    {
      "cell_type": "code",
      "execution_count": null,
      "metadata": {
        "colab": {
          "base_uri": "https://localhost:8080/"
        },
        "id": "bdJb5BSN5mjO",
        "outputId": "0423a02f-dfae-4623-b1ad-7354c01ae72a"
      },
      "outputs": [
        {
          "name": "stdout",
          "output_type": "stream",
          "text": [
            "i= 1, mult 4\n",
            "i= 2, mult 8\n",
            "i= 3, mult 16\n",
            "i= 4, mult 32\n",
            "i= 5, mult 64\n",
            "i= 6, mult 128\n",
            "i= 7, mult 256\n",
            "i= 8, mult 512\n",
            "i= 9, mult 1024\n"
          ]
        }
      ],
      "source": [
        "mult = 2\n",
        "passo = range(1,9+1)\n",
        "\n",
        "for i in passo:\n",
        "  #mult = mult*2\n",
        "  mult *=2\n",
        "  print('i= {}, mult {}'. format(i,mult))"
      ]
    },
    {
      "cell_type": "code",
      "execution_count": null,
      "metadata": {
        "colab": {
          "base_uri": "https://localhost:8080/"
        },
        "id": "9-_TkqgY6dzx",
        "outputId": "bf14331b-40e4-4785-83e1-9a942d4d6121"
      },
      "outputs": [
        {
          "name": "stdout",
          "output_type": "stream",
          "text": [
            "Digite o 1° número: 1\n",
            "i = 1, soma = 1.0\n",
            "Digite o 2° número: 2\n",
            "i = 2, soma = 3.0\n",
            "Digite o 3° número: 3\n",
            "i = 3, soma = 6.0\n",
            " a média é de: 2.0\n"
          ]
        }
      ],
      "source": [
        "passo = range(1,3+1)\n",
        "soma = 0\n",
        "\n",
        "for i in passo:\n",
        "  n= float(input('Digite o {}° número: '. format(i)))\n",
        "  soma += n\n",
        "  print('i = {}, soma = {}'.format(i,soma))\n",
        "media = soma / i\n",
        "print( ' a média é de: {}'. format(media))"
      ]
    },
    {
      "cell_type": "code",
      "execution_count": null,
      "metadata": {
        "colab": {
          "base_uri": "https://localhost:8080/"
        },
        "id": "ydHVTvKE7q4D",
        "outputId": "56388669-ebc9-492b-e615-bfe921add637"
      },
      "outputs": [
        {
          "name": "stdout",
          "output_type": "stream",
          "text": [
            "quantos números você quer tirar a média? 10\n",
            "Digite o 1° número 10\n",
            "Digite o 2° número 10\n",
            "Digite o 3° número 10\n",
            "Digite o 4° número 10\n",
            "Digite o 5° número 10\n",
            "Digite o 6° número 10\n",
            "Digite o 7° número 10\n",
            "Digite o 8° número 10\n",
            "Digite o 9° número 10\n",
            "Digite o 10° número 0\n",
            "A média deu de: 9.0\n"
          ]
        }
      ],
      "source": [
        "qtd = int(input(\"quantos números você quer tirar a média? \"))\n",
        "passo = range(1, qtd + 1)\n",
        "soma = 0\n",
        "\n",
        "for i in passo:\n",
        "  n = float(input('Digite o {}° número '. format(i)))\n",
        "  soma += n\n",
        "media = soma / i1\n",
        "\n",
        "print('A média deu de: {}'.format(media))"
      ]
    },
    {
      "cell_type": "markdown",
      "metadata": {
        "id": "9Lv6g55UOnwY"
      },
      "source": [
        "### Aula 261 Repetições na Prática - While\n",
        "<h1>Tema Central: Estruturas de repetição - While</h1><h2>Diferenças entre For e While</h2><ul><li>For: quando se sabe previamente quantas repetições serão feitas</li><li>While: quando não se sabe previamente quantas repetições serão necessárias</li></ul><h2>Estrutura básica</h2><pre><code>variável_controle = valor_inicialwhile condição:   código a executar   variável_controle = variável_controle + incremento</code></pre><h2>Exemplos</h2><ul><li>Ler capítulo de livro com número de páginas desconhecido</li><li>Somar números de 1 a 10</li><li>Somar números digitados pelo usuário até ultrapassar 20</li><li>Tratamento de loop infinito com break</li><li>Validar entrada do usuário</li><li>Calcular média dos números digitados pelo usuário</li></ul><h2>Observações importantes</h2><ul><li>While requer variável de controle para controlar a condição</li><li>Deve-se incrementar a variável de controle dentro do loop</li><li>Pode ser necessário variável para contar quantidade de repetições</li></ul><h2>Exercícios sugeridos</h2><ul><li>Tabuada de número digitado pelo usuário</li><li>Encontrar menor, maior e média de 10 números digitados</li><li>Calcular sequência de Fibonacci</li></ul>\n"
      ]
    },
    {
      "cell_type": "code",
      "execution_count": null,
      "metadata": {
        "colab": {
          "base_uri": "https://localhost:8080/"
        },
        "id": "-F2siZNNB-MF",
        "outputId": "6b30514a-82c7-42d6-a4e2-576af9427e76"
      },
      "outputs": [
        {
          "name": "stdout",
          "output_type": "stream",
          "text": [
            "Leia página\n",
            "Terminou o capítulo? (s/n)n\n",
            "Leia página\n",
            "Terminou o capítulo? (s/n)n\n",
            "Leia página\n",
            "Terminou o capítulo? (s/n)s\n",
            "Fim\n"
          ]
        }
      ],
      "source": [
        "fim = 'n'\n",
        "\n",
        "while fim == 'n':\n",
        "  print('Leia página')\n",
        "  fim = input('Terminou o capítulo? (s/n)')\n",
        "print('Fim')"
      ]
    },
    {
      "cell_type": "code",
      "execution_count": null,
      "metadata": {
        "colab": {
          "base_uri": "https://localhost:8080/"
        },
        "id": "lkNVPmnBB-CB",
        "outputId": "3d10ffb4-6724-4c9a-8738-eaaa534d2b61"
      },
      "outputs": [
        {
          "name": "stdout",
          "output_type": "stream",
          "text": [
            "2\n",
            "3\n",
            "4\n",
            "5\n",
            "6\n",
            "7\n",
            "8\n",
            "9\n",
            "10\n"
          ]
        }
      ],
      "source": [
        "soma = 1\n",
        "i = 1\n",
        "while i <10:\n",
        "  i += 1\n",
        "  soma += 1\n",
        "  print(soma)"
      ]
    },
    {
      "cell_type": "code",
      "execution_count": null,
      "metadata": {
        "colab": {
          "base_uri": "https://localhost:8080/"
        },
        "id": "RT-Qidv1B97h",
        "outputId": "b2c2d6ea-50a9-468c-b3d3-e25e8461b6eb"
      },
      "outputs": [
        {
          "name": "stdout",
          "output_type": "stream",
          "text": [
            "Digite o numero: 10\n",
            "Digite o numero: 5\n",
            "Digite o numero: 4\n",
            "Digite o numero: 1\n",
            "20\n"
          ]
        }
      ],
      "source": [
        "# não ultrapassar 20\n",
        "soma = 0\n",
        "\n",
        "while soma <20:\n",
        "  n = int(input('Digite o numero: '))\n",
        "  soma += n\n",
        "print(soma)"
      ]
    },
    {
      "cell_type": "code",
      "execution_count": null,
      "metadata": {
        "colab": {
          "base_uri": "https://localhost:8080/"
        },
        "id": "C3EGqelSB90v",
        "outputId": "ac8f9668-4cd0-470c-861b-21f119f2e278"
      },
      "outputs": [
        {
          "name": "stdout",
          "output_type": "stream",
          "text": [
            "Digite um valor: 2\n",
            "Você quer continuar? (s/n) s\n",
            "Digite um valor: 10\n",
            "Você quer continuar? (s/n) s\n",
            "Digite um valor: 15\n",
            "Você quer continuar? (s/n) n\n",
            "47\n"
          ]
        }
      ],
      "source": [
        "# corrigindo looping infinito\n",
        "\n",
        "while True:\n",
        "  n = int(input('Digite um valor: '))\n",
        "  soma += n\n",
        "  continua = input('Você quer continuar? (s/n) ')\n",
        "  if continua == \"n\":\n",
        "    break\n",
        "print(soma)"
      ]
    },
    {
      "cell_type": "code",
      "execution_count": null,
      "metadata": {
        "colab": {
          "base_uri": "https://localhost:8080/"
        },
        "id": "zjwDohnoB9tu",
        "outputId": "6511cda0-7d3a-4c1d-e396-4c6ab2517a09"
      },
      "outputs": [
        {
          "name": "stdout",
          "output_type": "stream",
          "text": [
            "Digite um número: J\n",
            "Você não digitou um número válido\n",
            "Digite um número: K\n",
            "Você não digitou um número válido\n",
            "Digite um número: 0\n",
            "Você digitou um numero válido\n",
            "FIM\n"
          ]
        }
      ],
      "source": [
        "while True:\n",
        "  num= input('Digite um número: ')\n",
        "  if num.isnumeric():\n",
        "    print('Você digitou um numero válido')\n",
        "    break\n",
        "  print('Você não digitou um número válido')\n",
        "print('FIM')"
      ]
    },
    {
      "cell_type": "code",
      "execution_count": null,
      "metadata": {
        "colab": {
          "base_uri": "https://localhost:8080/"
        },
        "id": "urklS6dRB9kv",
        "outputId": "ce1815e6-0d21-4a61-b1cd-a4fccd2d24ad"
      },
      "outputs": [
        {
          "name": "stdout",
          "output_type": "stream",
          "text": [
            "Digite um número: 10\n",
            "você quer continuar? (s/n) s\n",
            "Digite um número: 10\n",
            "você quer continuar? (s/n) s\n",
            "Digite um número: 5\n",
            "você quer continuar? (s/n) n\n",
            "Você digitou 3 numeros, e a média é de 8.33\n"
          ]
        }
      ],
      "source": [
        "soma = 0\n",
        "i = 0\n",
        "\n",
        "while True:\n",
        "  i +=1\n",
        "  num = float(input('Digite um número: '))\n",
        "  soma += num\n",
        "  continua = input('você quer continuar? (s/n) ')\n",
        "  if continua == 'n':\n",
        "    break\n",
        "media = soma / i\n",
        "print('Você digitou {} numeros, e a média é de {:.2f}' . format(i, media))"
      ]
    }
  ],
  "metadata": {
    "colab": {
      "provenance": []
    },
    "kernelspec": {
      "display_name": "Python 3",
      "name": "python3"
    },
    "language_info": {
      "name": "python"
    }
  },
  "nbformat": 4,
  "nbformat_minor": 0
}

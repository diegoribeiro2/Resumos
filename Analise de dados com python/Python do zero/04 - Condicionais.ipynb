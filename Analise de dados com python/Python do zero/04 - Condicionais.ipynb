{
  "cells": [
    {
      "cell_type": "markdown",
      "metadata": {
        "id": "38HRUrReSiB9"
      },
      "source": [
        "## **Módulo Matéria 04** - Análise de Regressão em Python"
      ]
    },
    {
      "cell_type": "markdown",
      "metadata": {
        "id": "HxNGAXwThDUs"
      },
      "source": [
        "## Condicionais"
      ]
    },
    {
      "cell_type": "markdown",
      "metadata": {
        "id": "LMYFuqaHOabx"
      },
      "source": [
        "### Aula 255 Condicionais\n",
        "\n",
        "<h1>Tema Central: Condicionais em Python</h1><h2>Tópicos abordados</h2><h3>Comparadores</h3><ul><li>Igual: ==</li><li>Diferente: !=</li><li>Maior: &gt;</li><li>Maior ou igual: &gt;=</li><li>Menor: &lt;</li><li>Menor ou igual: &lt;=</li></ul><h3>Estruturas condicionais</h3><ul><li>if: para verificar se uma condição é verdadeira</li><li>else: caso contrário do if</li><li>elif: para verificar múltiplas condições</li><li>end: todas as condições precisam ser verdadeiras</li><li>or: pelo menos uma condição precisa ser verdadeira</li></ul><h3>Verificando variáveis</h3><ul><li>isNumeric: verifica se é numérica</li><li>isAlpha: verifica se é textual</li><li>isAllNum: verifica se é texto e número</li></ul><h3>Exemplos</h3><ul><li>Decidir para onde ir comer com base na vontade do usuário</li><li>Comprar lanche se tiver dinheiro e o preço for baixo o suficiente</li><li>Verificar se está aprovado na disciplina pela média ou nota final</li></ul>"
      ]
    },
    {
      "cell_type": "markdown",
      "metadata": {
        "id": "pL5UZssjOc9u"
      },
      "source": [
        "### 256 Condicionais na Prática (Parte I)\n",
        "\n",
        "<h1>Condicionais</h1><h2>O que são</h2><ul><li>Utilizados para fazer comparações e condições</li><li>Se a condição for verdadeira, executa uma ação</li><li>Se a condição for falsa, executa outra ação</li></ul><h2>Comparadores</h2><ul><li>Diferente (!=)</li><li>Igual (==)</li><li>Maior (&gt;)</li><li>Maior ou igual (&gt;=)</li><li>Menor (&lt;)</li><li>Menor ou igual (&lt;=)</li></ul><h2>Exemplos de comparações</h2><ul><li>Testando valores de variáveis A e B</li><li>Imprimindo resultados booleanos</li></ul><h2>Exercício 1</h2><ul><li>Pedir dois números ao usuário</li><li>Comparar se são iguais</li><li>Converter entrada para float</li></ul><h2>Exercício 2</h2><ul><li>Calcular preço de lanches e batatas</li><li>Perguntar quanto dinheiro o usuário tem</li><li>Comparar se é suficiente para pagar</li></ul><h2>Estrutura if-else</h2><ul><li>Dois caminhos: verdadeiro ou falso</li><li>Precisa dos : e indentação correta</li><li>Cuidado com erros de sintaxe</li></ul><h2>Exemplos if-else</h2><ul><li>Testando blocos verdadeiro e falso</li><li>Comparando valores de variáveis</li><li>Alterando comparações e valores</li></ul><h2>Exercício if-else</h2><ul><li>Pedir dois números ao usuário</li><li>Comparar qual é maior</li><li>Multiplicar um dos números por 5</li></ul>\n"
      ]
    },
    {
      "cell_type": "code",
      "execution_count": null,
      "metadata": {
        "id": "5OGIsfNPk0Bv"
      },
      "outputs": [],
      "source": [
        "# Declarando variáveis:\n",
        "a = 7\n",
        "b = 2"
      ]
    },
    {
      "cell_type": "code",
      "execution_count": null,
      "metadata": {
        "colab": {
          "base_uri": "https://localhost:8080/"
        },
        "id": "mRVAfsqbkz6H",
        "outputId": "9926bc01-2ad5-43d2-c116-2d6bdb195c5b"
      },
      "outputs": [
        {
          "data": {
            "text/plain": [
              "False"
            ]
          },
          "execution_count": 3,
          "metadata": {},
          "output_type": "execute_result"
        }
      ],
      "source": [
        "# a == b\n",
        "a == b"
      ]
    },
    {
      "cell_type": "code",
      "execution_count": null,
      "metadata": {
        "colab": {
          "base_uri": "https://localhost:8080/"
        },
        "id": "icf9J4t2kzsX",
        "outputId": "19cbd76d-0df2-4451-8f2b-c22f43326576"
      },
      "outputs": [
        {
          "data": {
            "text/plain": [
              "True"
            ]
          },
          "execution_count": 4,
          "metadata": {},
          "output_type": "execute_result"
        }
      ],
      "source": [
        "# a!=b\n",
        "a!= b"
      ]
    },
    {
      "cell_type": "code",
      "execution_count": null,
      "metadata": {
        "colab": {
          "base_uri": "https://localhost:8080/"
        },
        "id": "seUnsSJ1kzO-",
        "outputId": "0ca141a5-d2f4-4367-8235-779d1a96af67"
      },
      "outputs": [
        {
          "data": {
            "text/plain": [
              "True"
            ]
          },
          "execution_count": 5,
          "metadata": {},
          "output_type": "execute_result"
        }
      ],
      "source": [
        "# a > b\n",
        "a > b"
      ]
    },
    {
      "cell_type": "code",
      "execution_count": null,
      "metadata": {
        "colab": {
          "base_uri": "https://localhost:8080/"
        },
        "id": "YQ5rWbtAlzgT",
        "outputId": "bdf9c93c-526b-45fd-d268-23107509e3be"
      },
      "outputs": [
        {
          "data": {
            "text/plain": [
              "True"
            ]
          },
          "execution_count": 7,
          "metadata": {},
          "output_type": "execute_result"
        }
      ],
      "source": [
        "# a >= b\n",
        "a >=2"
      ]
    },
    {
      "cell_type": "code",
      "execution_count": null,
      "metadata": {
        "colab": {
          "base_uri": "https://localhost:8080/"
        },
        "id": "bGYpfWn6l8uK",
        "outputId": "a80d84e2-9c3e-42b4-e2f9-844fcee872c1"
      },
      "outputs": [
        {
          "data": {
            "text/plain": [
              "False"
            ]
          },
          "execution_count": 9,
          "metadata": {},
          "output_type": "execute_result"
        }
      ],
      "source": [
        "# a < b\n",
        "a < b"
      ]
    },
    {
      "cell_type": "code",
      "execution_count": null,
      "metadata": {
        "colab": {
          "base_uri": "https://localhost:8080/"
        },
        "id": "AE4upeXxllWa",
        "outputId": "a3120782-e8b1-4d1a-8ac3-d8838c05ac03"
      },
      "outputs": [
        {
          "data": {
            "text/plain": [
              "False"
            ]
          },
          "execution_count": 6,
          "metadata": {},
          "output_type": "execute_result"
        }
      ],
      "source": [
        "# a < = b\n",
        "a <= b"
      ]
    },
    {
      "cell_type": "code",
      "execution_count": null,
      "metadata": {
        "colab": {
          "base_uri": "https://localhost:8080/"
        },
        "id": "wWjcCs7PllKz",
        "outputId": "711f25cf-8411-47ec-af6b-bac1c9c0a0ff"
      },
      "outputs": [
        {
          "name": "stdout",
          "output_type": "stream",
          "text": [
            "Digite um numero: 7\n",
            "Digite um numero: 2\n",
            "<class 'float'>\n",
            "<class 'float'>\n",
            "7.0\n",
            "2.0\n",
            "A variável c p igual a d: False\n"
          ]
        }
      ],
      "source": [
        "# Exercícios de Comparadores\n",
        "# Pedindo inputs\n",
        "c = float(input('Digite um numero: '))\n",
        "d = float(input('Digite um numero: '))\n",
        "\n",
        "print(type(c))\n",
        "print(type(d))\n",
        "print(c)\n",
        "print(d)\n",
        "\n",
        "comparacao = (c == d)\n",
        "\n",
        "# Imprimindo comparação\n",
        "print('A variável c p igual a d: {}'.format(comparacao))\n"
      ]
    },
    {
      "cell_type": "code",
      "execution_count": null,
      "metadata": {
        "colab": {
          "base_uri": "https://localhost:8080/"
        },
        "id": "0fP_42avlk_a",
        "outputId": "5eb22778-d331-477a-817c-45c8885dd100"
      },
      "outputs": [
        {
          "name": "stdout",
          "output_type": "stream",
          "text": [
            " A variável c é maior ou igual a d: True \n"
          ]
        }
      ],
      "source": [
        "comparacao = (c >= d)\n",
        "\n",
        "# Imprimindo comparação\n",
        "print(' A variável c é maior ou igual a d: {} '.format(comparacao))"
      ]
    },
    {
      "cell_type": "code",
      "execution_count": null,
      "metadata": {
        "colab": {
          "base_uri": "https://localhost:8080/"
        },
        "id": "2FnIBuS1n8g8",
        "outputId": "21a4cb13-17c6-496e-e3f0-1a5dd94de750"
      },
      "outputs": [
        {
          "name": "stdout",
          "output_type": "stream",
          "text": [
            "Quantos  lanches? 2\n",
            "Quantas batatas? 2\n",
            "Quanto de dinheiro você tem? 50\n",
            "a sua compra total ficou em: R$32.60\n",
            "você tem dinheiro o sugiciente para pagar: True\n"
          ]
        }
      ],
      "source": [
        "# Declarando variáveis\n",
        "lanchePreco = 10.9\n",
        "batataPreco = 5.4\n",
        "lancheQtd = float(input('Quantos  lanches? '))\n",
        "batataQtd = float(input('Quantas batatas? '))\n",
        "dinheiroTotal = float(input('Quanto de dinheiro você tem? '))\n",
        "\n",
        "# Calculando custo total\n",
        "custoTotal = lanchePreco * lancheQtd + batataPreco * batataQtd\n",
        "comparacao = dinheiroTotal >= custoTotal\n",
        "\n",
        "# Imprimindo resposta\n",
        "print('a sua compra total ficou em: R${:.2f}'.format(custoTotal2\n",
        "                                                     ))\n",
        "print('você tem dinheiro o sugiciente para pagar: {}' .format(comparacao))"
      ]
    },
    {
      "cell_type": "code",
      "execution_count": null,
      "metadata": {
        "colab": {
          "base_uri": "https://localhost:8080/"
        },
        "id": "pw0sEIv5pZpn",
        "outputId": "b28418c8-259b-4bc9-c3d2-3dbf14661e5c"
      },
      "outputs": [
        {
          "name": "stdout",
          "output_type": "stream",
          "text": [
            "Bloco da Verdade\n",
            "estou fora do bloco\n"
          ]
        }
      ],
      "source": [
        "# Estrutura do if- else\n",
        "# Exemplo True - False\n",
        "if True:\n",
        "  print('Bloco da Verdade')\n",
        "else:\n",
        "  print('Bloco False')\n",
        "\n",
        "print('estou fora do bloco')\n"
      ]
    },
    {
      "cell_type": "code",
      "execution_count": null,
      "metadata": {
        "id": "_m0Ap2eeqQG4"
      },
      "outputs": [],
      "source": [
        "# Declarando as variáveis\n",
        "a = 2\n",
        "b = 3"
      ]
    },
    {
      "cell_type": "code",
      "execution_count": null,
      "metadata": {
        "colab": {
          "base_uri": "https://localhost:8080/"
        },
        "id": "shSLG4dTqP_p",
        "outputId": "ca33fc75-3a7a-4544-e71b-92c4a63cb40e"
      },
      "outputs": [
        {
          "name": "stdout",
          "output_type": "stream",
          "text": [
            "a variável a, que vale 2 é diferente da variável b, que vale 3\n",
            "Fim da comparação\n"
          ]
        }
      ],
      "source": [
        "# Desenhando o if\n",
        "if a==b:\n",
        "  print('A variável a, que vale {} é igual a variável b' . format(a))\n",
        "else:\n",
        "  print('a variável a, que vale {} é diferente da variável b, que vale {}'. format(a,b))\n",
        "print('Fim da comparação')"
      ]
    },
    {
      "cell_type": "code",
      "execution_count": null,
      "metadata": {
        "id": "n4aG-WqmqP4h"
      },
      "outputs": [],
      "source": [
        "# Redefinindo b\n",
        "b = 2"
      ]
    },
    {
      "cell_type": "code",
      "execution_count": null,
      "metadata": {
        "colab": {
          "base_uri": "https://localhost:8080/"
        },
        "id": "Z-Era6KSqPvp",
        "outputId": "95c4bc21-e8de-4732-bd0a-ce5cf1fa9bf2"
      },
      "outputs": [
        {
          "name": "stdout",
          "output_type": "stream",
          "text": [
            "Digite um numero: 2\n",
            "Digite outro numero:5\n",
            "num2 é maior que num1\n",
            "num1 = 10.0 e num2 = 5.0\n"
          ]
        }
      ],
      "source": [
        "# Pedindo inputs\n",
        "num1 = float(input('Digite um numero: '))\n",
        "num2 = float(input('Digite outro numero:'))\n",
        "\n",
        "if num1 >= num2:\n",
        "  print('num1 é maior ou igual a num2')\n",
        "  num2 = num2 * 5\n",
        "else:\n",
        "  print('num2 é maior que num1')\n",
        "  num1 = num1 * 5\n",
        "\n",
        "print('num1 = {} e num2 = {}'.format(num1,num2))\n",
        "# Fazendo o if"
      ]
    },
    {
      "cell_type": "markdown",
      "metadata": {
        "id": "XxyNQRZvOfQW"
      },
      "source": [
        "### Aula 257 Condicionais na Prática! (Parte II)\n",
        "\n",
        "<h1>Condições aninhadas (if, elif, else)</h1><ul><li>Permite verificar múltiplas condições</li><li>if = condição 1 é verdadeira</li><li>elif = condição 2 é verdadeira</li><li>else = nenhuma condição anterior foi verdadeira</li></ul><h2>Exemplos</h2><ul><li>Comparar variáveis (igual, maior que, menor que)</li><li>Verificar input do usuário (lanche, pizza, etc)</li><li>Case sensitive (maiúsculas e minúsculas importam)</li></ul><h1>Operadores lógicos</h1><ul><li>and: ambas condições precisam ser verdadeiras</li><li>or: pelo menos uma precisa ser verdadeira</li></ul><h2>Exemplos</h2><ul><li>Comprar lanche se:<ul><li>Saldo &gt;= 20</li><li>Preço do lanche &lt; 10</li></ul></li><li>Aprovado na matéria se:<ul><li>Média &gt; 7</li><li>Nota final &gt; 7</li></ul></li></ul><h1>Verificando inputs</h1><ul><li>isNumeric: verifica se é número</li><li>isAlpha: verifica se é texto</li><li>isAlphaNum: verifica texto e/ou número</li></ul><h2>Exemplos</h2><ul><li>Testar se input é número, texto ou texto e número</li></ul><h1>Exercícios</h1><ul><li>Verificar input numérico</li><li>Verificar se número é par</li><li>Verificar divisibilidade entre números</li><li>Fazer uma calculadora</li></ul>"
      ]
    },
    {
      "cell_type": "code",
      "execution_count": null,
      "metadata": {
        "colab": {
          "base_uri": "https://localhost:8080/"
        },
        "id": "gWqJhmXxvF3p",
        "outputId": "d99c70d3-f0f7-47df-cd93-04d67c748ad5"
      },
      "outputs": [
        {
          "name": "stdout",
          "output_type": "stream",
          "text": [
            "a é maior do que b\n",
            "fim\n"
          ]
        }
      ],
      "source": [
        "# Declarando as variáveis\n",
        "a = 4\n",
        "b = 3\n",
        "\n",
        "# Montando o if-elif-else\n",
        "if a==b:\n",
        "  print('a é igual a b')\n",
        "elif a<b:\n",
        "  print('a é menor do que b')\n",
        "else:\n",
        "  print('a é maior do que b')\n",
        "\n",
        "print('fim')"
      ]
    },
    {
      "cell_type": "code",
      "execution_count": null,
      "metadata": {
        "colab": {
          "base_uri": "https://localhost:8080/"
        },
        "id": "wEbdhCbLvFxQ",
        "outputId": "8970ee72-f742-44ac-c1e2-4e07b5dc6bcb"
      },
      "outputs": [
        {
          "name": "stdout",
          "output_type": "stream",
          "text": [
            "digite um numero 54.8\n",
            "digite outro numero 36.9\n",
            "a é maior do que b\n",
            "fim\n"
          ]
        }
      ],
      "source": [
        "# Declarando as variáveis\n",
        "a = float(input('digite um numero '))\n",
        "b = float(input('digite outro numero '))\n",
        "\n",
        "# Montando o if-elif-else\n",
        "if a==b:\n",
        "  print('a é igual a b')\n",
        "elif a<b:\n",
        "  print('a é menor do que b')\n",
        "else:\n",
        "  print('a é maior do que b')\n",
        "print('fim')"
      ]
    },
    {
      "cell_type": "code",
      "execution_count": null,
      "metadata": {
        "colab": {
          "base_uri": "https://localhost:8080/"
        },
        "id": "etbp_jBWvFrP",
        "outputId": "f63a4cdd-a67f-4dfb-81f3-aa38d1477338"
      },
      "outputs": [
        {
          "name": "stdout",
          "output_type": "stream",
          "text": [
            "o que você quer comer? Lanche\n",
            "vá ao méqui\n",
            "fim do programa\n"
          ]
        }
      ],
      "source": [
        "vontade = input('o que você quer comer? ')\n",
        "if vontade == 'Lanche':\n",
        "  print('vá ao méqui')\n",
        "elif vontade == 'Pizza':\n",
        "  print('vá ao hut')\n",
        "elif vontade == 'Mexicano':\n",
        "  print('vá ao bell')\n",
        "else:\n",
        "  print('tente novamente')\n",
        "\n",
        "print('fim do programa')"
      ]
    },
    {
      "cell_type": "code",
      "execution_count": null,
      "metadata": {
        "colab": {
          "base_uri": "https://localhost:8080/"
        },
        "id": "zFzLaRuvvFkY",
        "outputId": "50a241e9-39b2-4828-fcf7-1defda76eeca"
      },
      "outputs": [
        {
          "name": "stdout",
          "output_type": "stream",
          "text": [
            "qual o preco do lanche: 9.9\n",
            "quanto você tem de dinheiro: 22\n",
            "comprar o lanche\n"
          ]
        }
      ],
      "source": [
        "# Operadores Lógicos\n",
        "lanchePreco = float(input('qual o preco do lanche: '))\n",
        "saldo = float(input('quanto você tem de dinheiro: '))\n",
        "\n",
        "if saldo >=20 and lanchePreco <10:\n",
        "  print('comprar o lanche')\n",
        "else:\n",
        "  print('não comprar')\n"
      ]
    },
    {
      "cell_type": "code",
      "execution_count": null,
      "metadata": {
        "colab": {
          "base_uri": "https://localhost:8080/"
        },
        "id": "kppz3VT-vFan",
        "outputId": "aca510b5-0a8d-4d6a-8135-11b8446fd981"
      },
      "outputs": [
        {
          "name": "stdout",
          "output_type": "stream",
          "text": [
            "quanto foi a sua media? 6\n",
            "qual foi sua nota final? 6\n",
            "reprovado\n"
          ]
        }
      ],
      "source": [
        "media = float(input('quanto foi a sua media? ' ))\n",
        "notaFinal = float(input('qual foi sua nota final? '))\n",
        "\n",
        "if media >= 7 or notaFinal > 7:\n",
        "  print('aprovado')\n",
        "else:\n",
        "  print('reprovado')"
      ]
    },
    {
      "cell_type": "code",
      "execution_count": null,
      "metadata": {
        "colab": {
          "base_uri": "https://localhost:8080/"
        },
        "id": "o8kgTnEJ0HWl",
        "outputId": "b1d9cb49-bd1a-4447-ec3e-bb5bac86eae6"
      },
      "outputs": [
        {
          "name": "stdout",
          "output_type": "stream",
          "text": [
            "digite algo: 1234\n",
            "True\n",
            "False\n",
            "True\n"
          ]
        }
      ],
      "source": [
        "entrada = input('digite algo: ')\n",
        "\n",
        "ehNum = entrada.isnumeric()\n",
        "exTex = entrada.isalpha()\n",
        "ehNumTex = entrada.isalnum()\n",
        "\n",
        "print(ehNum)\n",
        "print(exTex)\n",
        "print(ehNumTex)\n"
      ]
    },
    {
      "cell_type": "markdown",
      "metadata": {
        "id": "Q9iWq4KQOiWz"
      },
      "source": [
        "### 258 Exercícios - Lista de Exercícios\n",
        "\n"
      ]
    }
  ],
  "metadata": {
    "colab": {
      "provenance": []
    },
    "kernelspec": {
      "display_name": "Python 3",
      "name": "python3"
    },
    "language_info": {
      "name": "python"
    }
  },
  "nbformat": 4,
  "nbformat_minor": 0
}

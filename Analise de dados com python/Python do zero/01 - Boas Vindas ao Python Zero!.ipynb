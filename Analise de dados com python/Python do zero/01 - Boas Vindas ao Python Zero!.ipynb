{
  "cells": [
    {
      "cell_type": "markdown",
      "metadata": {
        "id": "38HRUrReSiB9"
      },
      "source": [
        "## **Módulo Matéria 04** - Análise de Regressão em Python"
      ]
    },
    {
      "cell_type": "markdown",
      "metadata": {
        "id": "_GjH64t1fkGd"
      },
      "source": [
        "## Grupo da Matéria - Análise de Regressão em Python"
      ]
    },
    {
      "cell_type": "markdown",
      "metadata": {
        "id": "rxt9oMPyfrY4"
      },
      "source": [
        "## Boas Vindas ao Python Zero!"
      ]
    },
    {
      "cell_type": "markdown",
      "metadata": {
        "id": "V98o_lE1MSGQ"
      },
      "source": [
        "### Aula 245 Bem Vindo ao Ciclo Intermediário\n"
      ]
    },
    {
      "cell_type": "markdown",
      "metadata": {
        "id": "xcsbwwHbMmhA"
      },
      "source": [
        "### **Aula 246 Boas Vindas a Python Zero!**\n",
        "<h1>Curso de Python 0</h1><h2>Apresentação do Instrutor</h2><ul><li>Nome: Everton</li><li>Formação:<ul><li>Engenheiro mecânico</li><li>Black Belt em Six Sigma</li></ul></li><li>Experiência:<ul><li>Projetos</li><li>BI</li><li>Estatística</li><li>Análise de dados avançada</li><li>Programação (Fortran, C++, JavaScript, Python)</li><li>Integração de aplicações e softwares</li><li>Machine Learning</li><li>Algoritmos genéticos</li><li>Redes neurais</li></ul></li><li>Cargo atual:<ul><li>Red de Operações da Dinâmica</li></ul></li><li>Uso de Python no trabalho:<ul><li>Automação de processos (RPA)</li></ul></li></ul><h2>O que será abordado no curso</h2><ul><li>Introdução ao Python 0</li><li>Tipos de dados</li><li>Operadores aritméticos</li><li>Strings</li><li>Condicionais (if/else)</li><li>Loops (for)</li><li>Listas</li><li>Tuplas</li><li>Dicionários</li><li>Funções</li><li>Funções Lambda</li><li>Classes</li><li>Pacotes</li></ul><h2>Objetivo do curso</h2><ul><li>Dar os primeiros passos no mundo da programação</li><li>Aprender a resolver problemas por meio de códigos, utilizando Python</li></ul><h2>Recomendações do Instrutor</h2><ul><li>A programação se aprende fazendo</li><li>Faça todos os exercícios</li><li>Pratique muito</li></ul>\n"
      ]
    },
    {
      "cell_type": "code",
      "execution_count": null,
      "metadata": {
        "colab": {
          "base_uri": "https://localhost:8080/"
        },
        "id": "0oUCWouXge9q",
        "outputId": "bbbb06c4-11ef-4574-a362-41b61942811c"
      },
      "outputs": [
        {
          "name": "stdout",
          "output_type": "stream",
          "text": [
            "x é maior do que 5\n"
          ]
        }
      ],
      "source": [
        "x=10\n",
        "if x > 5:\n",
        "  print(\"x é maior do que 5\")\n",
        "else:\n",
        "  print(\"x é menor ou igual a 5\")"
      ]
    },
    {
      "cell_type": "markdown",
      "metadata": {
        "id": "-x67bbw4gRK7"
      },
      "source": [
        "</h1><li>Isso é muito útil para criar fluxos de decisão na programação.<h2>Loops</h1><li>Loops (laços) executam um trecho de código repetidas vezes. O loop for permite iterar sobre uma sequência:"
      ]
    },
    {
      "cell_type": "code",
      "execution_count": null,
      "metadata": {
        "colab": {
          "base_uri": "https://localhost:8080/"
        },
        "id": "sioxyWIyjCmB",
        "outputId": "5838f5d5-73e4-4c01-8eaf-7d7615b58e44"
      },
      "outputs": [
        {
          "name": "stdout",
          "output_type": "stream",
          "text": [
            "0\n",
            "1\n",
            "2\n",
            "3\n",
            "4\n",
            "5\n",
            "6\n",
            "7\n",
            "8\n",
            "9\n"
          ]
        }
      ],
      "source": [
        "for i in range(10):\n",
        "  print(i)"
      ]
    },
    {
      "cell_type": "markdown",
      "metadata": {
        "id": "hUonA8ATMyRW"
      },
      "source": [
        "### Aula 247 Introdução à Programação\n",
        "<h1>Introdução à Programação</h1><h2>Objetivo da programação</h2><ul><li>Fazer mais com menos</li><li>Tomar decisões melhores e mais rápidas</li><li>Melhorar e facilitar a vida das pessoas</li></ul><h2>Evolução</h2><ul><li>Antigamente: Trabalho manual e artesanal</li><li>Revolução Industrial: Automatização de tarefas manuais</li><li>Programação: Automatização de tarefas mentais e tomada de decisão</li></ul><h2>Aplicações da programação</h2><ul><li>Entretenimento e jogos</li><li>Automação de processos</li><li>Tomada de decisão em sistemas complexos</li></ul><h2>Tomada de decisão</h2><ul><li>Humanos erram entre 30-50% das decisões complexas</li><li>Programação melhora a acurácia e velocidade das decisões</li><li>Exemplos de decisões simples e complexas</li></ul><h2>Conclusão</h2><ul><li>Programação facilita a vida das pessoas</li><li>Faz mais com menos recursos</li><li>Melhora a velocidade e qualidade das decisões</li></ul>\n"
      ]
    },
    {
      "cell_type": "markdown",
      "metadata": {
        "id": "jwwpdwVsM5s1"
      },
      "source": [
        "### Aula 248 Why Python?\n",
        "<h1>Tema central: Por que aprender Python</h1><h2>Características do Python</h2><ul><li>Linguagem de programação simples e de propósito geral<ul><li>Pode ser usada para diversas aplicações diferentes</li></ul></li><li>Fácil e intuitiva<ul><li>Uma das linguagens mais fáceis de aprender para iniciantes</li></ul></li><li>Multiplataforma<ul><li>Roda em Windows, Linux, Mac, etc.</li></ul></li><li>Código aberto (open source)<ul><li>Gratuita, com grande comunidade de desenvolvedores</li></ul></li><li>Extremamente organizada<ul><li>Código indentado e fácil de ler</li></ul></li><li>Orientada a objetos<ul><li>Cada variável tem propriedades de objeto</li></ul></li><li>Bibliotecas ilimitadas<ul><li>Muitos pacotes criados pela comunidade</li></ul></li></ul><h2>Aplicações do Python</h2><ul><li>Inteligência artificial</li><li>Biotecnologia</li><li>Computação gráfica e 3D</li><li>Jogos (ex: Battlefield)</li><li>Algoritmos de machine learning (ex: Skyscanner)</li><li>Sistemas de recomendação (YouTube, Netflix)</li><li>Casos inteligentes (Raspberry Pi, Arduino)</li><li>Carros autônomos (Google Car)</li></ul><h2>Resumo</h2><ul><li>Linguagem simples e flexível</li><li>Utilizada em diversas aplicações</li><li>Possui infinitas bibliotecas</li></ul>\n"
      ]
    },
    {
      "cell_type": "markdown",
      "metadata": {
        "id": "Ui8KtqdmNeh7"
      },
      "source": [
        "### Aula 249 Interpretadores e IDE\n",
        "<h1>Tema central: Interpretadores e ambientes de desenvolvimento Python</h1><h2>O que é um interpretador</h2><ul><li>Traduz o código fonte em linguagem de máquina para o computador executar</li><li>Analisa e executa o código linha a linha (passo a passo)</li><li>Facilita encontrar erros (debugging)</li><li>Exemplos: Python, Ruby, Javascript</li></ul><h2>Características linguagens interpretadas</h2><ul><li>Executada linha a linha</li><li>Fácil de encontrar erros</li><li>Mais lenta que linguagens compiladas</li><li>Interpretação feita no computador do usuário</li><li>Fácil de editar</li><li>Menos segura que linguagens compiladas</li></ul><h2>Terminais para executar Python</h2><ul><li>Windows: CMD, PowerShell, IDLE</li><li>Linux: Shell</li><li>Mac: Terminal</li></ul><h2>Ambientes de desenvolvimento (IDEs)</h2><ul><li>Facilitam desenvolver programas complexos</li><li>Principais recursos:<ul><li>Editor de código</li><li>Debugging</li><li>Interpretador</li><li>Exemplos: PyCharm, Sublime Text, Google Colab</li></ul></li></ul><h2>Google Colab</h2><ul><li>Ambiente online de programação Python</li><li>Máquinas virtuais da Google executam o código</li><li>Fácil compartilhamento e salvamento de arquivos</li><li>Não precisa instalar nada na máquina local</li></ul><h2>Resumo</h2><ul><li>Interpretadores traduzem código fonte para linguagem de máquina</li><li>Executam programa passo a passo (linha a linha)</li><li>Facilitam encontrar e corrigir erros</li><li>Próximo passo: mão na massa codando no Google Colab</li></ul>\n",
        "\n"
      ]
    },
    {
      "cell_type": "markdown",
      "metadata": {
        "id": "vxLXbsd2ga05"
      },
      "source": [
        "## Introduzindo o Google Colaboraty"
      ]
    },
    {
      "cell_type": "markdown",
      "metadata": {
        "id": "5xEmJkknNh6U"
      },
      "source": [
        "### Aula 250 Ambientação no Google Colab\n",
        "<h1>Ambientação no Google Colab</h1><h2>O que é o Google Colab?</h2><ul><li>Ambiente para escrever códigos Python no navegador</li><li>Baseado no Jupyter Notebook</li><li>Permite executar o código em blocos</li><li>Não precisa configuração</li><li>Acesso gratuito a GPUs do Google</li><li>Compartilhamento fácil (Google Drive)</li></ul><h2>Interface</h2><ul><li>Editor de texto com formatação</li><li>Inserir blocos de código Python</li><li>Executar blocos individualmente (botão play)</li><li>Barra lateral para navegação</li><li>Abas para:<ul><li>Arquivos</li><li>Editar</li><li>Ver</li><li>Inserir</li><li>Ambiente de execução</li><li>Ferramentas</li></ul></li></ul><h2>Execução</h2><ul><li>Executar tudo</li><li>Executar célula</li><li>Executar células acima</li><li>Executar células abaixo</li><li>Interromper execução</li><li>Reiniciar ambiente</li></ul><h2>Integrações</h2><ul><li>Vincular com Google Drive</li><li>Salvar no GitHub</li></ul><h2>Conclusão</h2><ul><li>Ambiente completo para codar Python</li><li>Próxima aula: mais prática de código</li></ul>\n"
      ]
    }
  ],
  "metadata": {
    "colab": {
      "provenance": []
    },
    "kernelspec": {
      "display_name": "Python 3",
      "name": "python3"
    },
    "language_info": {
      "name": "python"
    }
  },
  "nbformat": 4,
  "nbformat_minor": 0
}

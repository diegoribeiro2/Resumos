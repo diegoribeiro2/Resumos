{
  "cells": [
    {
      "cell_type": "markdown",
      "metadata": {
        "id": "38HRUrReSiB9"
      },
      "source": [
        "## **Módulo Matéria 04** - Análise de Regressão em Python"
      ]
    },
    {
      "cell_type": "markdown",
      "metadata": {
        "id": "-n_Ddnsagq_x"
      },
      "source": [
        "## Variáveis em Python"
      ]
    },
    {
      "cell_type": "markdown",
      "metadata": {
        "id": "v-9P0izzMLe4"
      },
      "source": [
        "### Aula 251 Tipos de Dados\n",
        "<p>TEMA CENTRAL: Introdução à programação em Python</p><p>TÓPICOS ABORDADOS:</p><ul><li><p>Tipos de dados primitivos</p><ul><li>String - cadeia de caracteres entre aspas</li><li>Int - números inteiros</li><li>Float - números reais com ponto decimal</li><li>Boolean - verdadeiro (true) ou falso (false)</li></ul></li><li><p>Funções</p><ul><li>Print - imprime informações para o usuário</li><li>Type - retorna o tipo de dado de uma variável</li><li>Input - lê informações digitadas pelo usuário</li></ul></li><li><p>Variáveis</p><ul><li>Atribuição com =</li><li>Recebem valores para reutilização no código</li></ul></li><li><p>Impressão composta</p><ul><li>Mesclar textos e variáveis no print</li><li>Separar com vírgulas</li></ul></li><li><p>Conversão de tipos</p><ul><li>Input retorna string</li><li>Type verifica o tipo</li><li>Pode-se converter tipos se necessário</li></ul></li></ul><p>PRÓXIMOS PASSOS:</p><ul><li>Codar no Colab as funcionalidades apresentadas</li><li>Fazer os exercícios propostos</li><li>Aplicar os conceitos em problemas mais complexos</li><li>Anotações: Variáveis, Atribuição e valores amrazenados</li></ul>"
      ]
    },
    {
      "cell_type": "code",
      "execution_count": null,
      "metadata": {
        "colab": {
          "base_uri": "https://localhost:8080/"
        },
        "id": "rb7V1xDpMz9K",
        "outputId": "c2d22e2c-394f-444e-c43c-b96362e49b6c"
      },
      "outputs": [
        {
          "name": "stdout",
          "output_type": "stream",
          "text": [
            "Você pediu um lanche de: R$ 10.9  e uma batata de : R$ 5.9 totalizando: R$ 16.8 . O seu pagamento será feito no:  cartão\n"
          ]
        }
      ],
      "source": [
        "lanche = 10.9\n",
        "batata = 5.9\n",
        "pgto = 'cartão'\n",
        "conta = lanche + batata\n",
        "print('Você pediu um lanche de: R$' , lanche,' e uma batata de : R$', batata, 'totalizando: R$', conta,'. O seu pagamento será feito no: ', pgto)"
      ]
    },
    {
      "cell_type": "code",
      "execution_count": null,
      "metadata": {
        "colab": {
          "base_uri": "https://localhost:8080/"
        },
        "id": "LUekNvNROYEo",
        "outputId": "2eff16b2-ed8c-4303-e4bb-6b1783447ec0"
      },
      "outputs": [
        {
          "name": "stdout",
          "output_type": "stream",
          "text": [
            "Qual lanche você quer?lanche\n",
            "Você quer um: lanche\n"
          ]
        }
      ],
      "source": [
        "lanche = input('Qual lanche você quer?')\n",
        "print('Você quer um:', lanche)"
      ]
    },
    {
      "cell_type": "markdown",
      "metadata": {
        "id": "IG86lku0RkBl"
      },
      "source": [
        "### Aula 252 Tipos de Dados na prática\n",
        "\n",
        "<h1>Tema central: Aprender a codar no Google Colab</h1><h2>Introdução</h2><ul><li>Arquivo Colab já preparado para facilitar o aprendizado</li><li>Vamos começar codando strings e print</li></ul><h2>Strings e print</h2><ul><li>Textos em Python entre aspas (simples ou duplas)</li><li>Função print() exibe a string na saída</li><li>Pode printar strings, números, fazer concatenação com +, etc</li></ul><h2>Trabalhando com números</h2><ul><li>Números inteiros (int) e de ponto flutuante (float)</li><li>print() também funciona com números</li><li>Pode fazer operações matemáticas entre números</li></ul><h2>Variáveis</h2><ul><li>Armazenam valores para reutilizar no código</li><li>Regras para nomes de variáveis</li><li>Boas práticas na declaração</li></ul><h2>Input</h2><ul><li>Função input() lê entrada do usuário</li><li>Valor digitado é sempre string</li></ul><h2>Type</h2><ul><li>Função type() retorna o tipo da variável</li><li>Útil para debug e testes</li></ul><h2>Booleano</h2><ul><li>Tipo boolean representa Verdadeiro ou Falso</li></ul><h2>Exercícios</h2><ul><li>Prática para fixar o conteúdo com print, variáveis, input e type</li></ul>\n",
        "\n",
        "\n"
      ]
    },
    {
      "cell_type": "code",
      "execution_count": null,
      "metadata": {
        "colab": {
          "base_uri": "https://localhost:8080/"
        },
        "id": "0C7MM-KrjoXB",
        "outputId": "117510bf-c583-497a-8352-c6377f72ccae"
      },
      "outputs": [
        {
          "name": "stdout",
          "output_type": "stream",
          "text": [
            "Olá, Mundo!!!\n"
          ]
        }
      ],
      "source": [
        "# função imprimir\n",
        "print('Olá, Mundo!!!')"
      ]
    },
    {
      "cell_type": "code",
      "execution_count": null,
      "metadata": {
        "colab": {
          "base_uri": "https://localhost:8080/"
        },
        "id": "pOs0MJ6RkNmq",
        "outputId": "ac568de2-52a5-48d7-bf3d-712081bc4556"
      },
      "outputs": [
        {
          "name": "stdout",
          "output_type": "stream",
          "text": [
            "Olá mundo com aspas duplas\n"
          ]
        }
      ],
      "source": [
        "# outros exemplos\n",
        "print(\"Olá mundo com aspas duplas\")\n",
        "print(\" \")\n",
        "print('10')"
      ]
    },
    {
      "cell_type": "code",
      "execution_count": null,
      "metadata": {
        "colab": {
          "base_uri": "https://localhost:8080/"
        },
        "id": "QHT6Ajtmk8cw",
        "outputId": "b57750e5-c103-47ad-d791-52336da95aef"
      },
      "outputs": [
        {
          "name": "stdout",
          "output_type": "stream",
          "text": [
            "eu tenho 3 cachorros\n"
          ]
        }
      ],
      "source": [
        "# Exemplo de print com string e números usando,\n",
        "print('eu tenho', 3, 'cachorros')"
      ]
    },
    {
      "cell_type": "code",
      "execution_count": null,
      "metadata": {
        "id": "7hm1NSLFk8PV"
      },
      "outputs": [],
      "source": [
        "# Exemplo de print com string e números usando +\n",
        "# 'eu tenho' + 3"
      ]
    },
    {
      "cell_type": "code",
      "execution_count": null,
      "metadata": {
        "id": "fMc4HOC6k7_-"
      },
      "outputs": [],
      "source": [
        "# Vamos fazer algumas contas:\n",
        "lanchePreco = 10.9\n",
        "batataPreco = 5.9\n",
        "refriPreco = 3"
      ]
    },
    {
      "cell_type": "code",
      "execution_count": null,
      "metadata": {
        "colab": {
          "base_uri": "https://localhost:8080/"
        },
        "id": "idRbwZEvl07C",
        "outputId": "b73b129b-c115-4bbd-9c70-73e8625ec9d0"
      },
      "outputs": [
        {
          "name": "stdout",
          "output_type": "stream",
          "text": [
            "16.8\n"
          ]
        }
      ],
      "source": [
        "# Quanto custa pedir um Lanche e uma Batata?\n",
        "print(lanchePreco + batataPreco)"
      ]
    },
    {
      "cell_type": "code",
      "execution_count": null,
      "metadata": {
        "colab": {
          "base_uri": "https://localhost:8080/"
        },
        "id": "6sLTA_DXmJRh",
        "outputId": "b128f5cb-77e5-4cf8-f2b8-3aa9acde406e"
      },
      "outputs": [
        {
          "name": "stdout",
          "output_type": "stream",
          "text": [
            "13.9\n"
          ]
        }
      ],
      "source": [
        "# Quanto custa pedir um Lanche e um Refri\n",
        "print(lanchePreco + refriPreco)"
      ]
    },
    {
      "cell_type": "code",
      "execution_count": null,
      "metadata": {
        "colab": {
          "base_uri": "https://localhost:8080/"
        },
        "id": "9hofYjZmmond",
        "outputId": "2c223b69-9583-49cc-ba3c-3a522999eb4b"
      },
      "outputs": [
        {
          "name": "stdout",
          "output_type": "stream",
          "text": [
            "19.8\n"
          ]
        }
      ],
      "source": [
        "# Podemos atribuir uma variável para a conta total do pedido?\n",
        "pedidoValorTotal= lanchePreco + batataPreco + refriPreco\n",
        "print(pedidoValorTotal)"
      ]
    },
    {
      "cell_type": "code",
      "execution_count": null,
      "metadata": {
        "colab": {
          "base_uri": "https://localhost:8080/"
        },
        "id": "eSqdXZD0WD93",
        "outputId": "bef55057-0f45-4894-f39c-07335eca0c55"
      },
      "outputs": [
        {
          "name": "stdout",
          "output_type": "stream",
          "text": [
            "Você pediu um lanche de: R$ 10.9 e uma batata de: R$ 5.9 totalizando: R$ 16.8 . E o seu pagamento fo feito por: cartao\n"
          ]
        }
      ],
      "source": [
        "# Podemos fazer impressão composta?\n",
        "# Quanto fica pedir um Lanche e uma Batata?\n",
        "# Considere a forma de pagamento pelo cartão\n",
        "pagamentoForma= 'cartao'\n",
        "pedidoValorTotal = lanchePreco + batataPreco\n",
        "print('Você pediu um lanche de: R$', lanchePreco,'e uma batata de: R$', batataPreco,'totalizando: R$',pedidoValorTotal,'. E o seu pagamento fo feito por:',pagamentoForma)"
      ]
    },
    {
      "cell_type": "code",
      "execution_count": null,
      "metadata": {
        "colab": {
          "base_uri": "https://localhost:8080/"
        },
        "id": "xTRCvPBPXE-m",
        "outputId": "db7255ab-92c0-434b-a66e-bbe6bde0e022"
      },
      "outputs": [
        {
          "name": "stdout",
          "output_type": "stream",
          "text": [
            "Qual lanche você quer?x-burguer\n",
            "você pediu um:  x-burguer\n"
          ]
        }
      ],
      "source": [
        "# Função input\n",
        "# Peça para o usuário falar qual lanche ele quer pedir:\n",
        "lancheNome = input('Qual lanche você quer?')\n",
        "print('você pediu um: ', lancheNome)"
      ]
    },
    {
      "cell_type": "code",
      "execution_count": null,
      "metadata": {
        "colab": {
          "base_uri": "https://localhost:8080/"
        },
        "id": "MNA-UiB3XxAN",
        "outputId": "73a687fc-7eee-4444-8bff-6ac560af3160"
      },
      "outputs": [
        {
          "data": {
            "text/plain": [
              "str"
            ]
          },
          "execution_count": 12,
          "metadata": {},
          "output_type": "execute_result"
        }
      ],
      "source": [
        "# Função: type()\n",
        "# Use o type em uma String\n",
        "type('Jeremias')"
      ]
    },
    {
      "cell_type": "code",
      "execution_count": null,
      "metadata": {
        "colab": {
          "base_uri": "https://localhost:8080/"
        },
        "id": "ZP2l5BzIXwYy",
        "outputId": "bf201638-5e4e-468c-e4e8-8127b71be02f"
      },
      "outputs": [
        {
          "data": {
            "text/plain": [
              "float"
            ]
          },
          "execution_count": 10,
          "metadata": {},
          "output_type": "execute_result"
        }
      ],
      "source": [
        "# Use o type em um Float\n",
        "type(2.34)"
      ]
    },
    {
      "cell_type": "code",
      "execution_count": null,
      "metadata": {
        "colab": {
          "base_uri": "https://localhost:8080/"
        },
        "id": "abnXl3LKXwK2",
        "outputId": "8131ed5c-5862-414a-e006-144d54733adf"
      },
      "outputs": [
        {
          "data": {
            "text/plain": [
              "int"
            ]
          },
          "execution_count": 11,
          "metadata": {},
          "output_type": "execute_result"
        }
      ],
      "source": [
        "# Use o tupe em um Int\n",
        "type(10)"
      ]
    },
    {
      "cell_type": "code",
      "execution_count": null,
      "metadata": {
        "colab": {
          "base_uri": "https://localhost:8080/"
        },
        "id": "K4p6Jn8eXv8n",
        "outputId": "2ca9dc73-0afb-4c40-8500-cb4e68df1889"
      },
      "outputs": [
        {
          "name": "stdout",
          "output_type": "stream",
          "text": [
            "<class 'int'>\n",
            "<class 'str'>\n"
          ]
        }
      ],
      "source": [
        "# Use o type em 2 variáveis seguidas:\n",
        "type(5)\n",
        "type('Jeremias')\n",
        "2+2\n",
        "4+5\n",
        "print(type(5))\n",
        "print(type('Jeremias'))"
      ]
    },
    {
      "cell_type": "code",
      "execution_count": null,
      "metadata": {
        "colab": {
          "base_uri": "https://localhost:8080/"
        },
        "id": "4MPaAMIyY5A_",
        "outputId": "bfe62c79-84f2-4281-93a0-55fb05b80704"
      },
      "outputs": [
        {
          "name": "stdout",
          "output_type": "stream",
          "text": [
            "<class 'float'>\n"
          ]
        }
      ],
      "source": [
        "# Use o type em 2 variáveis seguidas:\n",
        "variavelTipo = type(lanchePreco)\n",
        "print(type(lanchePreco))"
      ]
    },
    {
      "cell_type": "code",
      "execution_count": null,
      "metadata": {
        "colab": {
          "base_uri": "https://localhost:8080/"
        },
        "id": "37KwZxIVZLFj",
        "outputId": "c80dfb7f-eb1d-46f9-d172-ed19ab03e7a7"
      },
      "outputs": [
        {
          "name": "stdout",
          "output_type": "stream",
          "text": [
            "Por favor, digite um número: 10\n"
          ]
        },
        {
          "data": {
            "text/plain": [
              "str"
            ]
          },
          "execution_count": 18,
          "metadata": {},
          "output_type": "execute_result"
        }
      ],
      "source": [
        "# Peça para o usuário digitar um número e veja o tipo dessa variável\n",
        "numero = input('Por favor, digite um número: ')\n",
        "type(numero)"
      ]
    },
    {
      "cell_type": "code",
      "execution_count": null,
      "metadata": {
        "colab": {
          "base_uri": "https://localhost:8080/"
        },
        "id": "eDRZhnwoZtVB",
        "outputId": "9c034ece-5899-44e1-c56a-211dc88470c6"
      },
      "outputs": [
        {
          "name": "stdout",
          "output_type": "stream",
          "text": [
            "<class 'bool'>\n",
            "<class 'bool'>\n"
          ]
        }
      ],
      "source": [
        "# Tipo de Dado Booleano\n",
        "# Crie 2 variáveis: pagamentoCartão e pagamentoDinheiro,\n",
        "# Atribua valores Booleanos a ela e verifique o tipo da variável\n",
        "pagamentoCartao = True\n",
        "pagamentoDinheiro = False\n",
        "print(type(pagamentoCartao))\n",
        "print(type(pagamentoDinheiro))\n"
      ]
    }
  ],
  "metadata": {
    "colab": {
      "provenance": []
    },
    "kernelspec": {
      "display_name": "Python 3",
      "name": "python3"
    },
    "language_info": {
      "name": "python"
    }
  },
  "nbformat": 4,
  "nbformat_minor": 0
}

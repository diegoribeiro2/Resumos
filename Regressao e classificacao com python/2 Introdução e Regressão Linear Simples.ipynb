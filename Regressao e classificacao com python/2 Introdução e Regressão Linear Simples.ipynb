{
 "cells": [
  {
   "cell_type": "markdown",
   "metadata": {},
   "source": [
    "## **Módulo Matéria 06** - Modelo de Classificação"
   ]
  },
  {
   "cell_type": "markdown",
   "metadata": {},
   "source": [
    "## Introdução e Regressão Linear Simples"
   ]
  },
  {
   "cell_type": "markdown",
   "metadata": {},
   "source": [
    "### 388 Introdução a Regressão\n",
    "<h1>Regressão Linear</h1><h2>O que é</h2><ul><li>Equação estatística para estimar um valor esperado (variável Y) dados valores de outras variáveis (X)</li><li>Exemplo: Quanto maior o apartamento, maior o preço<ul><li>Eixo Y: Preço do apartamento</li><li>Eixo X: Metragem do apartamento</li><li>Quanto mais metros, mais caro é o apartamento</li></ul></li><li>É uma regressão linear quando um evento acontece conforme o outro acontece<ul><li>Quando o preço sobe, a metragem sobe também</li></ul></li></ul><h2>Aplicações</h2><h3>Área de crédito (bancos)</h3><ul><li>Predizer limite do cartão de crédito pelo score de crédito</li><li>Analisam histórico e dívidas do cliente para predizer limite sem correr riscos</li></ul><h3>Planejamento comercial</h3><ul><li>Predizer faturamento de time de vendas pela qtde de vendedores</li><li>Não acerta 100%, mas ajuda a estimar para tomar melhores decisões</li></ul><h2>Conclusão</h2><ul><li>Regressão linear serve para fazer estimativas úteis</li><li>Nas próximas aulas: mais detalhes de como funciona</li><li>No fim, é um conceito simples e aplicável no dia a dia</li></ul>"
   ]
  },
  {
   "cell_type": "markdown",
   "metadata": {},
   "source": [
    "### 389 Coeficiente de Correlação\n",
    "<h1>Tema central: Coeficiente de correlação</h1><h2>O que é correlação</h2><ul><li>Medida que quantifica a relação linear entre duas variáveis quantitativas</li><li>Coeficiente de correlação (R) varia de -1 a 1</li></ul><h3>Valores próximos a 1</h3><ul><li>Forte correlação linear positiva (diretamente proporcional)</li><li>Ex: Mais experiência dos vendedores, mais vendas realizadas</li></ul><h3>Valores próximos a -1</h3><ul><li>Forte correlação linear negativa (inversamente proporcional)</li><li>Ex: Quanto melhor a economia, menor a inflação</li></ul><h3>Valores próximos a 0</h3><ul><li>Não há relação linear entre as variáveis</li><li>Uma variável não influencia a outra</li></ul><h2>Exemplos de correlação em gráficos</h2><ul><li>R próximo de 1: pontos alinhados em reta positiva</li><li>R próximo de -1: pontos alinhados em reta negativa</li><li>R próximo de 0: pontos espalhados aleatoriamente</li></ul><h2>Na prática</h2><ul><li>R &gt; 0,7: Correlação linear forte</li><li>R &lt; -0,7: Correlação linear negativa forte</li></ul><h2>Exemplo empresa de turismo</h2><ul><li>Quanto maior experiência dos agentes, maiores as vendas</li><li>R = 0,97 entre experiência e vendas</li><li>Evidencia uma correlação linear muito forte</li></ul><p>Espero que este resumo em forma de mapa mental facilite a visualização dos principais tópicos abordados no vídeo sobre coeficiente de correlação. Fiz um apanhado geral do conceito, seus diferentes valores e interpretações, exemplos práticos e o caso da empresa de turismo analisado no final. Caso tenha ficado alguma dúvida ou queira algum esclarecimento adicional, por favor me avise.</p>"
   ]
  },
  {
   "cell_type": "markdown",
   "metadata": {},
   "source": [
    "### 390 Correlação Linear Simples Teórica\n",
    "<h1>Regressão Linear Simples</h1><h2>Tema central</h2><p>Análise de correlação entre duas variáveis, uma variável resposta (Y) e uma variável independente (X), por meio de um modelo de regressão linear simples.</p><h2>Tópicos abordados</h2><ul><li>Equação da reta de regressão linear<ul><li>Y chapéu: variável resposta estimada</li><li>B0: intercepto (ponto onde a reta cruza o eixo X)</li><li>B1: coeficiente angular (inclinação da reta)</li></ul></li><li>Exemplo prático<ul><li>Eixo X: tempo de experiência dos vendedores (anos)</li><li>Eixo Y: vendas mensais (R$)</li><li>Equação:<ul><li>Y chapéu = 90 + 5 * X<ul><li>90: vendas mensais esperadas para vendedor sem experiência</li><li>5: acréscimo esperado nas vendas mensais a cada ano a mais de experiência</li><li>X: anos de experiência</li></ul></li></ul></li></ul></li><li>Estimativa de vendas<ul><li>Para vendedor com 6 anos de experiência:<ul><li>Y chapéu = 90 + 5 * 6 = 120 (mil reais)</li></ul></li></ul></li><li>Próximos passos<ul><li>Entender com mais detalhes os estimadores B0 e B1</li><li>Analisar regressão linear com 1 variável independente e 1 variável resposta</li></ul></li></ul>"
   ]
  },
  {
   "cell_type": "markdown",
   "metadata": {},
   "source": [
    "### 391 Resíduo\n",
    "<h1>Resíduo</h1><h2>Conceito</h2><ul><li>O que é resíduo?<ul><li>É o erro que o modelo estimou em relação à variável resposta original</li></ul></li><li>Significa que o modelo errou em sua previsão</li></ul><h2>Contexto</h2><ul><li>Temos uma base de dados com:<ul><li>Tempo de experiência (anos)</li><li>Valor real de venda mensal (mil)</li><li>Valor de venda mensal estimado pelo modelo</li></ul></li></ul><h2>Algoritmo supervisionado</h2><ul><li>Compara a estimativa do modelo com a variável resposta original</li><li>Permite avaliar o erro e se está aceitável</li></ul><h2>Cálculo do resíduo</h2><ul><li>Resíduo = Venda observada - Venda ajustada<ul><li>Venda observada: valor real de venda</li><li>Venda ajustada: valor estimado pelo modelo</li></ul></li></ul><h2>Exemplos</h2><ul><li>1 ano:<ul><li>Valor real: 91 mil</li><li>Valor estimado: 95 mil</li><li><strong>Resíduo: -4</strong> (modelo superestimou em 4 mil)</li></ul></li><li>3 anos:<ul><li>Valor real: 110 mil</li><li>Valor estimado: 105 mil</li><li><strong>Resíduo: 5</strong> (modelo subestimou em 5 mil)</li></ul></li></ul><h2>Considerações</h2><ul><li>Quanto de erro é aceitável? Depende do negócio</li><li>Permite avaliar erros do modelo para melhorá-lo</li></ul>"
   ]
  },
  {
   "cell_type": "markdown",
   "metadata": {},
   "source": [
    "### 392 Coeficiente de Determinação\n",
    "<h1>Coeficiente de determinação (R2)</h1><ul><li><p>Conceito</p><ul><li>Também chamado de R2</li><li>Pode ser calculado pelo quadrado do coeficiente de correlação</li><li>Indica o quão bem ajustado está o modelo de regressão</li><li>Quanto maior o R2, melhor a acurácia em prever os resultados</li><li>Valores acima de 0,5 já indicam bom ajuste</li></ul></li><li><p>Interpretação</p><ul><li>Varia de 0 a 1</li><li>Pode ser interpretado como o percentual da variabilidade da variável Y explicada pela variável X</li><li>Exemplo:<ul><li>Equação Y = Intercepto + 5X</li><li>R2 = 0,9543</li><li>Significa que o modelo consegue explicar 95,43% da variabilidade das vendas</li><li>Ou seja, consegue capturar a relação entre X e Y em 95% dos casos</li></ul></li></ul></li><li><p>Importância</p><ul><li>Quanto maior o R2, melhor o modelo consegue explicar a relação entre as variáveis</li><li>Resultados próximos a 100% são muito bons em negócios</li><li>Indica que o modelo captura bem quando uma variável aumenta e a outra também aumenta (ou diminui)</li></ul></li></ul>"
   ]
  },
  {
   "cell_type": "markdown",
   "metadata": {},
   "source": [
    "### 393 Correlação Linear Simples Prática\n",
    "<h1>Importando bibliotecas</h1><ul><li>Pandas</li><li>NumPy</li><li>Seaborn</li></ul><h1>Criando um dataset</h1><ul><li>Chaves: &quot;tempo&quot; e &quot;vendas&quot;</li><li>Valores aleatórios para tempo e vendas</li></ul><h1>Convertendo em DataFrame</h1><ul><li>Usando pd.DataFrame()</li></ul><h1>Plotando gráfico de dispersão</h1><ul><li>Com lmplot()</li><li>Mostrando relação linear entre tempo e vendas</li></ul><h1>Calculando correlação</h1><ul><li>Com dataset.corr()</li><li>Correlação de 0,97 entre tempo e vendas</li></ul><h1>Estimando modelo de regressão</h1><ul><li>Usando StatsModels</li><li>sm.OLS para treinar modelo</li><li>Resumo mostra R2, intercepto e coeficiente</li></ul><h1>Prevendo vendas</h1><ul><li>Criando coluna &quot;y_previsto&quot;</li><li>Usando .predict() do modelo treinado</li><li>Compara com vendas reais</li></ul><h1>Calculando resíduo</h1><ul><li>Diferença entre vendas previstas e reais</li><li>Indica erro do modelo</li></ul><p>Esse é um resumo detalhado dos tópicos abordados no vídeo, cobrindo a criação do dataset, análise exploratória, modelo de regressão linear e avaliação do modelo. Foi formatado com markdowns para facilitar a visualização.</p>\n"
   ]
  },
  {
   "cell_type": "code",
   "execution_count": 24,
   "metadata": {},
   "outputs": [],
   "source": [
    "import pandas as pd\n",
    "import numpy as np\n",
    "import seaborn as sns\n"
   ]
  },
  {
   "cell_type": "code",
   "execution_count": 25,
   "metadata": {},
   "outputs": [
    {
     "data": {
      "text/html": [
       "<div>\n",
       "<style scoped>\n",
       "    .dataframe tbody tr th:only-of-type {\n",
       "        vertical-align: middle;\n",
       "    }\n",
       "\n",
       "    .dataframe tbody tr th {\n",
       "        vertical-align: top;\n",
       "    }\n",
       "\n",
       "    .dataframe thead th {\n",
       "        text-align: right;\n",
       "    }\n",
       "</style>\n",
       "<table border=\"1\" class=\"dataframe\">\n",
       "  <thead>\n",
       "    <tr style=\"text-align: right;\">\n",
       "      <th></th>\n",
       "      <th>tempo</th>\n",
       "      <th>vendas</th>\n",
       "    </tr>\n",
       "  </thead>\n",
       "  <tbody>\n",
       "    <tr>\n",
       "      <th>0</th>\n",
       "      <td>1</td>\n",
       "      <td>91</td>\n",
       "    </tr>\n",
       "    <tr>\n",
       "      <th>1</th>\n",
       "      <td>3</td>\n",
       "      <td>110</td>\n",
       "    </tr>\n",
       "    <tr>\n",
       "      <th>2</th>\n",
       "      <td>4</td>\n",
       "      <td>106</td>\n",
       "    </tr>\n",
       "    <tr>\n",
       "      <th>3</th>\n",
       "      <td>4</td>\n",
       "      <td>116</td>\n",
       "    </tr>\n",
       "    <tr>\n",
       "      <th>4</th>\n",
       "      <td>6</td>\n",
       "      <td>119</td>\n",
       "    </tr>\n",
       "  </tbody>\n",
       "</table>\n",
       "</div>"
      ],
      "text/plain": [
       "   tempo  vendas\n",
       "0      1      91\n",
       "1      3     110\n",
       "2      4     106\n",
       "3      4     116\n",
       "4      6     119"
      ]
     },
     "execution_count": 25,
     "metadata": {},
     "output_type": "execute_result"
    }
   ],
   "source": [
    "# Criando um Dataset utilizando o dicionário \n",
    "dataset = {\"tempo\":[1,3,4,4,6,8,10,10,11,13],\n",
    "           \"vendas\":[91,110,106,116,119,129,139,143,138,159]\n",
    "}\n",
    "dataset = pd.DataFrame(dataset)\n",
    "dataset.head()"
   ]
  },
  {
   "cell_type": "code",
   "execution_count": 26,
   "metadata": {},
   "outputs": [
    {
     "data": {
      "text/plain": [
       "<seaborn.axisgrid.FacetGrid at 0x26b4c18c6b0>"
      ]
     },
     "execution_count": 26,
     "metadata": {},
     "output_type": "execute_result"
    },
    {
     "data": {
      "image/png": "[encoded data removed]",
      "text/plain": [
       "<Figure size 1200x600 with 1 Axes>"
      ]
     },
     "metadata": {},
     "output_type": "display_data"
    }
   ],
   "source": [
    "# Criando um gráfico de linha Reta de regressão - tempo x vendas\n",
    "from pandas.io.sql import DatabaseError\n",
    "ax = sns.lmplot(x=\"tempo\", y=\"vendas\", data=dataset)\n",
    "ax.fig.set_size_inches(12,6)\n",
    "ax.fig.suptitle(\"Reta de regressão - Tempo X Venda\", fontsize=16,y=1.02)\n",
    "ax.set_xlabels(\"tempo de experiência\", fontsize=14)\n",
    "ax.set_ylabels(\"Vendas\",fontsize=14)"
   ]
  },
  {
   "cell_type": "code",
   "execution_count": 27,
   "metadata": {},
   "outputs": [
    {
     "data": {
      "text/html": [
       "<div>\n",
       "<style scoped>\n",
       "    .dataframe tbody tr th:only-of-type {\n",
       "        vertical-align: middle;\n",
       "    }\n",
       "\n",
       "    .dataframe tbody tr th {\n",
       "        vertical-align: top;\n",
       "    }\n",
       "\n",
       "    .dataframe thead th {\n",
       "        text-align: right;\n",
       "    }\n",
       "</style>\n",
       "<table border=\"1\" class=\"dataframe\">\n",
       "  <thead>\n",
       "    <tr style=\"text-align: right;\">\n",
       "      <th></th>\n",
       "      <th>tempo</th>\n",
       "      <th>vendas</th>\n",
       "    </tr>\n",
       "  </thead>\n",
       "  <tbody>\n",
       "    <tr>\n",
       "      <th>tempo</th>\n",
       "      <td>1.000000</td>\n",
       "      <td>0.976883</td>\n",
       "    </tr>\n",
       "    <tr>\n",
       "      <th>vendas</th>\n",
       "      <td>0.976883</td>\n",
       "      <td>1.000000</td>\n",
       "    </tr>\n",
       "  </tbody>\n",
       "</table>\n",
       "</div>"
      ],
      "text/plain": [
       "           tempo    vendas\n",
       "tempo   1.000000  0.976883\n",
       "vendas  0.976883  1.000000"
      ]
     },
     "execution_count": 27,
     "metadata": {},
     "output_type": "execute_result"
    }
   ],
   "source": [
    "# Verificando a relação entre tempo em experiência\n",
    "dataset.corr()\n"
   ]
  },
  {
   "cell_type": "code",
   "execution_count": 28,
   "metadata": {},
   "outputs": [],
   "source": [
    "# Importando biblioteca estatítica\n",
    "import statsmodels.api as sm"
   ]
  },
  {
   "cell_type": "code",
   "execution_count": 29,
   "metadata": {},
   "outputs": [],
   "source": [
    "# Variável target que queremos prever \n",
    "Y = dataset.vendas\n",
    "X = sm.add_constant(dataset.tempo)"
   ]
  },
  {
   "cell_type": "code",
   "execution_count": 30,
   "metadata": {},
   "outputs": [],
   "source": [
    "# Treinando modelo\n",
    "resultado_regressao = sm.OLS(Y,X).fit()\n",
    "\n"
   ]
  },
  {
   "cell_type": "code",
   "execution_count": 31,
   "metadata": {},
   "outputs": [
    {
     "name": "stdout",
     "output_type": "stream",
     "text": [
      "                            OLS Regression Results                            \n",
      "==============================================================================\n",
      "Dep. Variable:                 vendas   R-squared:                       0.954\n",
      "Model:                            OLS   Adj. R-squared:                  0.949\n",
      "Method:                 Least Squares   F-statistic:                     167.1\n",
      "Date:                Wed, 04 Sep 2024   Prob (F-statistic):           1.22e-06\n",
      "Time:                        15:48:43   Log-Likelihood:                -28.355\n",
      "No. Observations:                  10   AIC:                             60.71\n",
      "Df Residuals:                       8   BIC:                             61.32\n",
      "Df Model:                           1                                         \n",
      "Covariance Type:            nonrobust                                         \n",
      "==============================================================================\n",
      "                 coef    std err          t      P>|t|      [0.025      0.975]\n",
      "------------------------------------------------------------------------------\n",
      "const         90.0000      3.075     29.265      0.000      82.908      97.092\n",
      "tempo          5.0000      0.387     12.925      0.000       4.108       5.892\n",
      "==============================================================================\n",
      "Omnibus:                        0.928   Durbin-Watson:                   3.224\n",
      "Prob(Omnibus):                  0.629   Jarque-Bera (JB):                0.616\n",
      "Skew:                          -0.060   Prob(JB):                        0.735\n",
      "Kurtosis:                       1.790   Cond. No.                         17.0\n",
      "==============================================================================\n",
      "\n",
      "Notes:\n",
      "[1] Standard Errors assume that the covariance matrix of the errors is correctly specified.\n"
     ]
    },
    {
     "name": "stderr",
     "output_type": "stream",
     "text": [
      "c:\\Users\\User\\AppData\\Local\\Programs\\Python\\Python312\\Lib\\site-packages\\scipy\\stats\\_axis_nan_policy.py:531: UserWarning: kurtosistest only valid for n>=20 ... continuing anyway, n=10\n",
      "  res = hypotest_fun_out(*samples, **kwds)\n"
     ]
    }
   ],
   "source": [
    "# OLS Regression Results\n",
    "print(resultado_regressao.summary())"
   ]
  },
  {
   "cell_type": "code",
   "execution_count": 32,
   "metadata": {},
   "outputs": [
    {
     "data": {
      "text/html": [
       "<div>\n",
       "<style scoped>\n",
       "    .dataframe tbody tr th:only-of-type {\n",
       "        vertical-align: middle;\n",
       "    }\n",
       "\n",
       "    .dataframe tbody tr th {\n",
       "        vertical-align: top;\n",
       "    }\n",
       "\n",
       "    .dataframe thead th {\n",
       "        text-align: right;\n",
       "    }\n",
       "</style>\n",
       "<table border=\"1\" class=\"dataframe\">\n",
       "  <thead>\n",
       "    <tr style=\"text-align: right;\">\n",
       "      <th></th>\n",
       "      <th>tempo</th>\n",
       "      <th>vendas</th>\n",
       "      <th>Y_previsto</th>\n",
       "    </tr>\n",
       "  </thead>\n",
       "  <tbody>\n",
       "    <tr>\n",
       "      <th>0</th>\n",
       "      <td>1</td>\n",
       "      <td>91</td>\n",
       "      <td>95.0</td>\n",
       "    </tr>\n",
       "    <tr>\n",
       "      <th>1</th>\n",
       "      <td>3</td>\n",
       "      <td>110</td>\n",
       "      <td>105.0</td>\n",
       "    </tr>\n",
       "    <tr>\n",
       "      <th>2</th>\n",
       "      <td>4</td>\n",
       "      <td>106</td>\n",
       "      <td>110.0</td>\n",
       "    </tr>\n",
       "    <tr>\n",
       "      <th>3</th>\n",
       "      <td>4</td>\n",
       "      <td>116</td>\n",
       "      <td>110.0</td>\n",
       "    </tr>\n",
       "    <tr>\n",
       "      <th>4</th>\n",
       "      <td>6</td>\n",
       "      <td>119</td>\n",
       "      <td>120.0</td>\n",
       "    </tr>\n",
       "  </tbody>\n",
       "</table>\n",
       "</div>"
      ],
      "text/plain": [
       "   tempo  vendas  Y_previsto\n",
       "0      1      91        95.0\n",
       "1      3     110       105.0\n",
       "2      4     106       110.0\n",
       "3      4     116       110.0\n",
       "4      6     119       120.0"
      ]
     },
     "execution_count": 32,
     "metadata": {},
     "output_type": "execute_result"
    }
   ],
   "source": [
    "# Verificando Resíduos \n",
    "dataset[\"Y_previsto\"]= resultado_regressao.predict()\n",
    "dataset.head()"
   ]
  },
  {
   "cell_type": "code",
   "execution_count": 33,
   "metadata": {},
   "outputs": [
    {
     "data": {
      "text/html": [
       "<div>\n",
       "<style scoped>\n",
       "    .dataframe tbody tr th:only-of-type {\n",
       "        vertical-align: middle;\n",
       "    }\n",
       "\n",
       "    .dataframe tbody tr th {\n",
       "        vertical-align: top;\n",
       "    }\n",
       "\n",
       "    .dataframe thead th {\n",
       "        text-align: right;\n",
       "    }\n",
       "</style>\n",
       "<table border=\"1\" class=\"dataframe\">\n",
       "  <thead>\n",
       "    <tr style=\"text-align: right;\">\n",
       "      <th></th>\n",
       "      <th>tempo</th>\n",
       "      <th>vendas</th>\n",
       "      <th>Y_previsto</th>\n",
       "      <th>resíduo</th>\n",
       "    </tr>\n",
       "  </thead>\n",
       "  <tbody>\n",
       "    <tr>\n",
       "      <th>0</th>\n",
       "      <td>1</td>\n",
       "      <td>91</td>\n",
       "      <td>95.0</td>\n",
       "      <td>4.0</td>\n",
       "    </tr>\n",
       "    <tr>\n",
       "      <th>1</th>\n",
       "      <td>3</td>\n",
       "      <td>110</td>\n",
       "      <td>105.0</td>\n",
       "      <td>-5.0</td>\n",
       "    </tr>\n",
       "    <tr>\n",
       "      <th>2</th>\n",
       "      <td>4</td>\n",
       "      <td>106</td>\n",
       "      <td>110.0</td>\n",
       "      <td>4.0</td>\n",
       "    </tr>\n",
       "    <tr>\n",
       "      <th>3</th>\n",
       "      <td>4</td>\n",
       "      <td>116</td>\n",
       "      <td>110.0</td>\n",
       "      <td>-6.0</td>\n",
       "    </tr>\n",
       "    <tr>\n",
       "      <th>4</th>\n",
       "      <td>6</td>\n",
       "      <td>119</td>\n",
       "      <td>120.0</td>\n",
       "      <td>1.0</td>\n",
       "    </tr>\n",
       "  </tbody>\n",
       "</table>\n",
       "</div>"
      ],
      "text/plain": [
       "   tempo  vendas  Y_previsto  resíduo\n",
       "0      1      91        95.0      4.0\n",
       "1      3     110       105.0     -5.0\n",
       "2      4     106       110.0      4.0\n",
       "3      4     116       110.0     -6.0\n",
       "4      6     119       120.0      1.0"
      ]
     },
     "execution_count": 33,
     "metadata": {},
     "output_type": "execute_result"
    }
   ],
   "source": [
    "# Verificando erro\n",
    "dataset[\"resíduo\"] = dataset[\"Y_previsto\"] - dataset[\"vendas\"]\n",
    "dataset.head()"
   ]
  },
  {
   "cell_type": "markdown",
   "metadata": {},
   "source": [
    "### 394 Correlação Linear Simples Exercício\n",
    "<h1>Tema central: Exercício de correlação linear simples</h1><h2>Contexto</h2><ul><li>Ministério da Educação solicitou uma previsão do percentual de alunos aprovados em 2017</li><li>A previsão deve ser baseada nos dados de aprovação de 2015 e 2016</li></ul><h2>Objetivo</h2><ul><li>Criar um modelo para prever o percentual de aprovações em 2016, usando os dados de 2015</li><li>Fazer tratamento dos dados</li><li>Realizar regressão linear</li><li>Calcular o resíduo para avaliar o erro do modelo</li></ul><h2>Etapas</h2><ol><li>Obter dataset com percentual de aprovações em 2015 e 2016</li><li>Definir variável target: aprovações 2016</li><li>Fazer previsão de 2016 baseada nos dados de 2015</li><li>Realizar tratamento de dados:<ul><li>Limpeza</li><li>Transformação</li><li>Análise exploratória</li></ul></li><li>Executar regressão linear</li><li>Calcular estatísticas do modelo:<ul><li>R2</li><li>Erro quadrático médio</li><li>Resíduos</li></ul></li><li>Estimar acurácia do modelo comparando previsões e dados reais de 2016</li></ol><h2>Entrega</h2><ul><li>Jupyter notebook com:<ul><li>Importação e tratamento dos dados</li><li>Modelagem</li><li>Previsões</li><li>Avaliação do modelo</li></ul></li></ul><p>Espero ter resumido de forma completa e detalhada os principais tópicos e etapas envolvidas no exercício solicitado no vídeo. Utilizei a formatação Markdown para facilitar a visualização. Caso tenha ficado alguma dúvida, por favor me avise.</p>"
   ]
  },
  {
   "cell_type": "markdown",
   "metadata": {},
   "source": [
    "### 395 Correlação Linear Simples Gabarito\n",
    "<h1>Análise de correlação entre aprovação de alunos em 2015 e 2016</h1><h2>Importação de bibliotecas</h2><ul><li>Pandas</li><li>Seaborn</li><li>Numpy</li></ul><h2>Leitura da base de dados</h2><ul><li>Arquivo Excel &quot;aprovação_alunos.xlsx&quot;</li><li>Contém dados por estado:<ul><li>Percentual de aprovação em 2015</li><li>Percentual de aprovação em 2016</li></ul></li></ul><h2>Visualização dos dados</h2><ul><li>Gráfico com Seaborn plotando 2015 no eixo X e 2016 no eixo Y</li><li>Mostra correlação linear positiva entre os dados</li></ul><h2>Cálculo da correlação</h2><ul><li>Correlação de 89% &gt; 70% -&gt; correlação alta e positiva</li></ul><h2>Regressão linear</h2><ul><li>Biblioteca: StatsModels</li><li>Variável target: aprovação 2016</li><li>Variável preditora: aprovação 2015</li><li>Resultados:<ul><li>R2: 80% -&gt; bom ajuste do modelo aos dados</li><li>Intercepto: 11</li><li>Coeficiente 2015: 0,86</li></ul></li></ul><h2>Previsão e resíduos</h2><ul><li>Modelo usado para prever aprovação 2016</li><li>Calculado resíduo (erro) entre valor previsto e real de 2016</li></ul><h2>Conclusão</h2><ul><li>Passos importantes para embasar continuação do curso</li><li>Lógica pode ser seguida de outras formas desde que resulte nos mesmos cálculos</li></ul>"
   ]
  },
  {
   "cell_type": "code",
   "execution_count": 34,
   "metadata": {},
   "outputs": [],
   "source": [
    "import pandas as pd\n",
    "import numpy as np\n",
    "import seaborn as sns\n",
    "from sklearn.preprocessing import scale"
   ]
  },
  {
   "cell_type": "code",
   "execution_count": 35,
   "metadata": {},
   "outputs": [
    {
     "data": {
      "text/html": [
       "<div>\n",
       "<style scoped>\n",
       "    .dataframe tbody tr th:only-of-type {\n",
       "        vertical-align: middle;\n",
       "    }\n",
       "\n",
       "    .dataframe tbody tr th {\n",
       "        vertical-align: top;\n",
       "    }\n",
       "\n",
       "    .dataframe thead th {\n",
       "        text-align: right;\n",
       "    }\n",
       "</style>\n",
       "<table border=\"1\" class=\"dataframe\">\n",
       "  <thead>\n",
       "    <tr style=\"text-align: right;\">\n",
       "      <th></th>\n",
       "      <th>UF</th>\n",
       "      <th>ano_2015</th>\n",
       "      <th>ano_2016</th>\n",
       "    </tr>\n",
       "  </thead>\n",
       "  <tbody>\n",
       "    <tr>\n",
       "      <th>0</th>\n",
       "      <td>Rondonia</td>\n",
       "      <td>77</td>\n",
       "      <td>85</td>\n",
       "    </tr>\n",
       "    <tr>\n",
       "      <th>1</th>\n",
       "      <td>Acre</td>\n",
       "      <td>79</td>\n",
       "      <td>81</td>\n",
       "    </tr>\n",
       "    <tr>\n",
       "      <th>2</th>\n",
       "      <td>Amazonas</td>\n",
       "      <td>83</td>\n",
       "      <td>85</td>\n",
       "    </tr>\n",
       "    <tr>\n",
       "      <th>3</th>\n",
       "      <td>Roraima</td>\n",
       "      <td>81</td>\n",
       "      <td>82</td>\n",
       "    </tr>\n",
       "    <tr>\n",
       "      <th>4</th>\n",
       "      <td>Para</td>\n",
       "      <td>73</td>\n",
       "      <td>76</td>\n",
       "    </tr>\n",
       "  </tbody>\n",
       "</table>\n",
       "</div>"
      ],
      "text/plain": [
       "         UF  ano_2015  ano_2016\n",
       "0  Rondonia        77        85\n",
       "1      Acre        79        81\n",
       "2  Amazonas        83        85\n",
       "3   Roraima        81        82\n",
       "4      Para        73        76"
      ]
     },
     "execution_count": 35,
     "metadata": {},
     "output_type": "execute_result"
    }
   ],
   "source": [
    "alunos = pd.read_excel(\"aprovacao_alunos.xlsx\", engine='openpyxl')\n",
    "alunos.head()"
   ]
  },
  {
   "cell_type": "code",
   "execution_count": 36,
   "metadata": {},
   "outputs": [
    {
     "data": {
      "text/plain": [
       "(<seaborn.axisgrid.FacetGrid at 0x26b4eb73200>,)"
      ]
     },
     "execution_count": 36,
     "metadata": {},
     "output_type": "execute_result"
    },
    {
     "data": {
      "image/png": "[encoded data removed]",
      "text/plain": [
       "<Figure size 1200x600 with 1 Axes>"
      ]
     },
     "metadata": {},
     "output_type": "display_data"
    }
   ],
   "source": [
    "ax = sns.lmplot(x=\"ano_2015\", y = \"ano_2016\", data=alunos)\n",
    "ax.fig.set_size_inches(12,6)\n",
    "ax.fig.suptitle(\"Reta de regressão 2015 x 2016\")\n",
    "ax.set_xlabels(\"2015\")\n",
    "ax.set_ylabels(\"2016\")\n",
    "ax,"
   ]
  },
  {
   "cell_type": "code",
   "execution_count": 37,
   "metadata": {},
   "outputs": [
    {
     "data": {
      "text/plain": [
       "UF          object\n",
       "ano_2015     int64\n",
       "ano_2016     int64\n",
       "dtype: object"
      ]
     },
     "execution_count": 37,
     "metadata": {},
     "output_type": "execute_result"
    }
   ],
   "source": [
    "alunos.dtypes"
   ]
  },
  {
   "cell_type": "code",
   "execution_count": 38,
   "metadata": {},
   "outputs": [],
   "source": [
    "alunos2=alunos.drop(columns=['UF'])"
   ]
  },
  {
   "cell_type": "code",
   "execution_count": 39,
   "metadata": {},
   "outputs": [
    {
     "data": {
      "text/html": [
       "<div>\n",
       "<style scoped>\n",
       "    .dataframe tbody tr th:only-of-type {\n",
       "        vertical-align: middle;\n",
       "    }\n",
       "\n",
       "    .dataframe tbody tr th {\n",
       "        vertical-align: top;\n",
       "    }\n",
       "\n",
       "    .dataframe thead th {\n",
       "        text-align: right;\n",
       "    }\n",
       "</style>\n",
       "<table border=\"1\" class=\"dataframe\">\n",
       "  <thead>\n",
       "    <tr style=\"text-align: right;\">\n",
       "      <th></th>\n",
       "      <th>ano_2015</th>\n",
       "      <th>ano_2016</th>\n",
       "    </tr>\n",
       "  </thead>\n",
       "  <tbody>\n",
       "    <tr>\n",
       "      <th>ano_2015</th>\n",
       "      <td>1.000000</td>\n",
       "      <td>0.894957</td>\n",
       "    </tr>\n",
       "    <tr>\n",
       "      <th>ano_2016</th>\n",
       "      <td>0.894957</td>\n",
       "      <td>1.000000</td>\n",
       "    </tr>\n",
       "  </tbody>\n",
       "</table>\n",
       "</div>"
      ],
      "text/plain": [
       "          ano_2015  ano_2016\n",
       "ano_2015  1.000000  0.894957\n",
       "ano_2016  0.894957  1.000000"
      ]
     },
     "execution_count": 39,
     "metadata": {},
     "output_type": "execute_result"
    }
   ],
   "source": [
    "alunos2.corr()"
   ]
  },
  {
   "cell_type": "code",
   "execution_count": 40,
   "metadata": {},
   "outputs": [],
   "source": [
    "import statsmodels.api as sm\n",
    "Y = alunos.ano_2016\n",
    "X = sm.add_constant(alunos.ano_2015)"
   ]
  },
  {
   "cell_type": "code",
   "execution_count": 41,
   "metadata": {},
   "outputs": [],
   "source": [
    "resultado_regressao=sm.OLS(Y,X).fit()"
   ]
  },
  {
   "cell_type": "code",
   "execution_count": 42,
   "metadata": {},
   "outputs": [
    {
     "name": "stdout",
     "output_type": "stream",
     "text": [
      "                            OLS Regression Results                            \n",
      "==============================================================================\n",
      "Dep. Variable:               ano_2016   R-squared:                       0.801\n",
      "Model:                            OLS   Adj. R-squared:                  0.793\n",
      "Method:                 Least Squares   F-statistic:                     100.6\n",
      "Date:                Wed, 04 Sep 2024   Prob (F-statistic):           3.02e-10\n",
      "Time:                        15:48:44   Log-Likelihood:                -58.476\n",
      "No. Observations:                  27   AIC:                             121.0\n",
      "Df Residuals:                      25   BIC:                             123.5\n",
      "Df Model:                           1                                         \n",
      "Covariance Type:            nonrobust                                         \n",
      "==============================================================================\n",
      "                 coef    std err          t      P>|t|      [0.025      0.975]\n",
      "------------------------------------------------------------------------------\n",
      "const         11.3143      6.880      1.645      0.113      -2.855      25.483\n",
      "ano_2015       0.8681      0.087     10.030      0.000       0.690       1.046\n",
      "==============================================================================\n",
      "Omnibus:                        8.744   Durbin-Watson:                   1.616\n",
      "Prob(Omnibus):                  0.013   Jarque-Bera (JB):               11.774\n",
      "Skew:                           0.487   Prob(JB):                      0.00278\n",
      "Kurtosis:                       6.085   Cond. No.                     1.30e+03\n",
      "==============================================================================\n",
      "\n",
      "Notes:\n",
      "[1] Standard Errors assume that the covariance matrix of the errors is correctly specified.\n",
      "[2] The condition number is large, 1.3e+03. This might indicate that there are\n",
      "strong multicollinearity or other numerical problems.\n"
     ]
    }
   ],
   "source": [
    "print(resultado_regressao.summary())"
   ]
  },
  {
   "cell_type": "code",
   "execution_count": 43,
   "metadata": {},
   "outputs": [
    {
     "data": {
      "text/html": [
       "<div>\n",
       "<style scoped>\n",
       "    .dataframe tbody tr th:only-of-type {\n",
       "        vertical-align: middle;\n",
       "    }\n",
       "\n",
       "    .dataframe tbody tr th {\n",
       "        vertical-align: top;\n",
       "    }\n",
       "\n",
       "    .dataframe thead th {\n",
       "        text-align: right;\n",
       "    }\n",
       "</style>\n",
       "<table border=\"1\" class=\"dataframe\">\n",
       "  <thead>\n",
       "    <tr style=\"text-align: right;\">\n",
       "      <th></th>\n",
       "      <th>UF</th>\n",
       "      <th>ano_2015</th>\n",
       "      <th>ano_2016</th>\n",
       "      <th>Y_previsto</th>\n",
       "    </tr>\n",
       "  </thead>\n",
       "  <tbody>\n",
       "    <tr>\n",
       "      <th>0</th>\n",
       "      <td>Rondonia</td>\n",
       "      <td>77</td>\n",
       "      <td>85</td>\n",
       "      <td>78.159571</td>\n",
       "    </tr>\n",
       "    <tr>\n",
       "      <th>1</th>\n",
       "      <td>Acre</td>\n",
       "      <td>79</td>\n",
       "      <td>81</td>\n",
       "      <td>79.895812</td>\n",
       "    </tr>\n",
       "    <tr>\n",
       "      <th>2</th>\n",
       "      <td>Amazonas</td>\n",
       "      <td>83</td>\n",
       "      <td>85</td>\n",
       "      <td>83.368294</td>\n",
       "    </tr>\n",
       "    <tr>\n",
       "      <th>3</th>\n",
       "      <td>Roraima</td>\n",
       "      <td>81</td>\n",
       "      <td>82</td>\n",
       "      <td>81.632053</td>\n",
       "    </tr>\n",
       "    <tr>\n",
       "      <th>4</th>\n",
       "      <td>Para</td>\n",
       "      <td>73</td>\n",
       "      <td>76</td>\n",
       "      <td>74.687089</td>\n",
       "    </tr>\n",
       "  </tbody>\n",
       "</table>\n",
       "</div>"
      ],
      "text/plain": [
       "         UF  ano_2015  ano_2016  Y_previsto\n",
       "0  Rondonia        77        85   78.159571\n",
       "1      Acre        79        81   79.895812\n",
       "2  Amazonas        83        85   83.368294\n",
       "3   Roraima        81        82   81.632053\n",
       "4      Para        73        76   74.687089"
      ]
     },
     "execution_count": 43,
     "metadata": {},
     "output_type": "execute_result"
    }
   ],
   "source": [
    "alunos[\"Y_previsto\"] = resultado_regressao.predict()\n",
    "alunos.head()"
   ]
  },
  {
   "cell_type": "code",
   "execution_count": 44,
   "metadata": {},
   "outputs": [
    {
     "data": {
      "text/html": [
       "<div>\n",
       "<style scoped>\n",
       "    .dataframe tbody tr th:only-of-type {\n",
       "        vertical-align: middle;\n",
       "    }\n",
       "\n",
       "    .dataframe tbody tr th {\n",
       "        vertical-align: top;\n",
       "    }\n",
       "\n",
       "    .dataframe thead th {\n",
       "        text-align: right;\n",
       "    }\n",
       "</style>\n",
       "<table border=\"1\" class=\"dataframe\">\n",
       "  <thead>\n",
       "    <tr style=\"text-align: right;\">\n",
       "      <th></th>\n",
       "      <th>UF</th>\n",
       "      <th>ano_2015</th>\n",
       "      <th>ano_2016</th>\n",
       "      <th>Y_previsto</th>\n",
       "      <th>residuo</th>\n",
       "    </tr>\n",
       "  </thead>\n",
       "  <tbody>\n",
       "    <tr>\n",
       "      <th>0</th>\n",
       "      <td>Rondonia</td>\n",
       "      <td>77</td>\n",
       "      <td>85</td>\n",
       "      <td>78.159571</td>\n",
       "      <td>-6.840429</td>\n",
       "    </tr>\n",
       "    <tr>\n",
       "      <th>1</th>\n",
       "      <td>Acre</td>\n",
       "      <td>79</td>\n",
       "      <td>81</td>\n",
       "      <td>79.895812</td>\n",
       "      <td>-1.104188</td>\n",
       "    </tr>\n",
       "    <tr>\n",
       "      <th>2</th>\n",
       "      <td>Amazonas</td>\n",
       "      <td>83</td>\n",
       "      <td>85</td>\n",
       "      <td>83.368294</td>\n",
       "      <td>-1.631706</td>\n",
       "    </tr>\n",
       "    <tr>\n",
       "      <th>3</th>\n",
       "      <td>Roraima</td>\n",
       "      <td>81</td>\n",
       "      <td>82</td>\n",
       "      <td>81.632053</td>\n",
       "      <td>-0.367947</td>\n",
       "    </tr>\n",
       "    <tr>\n",
       "      <th>4</th>\n",
       "      <td>Para</td>\n",
       "      <td>73</td>\n",
       "      <td>76</td>\n",
       "      <td>74.687089</td>\n",
       "      <td>-1.312911</td>\n",
       "    </tr>\n",
       "  </tbody>\n",
       "</table>\n",
       "</div>"
      ],
      "text/plain": [
       "         UF  ano_2015  ano_2016  Y_previsto   residuo\n",
       "0  Rondonia        77        85   78.159571 -6.840429\n",
       "1      Acre        79        81   79.895812 -1.104188\n",
       "2  Amazonas        83        85   83.368294 -1.631706\n",
       "3   Roraima        81        82   81.632053 -0.367947\n",
       "4      Para        73        76   74.687089 -1.312911"
      ]
     },
     "execution_count": 44,
     "metadata": {},
     "output_type": "execute_result"
    }
   ],
   "source": [
    "alunos[\"residuo\"]=alunos[\"Y_previsto\"] - alunos[\"ano_2016\"]\n",
    "alunos.head()"
   ]
  }
 ],
 "metadata": {
  "kernelspec": {
   "display_name": "Python 3",
   "language": "python",
   "name": "python3"
  },
  "language_info": {
   "codemirror_mode": {
    "name": "ipython",
    "version": 3
   },
   "file_extension": ".py",
   "mimetype": "text/x-python",
   "name": "python",
   "nbconvert_exporter": "python",
   "pygments_lexer": "ipython3",
   "version": "3.12.4"
  }
 },
 "nbformat": 4,
 "nbformat_minor": 2
}

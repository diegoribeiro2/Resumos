{
 "cells": [
  {
   "cell_type": "markdown",
   "metadata": {},
   "source": [
    "## **Módulo Matéria 06** - Modelo de Classificação"
   ]
  },
  {
   "cell_type": "markdown",
   "metadata": {},
   "source": [
    "## Onbording Programa de Carreira"
   ]
  },
  {
   "cell_type": "markdown",
   "metadata": {},
   "source": [
    "### 385 Bem vindo ao Ciclo Avançado"
   ]
  },
  {
   "cell_type": "markdown",
   "metadata": {},
   "source": [
    "### 386 Conheça o plano de carreira\n",
    "<h1>Programa de Carreira da Escola DNC</h1><h2>Apresentação do PH, gestor de relacionamento</h2><ul><li>10+ anos de experiência em RH e vendas</li><li>Trabalhou em recrutamento, seleção, treinamento, etc.</li></ul><h2>Regras do programa</h2><ul><li>Arquivo PDF com regras a serem seguidas</li></ul><h2>Objetivo</h2><ul><li>Garantir sucesso profissional através de um PDI estratégico</li></ul><h2>Duração e focos</h2><ul><li>3 meses</li><li>Obter emprego</li><li>Migrar de área</li><li>Aumentar performance</li></ul><h2>Módulos</h2><ul><li>LinkedIn campeão</li><li>CV estratégico</li><li>GitHub campeão</li><li>Busca de vagas</li><li>Networking</li><li>Entrevistas</li></ul><h2>Mentorias</h2><ul><li>Com especialistas e ex-alunos</li></ul><h2>Comprometimento necessário</h2><ul><li>Cumprir prazos</li><li>Participar ativamente</li><li>Buscar vagas constantemente</li></ul><h2>Envio prévio de CV e LinkedIn</h2><ul><li>Para aprovação antes da 1a reunião</li></ul><h2>Contar com a escola</h2><ul><li>Mas o sucesso depende do aluno</li></ul>"
   ]
  },
  {
   "cell_type": "markdown",
   "metadata": {},
   "source": [
    "### 387 Conheça e entenda o seu PDI\n",
    "<h1>Programa de Carreira</h1><h2>Apresentação</h2><ul><li>Apresentação da Ana Carvalho, integrante da equipe de sucesso do aluno</li><li>Vai acompanhar os alunos durante o programa de carreira</li><li>Tirar dúvidas, dar dicas e indicar vagas</li></ul><h2>PDI (Plano de Desenvolvimento Individual)</h2><ul><li>Link para regras e telefone de contato</li><li>Plano de melhoria em 4 tarefas<ul><li>Ajuste de currículo, LinkedIn e cadastro em plataformas</li><li>Benchmark de vagas</li><li>Desenvolvimento de hard e soft skills</li><li>Networking</li></ul></li><li>Planilha de controle de vagas</li></ul><h2>Tarefa 1: Ajuste de perfis</h2><ul><li>Currículo<ul><li>Incluir projeto prático</li><li>Enviar para correção</li></ul></li><li>LinkedIn<ul><li>Atualizar com dicas</li><li>Movimentar rede e ser encontrado</li></ul></li><li>Gupy e outros cadastros<ul><li>Dicas para gerar retorno</li></ul></li></ul><h2>Tarefa 2: Benchmark de vagas</h2><ul><li>Estudar requisitos do mercado</li><li>Avaliar match com perfil</li></ul><h2>Tarefa 3: Hard e soft skills</h2><ul><li>Desenvolver skills necessárias</li></ul><h2>Tarefa 4: Networking</h2><ul><li>Falar com pessoas durante os processos seletivos</li></ul><h2>Considerações finais</h2><ul><li>Importância de preencher o PDI e pedir ajuda</li></ul>"
   ]
  }
 ],
 "metadata": {
  "kernelspec": {
   "display_name": "Python 3",
   "language": "python",
   "name": "python3"
  },
  "language_info": {
   "codemirror_mode": {
    "name": "ipython",
    "version": 3
   },
   "file_extension": ".py",
   "mimetype": "text/x-python",
   "name": "python",
   "nbconvert_exporter": "python",
   "pygments_lexer": "ipython3",
   "version": "3.12.4"
  }
 },
 "nbformat": 4,
 "nbformat_minor": 2
}

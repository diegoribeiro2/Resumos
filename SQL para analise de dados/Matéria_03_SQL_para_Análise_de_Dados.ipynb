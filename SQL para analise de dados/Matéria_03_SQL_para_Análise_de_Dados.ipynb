{
  "nbformat": 4,
  "nbformat_minor": 0,
  "metadata": {
    "colab": {
      "provenance": [],
      "collapsed_sections": [
        "tm1CsHPS-GQb",
        "YjwU0NRM-YfW",
        "wQW4rAXJ-1ln"
      ]
    },
    "kernelspec": {
      "name": "python3",
      "display_name": "Python 3"
    },
    "language_info": {
      "name": "python"
    }
  },
  "cells": [
    {
      "cell_type": "markdown",
      "source": [
        "## **Módulo Matéria 03** - SQL para Análise de Dados"
      ],
      "metadata": {
        "id": "Khm-fRG54G5h"
      }
    },
    {
      "cell_type": "markdown",
      "source": [
        "## Grupo da Matéria - SQL para Análise de Dados"
      ],
      "metadata": {
        "id": "arjRQ_IJ9_nl"
      }
    },
    {
      "cell_type": "markdown",
      "source": [
        "## Introdução ao Metabase"
      ],
      "metadata": {
        "id": "tm1CsHPS-GQb"
      }
    },
    {
      "cell_type": "markdown",
      "source": [
        "### Aula 175 Introdução ao Módulo\n",
        "<h1>Curso de SQL para Análise de Dados</h1><h2>Apresentação</h2><ul><li>Nome do instrutor: Everton</li><li>Contexto: Boas-vindas ao curso de SQL para análise de dados</li></ul><h2>Instrutor</h2><ul><li>Cargo: Hedge Growth na escola DNC</li><li>Experiência: Projetos, dados e estatística</li><li>Área de atuação: Projetos e análise de dados</li></ul><h2>Sobre o curso</h2><ul><li>Ferramenta utilizada: SQL e MetaBase</li><li>Objetivo: Análise de dados para tomada de decisões de negócio</li><li>Níveis de conhecimento: Básico ao avançado</li></ul><h2>Conteúdo</h2><ul><li>Básico: Análises iniciais de dados</li><li>Intermediário: Dashboards gerenciais e operacionais</li><li>Avançado: Análise complexa de dados</li></ul><h2>Aplicação</h2><ul><li>Suporte à tomada de decisões de negócio</li></ul>"
      ],
      "metadata": {
        "id": "3ND1FXNEqTEo"
      }
    },
    {
      "cell_type": "markdown",
      "source": [
        "### Aula 176 Introdução ao Metabase\n",
        "<h1>Tema central: Introdução à análise de dados</h1><h2>Tópicos abordados</h2><h3>O que é BI</h3><ul><li>Business Intelligence</li><li>Conjunto de tecnologias e processos para coletar, consolidar e analisar dados de um negócio</li></ul><h3>Carreiras em BI</h3><ul><li>Analista de dados</li><li>Cientista de dados</li><li>Engenheiro de dados</li></ul><h3>MetaBase</h3><ul><li>Software de análise de dados que será utilizado no curso</li></ul><h3>SQL</h3><ul><li>Linguagem de consulta estruturada</li><li>Utilizada para fazer consultas em bancos de dados</li><li>A linguagem por trás das análises que serão feitas</li></ul><h3>Ambientação no MetaBase</h3><ul><li>Primeiros passos de utilização do software</li><li>Até o final do primeiro módulo os alunos aprenderão a utilizar o MetaBase</li></ul><p>O vídeo introduz o tema de análise de dados, explicando conceitos importantes como BI, carreiras na área, ferramentas como o MetaBase e a linguagem SQL. O objetivo é ambientar os alunos no mundo da análise de dados.</p>"
      ],
      "metadata": {
        "id": "mOdFf8fvqWzL"
      }
    },
    {
      "cell_type": "markdown",
      "source": [
        "### Aula 177 O que é BI\n",
        "<h1>Área de dados</h1><ul><li>Responsável por<ul><li>Armazenar dados</li><li>Organizar tabelas</li><li>Tratar dados</li><li>Disponibilizar dados para análises</li><li>Analisar dados da empresa</li></ul></li><li>Disponibilizar = pessoas certas têm acesso aos dados certos (LGPD)</li></ul><h2>Carreiras</h2><h3>BI (Business Intelligence)</h3><ul><li>Analista de BI<ul><li>Transforma dados em informações úteis para os negócios (ex: dashboards)</li></ul></li></ul><h3>Analista de dados</h3><ul><li>Análise de dados<ul><li>Em bancos de dados estruturados</li><li>Análise pontual (coleta e medição de dados)</li></ul></li></ul><h3>BA (Business Analyst)</h3><ul><li>Análise de dados</li><li>Fornece informações para melhorar indicadores da empresa</li><li>Ex: se vendas baixas, descobre por quê e sugere soluções</li></ul><h3>Cientista de dados</h3><ul><li>Prevê o futuro com modelos preditivos</li><li>Correlaciona indicadores (ex: preço X vendas)</li></ul><h3>Engenheiro de dados</h3><ul><li>Arquitetura, coleta, tratamento e armazenamento de dados</li><li>Organiza tabelas e garante qualidade dos dados</li></ul><h2>MetaBase</h2><ul><li>Software que pode iniciar carreira em análise de dados</li></ul>"
      ],
      "metadata": {
        "id": "g-nFrfv9qYCy"
      }
    },
    {
      "cell_type": "markdown",
      "source": [
        "### Aula 178 O que é o Metabase e para que serve\n",
        "<h1>MetaBase</h1><h2>O que é</h2><ul><li>Software de BI (Business Intelligence)</li><li>Utilizado para consultar e analisar dados em bancos de dados relacionais</li><li>Bancos suportados: SQL, NoSQL, MySQL</li><li>Dados armazenados em nuvem ou em servidores</li></ul><h2>Para que serve</h2><ul><li>Fazer análises utilizando linguagem SQL</li><li>Criar dashboards gerenciais e operacionais</li><li>Relacionar diferentes tabelas de dados</li></ul><h2>Vantagens</h2><ul><li>Especifico para análise de bancos relacionais</li><li>Linguagem SQL robusta para consultar e tratar dados</li><li>Facilidade para relacionar diferentes tabelas</li><li>Mais fácil que fazer no Excel</li></ul><h2>Contexto</h2><ul><li>Empresas armazenam dados em bancos relacionais</li><li>Deve-se aprender BI mais utilizado pela empresa</li><li>Porém maioria utiliza bancos SQL, NoSQL, MySQL</li><li>MetaBase ideal para estes bancos de dados</li></ul><h2>Considerações finais</h2><ul><li>Prática traz facilidade no uso</li><li>Muito melhor que Excel para análises com muitas tabelas</li></ul>"
      ],
      "metadata": {
        "id": "AIOBeatMqY-p"
      }
    },
    {
      "cell_type": "markdown",
      "source": [
        "### Aula 179 O que é SQL e para que serve\n",
        "<h1>Tema central: SQL e banco de dados relacional</h1><h2>O que é SQL</h2><ul><li>Linguagem de programação</li><li>Projetar e gerenciar dados</li><li>Em sistemas de gerenciamento de dados</li><li>Apenas para dados relacionais</li></ul><h2>Dados relacionais</h2><ul><li>Em formato de tabelas</li><li>Relacionam tabelas entre si</li><li>Usam chaves para conectar tabelas</li></ul><h2>Exemplo de dados relacionais</h2><ul><li>Tabela de clientes<ul><li>ID único por cliente</li><li>Nome do cliente</li></ul></li><li>Tabela de compras<ul><li>ID único por compra</li><li>ID do cliente (relaciona com a tabela de clientes)</li></ul></li></ul><h2>Para que serve o SQL</h2><ol><li>Consultar dados<ul><li>Pesquisar informações</li><li>Em uma ou múltiplas tabelas</li></ul></li><li>Análise de dados<ul><li>Análises gráficas e tabeladas</li><li>Quantidade de vendas por produto, cliente, região</li></ul></li><li>Criação de dashboards<ul><li>Indicadores e gráficos</li><li>Suporte a decisões de negócio</li></ul></li></ol>"
      ],
      "metadata": {
        "id": "kNNmWb6AqaAn"
      }
    },
    {
      "cell_type": "markdown",
      "source": [
        "### Aula 180 Ambientação no Metabase\n",
        "<h1>Introdução ao MetaBase</h1><h2>Visão geral do software</h2><ul><li>Botão Home: volta para a página inicial</li><li>Botão Pesquisa: pesquisa consultas feitas anteriormente</li><li>Botão Novo: inicia uma nova pergunta/consulta</li><li>Consulta SQL: faz consultas usando linguagem SQL</li><li>Painéis: cria dashboards com análises gráficas</li><li>Coleções: organização de dados e informações em pastas</li></ul><h2>Explorar dados</h2><ul><li>Mostra todos os bancos de dados disponíveis</li><li>Ao clicar em um banco de dados, mostra todas as suas tabelas</li><li>Permite explorar os dados contidos no MetaBase</li></ul><h2>Próximos passos</h2><ul><li>Muita prática hands-on no software</li><li>Aprender a utilizar cada funcionalidade</li><li>Foco em consultas SQL e análise de dados</li></ul>"
      ],
      "metadata": {
        "id": "5whfO_nNqbJW"
      }
    },
    {
      "cell_type": "markdown",
      "source": [
        "## Análises simples"
      ],
      "metadata": {
        "id": "YjwU0NRM-YfW"
      }
    },
    {
      "cell_type": "markdown",
      "source": [
        "### Aula 181 Fazendo as Primeiras Análises\n",
        "<p>Tema central: Como explorar uma tabela de dados no MetaBase</p><p>Tópicos abordados:</p><ul><li><p>Classificar dados (sort)</p><ul><li>Classificar colunas numéricas ou texto de forma crescente ou decrescente</li><li>Facilita a visualização e entendimento dos dados</li></ul></li><li><p>Filtrar dados</p><ul><li>Filtrar por ID: encontrar produto específico</li><li>Filtrar por texto: procurar produtos que contenham ou não uma palavra</li><li>Filtrar por preço: produtos maiores, menores ou iguais a um valor</li><li>Filtrar por data: intervalos de tempo - últimos X dias/anos, antes, depois, entre datas etc.</li><li>Combinar múltiplos filtros</li></ul></li><li><p>Baixar resultados</p><ul><li>Após filtrar, salvar resultados em Excel, CSV ou JSON para análise offline</li></ul></li><li><p>Primeiros passos em análise de dados</p><ul><li>Classificar e filtrar dados para entender melhor a tabela</li><li>Responder perguntas como:<ul><li>Quais são meus melhores/piores produtos?</li><li>Quantos produtos tenho por categoria?</li><li>Qual preço médio dos meus produtos?</li><li>Quantos produtos foram lançados em X período?</li></ul></li></ul></li></ul><p>O vídeo ensina os primeiros passos em análise de dados utilizando o recurso de exploração de tabelas do MetaBase, mostrando como classificar, filtrar e baixar resultados para melhor entendimento dos dados e para responder perguntas analíticas.</p>"
      ],
      "metadata": {
        "id": "ZSPgmt2fqiEZ"
      }
    },
    {
      "cell_type": "markdown",
      "source": [
        "### Aula 182 Fazendo analise de uma tabela\n",
        "<h1>Análise de dados com MetaBase</h1><h2>Organização</h2><ul><li>Criar pastas para organizar análises</li><li>Coleções pessoais</li></ul><h2>Explorar dados</h2><ul><li>Filtros</li><li>Sumarizações / Agrupamentos<ul><li>Contagens<ul><li>Número de linhas</li><li>Valores distintos</li></ul></li><li>Médias</li><li>Mínimos</li><li>Máximos</li></ul></li></ul><h2>Salvar análises</h2><ul><li>Dar nome e descrição</li><li>Selecionar pasta para salvar</li></ul><h2>Funcionalidades</h2><ul><li>Filtros + Agrupamentos</li><li>Múltiplos agrupamentos<ul><li>Quantidade por categoria e mês</li><li>Após uma data específica</li></ul></li></ul><h2>Próximos passos</h2><ul><li>Praticar com filtros e sumarizações</li><li>Descobrir valores mínimos e máximos</li><li>Análises por categoria</li></ul>"
      ],
      "metadata": {
        "id": "cNWLAX5qqjen"
      }
    },
    {
      "cell_type": "markdown",
      "source": [
        "### Aula 183 Fazendo os Primeiros Gráficos\n",
        "<h1>Tema central:</h1><p>Criando gráficos no MetaBase</p><h2>Tópicos abordados:</h2><ul><li><p>Calculando média de preços por categoria</p><ul><li>Usando a função &quot;Sumarize&quot; e agregando por &quot;Categoria&quot;</li><li>Convertendo a visualização para gráfico de barras</li><li>Formatando eixo Y para moeda Real</li><li>Adicionando valores nos pontos de dados</li><li>Salvando gráfico</li></ul></li><li><p>Calculando média das avaliações</p><ul><li>Usando função média (average) na coluna Rating</li><li>Convertendo para gráfico de indicador (radar)</li><li>Definindo faixas de cores por nota</li><li>Adicionando etiquetas por faixa</li><li>Salvando gráfico</li></ul></li><li><p>Convertendo tabelas em gráficos</p><ul><li>Abre análise salva e altera visualização</li><li>Escolhe tipo de gráfico adequado</li><li>Formata conforme necessário</li><li>Salva substituindo pergunta original</li></ul></li><li><p>Tipos de gráficos</p><ul><li>Barras, Linhas, Indicador, Pizza</li><li>Opções de formatação e personalização</li></ul></li></ul><p>O vídeo ensina passo a passo como criar diferentes tipos de gráficos no MetaBase, formatá-los, customizá-los e convertê-los a partir de consultas e análises já realizadas.</p>"
      ],
      "metadata": {
        "id": "oHrQiJG6qkz1"
      }
    },
    {
      "cell_type": "markdown",
      "source": [
        "## Dashboards"
      ],
      "metadata": {
        "id": "WHHUfKxA-d2W"
      }
    },
    {
      "cell_type": "markdown",
      "source": [
        "### Aula 184 Introdução a Dashboard\n",
        "<h1>Tema central: Como criar dashboards no MetaBase</h1><h2>O que é um dashboard</h2><ul><li>Painel que contém métricas e gráficos criados anteriormente</li></ul><h2>Adicionando elementos ao dashboard</h2><ul><li>Questões</li><li>Gráficos</li><li>Indicadores-chave de desempenho (KPIs)</li></ul><h2>Editando o dashboard</h2><ul><li>Editar dashboard já existente</li></ul><h2>Salvando o dashboard</h2><ul><li>Salvar para consultar depois quantas vezes quiser</li></ul><h2>Case prático</h2><ul><li>Dashboard de pedidos</li></ul>"
      ],
      "metadata": {
        "id": "x50Ohs25qs3X"
      }
    },
    {
      "cell_type": "markdown",
      "source": [
        "### Aula 185 O que é Dashboard\n",
        "<h1>Dashboard</h1><h2>O que é</h2><ul><li>Painel visual com métricas, KPIs e gráficos sobre uma área ou empresa</li><li>Ajuda na tomada de decisões e melhoria de processos</li></ul><h2>Tipos</h2><ul><li>Operacional<ul><li>Métricas sobre operações e processos</li><li>Ajuda em decisões rápidas sobre falhas e desvios</li></ul></li><li>Tático<ul><li>Métricas gerenciais sobre áreas da empresa</li><li>Ajuda em decisões de médio prazo para gestores</li></ul></li><li>Estratégico<ul><li>Métricas estratégicas para a empresa</li><li>Mostra se a empresa está seguindo o plano estratégico</li><li>Permite que a diretoria faça planos de ação para corrigir desvios</li></ul></li></ul><h2>Montando um dashboard</h2><ul><li>Definir objetivo e tipo (operacional, tático ou estratégico)</li><li>Escolher métricas importantes para tomada de decisão</li><li>Construir com foco em KPIs que ajudem na decisão</li><li>Organizar os gráficos para contar uma história lógica</li><li>Disponibilizar para as áreas responsáveis utilizarem</li></ul>"
      ],
      "metadata": {
        "id": "WGXZN7vHqudv"
      }
    },
    {
      "cell_type": "markdown",
      "source": [
        "### Aula 186 Colocando questões em um dashboard\n",
        "<h1>Dashboard de Produto</h1><h2>Introdução</h2><ul><li>Criando um novo dashboard na pasta &quot;Análise de dados com Metabase&quot;</li><li>Adicionando perguntas ao dashboard</li></ul><h2>Organização do Dashboard</h2><ul><li>Movendo e redimensionando os cards</li><li>Ajustando o tamanho dos gráficos</li><li>Agrupando gráficos relacionados</li></ul><h2>Gráficos</h2><ul><li>Quantidade de produtos</li><li>Quantidade de produtos por categoria</li><li>Média de avaliação dos produtos</li><li>Quantidade de produtos criados por mês</li><li>Média de preços dos produtos</li><li>Média de preços por categoria</li></ul><h2>Modificando um gráfico</h2><ul><li>Alterando gráfico de tabela para gráfico de barras empilhadas</li><li>Tornando visualização mais clara</li></ul><h2>Finalização</h2><ul><li>Ativando tela cheia e dark mode</li><li>Configurando atualização automática</li><li>Dashboard finalizado e pronto para uso</li></ul><p>O vídeo mostra o passo a passo de como criar um dashboard no Metabase sobre produtos. Começa criando um novo dashboard, adiciona vários gráficos com informações sobre produtos, organiza os elementos, modifica um dos gráficos para melhorar a visualização e por fim finaliza o dashboard configurando opções de visualização e atualização automática.</p>"
      ],
      "metadata": {
        "id": "VVFUYwoFqv9O"
      }
    },
    {
      "cell_type": "markdown",
      "source": [
        "### Aula 187 Editando e salvando um dashboard\n",
        "<h1>Modificando e atualizando dashboards</h1><h2>Introdução</h2><ul><li>Após criar um dashboard, é comum ter que fazer edições e atualizações</li><li>Veremos como modificar um dashboard de produtos já existente</li></ul><h2>Modificando visualização</h2><ul><li>As cores do dashboard não estavam harmoniosas<ul><li>Muitas cores variadas nos gráficos</li></ul></li><li>Opções para modificar:<ul><li>Editar cada questão individualmente</li><li>Editar diretamente no dashboard</li></ul></li></ul><h2>Editando gráficos</h2><ul><li>Clicar em &quot;Editar Painel&quot;</li><li>Passar mouse sobre um gráfico mostra opção &quot;Visualização&quot;</li><li>Ao clicar em &quot;Visualização&quot;, abre edição do gráfico</li><li>É possível alterar:<ul><li>Título</li><li>Cores</li><li>Mostrar percentuais</li><li>Formato (valor monetário, etc)</li></ul></li></ul><h2>Adicionando novas questões</h2><ul><li>Também possível adicionar novas questões ao dashboard</li><li>Não precisa criar todas questões antes do dashboard</li><li>Trabalhar de forma dinâmica:<ul><li>Conforme necessidade, adicionar mais análises/gráficos</li><li>Complementando o dashboard gradualmente</li></ul></li></ul><h2>Dicas</h2><ul><li>Salvar alterações a qualquer momento</li><li>Trabalhar de forma dinâmica torna processo mais divertido e produtivo</li></ul>"
      ],
      "metadata": {
        "id": "Dn-atUU2qxCO"
      }
    },
    {
      "cell_type": "markdown",
      "source": [
        "### Aula 188 Dashboard de pedidos\n",
        "<h1>Dashboard de pedidos</h1><h2>Tema central</h2><ul><li>Construção de um dashboard com base na tabela de pedidos (orders)</li></ul><h2>Tópicos abordados</h2><h3>Cards</h3><ul><li>Faturamento bruto<ul><li>Utiliza a coluna <code>total</code></li></ul></li><li>Total de taxas<ul><li>Utiliza a coluna <code>tax</code></li></ul></li><li>Desconto total<ul><li>Utiliza a coluna <code>discount</code></li></ul></li><li>Quantidade de vendas com desconto</li><li>Quantidade de vendas sem desconto<ul><li>Requer uso de filtros extras</li></ul></li></ul><h3>Gráficos</h3><ul><li>Faturamento por mês<ul><li>A partir de 01/01/2019</li><li>Utiliza coluna <code>total</code></li></ul></li><li>Quantidade de produtos vendidos por mês<ul><li>A partir de 01/01/2019</li><li>Utiliza coluna <code>quantity</code></li></ul></li><li>Quantidade de clientes com pedidos por mês<ul><li>A partir de 01/01/2019</li></ul></li></ul><h2>Instruções</h2><ul><li>Utilizar tabela <code>orders</code> para construção</li><li>Comparar com imagem do dashboard modelo fornecida</li><li>Tentar utilizar filtros por conta própria</li></ul>"
      ],
      "metadata": {
        "id": "Owtt66R4qyY3"
      }
    },
    {
      "cell_type": "markdown",
      "source": [
        "### Aula 189 Fazendo analises mais robustas\n",
        "<h1>Introdução às perguntas customizadas</h1><h2>Tema central</h2><ul><li>Aprender a fazer análises mais robustas nos dados, com mais flexibilidade, sem precisar de código</li></ul><h2>Tópicos abordados</h2><h3>Perguntas customizadas</h3><ul><li>Permite mais flexibilidade nas análises</li><li>Pode fazer análises simples, sem precisar de código</li></ul><h3>Funções importantes</h3><ul><li><strong>Ordenação</strong>: colocar dados em ordem crescente ou decrescente</li><li><strong>Limite</strong>: limitar quantidade de linhas para análise ficar mais leve</li></ul><h3>Colunas customizadas</h3><ul><li>Criar novas colunas baseadas em condições</li></ul><h3>Case</h3><ul><li>Mostrar top 10 pedidos com maiores descontos em 2019</li><li>Até o final do módulo será possível fazer esse case</li></ul>"
      ],
      "metadata": {
        "id": "6L_RBBhPqzuE"
      }
    },
    {
      "cell_type": "markdown",
      "source": [
        "## Análises mais robustas"
      ],
      "metadata": {
        "id": "hDC5SQTK-iAG"
      }
    },
    {
      "cell_type": "markdown",
      "source": [
        "### Aula 190 Introdução as perguntas customizadas\n",
        "<h1>Utilizando o MetaBase para análises customizadas</h1><h2>Introdução</h2><ul><li>Apresentação da ferramenta MetaBase</li><li>Explicação da área de controle e do botão &quot;novo&quot;</li></ul><h2>Criando uma pergunta customizada</h2><ul><li>Clicar em &quot;pergunta&quot;</li><li>Escolher um banco de dados e uma tabela para análise</li><li>Já é possível visualizar a tabela e começar a fazer análises</li></ul><h2>Sumarização de dados</h2><ul><li>Contagem do número total de produtos</li><li>Contagem de valores distintos (IDs ou nomes)</li><li>Contagem ou média agrupada por categoria</li><li>Média das notas agrupada por ID de produto</li></ul><h2>Filtros</h2><ul><li>Filtrar dados antes ou depois da sumarização</li><li>Exemplos de filtros por data ou texto</li></ul><h2>Visualização</h2><ul><li>Tabela ou diferentes tipos de gráficos</li><li>Personalizar visualizações</li></ul><p>O vídeo ensina de forma prática como utilizar o MetaBase para fazer análises customizadas de dados, explicando as principais funcionalidades como sumarização, filtragem e visualização e dando vários exemplos de uso com uma tabela de produtos.</p>"
      ],
      "metadata": {
        "id": "Q9yjKuk-q5rB"
      }
    },
    {
      "cell_type": "markdown",
      "source": [
        "### Aula 191 Ordenação e limite\n",
        "<h1>Ordenação e limitação de dados</h1><h2>Ordenar dados</h2><ul><li>Pode ordenar por coluna categoria ou contagem</li><li>Ordem crescente ou decrescente</li><li>Setinhas para cima ou para baixo</li></ul><h2>Limitar dados</h2><ul><li>Limite de linhas</li><li>Inserir manualmente a quantidade de linhas para mostrar</li><li>Ex: Top 10 produtos por avaliação</li></ul><h2>Outros pontos</h2><ul><li>Salvar análise de dados</li><li>Fazer novas perguntas e análises</li><li>Mostrar em forma de tabela ou gráficos</li><li>Análises adicionais com os dados ordenados/limitados</li></ul>"
      ],
      "metadata": {
        "id": "si0zxHoNrMql"
      }
    },
    {
      "cell_type": "markdown",
      "source": [
        "### Aula 192 Coluna customizada\n",
        "<h1>Análises customizadas em tabelas</h1><h2>Introdução</h2><ul><li>Aprender a fazer colunas customizadas para avançar nas análises</li><li>Utilizar mais de uma coluna da tabela para fazer contas</li></ul><h2>Exemplo com tabela de pedidos (orders)</h2><h3>Colunas da tabela</h3><ul><li>ID do pedido</li><li>ID do usuário (cliente)</li><li>ID do produto</li><li>Subtotal (valor total pago)</li><li>Quantidade de taxas</li><li>Quantidade total</li><li>Valor bruto pago</li><li>Total de desconto dado ao cliente</li><li>Data que o pedido foi criado</li><li>Quantidade de vezes que o pedido foi feito</li></ul><h3>Coluna customizada de gastos</h3><ul><li>Soma do desconto com as taxas</li><li>Mostra a soma quando tem os dois valores</li><li>Deixa em branco quando não tem desconto</li></ul><h3>Coluna customizada de faturamento</h3><ul><li>Quantidade de vezes que o pedido foi feito</li><li>Multiplicada pelo subtotal</li><li>Mostra os valores mesmo quando a quantidade está em branco</li></ul><h3>Análise de faturamento por mês</h3><ul><li>Agrupa a coluna customizada de faturamento pela data de criação do pedido por mês</li><li>Gera um gráfico de linhas automaticamente</li><li>Permite alterar o tipo de gráfico (barras, área etc)</li></ul><h2>Conclusão</h2><ul><li>Viu-se como fazer análises mais complexas com colunas customizadas</li></ul>"
      ],
      "metadata": {
        "id": "iyrCnRErrOAx"
      }
    },
    {
      "cell_type": "markdown",
      "source": [
        "### Aula 193 Case produtos com maiores descontos em 2019\n",
        "<h1>Tema central: Exercício para mostrar top 10 produtos com maiores percentuais de desconto em 2019</h1><h2>Instruções</h2><ul><li>Utilizar tabela de pedidos</li><li>Calcular percentual de desconto:<ul><li>desconto / subtotal</li></ul></li><li>Filtrar top 10 produtos:<ul><li>Calcular média de descontos</li></ul></li><li>Mostrar resultado no formato:<ul><li>Produto</li><li>Percentual de desconto</li></ul></li></ul><h2>Observações</h2><ul><li>Fazer cálculos e análises com o aprendido até agora</li><li>Gerar gráfico com top 10 produtos e percentuais de desconto</li></ul><p>O vídeo traz um exercício para demonstrar habilidades recém adquiridas, solicitando a criação de um top 10 de produtos com maiores percentuais de desconto em 2019.</p><p>São dadas instruções sobre como realizar os cálculos, utilizando a tabela de pedidos, calculando o percentual de desconto por produto e depois filtrando para obter os 10 produtos com maiores percentuais.</p><p>Também é especificado o formato esperado para apresentação dos resultados, mostrando produto e percentual de desconto lado a lado.</p><p>Por fim, algumas observações reiteram a importância de aplicar o conhecimento adquirido recentemente e gerar um gráfico com o resultado.</p>"
      ],
      "metadata": {
        "id": "f1VG95F2rPTV"
      }
    },
    {
      "cell_type": "markdown",
      "source": [
        "### Aula 194 Errata-metabase"
      ],
      "metadata": {
        "id": "oMRqnRWrrQ98"
      }
    },
    {
      "cell_type": "markdown",
      "source": [
        "## Unindo tabelas"
      ],
      "metadata": {
        "id": "Uo5f1A62-pP3"
      }
    },
    {
      "cell_type": "markdown",
      "source": [
        "### Aula 195 Aprendendo unir tabelas\n",
        "<h1>Introdução ao Join</h1><h2>O que é Join</h2><ul><li>Ferramenta para junção de tabelas no MetaBase</li></ul><h2>Tipos de Join</h2><ul><li>Left Join</li><li>Right Join</li><li>Inner Join</li></ul><h2>Case: Dashboard de avaliação de produtos</h2><ul><li>Será construído com os alunos durante a aula</li></ul><h2>Explorar dados</h2><ul><li>Entender as tabelas do banco de dados</li><li>Entender o que cada coluna significa</li></ul><h2>Esquema de banco de dados</h2><ul><li>Aprender a correlacionar tabelas mesmo sem saber como se relacionam</li></ul><h2>Joins subsequentes</h2><ul><li>Unir mais de 2 tabelas (3, 4, 5...)</li></ul><h2>Case: Dashboard gerencial de pedidos</h2><ul><li>Desafio final para testar o aprendizado</li></ul>"
      ],
      "metadata": {
        "id": "c2uR7PKOrgwJ"
      }
    },
    {
      "cell_type": "markdown",
      "source": [
        "### Aula 196 Introdução ao join\n",
        "<h1>Junção de Tabelas (JOIN)</h1><h2>Para que serve o JOIN?</h2><ul><li>Juntar informações de diferentes tabelas</li><li>Equivale ao PROC V no Excel</li></ul><h2>Requisito para fazer JOIN</h2><ul><li>Ter colunas em comum entre as tabelas<ul><li>Chamadas de &quot;chaves&quot;</li><li>Ex: coluna ID nas tabelas ORDERS e PRODUCTS</li></ul></li></ul><h2>Tipos de chave</h2><ul><li>Chave primária:<ul><li>Número inteiro que identifica de forma única cada linha</li><li>Ex: coluna ID da tabela ORDERS</li></ul></li><li>Chave estrangeira:<ul><li>Chave primária de outra tabela</li><li>Usada para linkar tabelas</li><li>Ex: coluna PRODUCT_ID da tabela ORDERS</li></ul></li></ul><h2>Sintaxe JOIN</h2><ul><li>TABELA1.CHAVE1 = TABELA2.CHAVE2</li><li>Ex: ORDERS.PRODUCT_ID = PRODUCTS.ID</li></ul><h2>Resultado do JOIN</h2><ul><li>Cria tabela virtual com colunas das duas tabelas</li><li>Permite fazer análises como em uma tabela normal</li></ul>\n"
      ],
      "metadata": {
        "id": "rjTyuRDxriAf"
      }
    },
    {
      "cell_type": "markdown",
      "source": [
        "### Aula 197 Left – Right – Inner join - (Teoria)\n",
        "<h1>Joins no SQL</h1><h2>Left Join</h2><ul><li>Parte da tabela da <strong>esquerda</strong> (tabela primária)</li><li>Para cada linha da tabela esquerda, puxa todas as informações correlatas da tabela direita</li><li>Pode resultar em linhas em branco na tabela direita</li></ul><h2>Right Join</h2><ul><li>Parte da tabela da <strong>direita</strong> (tabela primária)</li><li>Para cada linha da tabela direita, puxa todas as informações correlatas da tabela esquerda</li><li>Pode resultar em linhas em branco na tabela esquerda</li></ul><h2>Inner Join</h2><ul><li>Puxa apenas resultados que estão em <strong>comum</strong> nas duas tabelas</li><li>Não gera linhas em branco</li><li>Requer que a chave esteja presente nas duas tabelas</li></ul><p>Escolher o join certo depende da análise de dados que se deseja fazer. Células em branco podem ser úteis em alguns casos.</p><p>O vídeo mostrou exemplos práticos dos três tipos de join entre tabelas de produtos e avaliações, clientes e compras.</p>"
      ],
      "metadata": {
        "id": "7rLMdfwArjHj"
      }
    },
    {
      "cell_type": "markdown",
      "source": [
        "### Aula 198 Left – Right – Inner join (Prática)\n",
        "<h1>Junção de tabelas no MetaBase</h1><h2>Tópicos abordados</h2><ul><li><p>Tipos de junção</p><ul><li>Left join</li><li>Right join</li><li>Inner join</li></ul></li><li><p>Exemplos práticos</p><ul><li>Left join entre tabelas products e reviews</li><li>Right join entre tabelas reviews e products</li><li>Inner join entre tabelas reviews e products</li></ul></li><li><p>Funcionalidades</p><ul><li>Seleção do tipo de junção</li><li>Seleção automática de colunas para junção</li><li>Filtragem e agrupamento após junção</li></ul></li></ul><h3>Left join</h3><ul><li>Junta tabelas mantendo todos os registros da tabela à esquerda</li><li>Registros sem correspondência ficam com campos em branco</li></ul><h3>Right join</h3><ul><li>Junta tabelas mantendo todos os registros da tabela à direita</li><li>Registros sem correspondência ficam com campos em branco</li></ul><h3>Inner join</h3><ul><li>Junta tabelas considerando apenas registros que existem nas duas tabelas</li><li>Não deixa campos em branco</li></ul><h2>Conclusões</h2><ul><li>Escolher corretamente a direção da junção é importante para o resultado</li><li>Inner join filtra registros, left e right join mantém todos os registros de uma tabela</li><li>Funcionalidades de filtragem e agrupamento podem ser aplicadas após a junção</li></ul>"
      ],
      "metadata": {
        "id": "4keCfJSvrkOg"
      }
    },
    {
      "cell_type": "markdown",
      "source": [
        "### Aula 199 Case Resolvido – Dash de avaliações de Produtos\n",
        "<p>TEMA CENTRAL: Dashboard de avaliações de produtos</p><ul><li><p>Média de avaliações</p><ul><li>Sumarização da tabela de revisões calculando a média da coluna de avaliação (rating)</li></ul></li><li><p>Média de avaliações por categoria</p><ul><li>Join das tabelas de revisões e produtos</li><li>Agrupamento pela categoria do produto</li><li>Cálculo da média das avaliações (rating)</li></ul></li><li><p>Top 10 produtos em avaliações</p><ul><li>Join das tabelas de revisões e produtos</li><li>Agrupamento pelo nome do produto</li><li>Cálculo da média das avaliações</li><li>Ordenação decrescente pela média das avaliações</li><li>Limitação às 10 primeiras linhas</li></ul></li><li><p>Quantidade de avaliações</p><ul><li>Contagem de linhas da tabela de revisões</li></ul></li><li><p>Quantidade de avaliações por mês</p><ul><li>Contagem de linhas da tabela de revisões</li><li>Agrupamento pelo mês de criação da avaliação</li></ul></li><li><p>Quantidade de produtos avaliados por categoria</p><ul><li>Join das tabelas de revisões e produtos</li><li>Contagem de linhas agrupada por categoria</li></ul></li><li><p>Criação do dashboard</p><ul><li>Adição de cada uma das análises criadas anteriormente</li><li>Organização dos cards no dashboard</li></ul></li></ul>\n"
      ],
      "metadata": {
        "id": "PxMt3PMnrlb8"
      }
    },
    {
      "cell_type": "markdown",
      "source": [
        "### Aula 200 Entendendo o explorar dados\n",
        "<h1>Explorando dados no Metabase</h1><h2>Introdução</h2><ul><li>Ferramenta para entender melhor os bancos de dados cadastrados</li><li>Útil quando não se sabe quais tabelas precisam ser conectadas</li><li>Acessível pelo botão &quot;Explorar dados&quot;</li></ul><h2>Funcionalidades</h2><h3>Detalhes da tabela</h3><ul><li>Descrição</li><li>Nome no banco de dados</li><li>Informações relevantes<ul><li>Possíveis joins</li><li>Significado de campos nulos</li></ul></li></ul><h3>Campos da tabela</h3><ul><li>Lista todos os campos</li><li>Tipo de campo (chave primária, chave estrangeira etc.)</li><li>Tipo de dado (inteiro, texto, data etc.)</li><li>Descrição do campo</li></ul><h3>Perguntas sobre a tabela</h3><ul><li>Lista perguntas/análises já feitas com aquela tabela</li><li>Útil para encontrar insights</li></ul><h3>Raios-X</h3><ul><li>Análises automáticas sobre a tabela</li><li>Quantidade de registros</li><li>Vendas por diferentes critérios</li><li>Relacionamentos com outras tabelas</li></ul><h2>Considerações</h2><ul><li>Funciona melhor se o banco de dados estiver bem configurado</li><li>Focar nos campos da tabela para entender sua estrutura</li></ul>"
      ],
      "metadata": {
        "id": "CaavohT5rnmw"
      }
    },
    {
      "cell_type": "markdown",
      "source": [
        "### Aula 201 Montando o Schema das Tabelas\n",
        "<h1>Esquema de banco de dados</h1><h2>Objetivo</h2><ul><li>Entender como montar o esquema de um banco de dados</li><li>Saber quais tabelas existem e como elas se conectam</li><li>Facilitar a análise de dados, joins e consultas</li></ul><h2>Conceitos</h2><h3>Tabelas</h3><ul><li>Dimensão: dados únicos/informativos (ex: produtos, pessoas)</li><li>Fato: dados de eventos que acontecem várias vezes (ex: avaliações, pedidos)</li></ul><h3>Chaves</h3><ul><li>Primária (PK): identifica unicamente um registro (ex: product_id)</li><li>Estrangeira (FK): chave que existe em outra tabela (ex: product_id em orders)</li></ul><h3>Relacionamentos</h3><ul><li>1 para 1: um dado único (traço)</li><li>1 para N: um para vários (bolinha e três traços)</li></ul><h2>Exemplo de esquema</h2><h3>Tabelas</h3><ul><li>produtos (id, nome, preço)</li><li>pedidos (id, product_id, user_id)</li><li>pessoas (id, nome, source)</li><li>avaliações (id, product_id, nota)</li></ul><h3>Relacionamentos</h3><ul><li>produtos -&gt; pedidos</li><li>pedidos -&gt; pessoas</li><li>pedidos -&gt; avaliações</li></ul><h2>Análise</h2><ul><li>Média de notas por source do cliente</li><li>Joins necessários:<ul><li>avaliações -&gt; pedidos</li><li>pedidos -&gt; pessoas</li></ul></li></ul>"
      ],
      "metadata": {
        "id": "wqFBIRoRroiP"
      }
    },
    {
      "cell_type": "markdown",
      "source": [
        "### Aula 202 Joins Subsequentes\n",
        "<h1>Tema central:</h1><p>Fazendo joins subsequentes para conectar várias tabelas em uma mesma análise</p><h2>Primeiro join</h2><ul><li>Objetivo: calcular média de avaliação dos produtos por origem do cliente</li><li>Partindo da tabela de produtos (products)</li><li>Fazendo left join com a tabela de pedidos (orders)</li><li>Conectando pelo campo product_id</li><li>Tabela resultante tem todos os produtos e todos seus respectivos pedidos</li></ul><h2>Segundo join</h2><ul><li>Partindo da tabela resultante do join anterior</li><li>Fazendo left join com a tabela de pessoas (people)</li><li>Conectando pelo campo user_id de orders com person_id de people</li><li>Tabela resultante tem produtos, pedidos e informações das pessoas que fizeram cada pedido</li></ul><h2>Análise final</h2><ul><li>Agrupar pela origem (source) do cliente na tabela people</li><li>Calcular média da avaliação (rating) dos produtos</li><li>Resultado: média de avaliação dos produtos por origem do cliente</li></ul><h2>Observações importantes</h2><ul><li>Conectar somente as tabelas necessárias</li><li>Conferir resultado após cada join</li><li>Utilizar tipo de join (inner, left etc) correto</li><li>Utilizar colunas de conexão corretas entre as tabelas</li><li>Pode conectar quantas tabelas forem necessárias seguindo esses passos</li></ul>\n"
      ],
      "metadata": {
        "id": "7xtKmsp0rpxX"
      }
    },
    {
      "cell_type": "markdown",
      "source": [
        "### Aula 203 Case Construção de um Dashboard Gerencial de Produto\n",
        "<h1>Tema central: Construção de um dashboard gerencial de um produto</h1><h2>Introdução</h2><ul><li>Objetivo: construir um dashboard gerencial de um produto com várias análises</li><li>Análises a serem feitas:<ul><li>Faturamento acumulado de 2018</li><li>Proporção de pedidos por categoria por mês em 2018</li><li>Quantidade de pedidos por estado</li></ul></li></ul><h2>Desenvolvimento</h2><h3>Faturamento acumulado de 2018</h3><ul><li>Tabela: pedidos (orders)</li><li>Filtro: created_at entre 01/01/2018 e 31/12/2018</li><li>Sumarização:<ul><li>Tipo: Soma acumulada</li><li>Campo: subtotal</li><li>Agrupamento: created_at por mês</li></ul></li><li>Gráfico: linha com valores nos pontos</li></ul><h3>Proporção de pedidos por categoria por mês em 2018</h3><ul><li>Tabelas: pedidos (orders) e produtos (products)</li><li>Join: left join entre orders e products</li><li>Filtro: created_at orders entre 01/01/2018 e 31/12/2018</li><li>Sumarização:<ul><li>Tipo: Número de linhas (contagem)</li><li>Campos: categoria e created_at orders por mês</li><li>Agrupamento: categoria e created_at orders por mês</li></ul></li><li>Gráfico: barras empilhadas 100%</li></ul><h3>Quantidade de pedidos por estado</h3><ul><li>Tabelas: pedidos (orders) e pessoas (people)</li><li>Join: left join entre orders e people</li><li>Sumarização:<ul><li>Tipo: Número de linhas (contagem)</li><li>Campo: state people</li><li>Agrupamento: state people</li></ul></li><li>Gráfico: mapa</li></ul><h2>Finalização</h2><ul><li>Criação do dashboard</li><li>Adição de todas as análises</li><li>Ajustes visuais</li></ul>\n"
      ],
      "metadata": {
        "id": "lXcK2akprrKw"
      }
    },
    {
      "cell_type": "markdown",
      "source": [
        "## Introdução ao SQL"
      ],
      "metadata": {
        "id": "wkQoMTJ7-twu"
      }
    },
    {
      "cell_type": "markdown",
      "source": [
        "### Aula 204 Introdução ao módulo\n",
        "<h1>Introdução ao SQL</h1><h2>Tópicos abordados</h2><h3>Documentação</h3><ul><li>Falar sobre a documentação do SQL</li></ul><h3>Primeiras consultas</h3><ul><li>Aprender sobre a função SELECT para fazer as primeiras consultas e retornar dados</li></ul><h3>Ordenação de dados</h3><ul><li>Aprender a ordenar os resultados em ordem crescente ou decrescente</li></ul><h3>Agregações</h3><ul><li>Aprender a fazer agregações como contagem, soma, média nos dados</li></ul><h3>Filtragem de dados</h3><ul><li>Usar o WHERE para filtrar os dados retornados nas consultas</li></ul><h3>Case prático</h3><ul><li>Fazer uma consulta mais complexa, listando os 10 produtos mais caros com avaliação excelente</li></ul>"
      ],
      "metadata": {
        "id": "UHBEo7eKrxkI"
      }
    },
    {
      "cell_type": "markdown",
      "source": [
        "### Aula 205 O que é SQL e documentação\n",
        "<h1>SQL</h1><h2>O que é</h2><ul><li>Linguagem para gestão de banco de dados</li><li>Permite fazer CRUD (Create, Read, Update, Delete)</li></ul><h2>CRUD</h2><ul><li>Create: criar bancos, tabelas, esquemas</li><li>Read: ler tabelas e colunas (foco do curso)</li><li>Update: atualizar dados</li><li>Delete: excluir dados</li></ul><h2>Análise de dados</h2><ul><li>Funções para manipular tabelas e colunas</li><li>Obter tabela final para análise</li><li>Similar a Excel (funções, tabelas dinâmicas, etc)</li></ul><h2>Documentação</h2><ul><li>Várias linguagens baseadas em SQL:<ul><li>Microsoft SQL Server</li><li>MySQL</li><li>PostgreSQL</li></ul></li><li>Similaridades: estrutura básica</li><li>Diferenças: algumas funções específicas</li></ul><h2>Aprendizado</h2><ul><li>Aprender a ler documentação das linguagens</li><li>Comparecer sintaxes e funções</li><li>Escolher SQL adequado para banco de dados</li></ul>"
      ],
      "metadata": {
        "id": "-wmpa1CvrzbN"
      }
    },
    {
      "cell_type": "markdown",
      "source": [
        "### Aula 206 Primeiras consultas\n",
        "<h1>Aprendendo SQL</h1><h2>Selecionando dados</h2><ul><li><code>SELECT</code>: função para selecionar dados<ul><li><code>SELECT *</code>: seleciona todas as colunas</li><li><code>SELECT coluna1, coluna2</code>: seleciona colunas específicas</li></ul></li><li><code>FROM tabela</code>: indica de qual tabela selecionar os dados</li></ul><h2>Modificando nomes de colunas</h2><ul><li><code>AS</code>: renomeia colunas<ul><li>Ex: <code>coluna AS novo_nome</code></li></ul></li><li>Aspas para nomes com espaços ou acentos<ul><li>Ex: <code>&quot;nome composto&quot;</code></li></ul></li><li>Underline para nomes compostos<ul><li>Ex: <code>nome_composto</code></li></ul></li></ul><h2>Executando consultas</h2><ul><li>Botão play para executar</li><li><code>CTRL + ENTER</code>: atalho para executar</li></ul><h2>Tabelas disponíveis</h2><ul><li>PRODUCTS</li><li>ORDERS</li></ul><p>O vídeo ensina as noções básicas de SQL para selecionar dados de tabelas em um banco de dados. Começa apresentando a estrutura básica com as funções <code>SELECT</code> e <code>FROM</code>, mostrando como selecionar todas ou algumas colunas específicas de uma tabela.</p><p>Depois, ensina como modificar os nomes das colunas na saída, usando <code>AS</code> para apelidar as colunas, aspas para nomes com espaços/acentos e underline para nomes compostos.</p><p>Por fim, mostra como executar as consultas com o botão play ou o atalho CTRL+ENTER, e introduz as tabelas disponíveis para praticar as consultas: PRODUCTS e ORDERS.</p>\n"
      ],
      "metadata": {
        "id": "177NlOPOr0d4"
      }
    },
    {
      "cell_type": "markdown",
      "source": [
        "### Aula 207 Ordenando dados\n",
        "<h1>Ordenação de dados em SQL</h1><h2>Conceito</h2><ul><li>Colocar dados em ordem crescente ou decrescente</li></ul><h2>Sintaxe</h2><ul><li><code>ORDER BY</code><ul><li>Expressão de ordenação (coluna pela qual ordenar)</li><li>Opcional: <code>ASC</code> (crescente) ou <code>DESC</code> (decrescente)</li></ul></li></ul><h2>Exemplos</h2><ul><li>Ordenar por colunas numéricas:<ul><li><code>PRICE</code> (preço)</li><li><code>RATING</code> (avaliação)</li></ul></li><li>Ordenar por colunas texto:<ul><li><code>TITLE</code> (título)</li><li>Em ordem alfabética</li></ul></li><li>Ordenar por colunas data:<ul><li><code>CREATED_AT</code> (data de criação)</li><li>Em ordem cronológica</li></ul></li></ul><h2>Observações</h2><ul><li>A ordenação padrão já é crescente, então <code>ASC</code> é opcional</li><li>Ajuda organizar a análise se quebrar em linhas após cada seção principal (SELECT, FROM etc)</li></ul>\n"
      ],
      "metadata": {
        "id": "QTrVe9Rvr1en"
      }
    },
    {
      "cell_type": "markdown",
      "source": [
        "### Aula 208 Agregação Simples\n",
        "<h1>Aprendendo SQL no MetaBase</h1><h2>Agregações Simples</h2><ul><li>Funções de agregação<ul><li>COUNT: conta a quantidade de registros</li><li>SUM: soma valores numéricos</li><li>AVG: calcula a média</li></ul></li></ul><h2>Exemplos</h2><ul><li>Contagem de produtos<ul><li><code>SELECT COUNT(*) FROM products</code></li></ul></li><li>Preço médio dos produtos<ul><li><code>SELECT AVG(Price) FROM products</code></li></ul></li></ul><h2>Outra tabela: Orders</h2><ul><li>Coluna subtotal: faturamento líquido<ul><li><code>SELECT SUM(subtotal) FROM orders</code></li></ul></li></ul><h2>Salvando consultas</h2><ul><li>Salvar consultas para reaproveitá-las</li><li>Salvar consultas como gráficos</li><li>Modificar formato (moeda, separadores, etc)</li></ul><h2>Próximos passos</h2><ul><li>Aprender sobre mais tipos de gráficos</li><li>Aprofundar em SQL</li></ul>\n"
      ],
      "metadata": {
        "id": "IrMP5Aqbr3Qv"
      }
    },
    {
      "cell_type": "markdown",
      "source": [
        "### Aula 209 Filtrando Dados\n",
        "<h1>Filtrando dados no SQL</h1><h2>Função WHERE</h2><ul><li>Sintaxe<ul><li>Palavra WHERE</li><li>Condições (coluna, operador, valor)</li></ul></li><li>Tipos de condições<ul><li>Funções de comparação<ul><li>Operadores: =, &gt;, &lt;, &gt;=, &lt;=, &lt;&gt;</li><li>Compara valores numéricos</li></ul></li><li>Funções lógicas<ul><li>AND, OR</li><li>Combinam múltiplas condições</li></ul></li></ul></li></ul><h2>Exemplos</h2><ul><li>Filtrar por ID = 1</li><li>Filtrar ID &lt; 5 (menor que)</li><li>Filtrar ID &lt;= 5 (menor ou igual)</li><li>Filtrar por preço &gt; 45</li><li>Filtrar por preço &gt; 45 E avaliação &gt;= 3 (AND)</li><li>Filtrar por ID = 1 OU ID = 2 (OR)</li></ul><h2>Texto</h2><ul><li>Usar aspas simples</li><li>Precisa corresponder exatamente</li></ul>"
      ],
      "metadata": {
        "id": "E6DKxjsCr4ve"
      }
    },
    {
      "cell_type": "markdown",
      "source": [
        "### Aula 210 Case: Top10 produtos mais caros com avaliacão excelente\n",
        "<h1>Análise dos 10 produtos mais caros com avaliação excelente</h1><h2>Definindo avaliação excelente</h2><ul><li>Avaliação excelente = nota maior que 4</li></ul><h2>Filtrando os dados</h2><ul><li>Selecionar tabela products</li><li>Filtrar por avaliação (rating) maior que 4<ul><li>Restringir para 76 linhas</li></ul></li></ul><h2>Ordenando os dados</h2><ul><li>Ordenar por preço decrescente (do maior para o menor)</li><li>Ordem correta:<ol><li>From (seleção da tabela)</li><li>Where (filtro)</li><li>Order by (ordenação)</li></ol></li></ul><h2>Limitando as linhas</h2><ul><li>Função limit<ul><li>Mostra apenas as 10 primeiras linhas ordenadas</li></ul></li></ul><h2>Formatando a saída</h2><ul><li>Mostrar apenas algumas colunas:<ul><li>id</li><li>title</li><li>category</li><li>price</li></ul></li></ul><h2>Visualização</h2><ul><li>Transformar em gráfico de linhas</li><li>Eixo Y: título do produto</li><li>Eixo X: preço</li></ul><h2>Salvar análise</h2><ul><li>Salvar em pasta de análises</li><li>Pode reabrir depois para editar</li></ul><h2>Próximos passos</h2><ul><li>Brincar com outras tabelas (people, orders, reviews)</li><li>Fazer mais análises práticas</li></ul>\n"
      ],
      "metadata": {
        "id": "EzYgil-Jr531"
      }
    },
    {
      "cell_type": "markdown",
      "source": [
        "## Agrupando Dados"
      ],
      "metadata": {
        "id": "wQW4rAXJ-1ln"
      }
    },
    {
      "cell_type": "markdown",
      "source": [
        "### Aula 211 Agrupando dados\n",
        "<h1>Agrupamento de dados</h1><h2>Técnicas de agrupamento</h2><ul><li>Agrupamento por condições utilizando <code>groupby</code><ul><li>Permite fazer cálculos por coluna:<ul><li>Soma</li><li>Contagem</li><li>Quantidades distintas</li></ul></li><li>Permite agregação e ordenação múltiplas</li><li>Pode ser combinado com funções aritméticas</li></ul></li><li>Função <code>case</code><ul><li>Permite criar novas colunas baseadas em condições</li></ul></li></ul><h2>Objetivos</h2><ul><li>Aprender a gerar gráficos e análises mais usuais</li><li>Ler documentação de funções de agrupamento</li><li>Fazer um caso de uso:<ul><li>Top 10 produtos por maiores percentuais de desconto</li></ul></li></ul><h2>Conteúdos abordados</h2><ul><li>Agrupamento de dados com <code>groupby</code></li><li>Agregações (<code>sum</code>, <code>count</code>, <code>nunique</code>)</li><li>Ordenação múltipla</li><li>Funções aritméticas</li><li>Função <code>case</code></li><li>Análise de caso: top produtos por desconto</li></ul>"
      ],
      "metadata": {
        "id": "6qWn__g6r-jK"
      }
    },
    {
      "cell_type": "markdown",
      "source": [
        "### Aula 212 Agregação com Group by\n",
        "<h1>Agrupando dados com GROUP BY</h1><h2>Sintaxe</h2><pre><code>SELECT &lt;função_agregação&gt;(&lt;coluna&gt;) FROM &lt;tabela&gt;GROUP BY &lt;coluna_agrupamento&gt;</code></pre><ul><li>Primeiro selecionamos uma função de agregação (COUNT, SUM, etc)</li><li>Depois indicamos a tabela de referência</li><li>Usamos GROUP BY para indicar a coluna que será usada para agrupar</li></ul><h2>Exemplo</h2><ul><li>Tabela Products</li><li>Quero agrupar por categoria e contar quantidade de produtos</li></ul><pre><code>SELECT Category, COUNT(*) AS &quot;Quantidade de produtos&quot; FROM ProductsGROUP BY Category</code></pre><ul><li>Pode ordenar por quantidade com ORDER BY</li><li>Também dá para criar gráficos com os dados agrupados</li></ul><h2>Dicas</h2><ul><li>Melhor não usar aspas no nome das colunas</li><li>Facilita ordenação, agrupamento e criação de gráficos</li></ul>"
      ],
      "metadata": {
        "id": "I9wiecJKsADz"
      }
    },
    {
      "cell_type": "markdown",
      "source": [
        "### Aula 213 Utilizando o distinct\n",
        "<h1>Tema central: Distinct no SQL</h1><h2>O que é o Distinct</h2><ul><li>Serve para ver dados distintos (não repetidos) em uma tabela</li><li>Útil quando uma coluna contém valores repetidos e queremos ver apenas os valores únicos</li></ul><h2>Usos do Distinct</h2><ul><li>Mostrar apenas os valores distintos de uma coluna ou várias colunas</li><li>Usar dentro de funções de agregação (COUNT, SUM, AVG) para considerar apenas valores distintos</li></ul><h2>Exemplos</h2><ul><li>Contar estados distintos:<ul><li><code>SELECT COUNT(DISTINCT State) FROM tabela</code></li></ul></li><li>Ver fontes distintas (Google, Twitter etc):<ul><li><code>SELECT DISTINCT Source FROM tabela</code></li></ul></li><li>Ver a combinação de estados e fontes distintos:<ul><li><code>SELECT DISTINCT State, Source FROM tabela ORDER BY State</code></li></ul></li><li>Contar categorias distintas de produtos:<ul><li><code>SELECT COUNT(DISTINCT Categoria) FROM tabela_produtos</code></li></ul></li></ul><h2>Observações</h2><ul><li>Alguns bancos de dados não permitem DISTINCT com múltiplas colunas</li><li>É preciso testar para o caso específico</li></ul>"
      ],
      "metadata": {
        "id": "tS60T-jgsBEa"
      }
    },
    {
      "cell_type": "markdown",
      "source": [
        "### Aula 214 Agregação e Ordenação Múltipla\n",
        "<p>TEMA CENTRAL: Agregação e ordenação utilizando múltiplos fatores no SQL</p><h2>Sintaxe SQL</h2><ul><li>SELECT: seleciona colunas</li><li>FROM: tabela de origem dos dados</li><li>WHERE: filtragem de dados</li><li>GROUP BY: agrupamento</li><li>ORDER BY: ordenação</li></ul><h2>Exemplo no Metabase</h2><ul><li>Tabela: PEOPLE</li><li>Filtragem (WHERE): primeiros 100 clientes</li><li>Agrupamento (GROUP BY): estado, fonte</li><li>Ordenação (ORDER BY): estado, fonte</li></ul><h3>Análise</h3><ul><li>Contagem de clientes por:<ul><li>Estado</li><li>Fonte de tráfego (Twitter, Facebook etc.)</li></ul></li><li>Permite visualizar de forma agregada a quantidade de clientes por estado e por fonte de tráfego</li></ul><h3>Gráficos</h3><ul><li>Barras empilhadas</li><li>Mostra visualmente a quantidade de clientes por estado e fonte</li><li>Fácil visualização e análise</li></ul><h3>Observações</h3><ul><li>Pode utilizar múltiplos GROUP BY e ORDER BY</li><li>Lembre-se de incluir nas cláusulas GROUP BY e ORDER BY as mesmas colunas selecionadas para mostrar os dados</li></ul>\n"
      ],
      "metadata": {
        "id": "jHIdPvcesCU5"
      }
    },
    {
      "cell_type": "markdown",
      "source": [
        "### Aula 215 Funções de Agrupamento: Documentação\n",
        "<h1>Funções de agregação no SQL</h1><h2>Tema central</h2><p>Aprender a utilizar diferentes funções de agregação no SQL usando a documentação do MySQL</p><h2>Funções apresentadas</h2><ul><li>Average (média)</li><li>Max (máximo)</li><li>Min (mínimo)</li><li>STD (desvio padrão)</li><li>SUM (soma)</li></ul><h3>Average</h3><ul><li>Retorna a média dos valores da expressão</li><li>Pode utilizar DISTINCT para valores distintos</li><li>Exemplo: AVG(nota)</li></ul><h3>Max</h3><ul><li>Retorna o valor máximo da expressão</li><li>Pode utilizar DISTINCT</li><li>Exemplo: MAX(rating)</li></ul><h3>Min</h3><ul><li>Retorna o valor mínimo da expressão</li><li>Pode utilizar DISTINCT</li><li>Exemplo: MIN(rating)</li></ul><h3>STD</h3><ul><li>Retorna o desvio padrão da expressão</li><li>Não pode usar DISTINCT</li><li>Exemplo: STD(rating)</li></ul><h3>Documentação</h3><ul><li>Mostra exemplos de uso</li><li>Indica partes opcionais com []</li><li>Ajuda a entender e usar funções</li></ul><h2>Agrupando dados</h2><p>As funções podem ser usadas agrupando por alguma coluna:</p><pre><code class=\"language-sql\">SELECT categoria, AVG(rating) FROM produtosGROUP BY categoria</code></pre><p>Isso mostrará a média do rating por categoria.</p><h2>Considerações finais</h2><ul><li>A documentação ajuda muito a aprender novas funções</li><li>Permite fazer análises mais avançadas nos dados</li><li>Há muitas opções usefuls</li></ul>\n"
      ],
      "metadata": {
        "id": "p2-p6CWRsDPK"
      }
    },
    {
      "cell_type": "markdown",
      "source": [
        "### Aula 216 Funções Aritméticas\n",
        "<h1>Funções aritméticas no SQL</h1><h2>Operadores aritméticos</h2><ul><li>Módulo (%) - resto da divisão</li><li>Multiplicação (*)</li><li>Soma (+)</li><li>Subtração (-)</li><li>Divisão (/) - divisão comum</li><li>Div () - divisão inteira</li></ul><h2>Exemplos de uso</h2><ul><li>Somar duas colunas: <code>subtotal + tax AS soma1</code></li><li>Subtrair colunas: <code>subtotal + tax - discount AS soma2</code></li><li>Dividir colunas: <code>tax / subtotal</code> - calcula percentual</li><li>Operações escalares: <code>5.5 * 2</code></li><li>Tipos de divisão:<ul><li><code>5 / 2</code> - divisão inteira</li><li><code>5.0 / 2.0</code> - divisão decimal</li></ul></li></ul><h2>Cuidados</h2><ul><li>Valores nulos (NULL) impedem cálculos entre colunas</li><li>Será abordado posteriormente como tratar nulos</li></ul><p>O vídeo ensina sobre as principais funções aritméticas no SQL, mostrando os operadores disponíveis e exemplos de uso em consultas, como somar, subtrair, multiplicar e dividir colunas de uma tabela.</p><p>Explica também algumas particularidades, como a divisão inteira e decimal, operações escalares e o cuidado necessário com valores nulos durante os cálculos, problema que será abordado mais à frente.</p>"
      ],
      "metadata": {
        "id": "6fkR6FLKsEMo"
      }
    },
    {
      "cell_type": "markdown",
      "source": [
        "### Aula 217 Case: Mostre o TOP10 Produtos com Maiores % descontos de 2019\n",
        "<h1>Análise dos 10 produtos com maiores descontos</h1><h2>Introdução</h2><ul><li>Objetivo: mostrar o top 10 produtos com maiores percentuais de desconto</li><li>Utilizar a tabela de pedidos para fazer a análise</li></ul><h2>Cálculo do percentual de desconto</h2><ul><li>Selecionar todos os dados da tabela de pedidos</li><li>Calcular o percentual de desconto por produto:<ul><li>Percentual = Desconto / Total</li><li>Chamar essa coluna de &quot;percentual&quot;</li></ul></li></ul><h2>Filtrar os maiores descontos</h2><ul><li>Ordenar a tabela pelo percentual de forma decrescente</li><li>Calcular a média do percentual de desconto agrupando por produto<ul><li>Para evitar produtos repetidos</li></ul></li><li>Limitar os resultados aos 10 maiores percentuais</li></ul><h2>Visualização</h2><ul><li>Fazer um gráfico de linhas<ul><li>Produtos no eixo Y</li><li>Percentual no eixo X</li></ul></li><li>Formatar:<ul><li>Cor azulada</li><li>Estilo de percentual no eixo X</li></ul></li></ul><h2>Considerações finais</h2><ul><li>Análise finalizada mostrando top 10 produtos com maiores descontos</li></ul>\n"
      ],
      "metadata": {
        "id": "RL0BsgAcsFNu"
      }
    },
    {
      "cell_type": "markdown",
      "source": [
        "## Unindo Tabelas com SQL"
      ],
      "metadata": {
        "id": "vZ3p24t2--7V"
      }
    },
    {
      "cell_type": "markdown",
      "source": [
        "### Aula 218 Aprendendo unir tabelas\n",
        "<h1>Tema central: Como unir tabelas no SQL utilizando JOIN</h1><h2>Tipos de JOIN</h2><ul><li>LEFT JOIN</li><li>RIGHT JOIN</li><li>INNER JOIN</li><li>FULL JOIN</li><li>CROSS JOIN</li></ul><h3>LEFT JOIN</h3><ul><li>Une duas tabelas, retornando todas as linhas da tabela à esquerda, mesmo quando não há correspondência na tabela à direita</li></ul><h3>RIGHT JOIN</h3><ul><li>Une duas tabelas, retornando todas as linhas da tabela à direita, mesmo quando não há correspondência na tabela à esquerda</li></ul><h3>INNER JOIN</h3><ul><li>Une duas tabelas retornando somente as linhas em que há correspondência em ambas as tabelas</li></ul><h3>FULL JOIN</h3><ul><li>Une duas tabelas retornando todas as linhas de ambas as tabelas, mesmo quando não há correspondência</li></ul><h3>CROSS JOIN</h3><ul><li>Gera o produto cartesiano entre as linhas de duas tabelas</li></ul><h2>JOINs subsequentes</h2><ul><li>Permite unir mais de duas tabelas em sequência</li></ul><h2>Case de aplicação</h2><ul><li>Dashboard de avaliação de produtos</li><li>Exemplo de uso de JOINs para análise de dados</li></ul>\n"
      ],
      "metadata": {
        "id": "V6X7sZHQsl7v"
      }
    },
    {
      "cell_type": "markdown",
      "source": [
        "### Aula 219 Left - Right - Inner Join com SQL (Prática)\n",
        "<p>TEMA CENTRAL: Como utilizar LEFT JOIN, RIGHT JOIN e INNER JOIN no SQL</p><p>TÓPICOS ABORDADOS:</p><ul><li><p>Sintaxe básica do JOIN no SQL</p><ul><li>SELECT campos FROM tabela1JOIN tabela2 ON tabela1.chave1 = tabela2.chave2</li></ul></li><li><p>LEFT JOIN</p><ul><li>Puxa todas as linhas da tabela da esquerda (tabela1) e as linhas correspondentes da tabela da direita (tabela2)</li><li>Se não houver correspondência na tabela2, retorna valor nulo</li></ul></li><li><p>RIGHT JOIN</p><ul><li>Funciona como o LEFT JOIN, mas puxa primeiro as linhas da tabela da direita</li></ul></li><li><p>INNER JOIN</p><ul><li>Retorna apenas as linhas que têm correspondência nas duas tabelas</li><li>O resultado é o mesmo independente da ordem das tabelas</li></ul></li><li><p>Dicas</p><ul><li>Qualificar os nomes das colunas após o SELECT (tabela.coluna) para evitar ambiguidade</li><li>Filtrar por valores nulos com a função ISNULL</li><li>Pode-se inverter a ordem das tabelas em LEFT e RIGHT JOIN, o resultado muda</li></ul></li></ul>"
      ],
      "metadata": {
        "id": "yl69VSKesm-n"
      }
    },
    {
      "cell_type": "markdown",
      "source": [
        "### Aula 220 Full Join, Cross Join\n",
        "<h1>Outros tipos de JOIN no SQL</h1><h2>Full JOIN</h2><ul><li>Une as tabelas mostrando todas as linhas de ambos os lados (LEFT JOIN + RIGHT JOIN)</li><li>Resultado contém linhas vazias quando não há correspondência entre as tabelas</li></ul><h2>Cross JOIN</h2><ul><li>Faz o produto cartesiano entre as tabelas, juntando cada linha da tabela da esquerda com todas as linhas da tabela da direita</li><li>Não utiliza chave para conexão entre as tabelas</li><li>Útil para gerar dados cruzados entre tabelas</li></ul><h2>Sintaxe</h2><h3>Full JOIN</h3><pre><code class=\"language-sql\">SELECT colunas FROM tabela1FULL JOIN tabela2ON tabela1.chave1 = tabela2.chave2</code></pre><h3>Cross JOIN</h3><pre><code class=\"language-sql\">SELECT colunasFROM tabela1CROSS JOIN tabela2</code></pre>"
      ],
      "metadata": {
        "id": "UYuD1udxsn8v"
      }
    },
    {
      "cell_type": "markdown",
      "source": [
        "### Aula 221 Joins Subsequentes (Prática)\n",
        "<h1>Junção de Múltiplas Tabelas</h1><h2>Introdução</h2><ul><li>É possível juntar mais de duas tabelas fazendo joins sequenciais</li><li>Cada join cria uma tabela virtual temporária</li><li>Pode-se aproveitar colunas de tabelas anteriores nos joins seguintes</li></ul><h2>Exemplo: Média de avaliação por estado</h2><h3>Tabelas Utilizadas</h3><ul><li>orders (tabela principal)</li><li>products</li><li>people</li></ul><h3>Etapas</h3><ol><li>Selecionar tabela orders</li><li>Fazer left join com products (conectando productid)</li><li>Fazer left join com people (conectando userid)</li><li>Calcular média de avaliação (rating) agrupada por estado</li><li>Ordenar a média de avaliação decrescente</li><li>Transformar resultado em gráfico de mapa</li></ol><h3>Resultado</h3><ul><li>Média de avaliação dos produtos por estado, considerando apenas produtos vendidos (presentes em orders)</li></ul><h2>Considerações Finais</h2><ul><li>Pode-se encadear quantos joins forem necessários</li><li>Deve-se escolher a tabela principal de acordo com a análise desejada</li><li>Os joins subsequentes aproveitam colunas das tabelas temporárias anteriores</li></ul>\n"
      ],
      "metadata": {
        "id": "RMm_YUCEspXN"
      }
    },
    {
      "cell_type": "markdown",
      "source": [
        "### Aula 222 Case\n",
        "<h1>Dashboard de avaliação de produtos</h1><h2>Tema central</h2><ul><li>Análise de dados de avaliações de produtos para montar um dashboard</li></ul><h2>Tópicos abordados</h2><h3>Análises simples</h3><ul><li>Quantidade de avaliações (reviews)<ul><li>Consulta na tabela reviews e contagem de linhas</li></ul></li><li>Média das avaliações<ul><li>Média da coluna rate da tabela reviews</li><li>Gráfico de radar colorido por faixas de nota</li></ul></li></ul><h3>Análises por categoria</h3><ul><li>Quantidade de produtos avaliados por categoria<ul><li>Junção das tabelas reviews e products</li><li>Contagem distinta de produtos</li><li>Agrupamento por categoria</li><li>Gráfico de barras</li></ul></li><li>Média das avaliações por categoria<ul><li>Mesma consulta anterior</li><li>Média da coluna rating agrupada por categoria</li><li>Gráfico de colunas</li></ul></li></ul><h3>Top produtos</h3><ul><li>Top 10 produtos por avaliação<ul><li>Média das avaliações agrupadas por produto</li><li>Ordenação decrescente pela média</li><li>Limitação às 10 primeiras linhas</li><li>Gráfico de barras horizontais</li></ul></li></ul><h3>Tabela final</h3><ul><li>Quantidade vendida e média das avaliações por produto<ul><li>Junção das tabelas orders e products</li><li>Contagem das orders agrupadas por produto</li><li>Média da coluna rate dos products</li><li>Ordenação pela quantidade decrescente</li><li>Formatação da tabela</li></ul></li></ul><h2>Montagem do dashboard</h2><ul><li>Adição de todos os gráficos e tabela criados</li><li>Organização visual</li></ul>"
      ],
      "metadata": {
        "id": "uLj34bp6sqrs"
      }
    },
    {
      "cell_type": "markdown",
      "source": [
        "## Filtros"
      ],
      "metadata": {
        "id": "ity24Q7I_EV7"
      }
    },
    {
      "cell_type": "markdown",
      "source": [
        "### Aula 223 Introdução ao Módulo\n",
        "<h1>Aprimorando consultas SQL</h1><h2>Funções para textos, datas e números</h2><ul><li>Aprender sobre funções específicas do SQL para:<ul><li>Textos</li><li>Datas</li><li>Números</li></ul></li></ul><h2>Filtros mais robustos</h2><ul><li>Aprofundar em como criar filtros mais complexos e poderosos</li></ul><h2>Entrada de dados pelo usuário</h2><ul><li>Permitir que o usuário insira informações para filtrar os dados<ul><li>Tornará os dashboards mais flexíveis</li></ul></li></ul><h2>Case: total faturado por mês</h2><ul><li>Calcular o faturamento total por mês utilizando:<ul><li>Filtros de datas</li></ul></li></ul><p>O vídeo fala sobre aprimorar consultas SQL, utilizando funções mais específicas para texto, datas e números a fim de criar filtros mais robustos. Também aborda a ideia de permitir a entrada de dados pelo usuário para filtrar os resultados, deixando os dashboards mais flexíveis. E por fim, menciona um caso prático de calcular o faturamento total por mês com filtros de datas.</p>\n",
        "\n",
        "\n"
      ],
      "metadata": {
        "id": "uuJEvclAs20-"
      }
    },
    {
      "cell_type": "markdown",
      "source": [
        "### Aula 224 Funções de texto\n",
        "<h1>Funções de Texto no SQL</h1><h2>Lower e Upper</h2><ul><li><strong>Lower:</strong> converte texto para minúsculo</li><li><strong>Upper:</strong> converte texto para maiúsculo</li><li>Úteis para padronizar textos independente de como o usuário digitou</li></ul><h2>Concat</h2><ul><li>Concatena (junta) textos</li><li>Útil para construir dados, como datas</li><li>Pode concatenar quantos campos quiser, separando por vírgula</li><li>Pode adicionar espaços, traços etc entre os textos</li></ul><h2>Replace</h2><ul><li>Substitui parte de um texto por outro</li><li>Útil para corrigir erros ou fazer traduções</li><li>Primeiro parametro: texto base</li><li>Segundo parametro: parte a ser substituída</li><li>Terceiro parametro: novo texto</li></ul><h2>Considerações</h2><ul><li>Funções podem variar entre SGBDs (SQL Server, MySQL etc)</li><li>Consultar documentação para verificar compatibilidade</li><li>Essas funções ajudam a tratar e padronizar textos para consultas e filtros</li></ul>"
      ],
      "metadata": {
        "id": "U17CJq3ws4f-"
      }
    },
    {
      "cell_type": "markdown",
      "source": [
        "### Aula 225 Filtrando textos\n",
        "<p><strong>Tema central: Filtragem de dados em bancos de dados</strong></p><ul><li>Operadores de comparação<ul><li>Igual, diferente, maior que, menor que, maior ou igual, menor ou igual</li><li>Utilizados para comparar valores em filtros</li></ul></li><li>Operadores lógicos<ul><li>AND: Filtra respeitando duas condições</li><li>OR: Filtra respeitando uma das condições</li><li>IN: Filtra respeitando qualquer condição dentro dele</li><li>NOT: Negação, filtra o contrário da condição</li><li>LIKE: Filtra por similaridade/parte do texto</li></ul></li><li>Hierarquia de filtros<ul><li>Utilizando parênteses para agrupar condições</li><li>Respeitando a ordem de execução</li></ul></li><li>Funções de texto<ul><li>LOWER e UPPER para padronizar caixa alta/baixa</li><li>Evita problemas com filtros case sensitive</li></ul></li><li>Exemplos<ul><li>Categoria, rating, preço</li><li>Condições simples e combinadas</li><li>Uso de LIKE para busca parcial de texto</li></ul></li></ul><p>O vídeo ensina a utilizar operadores de comparação, operadores lógicos e funções para filtrar dados em bancos de dados de maneira eficiente. São apresentados exemplos práticos no SGBD SQL Server aplicando os conceitos em uma tabela de produtos.</p>"
      ],
      "metadata": {
        "id": "g4_oKKfGs5ld"
      }
    },
    {
      "cell_type": "markdown",
      "source": [
        "### Aula 226 Funções de datas\n",
        "<h1>Funções de data no SQL</h1><h2>Extrair partes da data</h2><ul><li><code>DAY()</code> - Extrai o dia do mês</li><li><code>DAYOFWEEK()</code> - Extrai o dia da semana</li><li><code>DAYOFYEAR()</code> - Extrai o dia do ano</li><li><code>MONTH()</code> - Extrai o mês</li><li><code>YEAR()</code> - Extrai o ano</li></ul><h2>Obter data/hora atual</h2><ul><li><code>NOW()</code></li><li><code>CURRENT_TIMESTAMP</code></li></ul><h2>Converter tipo de dado</h2><ul><li><code>CAST()</code> - Converte para outro tipo de dado, como date, datetime etc.</li></ul><h2>Criar data a partir de partes separadas</h2><ul><li>Concatenar com <code>||</code> as partes separadas de data</li><li>Converter para date com <code>CAST()</code></li></ul><h2>Adicionar/subtrair valores a datas</h2><ul><li><code>DATEADD()</code><ul><li>Parâmetros:<ul><li>Escala (ano, mês, dia etc)</li><li>Valor a adicionar/subtrair</li><li>Coluna de data</li></ul></li></ul></li></ul><h2>Calcular diferença entre datas</h2><ul><li><code>DATEDIFF()</code><ul><li>Parâmetros:<ul><li>Escala (ano, mês, dia etc)</li><li>Data inicial</li><li>Data final</li></ul></li></ul></li></ul><p>Esse foi um resumo das principais funções de data abordadas no vídeo, que permitem extrair partes de datas, obter a data atual, converter tipos de dados, criar datas a partir de partes separadas e calcular diferenças e somas de datas.</p>"
      ],
      "metadata": {
        "id": "hUbtUYLDs6w8"
      }
    },
    {
      "cell_type": "markdown",
      "source": [
        "### Aula 227 Filtrando datas\n",
        "<h1>Filtrando queries por data</h1><h2>Funções de data</h2><ul><li>CAST: converte data com hora para apenas data</li><li>YEAR: retorna apenas o ano de uma data</li><li>MONTH: retorna apenas o mês de uma data</li><li>DAY: retorna apenas o dia de uma data</li></ul><h2>Operadores</h2><ul><li>E (AND): filtra por múltiplas condições</li><li>OU (OR): filtra por uma condição ou outra</li><li>BETWEEN: filtra por um intervalo entre duas datas</li></ul><h2>Filtros</h2><ul><li>Ano específico:<ul><li><code>WHERE YEAR(created_at) = 2018</code></li></ul></li><li>Ano e mês:<ul><li><code>WHERE YEAR(created_at) = 2018 AND MONTH(created_at) = 7</code></li></ul></li><li>Intervalo de datas:<ul><li><code>WHERE created_at BETWEEN '2017-01-01' AND '2017-12-31'</code></li></ul></li><li>Data relativa:<ul><li><code>WHERE created_at BETWEEN DATE_ADD(YEAR, -1, '2017-01-01') AND DATE_ADD(YEAR, -1, '2017-12-31')</code></li></ul></li></ul><h2>Boas práticas</h2><ul><li>Comentar o código para facilitar a leitura</li><li>Organizar a query de forma lógica</li></ul>\n"
      ],
      "metadata": {
        "id": "XJjyqpVFs9Bb"
      }
    },
    {
      "cell_type": "markdown",
      "source": [
        "### Aula 228 Funções de números\n",
        "<h1>Funções para trabalhar com números</h1><h2>Arredondamento</h2><ul><li>Ceiling: arredonda para o inteiro superior</li><li>Floor: arredonda para o inteiro inferior</li><li>Round: arredonda para o mais próximo<ul><li>Pode definir número de casas decimais (1, 2, -1, -2)</li></ul></li></ul><h2>Tratamento de nulos</h2><ul><li>isNull: substitui valores nulos por outro valor<ul><li>Pode substituir por 0, valor de outra coluna, etc</li></ul></li></ul><h2>Conversão de tipos</h2><ul><li>Cache: converte entre inteiro, decimal, texto<ul><li>Inteiro: arredonda decimal</li><li>Texto: mostra número com todas casas decimais</li></ul></li></ul><h2>Prática</h2><ul><li>Testar funções com diferentes tabelas</li><li>Pegar prática antes de partes mais avançadas</li></ul>"
      ],
      "metadata": {
        "id": "0hnzHi5Gs_Fh"
      }
    },
    {
      "cell_type": "markdown",
      "source": [
        "### Aula 229 Filtrando números\n",
        "<h1>Filtros com números</h1><h2>Operadores</h2><ul><li>Comparação (&gt;, &lt;, =, !=)</li><li>Lógicos (AND, OR)</li><li>Null (IS NULL, IS NOT NULL)</li></ul><h2>Exemplos</h2><h3>Desconto &lt; 5 E subtotal &lt; 50</h3><ul><li>Pega valores baixos de desconto e subtotal</li></ul><h3>Desconto IS NOT NULL E subtotal BETWEEN 30 AND 50</h3><ul><li>Pega descontos não nulos com subtotal entre 30 e 50</li></ul><h3>ID IN (1,3,5)</h3><ul><li>Pega apenas os IDs 1, 3 e 5</li></ul><h3>ID NOT IN (1,3,5)</h3><ul><li>Pega todos os IDs exceto 1, 3 e 5</li></ul><h3>Desconto IS NULL</h3><ul><li>Pega todos com desconto nulo</li></ul><h3>Desconto IS NOT NULL</h3><ul><li>Pega todos com desconto não nulo</li></ul><p>O vídeo ensina como utilizar operadores de comparação, lógicos e de null para fazer filtros numéricos no SQL, mostrando exemplos práticos com a tabela orders.</p>"
      ],
      "metadata": {
        "id": "5mZ6Vx9etAV6"
      }
    },
    {
      "cell_type": "markdown",
      "source": [
        "### Aula 230 Filtro de usuários\n",
        "<p>TEMA CENTRAL:Criando filtros para usuários no Metabase</p><p>TÓPICOS ABORDADOS:</p><ul><li><p>Variáveis</p><ul><li>Permite que o usuário insira valores</li><li>Declarada entre chaves duplas: {{variável}}</li></ul></li><li><p>Filtros não obrigatórios</p><ul><li>O filtro é ignorado se o usuário não inserir um valor</li><li>Coloca-se o filtro entre colchetes duplos [[filtro]]</li></ul></li><li><p>Filtros únicos e múltiplos</p><ul><li>Filtro único: um único WHERE</li><li>Filtro múltiplo: várias condições com AND, OR etc.</li><li>Pode-se tornar partes não obrigatórias com [[]]</li></ul></li><li><p>Tipos de filtros</p><ul><li>Texto</li><li>Número</li><li>Data</li><li>Períodos de datas</li><li>Campos</li></ul></li><li><p>Funções úteis</p><ul><li>LOWER() e UPPER(): caixa alta/baixa</li><li>FLOOR(): truncar casas decimais</li></ul></li><li><p>Exemplos</p><ul><li>Filtro por ID</li><li>Preço maior que um valor</li><li>Categoria igual a determinado texto</li><li>Data maior que determinada data</li><li>Data entre duas datas</li></ul></li></ul>"
      ],
      "metadata": {
        "id": "vjxzJW_ytBnQ"
      }
    },
    {
      "cell_type": "markdown",
      "source": [
        "### Aula 231 Filtro de campo\n",
        "<h1>Tema central: Filtros de campo no MetaBase</h1><h2>O que é o filtro de campo</h2><ul><li>Permite ao usuário selecionar valores de filtros a partir de dropdowns que puxam dados direto das tabelas</li><li>Mais amigável do que o usuário digitar valores manualmente</li><li>Utiliza a sintaxe <code>WHERE input_usuario</code></li></ul><h2>Configurando filtros de campo</h2><ul><li>Selecionar tipo &quot;Filtro de campo&quot; na variável</li><li>Selecionar tabela e coluna a ser filtrada</li><li>Pode-se definir:<ul><li>Nome do widget</li><li>Valor padrão</li><li>Tipo de filtro (numérico, texto, data, etc)</li></ul></li></ul><h2>Tornando filtros opcionais</h2><ul><li>Envolver filtros em <code>WHERE TRUE</code></li><li>Assim, nenhum filtro é obrigatório</li><li>Usuário pode combinar vários filtros opcionais</li></ul><h2>Exemplos de filtros</h2><ul><li>ID</li><li>Categoria (textos)</li><li>Data<ul><li>Mês e ano</li><li>Trimestre e ano</li><li>Data única</li><li>Faixa de datas</li><li>Data relativa</li><li>Filtro customizável</li></ul></li><li>Preço (numérico)<ul><li>Igual</li><li>Diferente</li><li>Maior ou igual</li><li>Menor ou igual</li><li>Entre</li></ul></li></ul><h2>Benefícios</h2><ul><li>Mais flexibilidade para o usuário filtrar dados</li><li>Filtros combináveis e opcionais</li><li>Experiência mais amigável</li></ul>"
      ],
      "metadata": {
        "id": "iK7EXoH3tCwA"
      }
    },
    {
      "cell_type": "markdown",
      "source": [
        "### Aula 232 Case Total Faturado por mês - Filtro de data\n",
        "<h1>Total faturado por mês</h1><h2>Objetivo</h2><ul><li>Criar uma query no SQL para calcular o total faturado por mês, com filtro de data fornecido pelo usuário</li></ul><h2>Etapas</h2><ol><li>Selecionar tudo da tabela <code>orders</code></li><li>Criar colunas:<ul><li><code>SUM(subtotal)</code>: soma do subtotal</li><li><code>MONTH(created_at)</code>: mês de criação do pedido</li><li><code>YEAR(created_at)</code>: ano de criação do pedido</li></ul></li><li>Agrupar por mês e ano:<ul><li><code>GROUP BY MONTH(created_at), YEAR(created_at)</code></li></ul></li><li>Ordenar por ano e mês:<ul><li><code>ORDER BY YEAR(created_at), MONTH(created_at)</code></li></ul></li><li>Adicionar filtro de data:<ul><li><code>WHERE created_at &gt; '2018-01-01'</code></li></ul></li><li>Transformar em gráfico de barras:<ul><li>Eixo X: mês</li><li>Eixo Y: soma do subtotal</li><li>Detalhamento por ano</li></ul></li></ol><h2>Observações</h2><ul><li>Sem agrupar por ano, mostra apenas os meses (sem distinguir anos)</li><li>Filtro de data pode ser opcional, para mostrar todos os anos</li></ul><h2>Desafio</h2><ul><li>Calcular total de novos clientes por dia no mês fornecido pelo usuário</li><li>Utilizar tabela <code>people</code></li></ul>"
      ],
      "metadata": {
        "id": "rVkC5iyytD5_"
      }
    },
    {
      "cell_type": "markdown",
      "source": [
        "## CTE"
      ],
      "metadata": {
        "id": "D9ZyRhRjA7yU"
      }
    },
    {
      "cell_type": "markdown",
      "source": [
        "### Aula 233 Common Table Expressions\n",
        "<h1>Common Table Expressions (CTE)</h1><h2>O que é?</h2><ul><li>Uma função do SQL muito utilizada</li><li>Uma maneira de fazer uma sintaxe muito utilizada</li><li>Também chamada de CTE</li></ul><h2>Quando utilizar</h2><ul><li>Nos módulos mais avançados do SQL</li><li>Quando precisar criar consultas mais complexas e reutilizáveis</li></ul><h2>O que será visto</h2><ul><li>O que é o CTE</li><li>Quando utilizá-lo</li><li>Como criar um CTE</li><li>Como unir CTEs<ul><li>Com JOIN</li><li>Com UNION</li></ul></li></ul><h2>Criando um CTE</h2><ul><li>Syntax:<pre><code class=\"language-sql\">WITH CTE_name AS (    SELECT... )SELECT * FROM CTE_name</code></pre></li></ul><h2>Unindo CTEs</h2><h3>Com JOIN</h3><ul><li>Juntar dados de múltiplos CTEs com JOIN (inner, left etc)</li></ul><h3>Com UNION</h3><ul><li>Empilhar resultados de múltiplos CTEs</li><li>Útil para dividir consultas complexas</li></ul>\n"
      ],
      "metadata": {
        "id": "z9DSU1_hA-cS"
      }
    },
    {
      "cell_type": "markdown",
      "source": [
        "### Aula 234 O que é uma CTE e quando usar\n",
        "<h1>O que é e quando usar CTEs (Common Table Expressions)</h1><h2>O que é CTE</h2><ul><li>Pedação de uma query SQL</li><li>Permite dividir queries complexas em partes menores</li><li>Facilita organização, leitura e manutenção</li></ul><h2>Principais benefícios</h2><ol><li>Reduzir peso das análises<ul><li>Filtrar dados antes do join reduz tamanho da análise</li><li>Consome menos recursos do servidor</li></ul></li><li>Permitir queries mais complexas<ul><li>Juntar muitas tabelas numa query fica complicado</li><li>Quebrar em CTEs menores facilita manutenção</li></ul></li><li>Tornar queries mais organizadas<ul><li>Fácil de documentar e comentar</li><li>Facilita futuras manutenções</li></ul></li><li>Possibilitar análises mais complexas<ul><li>Filtrar resultados de agregações</li><li>Coisas que não dá pra fazer em uma única query</li></ul></li></ol><h2>Exemplo: análise com dados de produtos, pedidos e avaliações</h2><ul><li>Juntando tudo em uma query fica pesado</li><li>120 mil linhas de dados com 24 colunas</li><li>Quebrando em CTEs menores por ano ou mês</li><li>Depois junta os resultados menores</li><li>Reduz consumo de recursos</li></ul>"
      ],
      "metadata": {
        "id": "DHBegJ7Ltt-X"
      }
    },
    {
      "cell_type": "markdown",
      "source": [
        "### Aula 235 Criando a primeira CTE\n",
        "<h1>Como criar e utilizar CTEs (Common Table Expressions) no SQL</h1><h2>O que é CTE</h2><ul><li>Tabela virtual temporária criada durante a execução de uma query</li><li>Facilita a reutilização e leitura do código SQL</li></ul><h2>Sintaxe</h2><pre><code class=\"language-sql\">WITH nome_tabela_virtual AS (    SELECT ...)SELECT * FROM nome_tabela_virtual</code></pre><h2>Vantagens</h2><ul><li>Modulariza e simplifica queries complexas</li><li>Permite filtrar resultados de agregações (GROUP BY)</li><li>Melhora documentação e compreensão do código</li></ul><h2>Exemplos de uso</h2><ul><li>Filtrar faturamento diário maior que R$ 1.000</li><li>Calcular métricas em subset de dados (ex: faturamento de 2018)</li><li>Analisar dados de forma incremental, adicionando filtros</li></ul><h2>Dicas</h2><ul><li>Nomeie as CTEs de forma descritiva</li><li>Comece transformando queries simples em CTEs para criar o hábito</li><li>Utilize para modularizar e simplificar queries complexas</li></ul>\n"
      ],
      "metadata": {
        "id": "8RQJvkxqtvU9"
      }
    },
    {
      "cell_type": "markdown",
      "source": [
        "### Aula 236 Juntando múltiplas CTEs com join\n",
        "<h1>Juntando várias CTEs em uma única análise</h1><h2>Sintaxe de várias CTEs</h2><ul><li>Separar cada CTE com vírgula</li><li>Pode chamar uma CTE dentro de outra</li><li>Liberdade para usar quantas CTEs quiser</li></ul><h2>Exemplo prático</h2><h3>CTE 1: Pedidos 2018</h3><ul><li>Contagem de pedidos por dia em 2018</li></ul><h3>CTE 2: Clientes 2018</h3><ul><li>Contagem de novos clientes por dia em 2018</li></ul><h3>Juntando as duas CTEs</h3><ul><li>Fazendo JOIN nas duas CTEs pela data (dia do pedido x dia do cliente)</li><li>Mostrando dias sem clientes com valor 0 ao invés de nulo</li></ul><h3>Resultado</h3><ul><li>Quantidade de pedidos e clientes novos por dia em 2018</li><li>Possível fazer gráficos, filtros etc. para analisar os dados</li></ul>"
      ],
      "metadata": {
        "id": "LqCGSRi6twnM"
      }
    },
    {
      "cell_type": "markdown",
      "source": [
        "### Aula 237 Juntando múltiplas CTEs com Union\n",
        "<h2>União de tabelas com UNION</h2><ul><li>Regra principal:<ul><li>As colunas das tabelas precisam ser as mesmas</li></ul></li><li>Diferença para JOIN:<ul><li>JOIN junta tabelas lateralmente (todas as linhas da tabela da direita para cada linha da esquerda)</li><li>UNION empilha as tabelas (coloca uma em cima da outra)</li></ul></li></ul><h3>Exemplo de uso</h3><ul><li>Análises financeiras<ul><li>Tabela de custos (colunas: data, tipo, valor (negativo))</li><li>Tabela de receitas (colunas: data, tipo, valor (positivo))</li><li>UNION empilha custos e receitas</li><li>Permite calcular lucro (receitas - custos)</li></ul></li></ul><h3>Funcionamento</h3><ul><li>Primeiro prepara as queries<ul><li>Filtrar dados</li><li>Selecionar colunas</li></ul></li><li>Depois faz o UNION</li><li>Depois pode fazer análises:<ul><li>Filtrar</li><li>Agrupar</li><li>Somar</li><li>Contaretc.</li></ul></li></ul><h3>Com CTEs</h3><ul><li>Primeiro criar CTEs com dados filtrados</li><li>Depois fazer UNION das CTEs</li><li>Depois tratar como uma única tabela</li></ul>"
      ],
      "metadata": {
        "id": "9ENxwYz9txyt"
      }
    },
    {
      "cell_type": "markdown",
      "source": [
        "### Aula 238 Pesquisa de Satisfação - SQL para Análise de Dados"
      ],
      "metadata": {
        "id": "JUgnI3bMtzEy"
      }
    }
  ]
}